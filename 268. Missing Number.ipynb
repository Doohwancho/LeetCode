{
 "cells": [
  {
   "cell_type": "markdown",
   "metadata": {},
   "source": [
    ">Given an array containing n distinct numbers taken from 0, 1, 2, ..., n, find the one that is missing from the array.\n",
    "\n",
    ">Example 1:<br>\n",
    ">Input: [3,0,1]<br>\n",
    ">Output: 2<br>\n",
    "\n",
    ">Example 2:<br>\n",
    ">Input: [9,6,4,2,3,5,7,0,1]<br>\n",
    ">Output: 8<br>"
   ]
  },
  {
   "cell_type": "code",
   "execution_count": 33,
   "metadata": {},
   "outputs": [
    {
     "name": "stdout",
     "output_type": "stream",
     "text": [
      "8\n"
     ]
    }
   ],
   "source": [
    "#SUCCESS\n",
    "nums=[9,6,4,2,3,5,7,0,1]\n",
    "\n",
    "for i, j in enumerate(sorted(nums)):\n",
    "    if i != j: print(i)"
   ]
  },
  {
   "cell_type": "code",
   "execution_count": 34,
   "metadata": {},
   "outputs": [
    {
     "data": {
      "text/plain": [
       "{8}"
      ]
     },
     "execution_count": 34,
     "metadata": {},
     "output_type": "execute_result"
    }
   ],
   "source": [
    "#set활용 -- 중복제거\n",
    "nums=[9,6,4,2,3,5,7,0,1]\n",
    "\n",
    "a=set(sorted(nums))\n",
    "b=set(i for i in range(len(nums)))\n",
    "b-a"
   ]
  },
  {
   "cell_type": "code",
   "execution_count": 35,
   "metadata": {},
   "outputs": [
    {
     "name": "stdout",
     "output_type": "stream",
     "text": [
      "8\n"
     ]
    }
   ],
   "source": [
    "#총합끼리 빼주기\n",
    "\n",
    "nums=[9,6,4,2,3,5,7,0,1]\n",
    "print(sum(range(len(nums) + 1)) - sum(nums)) "
   ]
  }
 ],
 "metadata": {
  "kernelspec": {
   "display_name": "Python 3",
   "language": "python",
   "name": "python3"
  },
  "language_info": {
   "codemirror_mode": {
    "name": "ipython",
    "version": 3
   },
   "file_extension": ".py",
   "mimetype": "text/x-python",
   "name": "python",
   "nbconvert_exporter": "python",
   "pygments_lexer": "ipython3",
   "version": "3.7.1"
  }
 },
 "nbformat": 4,
 "nbformat_minor": 2
}
