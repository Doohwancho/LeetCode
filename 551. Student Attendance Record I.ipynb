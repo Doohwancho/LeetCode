{
 "cells": [
  {
   "cell_type": "markdown",
   "metadata": {},
   "source": [
    "You are given a string representing an attendance record for a student. The record only contains the following three characters:<br>\n",
    "'A' : Absent.<br>\n",
    "'L' : Late.<br>\n",
    "'P' : Present.<br>\n",
    "A student could be rewarded if his attendance record doesn't contain more than one 'A' (absent) or more than two **continuous** 'L' (late).<br>\n",
    "\n",
    "You need to return whether the student could be rewarded according to his attendance record.<br>\n",
    "\n",
    ">Example 1:<br>\n",
    ">Input: \"PPALLP\"<br>\n",
    ">Output: True<br>\n",
    "\n",
    ">Example 2:<br>\n",
    ">Input: \"PPALLL\"<br>\n",
    ">Output: False<br>"
   ]
  },
  {
   "cell_type": "code",
   "execution_count": 13,
   "metadata": {},
   "outputs": [
    {
     "name": "stdout",
     "output_type": "stream",
     "text": [
      "False\n",
      "True\n"
     ]
    }
   ],
   "source": [
    "#SUCCESS\n",
    "\n",
    "#s= \"PPALLP\"\n",
    "s=\"PPALLL\"\n",
    "\n",
    "if(s.count('A') > 1):\n",
    "    print(False)\n",
    "for i in range(len(s)-2):\n",
    "    if(s[i]=='L' and s[i]==s[i+1]==s[i+2]):\n",
    "        print(False)\n",
    "print(True)"
   ]
  }
 ],
 "metadata": {
  "kernelspec": {
   "display_name": "Python 3",
   "language": "python",
   "name": "python3"
  },
  "language_info": {
   "codemirror_mode": {
    "name": "ipython",
    "version": 3
   },
   "file_extension": ".py",
   "mimetype": "text/x-python",
   "name": "python",
   "nbconvert_exporter": "python",
   "pygments_lexer": "ipython3",
   "version": "3.7.0"
  }
 },
 "nbformat": 4,
 "nbformat_minor": 2
}
