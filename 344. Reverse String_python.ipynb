{
 "cells": [
  {
   "cell_type": "markdown",
   "metadata": {},
   "source": [
    "Write a function that takes a string as input and returns the string reversed.\n",
    "\n",
    ">Example 1:<br>\n",
    ">Input: \"hello\"<br>\n",
    ">Output: \"olleh\"<br>\n",
    "\n",
    ">Example 2:\n",
    ">Input: \"A man, a plan, a canal: Panama\"<br>\n",
    ">Output: \"amanaP :lanac a ,nalp a ,nam A\"<br>"
   ]
  },
  {
   "cell_type": "code",
   "execution_count": 14,
   "metadata": {},
   "outputs": [
    {
     "data": {
      "text/plain": [
       "'olleh'"
      ]
     },
     "execution_count": 14,
     "metadata": {},
     "output_type": "execute_result"
    }
   ],
   "source": [
    "a=\"hello\"\n",
    "b=\"A man, a plan, a canal: Panama\"\n",
    "#list(reversed(a)) #리스트 안에 순서만 거꾸로 해서 나열 \n",
    "#sorted(a,reverse=True) #리스트 안에 알파벳 역순으로 알파벳 나열 ['o', 'l', 'l', 'h', 'e']\n",
    "a[::-1] #String형태 그대로 거꾸로 나열\n"
   ]
  }
 ],
 "metadata": {
  "kernelspec": {
   "display_name": "Python 3",
   "language": "python",
   "name": "python3"
  },
  "language_info": {
   "codemirror_mode": {
    "name": "ipython",
    "version": 3
   },
   "file_extension": ".py",
   "mimetype": "text/x-python",
   "name": "python",
   "nbconvert_exporter": "python",
   "pygments_lexer": "ipython3",
   "version": "3.7.0"
  }
 },
 "nbformat": 4,
 "nbformat_minor": 2
}
