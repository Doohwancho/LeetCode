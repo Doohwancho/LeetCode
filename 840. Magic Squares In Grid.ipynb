{
 "cells": [
  {
   "cell_type": "markdown",
   "metadata": {},
   "source": [
    "A 3 x 3 magic square is a 3 x 3 grid filled with distinct numbers from 1 to 9 such that each row, column, and both diagonals all have the same sum.\n",
    "\n",
    "Given an grid of integers, how many 3 x 3 \"magic square\" subgrids are there?  (Each subgrid is contiguous).\n",
    "\n",
    " \n",
    "\n",
    ">Example 1:<br>\n",
    "\n",
    ">Input: [[4,3,8,4],<br>\n",
    ">        [9,5,1,9],<br>\n",
    ">        [2,7,6,2]]<br>\n",
    ">Output: 1<br>\n",
    ">Explanation: <br>\n",
    ">The following subgrid is a 3 x 3 magic square:<br>\n",
    ">438<br>\n",
    ">951<br>\n",
    ">276<br>\n",
    "\n",
    ">while this one is not:<br>\n",
    ">384<br>\n",
    ">519<br>\n",
    ">762<br>\n",
    "\n",
    ">In total, there is only one magic square inside the given grid.<br>"
   ]
  },
  {
   "cell_type": "code",
   "execution_count": 70,
   "metadata": {},
   "outputs": [
    {
     "name": "stdout",
     "output_type": "stream",
     "text": [
      "[[4, 3, 8], [9, 5, 1], [2, 7, 6]]\n",
      "1\n"
     ]
    }
   ],
   "source": [
    "#SUCCESS\n",
    "#근데 문제가 좀 이상함. [[5,5,5],[5,5,5],[5,5,5]]일때 0을 return하라는데 뭔소리?\n",
    "grid =  [[1,4,3,8,4],\n",
    "        [1,9,5,1,9],\n",
    "        [1,2,7,6,2]]\n",
    "#grid = [[5,5,5],[5,5,5],[5,5,5]]\n",
    "verifier=[]\n",
    "for i in range(len(grid[0])-2):\n",
    "    for idx, first in enumerate(grid):\n",
    "        verifier.append(first[i:i+3])\n",
    "    diagnal=[]\n",
    "    summation=0\n",
    "    cnt=0\n",
    "    for i in range(len(verifier[0])):\n",
    "        if sum(verifier[i])==sum(list(zip(*verifier))[i]):\n",
    "            cnt+=1\n",
    "    for j in range(2):\n",
    "        for i in range(len(verifier[0])):\n",
    "            diagnal.append(verifier[i][i])\n",
    "        if j == 1 and summation == sum(diagnal):\n",
    "            cnt+=1\n",
    "            break\n",
    "        summation = sum(diagnal)\n",
    "        diagnal.clear()\n",
    "    if cnt == 4:\n",
    "        print(verifier)\n",
    "        print(1)\n",
    "        break\n",
    "    cnt = 0\n",
    "    verifier.clear()\n"
   ]
  }
 ],
 "metadata": {
  "kernelspec": {
   "display_name": "Python 3",
   "language": "python",
   "name": "python3"
  },
  "language_info": {
   "codemirror_mode": {
    "name": "ipython",
    "version": 3
   },
   "file_extension": ".py",
   "mimetype": "text/x-python",
   "name": "python",
   "nbconvert_exporter": "python",
   "pygments_lexer": "ipython3",
   "version": "3.7.1"
  }
 },
 "nbformat": 4,
 "nbformat_minor": 2
}
