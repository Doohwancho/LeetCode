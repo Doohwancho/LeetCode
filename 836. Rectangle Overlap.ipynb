{
 "cells": [
  {
   "cell_type": "markdown",
   "metadata": {},
   "source": [
    "A rectangle is represented as a list [x1, y1, x2, y2], where (x1, y1) are the coordinates of its bottom-left corner, and (x2, y2) are the coordinates of its top-right corner.\n",
    "\n",
    "Two rectangles overlap if the area of their intersection is positive.  To be clear, two rectangles that only touch at the corner or edges do not overlap.\n",
    "\n",
    "Given two (axis-aligned) rectangles, return whether they overlap.\n",
    "\n",
    ">Example 1:<br>\n",
    ">Input: rec1 = [0,0,2,2], rec2 = [1,1,3,3]<br>\n",
    ">Output: true<br>\n",
    "\n",
    ">Example 2:<br>\n",
    ">Input: rec1 = [0,0,1,1], rec2 = [1,0,2,1]<br>\n",
    ">Output: false<br>"
   ]
  },
  {
   "cell_type": "code",
   "execution_count": 15,
   "metadata": {},
   "outputs": [],
   "source": [
    "rec1 = [0,0,2,2]\n",
    "rec2 = [1,1,3,3]"
   ]
  },
  {
   "cell_type": "code",
   "execution_count": 16,
   "metadata": {},
   "outputs": [
    {
     "data": {
      "text/plain": [
       "True"
      ]
     },
     "execution_count": 16,
     "metadata": {},
     "output_type": "execute_result"
    }
   ],
   "source": [
    "#SOLUTION\n",
    "\n",
    "l1,b1,r1,t1 = rec1\n",
    "l2,b2,r2,t2 = rec2\n",
    "width = min(r1,r2) - max(l1,l2)\n",
    "height = min(t1,t2) - max(b1,b2)\n",
    "width > 0 and height > 0"
   ]
  }
 ],
 "metadata": {
  "kernelspec": {
   "display_name": "Python 3",
   "language": "python",
   "name": "python3"
  },
  "language_info": {
   "codemirror_mode": {
    "name": "ipython",
    "version": 3
   },
   "file_extension": ".py",
   "mimetype": "text/x-python",
   "name": "python",
   "nbconvert_exporter": "python",
   "pygments_lexer": "ipython3",
   "version": "3.7.1"
  }
 },
 "nbformat": 4,
 "nbformat_minor": 2
}
