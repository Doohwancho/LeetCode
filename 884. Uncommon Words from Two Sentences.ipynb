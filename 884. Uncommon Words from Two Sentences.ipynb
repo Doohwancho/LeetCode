{
 "cells": [
  {
   "cell_type": "markdown",
   "metadata": {},
   "source": [
    "\n",
    "We are given two sentences A and B.  (A sentence is a string of space separated words.  Each word consists only of lowercase letters.)\n",
    "\n",
    "A word is uncommon if it appears exactly once in one of the sentences, and does not appear in the other sentence.\n",
    "\n",
    "Return a list of all uncommon words. \n",
    "\n",
    "You may return the list in any order.\n",
    "\n",
    " \n",
    "\n",
    ">Example 1:<br>\n",
    ">Input: A = \"this apple is sweet\", B = \"this apple is sour\"<br>\n",
    ">Output: [\"sweet\",\"sour\"]<br>\n",
    "\n",
    ">Example 2:<br>\n",
    ">Input: A = \"apple apple\", B = \"banana\"<br>\n",
    ">Output: [\"banana\"]<br>"
   ]
  },
  {
   "cell_type": "code",
   "execution_count": 51,
   "metadata": {},
   "outputs": [
    {
     "name": "stdout",
     "output_type": "stream",
     "text": [
      "['sweet', 'sour']\n"
     ]
    }
   ],
   "source": [
    "#FAIL\n",
    "#A안에 동일한 문자열이 2번 들어갈 경우, 중복체크 불가\n",
    "\n",
    "A = \"this apple is sweet\"\n",
    "B = \"this apple is sour\"\n",
    "c=[]\n",
    "for i in range(len(A.split())):\n",
    "    if(B.split().count(A.split()[i])>=1):\n",
    "        i+=1\n",
    "    else:\n",
    "        c.append(A.split()[i])\n",
    "for i in range(len(B.split())):\n",
    "    if(A.split().count(B.split()[i])>=1):\n",
    "        i+=1\n",
    "    else:\n",
    "        c.append(B.split()[i])\n",
    "print(c)"
   ]
  },
  {
   "cell_type": "code",
   "execution_count": 50,
   "metadata": {},
   "outputs": [
    {
     "name": "stdout",
     "output_type": "stream",
     "text": [
      "['banana']\n"
     ]
    }
   ],
   "source": [
    "#SUCCESS\n",
    "\n",
    "A = \"apple apple\"\n",
    "B = \"banana\"\n",
    "C=A.split()+B.split()\n",
    "D=[]\n",
    "for i in range(len(C)):\n",
    "    if(C.count(C[i])==1):\n",
    "        D.append(C[i])\n",
    "print(D)\n",
    "    "
   ]
  },
  {
   "cell_type": "code",
   "execution_count": null,
   "metadata": {},
   "outputs": [],
   "source": []
  }
 ],
 "metadata": {
  "kernelspec": {
   "display_name": "Python 3",
   "language": "python",
   "name": "python3"
  },
  "language_info": {
   "codemirror_mode": {
    "name": "ipython",
    "version": 3
   },
   "file_extension": ".py",
   "mimetype": "text/x-python",
   "name": "python",
   "nbconvert_exporter": "python",
   "pygments_lexer": "ipython3",
   "version": "3.7.0"
  }
 },
 "nbformat": 4,
 "nbformat_minor": 2
}
