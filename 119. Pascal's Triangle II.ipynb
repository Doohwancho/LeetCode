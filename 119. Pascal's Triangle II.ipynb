{
 "cells": [
  {
   "cell_type": "markdown",
   "metadata": {},
   "source": [
    "Given a non-negative index k where k ≤ 33, return the kth index row of the Pascal's triangle.\n",
    "\n",
    "Note that the row index starts from 0.\n",
    "\n",
    ">Example:<br>\n",
    ">Input: 3<br>\n",
    ">Output: [1,3,3,1]<br>"
   ]
  },
  {
   "cell_type": "code",
   "execution_count": 7,
   "metadata": {},
   "outputs": [
    {
     "name": "stdout",
     "output_type": "stream",
     "text": [
      "[1, 4, 6, 4, 1]\n"
     ]
    }
   ],
   "source": [
    "#SUCCESS\n",
    "\n",
    "class Solution:\n",
    "    def getRow(self, rowIndex):\n",
    "        \"\"\"\n",
    "        :type rowIndex: int\n",
    "        :rtype: List[int]\n",
    "        \"\"\"\n",
    "        a=[[1]]\n",
    "        empty=[]\n",
    "\n",
    "        def pascal(a):\n",
    "            rst=[]\n",
    "            for i in range(len(a)):\n",
    "                if i == 0:\n",
    "                    rst.append(1)\n",
    "                    continue\n",
    "                rst.append(a[i]+a[i-1])\n",
    "            rst.append(1)\n",
    "            return rst\n",
    "\n",
    "        for i in range(rowIndex):\n",
    "            a.append(pascal(a[i]))\n",
    "\n",
    "        if rowIndex==0: return([1])\n",
    "        else: return(a[-1])\n",
    "        "
   ]
  }
 ],
 "metadata": {
  "kernelspec": {
   "display_name": "Python 3",
   "language": "python",
   "name": "python3"
  },
  "language_info": {
   "codemirror_mode": {
    "name": "ipython",
    "version": 3
   },
   "file_extension": ".py",
   "mimetype": "text/x-python",
   "name": "python",
   "nbconvert_exporter": "python",
   "pygments_lexer": "ipython3",
   "version": "3.7.1"
  }
 },
 "nbformat": 4,
 "nbformat_minor": 2
}
