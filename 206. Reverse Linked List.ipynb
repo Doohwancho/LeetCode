{
 "cells": [
  {
   "cell_type": "markdown",
   "metadata": {},
   "source": [
    "Reverse a singly linked list.\n",
    "\n",
    "Example:<br>\n",
    "\n",
    "Input: 1->2->3->4->5->NULL<br>\n",
    "Output: 5->4->3->2->1->NULL<br>"
   ]
  },
  {
   "cell_type": "code",
   "execution_count": 8,
   "metadata": {},
   "outputs": [
    {
     "data": {
      "text/plain": [
       "[1, 2, 3, 4, 5]"
      ]
     },
     "execution_count": 8,
     "metadata": {},
     "output_type": "execute_result"
    }
   ],
   "source": [
    "#Solution\n",
    "#Iterative method\n",
    "\n",
    "def reverseList(self, head):\n",
    "    prev, curr = None, head\n",
    "    while curr:\n",
    "        prev, curr.next, curr = curr, prev, curr.next\n",
    "    return prev"
   ]
  },
  {
   "cell_type": "code",
   "execution_count": null,
   "metadata": {},
   "outputs": [],
   "source": [
    "'''\n",
    "Iterative method\n",
    "\n",
    "1)Set previous as None, current as head and next as the next node of current\n",
    "2)Iterate through the linked list until current is None (this is the loop’s exit condition)\n",
    "3)During each iteration, set the next node of current to previous\n",
    "4)Then, set previous as current, current as next and next as its next node (this is the loop’s iteration process)\n",
    "5)Once the current becomes None, set the head pointer to the previous node.\n",
    "'''\n",
    "\n",
    "def reverseList(list):\n",
    "\n",
    "       #Initializing values\n",
    "       prev = None\n",
    "       curr = list.head\n",
    "       nex = curr.getNextNode()\n",
    "  \n",
    "       #looping\n",
    "       while curr:\n",
    "           #reversing the link\n",
    "           curr.setNextNode(prev)     \n",
    "\n",
    "           #moving to next node      \n",
    "           prev = curr\n",
    "           curr = nex\n",
    "           if nex:\n",
    "               nex = nex.getNextNode()\n",
    "\n",
    "       #initializing head\n",
    "       list.head = prev"
   ]
  },
  {
   "cell_type": "code",
   "execution_count": null,
   "metadata": {},
   "outputs": [],
   "source": [
    "'''\n",
    "Recursive method\n",
    "\n",
    "\n",
    "1)Pass the head pointer to this method as node.\n",
    "2)Check if the next node of node is None:\n",
    "    2-1)If yes, this indicates that we have reached the end of the linked list. Set the head  pointer to this node\n",
    "    2-2)If no, pass the next node of node to the reverse method\n",
    "3)Once the last node is reached, the reversing happens.\n",
    "'''"
   ]
  },
  {
   "cell_type": "code",
   "execution_count": null,
   "metadata": {},
   "outputs": [],
   "source": [
    "def reverse(self,node):\n",
    "\n",
    "       if node.getNextNode() == None:\n",
    "           self.head = node\n",
    "           return\n",
    "       self.reverse(node.getNextNode())\n",
    "       temp = node.getNextNode()\n",
    "       temp.setNextNode(node)\n",
    "       node.setNextNode(None)"
   ]
  }
 ],
 "metadata": {
  "kernelspec": {
   "display_name": "Python 3",
   "language": "python",
   "name": "python3"
  },
  "language_info": {
   "codemirror_mode": {
    "name": "ipython",
    "version": 3
   },
   "file_extension": ".py",
   "mimetype": "text/x-python",
   "name": "python",
   "nbconvert_exporter": "python",
   "pygments_lexer": "ipython3",
   "version": "3.7.0"
  }
 },
 "nbformat": 4,
 "nbformat_minor": 2
}
