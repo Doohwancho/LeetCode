{
 "cells": [
  {
   "cell_type": "markdown",
   "metadata": {},
   "source": [
    "Given an arbitrary ransom note string and another string containing letters from all the magazines, write a function that will return true if the ransom note can be constructed from the magazines ; otherwise, it will return false.\n",
    "\n",
    "Each letter in the magazine string can only be used once in your ransom note.\n",
    "\n",
    ">Note:<br>\n",
    ">You may assume that both strings contain only lowercase letters.<br>\n",
    ">canConstruct(\"a\", \"b\") -> false<br>\n",
    ">canConstruct(\"aa\", \"ab\") -> false<br>\n",
    ">canConstruct(\"aa\", \"aab\") -> true<br>"
   ]
  },
  {
   "cell_type": "code",
   "execution_count": 1,
   "metadata": {},
   "outputs": [
    {
     "name": "stdout",
     "output_type": "stream",
     "text": [
      "True\n"
     ]
    }
   ],
   "source": [
    "#SUCCESS\n",
    "#단 b의 미친듯한 input 넣을경우, permutation의 경우의 수가 너무 많아져 timeout\n",
    "\n",
    "from itertools import permutations \n",
    "\n",
    "a=\"aa\"\n",
    "b=\"aab\"\n",
    "\n",
    "perm = permutations(list(b),len(a))\n",
    "print(tuple(a) in list(perm))"
   ]
  }
 ],
 "metadata": {
  "kernelspec": {
   "display_name": "Python 3",
   "language": "python",
   "name": "python3"
  },
  "language_info": {
   "codemirror_mode": {
    "name": "ipython",
    "version": 3
   },
   "file_extension": ".py",
   "mimetype": "text/x-python",
   "name": "python",
   "nbconvert_exporter": "python",
   "pygments_lexer": "ipython3",
   "version": "3.7.0"
  }
 },
 "nbformat": 4,
 "nbformat_minor": 2
}
