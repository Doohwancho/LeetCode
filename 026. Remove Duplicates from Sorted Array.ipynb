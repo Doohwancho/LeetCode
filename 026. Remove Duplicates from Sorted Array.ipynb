{
 "cells": [
  {
   "cell_type": "markdown",
   "metadata": {},
   "source": [
    "Given a sorted array nums, remove the duplicates in-place such that each element appear only once and return the new length.\n",
    "\n",
    "Do not allocate extra space for another array, you must do this by modifying the input array in-place with O(1) extra memory.\n",
    "\n",
    ">Example 1:<br>\n",
    ">Given nums = [1,1,2],<br>\n",
    ">Your function should return length = 2, with the first two elements of nums being 1 and 2 respectively.<br>\n",
    ">It doesn't matter what you leave beyond the returned length.<br>\n",
    "\n",
    ">Example 2:<br>\n",
    ">Given nums = [0,0,1,1,1,2,2,3,3,4],<br>\n",
    ">Your function should return length = 5, with the first five elements of nums being modified to 0, 1, 2, 3, and 4 respectively.<br>\n",
    ">It doesn't matter what values are set beyond the returned length.<br>"
   ]
  },
  {
   "cell_type": "code",
   "execution_count": 16,
   "metadata": {},
   "outputs": [
    {
     "name": "stdout",
     "output_type": "stream",
     "text": [
      "[0, 1, 2, 3, 4]\n"
     ]
    }
   ],
   "source": [
    "#SUCCESS\n",
    "\n",
    "nums = [0,0,1,1,1,2,2,3,3,4]\n",
    "rst=[]\n",
    "\n",
    "[rst.append(element) for element in nums if element not in rst]\n",
    "print(rst)"
   ]
  },
  {
   "cell_type": "code",
   "execution_count": 20,
   "metadata": {},
   "outputs": [
    {
     "name": "stdout",
     "output_type": "stream",
     "text": [
      "5\n"
     ]
    }
   ],
   "source": [
    "#SOLUTION\n",
    "#nums를 하나하나 카운팅하면서 숫자가 달라지면 write +=1\n",
    "\n",
    "nums = [0,0,1,1,1,2,2,3,3,4]\n",
    "\n",
    "if not nums:\n",
    "    print(0)\n",
    "\n",
    "read = 1\n",
    "write = 1\n",
    "while read < len(nums):\n",
    "    if nums[read] != nums[read - 1]:\n",
    "        nums[write] = nums[read]\n",
    "        write += 1\n",
    "    read += 1\n",
    "print(write)"
   ]
  },
  {
   "cell_type": "code",
   "execution_count": 23,
   "metadata": {},
   "outputs": [
    {
     "name": "stdout",
     "output_type": "stream",
     "text": [
      "[0, 1, 2, 3, 4]\n",
      "5\n"
     ]
    }
   ],
   "source": [
    "#SOLUTION\n",
    "\n",
    "nums = [0,0,1,1,1,2,2,3,3,4]\n",
    "\n",
    "nums[:] = list(dict.fromkeys(nums))\n",
    "print(nums)\n",
    "print(len(nums))"
   ]
  },
  {
   "cell_type": "code",
   "execution_count": 29,
   "metadata": {},
   "outputs": [
    {
     "name": "stdout",
     "output_type": "stream",
     "text": [
      "{'name': None, 'age': None, 'sex': None}\n",
      "['name', 'age', 'sex']\n",
      "{'name': 10, 'age': 10, 'sex': 10}\n"
     ]
    }
   ],
   "source": [
    "'''\n",
    "dict.fromkeys()의 예제 -- 중복삭제\n",
    "'''\n",
    "seq = ('name', 'age', 'sex')\n",
    "\n",
    "dict = dict.fromkeys(seq)\n",
    "print(str(dict))\n",
    "\n",
    "print(list(dict))\n",
    "\n",
    "dict = dict.fromkeys(seq, 10)\n",
    "print(str(dict))"
   ]
  }
 ],
 "metadata": {
  "kernelspec": {
   "display_name": "Python 3",
   "language": "python",
   "name": "python3"
  },
  "language_info": {
   "codemirror_mode": {
    "name": "ipython",
    "version": 3
   },
   "file_extension": ".py",
   "mimetype": "text/x-python",
   "name": "python",
   "nbconvert_exporter": "python",
   "pygments_lexer": "ipython3",
   "version": "3.7.1"
  }
 },
 "nbformat": 4,
 "nbformat_minor": 2
}
