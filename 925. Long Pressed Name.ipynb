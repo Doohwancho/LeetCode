{
 "cells": [
  {
   "cell_type": "markdown",
   "metadata": {},
   "source": [
    "Your friend is typing his name into a keyboard.  Sometimes, when typing a character c, the key might get long pressed, and the character will be typed 1 or more times.\n",
    "\n",
    "You examine the typed characters of the keyboard.  Return True if it is possible that it was your friends name, with some characters (possibly none) being long pressed.\n",
    "\n",
    " \n",
    "\n",
    ">Example 1:<br>\n",
    ">Input: name = \"alex\", typed = \"aaleex\"<br>\n",
    ">Output: true<br>\n",
    ">Explanation: 'a' and 'e' in 'alex' were long pressed.<br>\n",
    "\n",
    ">Example 2:<br>\n",
    ">Input: name = \"saeed\", typed = \"ssaaedd\"<br>\n",
    ">Output: false<br>\n",
    ">Explanation: 'e' must have been pressed twice, but it wasn't in the typed output.<br>\n",
    "\n",
    ">Example 3:<br>\n",
    ">Input: name = \"leelee\", typed = \"lleeelee\"<br>\n",
    ">Output: true<br>\n",
    "\n",
    ">Example 4:<br>\n",
    ">Input: name = \"laiden\", typed = \"laiden\"<br>\n",
    ">Output: true<br>\n",
    ">Explanation: It's not necessary to long press any character.<br>"
   ]
  },
  {
   "cell_type": "code",
   "execution_count": 3,
   "metadata": {},
   "outputs": [
    {
     "name": "stdout",
     "output_type": "stream",
     "text": [
      "False\n",
      "True\n"
     ]
    }
   ],
   "source": [
    "#Solution1\n",
    "\n",
    "name = \"alee\"\n",
    "typed = \"alleeea\"\n",
    "\n",
    "i = 0\n",
    "j = 0\n",
    "flag = False\n",
    "while i < len(name) and j < len(typed):\n",
    "    if name[i] != typed[j]: # resolving mismatch\n",
    "        if flag or i == 0: # mismatch cannot be resolved\n",
    "            print(False)\n",
    "            break\n",
    "        else:\n",
    "            i -= 1 # move i back by 1\n",
    "            flag = True # flag var denoting if i has been moved back by 1\n",
    "    else:\n",
    "        if flag:\n",
    "            flag = False  \n",
    "        i += 1\n",
    "        j += 1\n",
    "if i == len(name) and j == len(typed):\n",
    "    print(True)\n",
    "elif i < len(name):\n",
    "    print(False)\n",
    "else:\n",
    "    for k in range(j, len(typed)):\n",
    "        if typed[k] != name[-1]:\n",
    "            print(False)\n",
    "            break\n",
    "    print(True)"
   ]
  },
  {
   "cell_type": "code",
   "execution_count": null,
   "metadata": {},
   "outputs": [],
   "source": [
    "#yet\n",
    "#알파벳들이 서로 다를경우에만 유효\n",
    "name = \"alex\"\n",
    "typed = \"aaleex\"\n",
    "cnt=0\n",
    "n=0\n",
    "for i in range(len(name)):\n",
    "    if(name[i]==typed[0]):\n",
    "        while(name[i]==typed[n] and len(typed)>1):\n",
    "            n+=1\n",
    "        typed=typed[:n].replace(name[i],'')+typed[n:]\n",
    "        cnt+=1\n",
    "        n=0\n",
    "if(cnt==len(name)):\n",
    "    print(True)\n",
    "else:\n",
    "    print(False)"
   ]
  },
  {
   "cell_type": "code",
   "execution_count": null,
   "metadata": {},
   "outputs": [],
   "source": [
    "#Solution2\n",
    "#완벽하지 못한 코드\n",
    "name = \"lee\"\n",
    "typed = \"lleeea\"\n",
    "\n",
    "i = 0\n",
    "for j in range(len(typed)):            \n",
    "    if typed[j] == name[i]:\n",
    "        i+=1\n",
    "        if i == len(name): \n",
    "            print(True)\n",
    "    elif i > 0 and typed[j] != name[i-1]:\n",
    "        print(False)"
   ]
  }
 ],
 "metadata": {
  "kernelspec": {
   "display_name": "Python 3",
   "language": "python",
   "name": "python3"
  },
  "language_info": {
   "codemirror_mode": {
    "name": "ipython",
    "version": 3
   },
   "file_extension": ".py",
   "mimetype": "text/x-python",
   "name": "python",
   "nbconvert_exporter": "python",
   "pygments_lexer": "ipython3",
   "version": "3.7.0"
  }
 },
 "nbformat": 4,
 "nbformat_minor": 2
}
