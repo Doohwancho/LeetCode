{
 "cells": [
  {
   "cell_type": "markdown",
   "metadata": {},
   "source": [
    "Your friend is typing his name into a keyboard.  Sometimes, when typing a character c, the key might get long pressed, and the character will be typed 1 or more times.\n",
    "\n",
    "You examine the typed characters of the keyboard.  Return True if it is possible that it was your friends name, with some characters (possibly none) being long pressed.\n",
    "\n",
    " \n",
    "\n",
    ">Example 1:<br>\n",
    ">Input: name = \"alex\", typed = \"aaleex\"<br>\n",
    ">Output: true<br>\n",
    ">Explanation: 'a' and 'e' in 'alex' were long pressed.<br>\n",
    "\n",
    ">Example 2:<br>\n",
    ">Input: name = \"saeed\", typed = \"ssaaedd\"<br>\n",
    ">Output: false<br>\n",
    ">Explanation: 'e' must have been pressed twice, but it wasn't in the typed output.<br>\n",
    "\n",
    ">Example 3:<br>\n",
    ">Input: name = \"leelee\", typed = \"lleeelee\"<br>\n",
    ">Output: true<br>\n",
    "\n",
    ">Example 4:<br>\n",
    ">Input: name = \"laiden\", typed = \"laiden\"<br>\n",
    ">Output: true<br>\n",
    ">Explanation: It's not necessary to long press any character.<br>"
   ]
  },
  {
   "cell_type": "code",
   "execution_count": 44,
   "metadata": {},
   "outputs": [
    {
     "name": "stdout",
     "output_type": "stream",
     "text": [
      "True\n"
     ]
    }
   ],
   "source": [
    "#yet\n",
    "#알파벳들이 서로 다를경우에만 유효\n",
    "name = \"alex\"\n",
    "typed = \"aaleex\"\n",
    "cnt=0\n",
    "n=0\n",
    "for i in range(len(name)):\n",
    "    if(name[i]==typed[0]):\n",
    "        while(name[i]==typed[n] and len(typed)>1):\n",
    "            n+=1\n",
    "        typed=typed[:n].replace(name[i],'')+typed[n:]\n",
    "        cnt+=1\n",
    "        n=0\n",
    "if(cnt==len(name)):\n",
    "    print(True)\n",
    "else:\n",
    "    print(False)"
   ]
  },
  {
   "cell_type": "code",
   "execution_count": 55,
   "metadata": {},
   "outputs": [
    {
     "name": "stdout",
     "output_type": "stream",
     "text": [
      "True\n"
     ]
    },
    {
     "ename": "IndexError",
     "evalue": "string index out of range",
     "output_type": "error",
     "traceback": [
      "\u001b[1;31m---------------------------------------------------------------------------\u001b[0m",
      "\u001b[1;31mIndexError\u001b[0m                                Traceback (most recent call last)",
      "\u001b[1;32m<ipython-input-55-fb380231d009>\u001b[0m in \u001b[0;36m<module>\u001b[1;34m()\u001b[0m\n\u001b[0;32m      4\u001b[0m \u001b[0mi\u001b[0m \u001b[1;33m=\u001b[0m \u001b[1;36m0\u001b[0m\u001b[1;33m\u001b[0m\u001b[0m\n\u001b[0;32m      5\u001b[0m \u001b[1;32mfor\u001b[0m \u001b[0mj\u001b[0m \u001b[1;32min\u001b[0m \u001b[0mrange\u001b[0m\u001b[1;33m(\u001b[0m\u001b[0mlen\u001b[0m\u001b[1;33m(\u001b[0m\u001b[0mtyped\u001b[0m\u001b[1;33m)\u001b[0m\u001b[1;33m)\u001b[0m\u001b[1;33m:\u001b[0m\u001b[1;33m\u001b[0m\u001b[0m\n\u001b[1;32m----> 6\u001b[1;33m     \u001b[1;32mif\u001b[0m \u001b[0mtyped\u001b[0m\u001b[1;33m[\u001b[0m\u001b[0mj\u001b[0m\u001b[1;33m]\u001b[0m \u001b[1;33m==\u001b[0m \u001b[0mname\u001b[0m\u001b[1;33m[\u001b[0m\u001b[0mi\u001b[0m\u001b[1;33m]\u001b[0m\u001b[1;33m:\u001b[0m\u001b[1;33m\u001b[0m\u001b[0m\n\u001b[0m\u001b[0;32m      7\u001b[0m         \u001b[0mi\u001b[0m\u001b[1;33m+=\u001b[0m\u001b[1;36m1\u001b[0m\u001b[1;33m\u001b[0m\u001b[0m\n\u001b[0;32m      8\u001b[0m         \u001b[1;32mif\u001b[0m \u001b[0mi\u001b[0m \u001b[1;33m==\u001b[0m \u001b[0mlen\u001b[0m\u001b[1;33m(\u001b[0m\u001b[0mname\u001b[0m\u001b[1;33m)\u001b[0m\u001b[1;33m:\u001b[0m\u001b[1;33m\u001b[0m\u001b[0m\n",
      "\u001b[1;31mIndexError\u001b[0m: string index out of range"
     ]
    }
   ],
   "source": [
    "#Solution\n",
    "name = \"lee\"\n",
    "typed = \"lleee\"\n",
    "\n",
    "i = 0\n",
    "for j in range(len(typed)):            \n",
    "    if typed[j] == name[i]:\n",
    "        i+=1\n",
    "        if i == len(name): \n",
    "            print(True)\n",
    "    elif i > 0 and typed[j] != name[i-1]:\n",
    "        print(False)"
   ]
  }
 ],
 "metadata": {
  "kernelspec": {
   "display_name": "Python 3",
   "language": "python",
   "name": "python3"
  },
  "language_info": {
   "codemirror_mode": {
    "name": "ipython",
    "version": 3
   },
   "file_extension": ".py",
   "mimetype": "text/x-python",
   "name": "python",
   "nbconvert_exporter": "python",
   "pygments_lexer": "ipython3",
   "version": "3.7.0"
  }
 },
 "nbformat": 4,
 "nbformat_minor": 2
}
