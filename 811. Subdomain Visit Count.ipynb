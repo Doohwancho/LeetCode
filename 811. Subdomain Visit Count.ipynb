{
 "cells": [
  {
   "cell_type": "markdown",
   "metadata": {},
   "source": [
    "A website domain like \"discuss.leetcode.com\" consists of various subdomains. At the top level, we have \"com\", at the next level, we have \"leetcode.com\", and at the lowest level, \"discuss.leetcode.com\". When we visit a domain like \"discuss.leetcode.com\", we will also visit the parent domains \"leetcode.com\" and \"com\" implicitly.\n",
    "\n",
    "Now, call a \"count-paired domain\" to be a count (representing the number of visits this domain received), followed by a space, followed by the address. An example of a count-paired domain might be \"9001 discuss.leetcode.com\".\n",
    "\n",
    "We are given a list cpdomains of count-paired domains. We would like a list of count-paired domains, (in the same format as the input, and in any order), that explicitly counts the number of visits to each subdomain.\n",
    "\n",
    ">Example 1:<br>\n",
    ">Input: <br>\n",
    ">[\"9001 discuss.leetcode.com\"]<br>\n",
    ">Output: <br>\n",
    ">[\"9001 discuss.leetcode.com\", \"9001 leetcode.com\", \"9001 com\"]<br>\n",
    ">Explanation: <br>\n",
    ">We only have one website domain: \"discuss.leetcode.com\". As discussed above, the subdomain \"leetcode.com\" and \"com\" will also be visited. So they will all be visited 9001 times.<br>\n",
    "\n",
    ">Example 2:<br>\n",
    ">Input: <br>\n",
    ">[\"900 google.mail.com\", \"50 yahoo.com\", \"1 intel.mail.com\", \"5 wiki.org\"]<br>\n",
    ">Output: <br>\n",
    ">[\"901 mail.com\",\"50 yahoo.com\",\"900 google.mail.com\",\"5 wiki.org\",\"5 org\",\"1 intel.mail.com\",\"951 com\"]<br>\n",
    ">Explanation: <br>\n",
    ">We will visit \"google.mail.com\" 900 times, \"yahoo.com\" 50 times, \"intel.mail.com\" once and \"wiki.org\" 5 times. For the subdomains, we will visit \"mail.com\" 900 + 1 = 901 times, \"com\" 900 + 50 + 1 = 951 times, and \"org\" 5 times.<br>"
   ]
  },
  {
   "cell_type": "code",
   "execution_count": 50,
   "metadata": {},
   "outputs": [
    {
     "name": "stdout",
     "output_type": "stream",
     "text": [
      "{'google.mail.com': 900, 'mail.com': 1, 'com': 1, 'yahoo.com': 50, 'intel.mail.com': 1, 'wiki.org': 5, 'org': 5}\n"
     ]
    },
    {
     "data": {
      "text/plain": [
       "['900 google.mail.com',\n",
       " '1 mail.com',\n",
       " '1 com',\n",
       " '50 yahoo.com',\n",
       " '1 intel.mail.com',\n",
       " '5 wiki.org',\n",
       " '5 org']"
      ]
     },
     "execution_count": 50,
     "metadata": {},
     "output_type": "execute_result"
    }
   ],
   "source": [
    "#문제\n",
    "\n",
    "#\"9001 discuss.leetcode.com\"이라는 웹사이트 주소가 주어진다.\n",
    "#.com은 leetcode.com보다 상위 개념이고, leetcode.com은 discuss.leetcode.com 보다 상위개념이다.\n",
    "#따라서 discuss.leetcode.com을 1번 방문하면, 상위 개념인 leetcode.com과 .com도 한번씩 방문하는 것을 의미한다.\n",
    "\n",
    "#예를들어 \"900 google.mail.com\"와 \"1 intel.mail.com\"가 있다고 치자.\n",
    "#앞에 숫자는 방문횟수를 의미한다.\n",
    "#우리는 각 주소마다 상위개념을 포함해서 몇번 방문했는지 횟수를 구하면 된다.\n",
    "#google.mail.com은 900번 방문했고, 상위개념인 mail.com과 .com도 900번 방문했다.\n",
    "#intel.mail.com도 1번 방문했고, 상위개념인 mail.com과 .com도 1번 방문했다.\n",
    "#서로 mail.com과 .com(상위개념들)의 방문횟수가 겹치는것을 고려하면, 총 방문횟수는\n",
    "#900 google.mail.com / 1 intel.mail.com / 901 mail.com / 901 com이 된다.\n",
    "\n",
    "\n",
    "\n",
    "#문제풀이\n",
    "\n",
    "#step01 - key를 주소, value를 방문횟수로 넣을 빈 dictionary를 만든다.\n",
    "#step02 - 방문 숫자와 웹 주소를 분리한다\n",
    "#step03 - for문을 돌면서, 해당 웹 주소가 dictionary에 없다면, 웹 주소를 key, 방문횟수를 value로 넣어주고, \n",
    "#         있다면 방문횟수를 기존의 값에 더한다.\n",
    "#         결과물은 다음과 같이 생겼다.\n",
    "#         {'google.mail.com': 900, 'mail.com': 1, 'com': 1, 'yahoo.com': 50, 'intel.mail.com': 1, 'wiki.org': 5, 'org': 5}\n",
    "#step04 - 딕셔너리에 있는 key와 value를, 리스트 안에 스트링 형태로 합친다.\n",
    "\n",
    "\n",
    "def subdomainVisits(cpdomains):\n",
    "    \n",
    "    dictionary = {}                                        #step01\n",
    "\n",
    "    for j in range(len(cpdomains)):\n",
    "        number = int(cpdomains[j].split()[0])              #step02\n",
    "        address = cpdomains[j].split()[1].split('.')       #step02\n",
    "        for i in range(len(address)):\n",
    "            if '.'.join(chunk[i:]) in dictionary:          #step03\n",
    "                dictionary['.'.join(address[i:])] += number\n",
    "            else:\n",
    "                dictionary['.'.join(address[i:])] = number\n",
    "\n",
    "    print(dictionary)\n",
    "\n",
    "    rst = []\n",
    "    for key, value in dictionary.items():\n",
    "        rst.append(str(value) + \" \" + str(key))             #step04\n",
    "\n",
    "    return(rst)\n",
    "\n",
    "\n",
    "cpdomains = [\"900 google.mail.com\", \"50 yahoo.com\", \"1 intel.mail.com\", \"5 wiki.org\"]\n",
    "subdomainVisits(cpdomains)"
   ]
  }
 ],
 "metadata": {
  "kernelspec": {
   "display_name": "Python 3",
   "language": "python",
   "name": "python3"
  },
  "language_info": {
   "codemirror_mode": {
    "name": "ipython",
    "version": 3
   },
   "file_extension": ".py",
   "mimetype": "text/x-python",
   "name": "python",
   "nbconvert_exporter": "python",
   "pygments_lexer": "ipython3",
   "version": "3.7.2"
  }
 },
 "nbformat": 4,
 "nbformat_minor": 2
}
