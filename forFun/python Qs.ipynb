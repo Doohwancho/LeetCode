{
 "cells": [
  {
   "cell_type": "markdown",
   "metadata": {},
   "source": [
    "## 파이썬 경진대회 예선\n",
    "\n",
    "2018.11.27.\n"
   ]
  },
  {
   "cell_type": "markdown",
   "metadata": {},
   "source": [
    "### 문제 1\n",
    "\n",
    "for 문을 활용하여 6부터 20까지 2씩 증가시키며 list 변수에 데이터 값을 저장하세요<br>\n",
    "단, 6의 배수는 list에 저장하지 말 것"
   ]
  },
  {
   "cell_type": "code",
   "execution_count": null,
   "metadata": {},
   "outputs": [],
   "source": [
    "list=[]\n",
    "for i in range(6,21,2):\n",
    "    if(i%6!=0):\n",
    "        list.append(i)\n",
    "print(list)"
   ]
  },
  {
   "cell_type": "code",
   "execution_count": null,
   "metadata": {},
   "outputs": [],
   "source": [
    "#Solution\n",
    "myList = [data for data in range(6, 21, 2) if data%6!=0]\n",
    "myList"
   ]
  },
  {
   "cell_type": "markdown",
   "metadata": {},
   "source": [
    "### 문제 2\n",
    "\n",
    "연속된 숫자를 입력받은 후, 중복된 값을 제거하고 오름차순 정렬하여 출력하세요\n",
    "<br>\n",
    "예시)<br>\n",
    "입력: 1 1 1 4 5 6 3<br>\n",
    "출력: 1 3 4 5 6"
   ]
  },
  {
   "cell_type": "code",
   "execution_count": 1,
   "metadata": {},
   "outputs": [
    {
     "name": "stdout",
     "output_type": "stream",
     "text": [
      "[1, 3, 4, 5, 6]\n"
     ]
    }
   ],
   "source": [
    "a=[1,1,1,4,5,6,3]\n",
    "rst=[]\n",
    "for i in range(len(a)):\n",
    "    if(a[i] not in rst):\n",
    "        rst.append(a[i])\n",
    "print(sorted(rst))"
   ]
  },
  {
   "cell_type": "code",
   "execution_count": 4,
   "metadata": {},
   "outputs": [
    {
     "data": {
      "text/plain": [
       "[1, 3, 4, 5, 6]"
      ]
     },
     "execution_count": 4,
     "metadata": {},
     "output_type": "execute_result"
    }
   ],
   "source": [
    "data=[1,1,1,4,5,6,3]\n",
    "sorted(x for x in set(data))"
   ]
  },
  {
   "cell_type": "markdown",
   "metadata": {},
   "source": [
    "### 문제 3\n",
    "\n",
    "data에 저장된 문자열을 단어로 분리해 리스트를 만들고, 홀수 번째에 위치한 단어만 출력하세요<br/>\n",
    "단, 문장 부호는 제거할 것"
   ]
  },
  {
   "cell_type": "code",
   "execution_count": 5,
   "metadata": {},
   "outputs": [
    {
     "data": {
      "text/plain": [
       "['행복한',\n",
       " '차가운',\n",
       " '따뜻하게',\n",
       " '슬픈',\n",
       " '따뜻한',\n",
       " '시리게',\n",
       " '온',\n",
       " '나의',\n",
       " '따라',\n",
       " '있었다',\n",
       " '이',\n",
       " '주인은',\n",
       " '였다']"
      ]
     },
     "execution_count": 5,
     "metadata": {},
     "output_type": "execute_result"
    }
   ],
   "source": [
    "data = \"행복한 순간에는 차가운 공기마저 따뜻하게 느껴지고, 슬픈 순간에는 따뜻한 공기마저 시리게 느껴진다. 온 우주는 나의 기분에 따라 움직이고 있었다. 그렇다. 이 세상의 주인은 나 였다.\"\n",
    "rst=[]\n",
    "for i in range(len(data.split(\" \"))):\n",
    "    if(i%2==0): #문제에서 제시된건 홀수번째인데, 답안이 짝수번째로 나와서 짝수로함\n",
    "        rst.append(data.replace(\",\",\"\").replace(\".\",\"\").split(\" \")[i])\n",
    "rst"
   ]
  },
  {
   "cell_type": "code",
   "execution_count": 11,
   "metadata": {},
   "outputs": [
    {
     "data": {
      "text/plain": [
       "['행복한',\n",
       " '차가운',\n",
       " '따뜻하게',\n",
       " '슬픈',\n",
       " '따뜻한',\n",
       " '시리게',\n",
       " '온',\n",
       " '나의',\n",
       " '따라',\n",
       " '있었다',\n",
       " '이',\n",
       " '주인은',\n",
       " '였다']"
      ]
     },
     "execution_count": 11,
     "metadata": {},
     "output_type": "execute_result"
    }
   ],
   "source": [
    "data = \"행복한 순간에는 차가운 공기마저 따뜻하게 느껴지고, 슬픈 순간에는 따뜻한 공기마저 시리게 느껴진다. 온 우주는 나의 기분에 따라 움직이고 있었다. 그렇다. 이 세상의 주인은 나 였다.\"\n",
    "data = data.replace(\",\", \"\").replace(\".\", \"\").split()\n",
    "[data[i] for i in range(len(data)) if i%2==0] #온전하게 다나옴\n",
    "#(data[i] for i in range(len(data)) if i%2==0) #튜플 주소만 나옴"
   ]
  },
  {
   "cell_type": "markdown",
   "metadata": {},
   "source": [
    "### 문제 4\n",
    "\n",
    "주어진 코드의 주석 부분을 수정하여, 공백 없이 대문자만 출력하세요"
   ]
  },
  {
   "cell_type": "code",
   "execution_count": 12,
   "metadata": {},
   "outputs": [
    {
     "data": {
      "text/plain": [
       "'ABCACC'"
      ]
     },
     "execution_count": 12,
     "metadata": {},
     "output_type": "execute_result"
    }
   ],
   "source": [
    "#Solution1\n",
    "word = \"abc    ABC AbC abC   \"\n",
    "delSpace = word.replace(\" \",\"\")\n",
    "for i in delSpace:\n",
    "    if(i.islower() == True):\n",
    "        delSpace = delSpace.replace(i,\"\")\n",
    "\n",
    "delSpace # 결과값은 ABCACC"
   ]
  },
  {
   "cell_type": "code",
   "execution_count": 14,
   "metadata": {},
   "outputs": [
    {
     "name": "stdout",
     "output_type": "stream",
     "text": [
      "ABCACC"
     ]
    }
   ],
   "source": [
    "#Solution2(mine)\n",
    "word = \"abc    ABC AbC abC   \"\n",
    "rst=[]\n",
    "for i in range(len(word)):\n",
    "    if(word[i].isupper()):\n",
    "        print(word[i],end=\"\")"
   ]
  },
  {
   "cell_type": "code",
   "execution_count": 17,
   "metadata": {},
   "outputs": [
    {
     "data": {
      "text/plain": [
       "'ABCACC'"
      ]
     },
     "execution_count": 17,
     "metadata": {},
     "output_type": "execute_result"
    }
   ],
   "source": [
    "#Solution3\n",
    "[x for x in word.rstrip().replace(\" \",\"\") if x.isupper()]\n",
    "\"\".join([x for x in word.rstrip().replace(\" \",\"\") if x.isupper()])"
   ]
  },
  {
   "cell_type": "markdown",
   "metadata": {},
   "source": [
    "### 문제 5\n",
    "위의 글에서 대문자, 소문자, 숫자의 개수를 계산하세요<br>\n",
    "단, 문자, 숫자를 제외한 공백 등의 기호 등을 replace()를 이용해 제거"
   ]
  },
  {
   "cell_type": "code",
   "execution_count": 18,
   "metadata": {},
   "outputs": [
    {
     "name": "stdout",
     "output_type": "stream",
     "text": [
      "336\n",
      "10\n",
      "10\n"
     ]
    }
   ],
   "source": [
    "upper=0\n",
    "lower=0\n",
    "number=0\n",
    "\n",
    "data = 'Python is an interpreted high-level programming language for general-purpose programming. Created by Guido van Rossum and first released in 1991, Python has a design philosophy that emphasizes code readability, notably using significant whitespace. It provides constructs that enable clear programming on both small and large scales. In July 2018, Van Rossum stepped down as the leader in the language community after 30 years.'\n",
    "for i in range(len(data)):\n",
    "    if(data[i].isnumeric()):\n",
    "        number+=1\n",
    "    elif(data[i].isupper()):\n",
    "        upper+=1\n",
    "    elif(data[i].islower()):\n",
    "        lower+=1\n",
    "print(lower)\n",
    "print(upper)\n",
    "print(number)"
   ]
  },
  {
   "cell_type": "markdown",
   "metadata": {},
   "source": [
    "### 문제 6\n",
    "\n",
    "다음 코드의 ? 부분을 완성하여 1~50 사이의 랜덤 숫자 맞추기 Up & Down 게임을 만들어 보세요"
   ]
  },
  {
   "cell_type": "code",
   "execution_count": null,
   "metadata": {},
   "outputs": [],
   "source": [
    "import random\n",
    "\n",
    "ran = random.randrange(1, 51) # 1~50 사이의 숫자 랜덤 생성\n",
    "num = 0\n",
    "count = 0\n",
    "\n",
    "print(\"숫자 Up & Down 게임 시작!\")\n",
    "print(\"---------------------------\")\n",
    "while ran!=num:\n",
    "    num = int(input(\"1 ~ 50 사이의 숫자를 입력하세요 : \"))\n",
    "\n",
    "    if ( ran<num ):\n",
    "        print(\"Down\")\n",
    "    elif ( ran>num ):\n",
    "        print(\"Up\")\n",
    "    count += 1\n",
    "    \n",
    "print(\"---------------------------\")\n",
    "print(count, \"번 만에 정답을 맞추셨습니다.\")"
   ]
  },
  {
   "cell_type": "markdown",
   "metadata": {},
   "source": [
    "### 문제 7\n",
    "\n",
    "아래의 sentence에 저장된 문장은 뒤집어도 같은 문장입니다 <br/>\n",
    "그러나 컴퓨터는 같은 문장으로 인식하지 못하고(False 출력) 있습니다 <br/>\n",
    "적절한 함수를 사용하여 컴퓨터가 True가 출력될 수 있도록 수정하세요"
   ]
  },
  {
   "cell_type": "code",
   "execution_count": 21,
   "metadata": {},
   "outputs": [
    {
     "data": {
      "text/plain": [
       "True"
      ]
     },
     "execution_count": 21,
     "metadata": {},
     "output_type": "execute_result"
    }
   ],
   "source": [
    "sentence=\"여보 안경 안보여\"\n",
    "#sentence==sentence[::-1]\n",
    "sentence.replace(\" \",\"\")==sentence[::-1].replace(\" \",\"\")"
   ]
  },
  {
   "cell_type": "markdown",
   "metadata": {},
   "source": [
    "### 문제 8\n",
    "\n",
    "다음 파일 리스트 중 .jpg, .png 이미지 파일만 출력되게 만드세요<br>\n",
    "출력 결과는 리스트 형태입니다<br><br>\n",
    "HINT: find() 메소드 사용<br>\n",
    "<br>\n",
    "출력 <br>\n",
    "['1.png', '10.jpg', '2.jpg', '3.png']"
   ]
  },
  {
   "cell_type": "code",
   "execution_count": 20,
   "metadata": {},
   "outputs": [
    {
     "data": {
      "text/plain": [
       "['1.png', '10.jpg', '2.jpg', '3.png']"
      ]
     },
     "execution_count": 20,
     "metadata": {},
     "output_type": "execute_result"
    }
   ],
   "source": [
    "files = ['font', '1.png', '10.jpg', '11.gif', '2.jpg', '3.png', 'table.xslx', 'spec.docx']\n",
    "rst=[]\n",
    "for i in range(len(files)):\n",
    "    if(files[i].endswith('g')):\n",
    "        rst.append(files[i])\n",
    "rst"
   ]
  },
  {
   "cell_type": "code",
   "execution_count": 36,
   "metadata": {},
   "outputs": [
    {
     "data": {
      "text/plain": [
       "['1.png', '10.jpg', '2.jpg', '3.png']"
      ]
     },
     "execution_count": 36,
     "metadata": {},
     "output_type": "execute_result"
    }
   ],
   "source": [
    "files = ['font', '1.png', '10.jpg', '11.gif', '2.jpg', '3.png', 'table.xslx', 'spec.docx']\n",
    "[x for x in files if(x.find('jpg')!=-1) or (x.find('png')!=-1)] #find함수는 해당 값이 없을 경우 -1 출력"
   ]
  },
  {
   "cell_type": "markdown",
   "metadata": {},
   "source": [
    "### 문제 9\n",
    "\n",
    "다음 람다로 구현한 함수의 ? 부분을 채워, 전화번호를 완성해 보세요<br/>\n",
    "(숫자를 입력하면, 사이에 '-'를 넣어 반환)"
   ]
  },
  {
   "cell_type": "code",
   "execution_count": 41,
   "metadata": {},
   "outputs": [
    {
     "data": {
      "text/plain": [
       "'010-1234-1234'"
      ]
     },
     "execution_count": 41,
     "metadata": {},
     "output_type": "execute_result"
    }
   ],
   "source": [
    "tel = lambda *num, seq='-' : seq.join(num)\n",
    "tel('010', '1234', '1234')"
   ]
  },
  {
   "cell_type": "markdown",
   "metadata": {},
   "source": [
    "### 문제 10\n",
    "\n",
    "다음 게임 유저들의 채팅 내역을 보고, 채팅제한 여부를 판단하는 함수를 완성하세요<br/>\n",
    "단, 채팅제한 여부는 비속어 사용 유무로 합니다"
   ]
  },
  {
   "cell_type": "code",
   "execution_count": 43,
   "metadata": {},
   "outputs": [],
   "source": [
    "# user 3명의 채팅 내역 data\n",
    "user = {\n",
    "'user1' : '와 게임 발로하는거 아니냐. 평생 미드에서 삽질 하다가 팔근육 부자되라',\n",
    "'user2' : 'ㄷㄷㄷ 이렇게 즐거운 게임은 처음입니다. 다음에 또 같이 던전 돌아요!',\n",
    "'user3' : 'ㅈㄹ 멘탈 부셔진다... 오늘은 여기까지만 하겠습니다. 즐 겜 하 세 요.'\n",
    "}\n",
    "\n",
    "#비속어 사전\n",
    "dic = ['법규', '나쁜놈', '헛소리', '삽질', '미친', 'ㅈㄹ']"
   ]
  },
  {
   "cell_type": "code",
   "execution_count": 44,
   "metadata": {},
   "outputs": [
    {
     "name": "stdout",
     "output_type": "stream",
     "text": [
      "user1은 비속어로 인한 채팅제한이 필요합니다!\n",
      "user2은 클린 유저입니다.\n",
      "user3은 비속어로 인한 채팅제한이 필요합니다!\n"
     ]
    }
   ],
   "source": [
    "#답안\n",
    "def get_block(uid):\n",
    "    user_chat = user[uid].split()\n",
    "\n",
    "    block = False\n",
    "    for i in user_chat:\n",
    "        if i in dic:\n",
    "            block=True\n",
    "                             \n",
    "        \n",
    "    if block:\n",
    "        print('{}은 비속어로 인한 채팅제한이 필요합니다!'.format(uid))\n",
    "    else:\n",
    "        print('{}은 클린 유저입니다.'.format(uid))\n",
    "        \n",
    "for uid in user:\n",
    "    get_block(uid)"
   ]
  },
  {
   "cell_type": "markdown",
   "metadata": {},
   "source": [
    "### 문제 11\n",
    "\"2018년 11월 27일 화요일\" 과 같이 출력되도록 빈칸을 완성하세요\n",
    "\n",
    "참고: https://docs.python.org/3.5/library/datetime.html?highlight=datetime#module-datetime"
   ]
  },
  {
   "cell_type": "code",
   "execution_count": 46,
   "metadata": {},
   "outputs": [
    {
     "name": "stdout",
     "output_type": "stream",
     "text": [
      "2018년 11월 27일 화요일\n"
     ]
    }
   ],
   "source": [
    "import datetime\n",
    "\n",
    "class date:\n",
    "    def __init__(self, y, m, d):\n",
    "        self.y=y\n",
    "        self.m=m\n",
    "        self.d=d\n",
    "        \n",
    "    def __str__(self):\n",
    "        return \"%s년 %s월 %s일\" % (int(self.y),int(self.m),int(self.d))\n",
    "    \n",
    "    def setDate(self, newY, newM, newD):\n",
    "        self.y = newY\n",
    "        self.m = newM\n",
    "        self.d = newD\n",
    "        \n",
    "    def getDayName(self):\n",
    "        return ['월', '화', '수', '목', '금', '토', '일'][datetime.date(int(self.y), int(self.m), int(self.d)).weekday()] + '요일'\n",
    "    \n",
    "p = date('2018','11','27')\n",
    "day = p.getDayName()\n",
    "print(p, day)"
   ]
  },
  {
   "cell_type": "markdown",
   "metadata": {},
   "source": [
    "### 문제 12\n",
    "\n",
    "[[y+x*3+10 for y in range(3)] for x in range(3)]<br>\n",
    "[[10, 11, 12], [13, 14, 15], [16, 17, 18]]\n",
    "\n",
    "위의 이중 list를 응용하여 0~26까지의 3중 list를 아래 출력과 같이 만들고 마음에 안드는 숫자인 4의 배수(0 포함됨)를 조건문을 이용해서 출력되지 않도록 해주세요<br/>\n",
    "\n",
    "[[[1, 2], [3, 5], [6, 7]],<br/>\n",
    "[[9, 10, 11], [13, 14], [15, 17]],<br/>\n",
    "[[18, 19], [21, 22, 23], [25, 26]]]"
   ]
  },
  {
   "cell_type": "code",
   "execution_count": null,
   "metadata": {},
   "outputs": [],
   "source": [
    "[[[? for ? in ? if ? ] for ? in ?] for ? in ? ]"
   ]
  },
  {
   "cell_type": "code",
   "execution_count": 68,
   "metadata": {},
   "outputs": [
    {
     "data": {
      "text/plain": [
       "[[[0, 1], [3, 4], [6, 7]],\n",
       " [[9, 10], [12, 13], [15, 16]],\n",
       " [[18, 19], [21, 22], [24, 25]],\n",
       " [[27, 28], [30, 31], [33, 34]]]"
      ]
     },
     "execution_count": 68,
     "metadata": {},
     "output_type": "execute_result"
    }
   ],
   "source": [
    "[[[y*3+x+z*9 for x in range(2) ] for y in range(3)] for z in range(4) ]"
   ]
  },
  {
   "cell_type": "markdown",
   "metadata": {},
   "source": [
    "### 문제 13\n",
    "sort() 함수를 이용하지 말고, 새로운 함수를 만들어 리스트를 정렬하세요<br/>\n",
    "\n",
    "HINT1. 리스트에서 최소 값을 찾아 새로운 리스트에 차례로 추가<br/>\n",
    "HINT2. pop()과 append(), index() 메소드"
   ]
  },
  {
   "cell_type": "code",
   "execution_count": 96,
   "metadata": {},
   "outputs": [
    {
     "data": {
      "text/plain": [
       "[1, 12, 33, 40, 56, 61, 66, 70, 86, 89]"
      ]
     },
     "execution_count": 96,
     "metadata": {},
     "output_type": "execute_result"
    }
   ],
   "source": [
    "#min()함수를 이용\n",
    "\n",
    "a= [66, 70, 1, 61, 56, 33, 86, 89, 40, 12]\n",
    "rst=[]\n",
    "count=len(a)\n",
    "min(a)\n",
    "while count>0:\n",
    "    rst.append(min(a))\n",
    "    a.pop(a.index(min(a)))\n",
    "    count=len(a)\n",
    "rst"
   ]
  },
  {
   "cell_type": "markdown",
   "metadata": {},
   "source": [
    "문제 14\n",
    "Encore DA반에서 학생들의 이름과 나이, 고향을 조사했다\n",
    "student = ['송민지', '박현서', '이해인', '김현경']\n",
    "age = [25, 27, 27, 23]\n",
    "hometown = ['제주', '횡성', '포천', '서울']\n",
    "salary = ['15000만','7000만','14000만','9000만']\n",
    "\n",
    "\n",
    "Step1) Encore는 각 사람에 대한 정보를 원합니다. 각 학생 정보를 묶어 주세요\n",
    "(다행히도, student, age, hometown, salary는 순서대로 입력되어 있어 따로 매치해줄 필요는 없습니다)\n",
    "결과) [['송민지', 25, '제주', '15000만'], ['박현서', 27, '횡성', '7000만'], ['이해인', 27, '포천', '14000만'], ['김현경', 23, '서울', '9000만']]\n",
    "\n",
    "Step2) 연봉 순으로 사람들을 배열한 후, 연봉이 제일 많은 사람의 정보를 추출하세요(배열 시, lambda 활용)\n",
    "결과) ['송민지', 25, '제주', '15000만']"
   ]
  },
  {
   "cell_type": "code",
   "execution_count": 98,
   "metadata": {},
   "outputs": [],
   "source": [
    "student = ['송민지', '박현서', '이해인', '김현경']\n",
    "age = [25, 27, 27, 23]\n",
    "hometown = ['제주', '횡성', '포천', '서울']\n",
    "salary = ['15000만','7000만','14000만','9000만']"
   ]
  },
  {
   "cell_type": "code",
   "execution_count": 105,
   "metadata": {},
   "outputs": [
    {
     "data": {
      "text/plain": [
       "[['송민지', 25, '제주', '15000만'],\n",
       " ['박현서', 27, '횡성', '7000만'],\n",
       " ['이해인', 27, '포천', '14000만'],\n",
       " ['김현경', 23, '서울', '9000만']]"
      ]
     },
     "execution_count": 105,
     "metadata": {},
     "output_type": "execute_result"
    }
   ],
   "source": [
    "[[row[i] for row in [student, age, hometown, salary]] for i in range(len(student))]"
   ]
  },
  {
   "cell_type": "code",
   "execution_count": 110,
   "metadata": {},
   "outputs": [
    {
     "data": {
      "text/plain": [
       "[['송민지', 25, '제주', '15000만'],\n",
       " ['이해인', 27, '포천', '14000만'],\n",
       " ['김현경', 23, '서울', '9000만'],\n",
       " ['박현서', 27, '횡성', '7000만']]"
      ]
     },
     "execution_count": 110,
     "metadata": {},
     "output_type": "execute_result"
    }
   ],
   "source": [
    "sorted(result, key=lambda x: int(x[len(result)-1].replace(\"만\",\"\")), reverse=True) #돈으로 역정렬"
   ]
  },
  {
   "cell_type": "code",
   "execution_count": 107,
   "metadata": {},
   "outputs": [
    {
     "data": {
      "text/plain": [
       "['송민지', 25, '제주', '15000만']"
      ]
     },
     "execution_count": 107,
     "metadata": {},
     "output_type": "execute_result"
    }
   ],
   "source": [
    "result=[[row[i] for row in [student, age, hometown, salary]] for i in range(len(student))]\n",
    "\n",
    "sorted_result = sorted(result, key = lambda x : int(x[len(result)-1].replace(\"만\", \"\")), reverse=True)\n",
    "sorted_result[0]"
   ]
  },
  {
   "cell_type": "markdown",
   "metadata": {},
   "source": [
    "### 문제 15\n",
    "\n",
    "아래 설명을 보고, 코드의 빈 칸을 채워 리스트를 완성해 보세요<br/><br/>\n",
    "\n",
    "Step01)\n",
    "1. 숫자가 9개씩 들어있는 리스트를 9개씩 보유하고있는 리스트 안의 리스트를 생성한다\n",
    "2. 리스트 내부는 모두 0으로 채운다\n",
    "\n",
    "Step02)\n",
    "1. 이 리스트의 위, 아래, 왼쪽, 오른쪽 가장자리를 1씩 더한다\n",
    "2. 이 리스트의 대각 항목들도 1씩 더한다"
   ]
  },
  {
   "cell_type": "code",
   "execution_count": null,
   "metadata": {},
   "outputs": [],
   "source": [
    "'''\n",
    "아래와 같은 결과가 나오면 성공\n",
    "\n",
    "[1, 1, 1, 1, 1, 1, 1, 1, 1]\n",
    "[1, 1, 0, 0, 0, 0, 0, 1, 1]\n",
    "[1, 0, 1, 0, 0, 0, 1, 0, 1]\n",
    "[1, 0, 0, 1, 0, 1, 0, 0, 1]\n",
    "[1, 0, 0, 0, 1, 0, 0, 0, 1]\n",
    "[1, 0, 0, 1, 0, 1, 0, 0, 1]\n",
    "[1, 0, 1, 0, 0, 0, 1, 0, 1]\n",
    "[1, 1, 0, 0, 0, 0, 0, 1, 1]\n",
    "[1, 1, 1, 1, 1, 1, 1, 1, 1]\n",
    "\n",
    "'''\n",
    "\n",
    "width = 9\n",
    "height = width\n",
    "\n",
    "listedList = [ ? for i in range(height)]\n",
    "\n",
    "for i in range(width):\n",
    "    for j in range(height):\n",
    "        if ?:\n",
    "            listedList[i][j] = 1\n",
    "\n",
    "\n",
    "for i in listedList:\n",
    "    print (i)"
   ]
  },
  {
   "cell_type": "code",
   "execution_count": 123,
   "metadata": {},
   "outputs": [
    {
     "name": "stdout",
     "output_type": "stream",
     "text": [
      "[1, 1, 1, 1, 1, 1, 1, 1, 1]\n",
      "[1, 1, 0, 0, 0, 0, 0, 1, 1]\n",
      "[1, 0, 1, 0, 0, 0, 1, 0, 1]\n",
      "[1, 0, 0, 1, 0, 1, 0, 0, 1]\n",
      "[1, 0, 0, 0, 1, 0, 0, 0, 1]\n",
      "[1, 0, 0, 1, 0, 1, 0, 0, 1]\n",
      "[1, 0, 1, 0, 0, 0, 1, 0, 1]\n",
      "[1, 1, 0, 0, 0, 0, 0, 1, 1]\n",
      "[1, 1, 1, 1, 1, 1, 1, 1, 1]\n"
     ]
    }
   ],
   "source": [
    "width = 9\n",
    "height = width\n",
    "\n",
    "listedList = [[0] * width for i in range(height)]\n",
    "listedList\n",
    "\n",
    "for i in range(width):\n",
    "    for j in range(height):\n",
    "        if(i==0 or i==width-1):\n",
    "            listedList[i][j] = 1\n",
    "        else:\n",
    "            listedList[i][0] =1\n",
    "            listedList[i][i]=1\n",
    "            listedList[i][-i-1]=1\n",
    "            listedList[i][height-1]=1\n",
    "            \n",
    "for i in listedList:\n",
    "    print (i)"
   ]
  },
  {
   "cell_type": "code",
   "execution_count": null,
   "metadata": {},
   "outputs": [],
   "source": [
    "#Solution\n",
    "\n",
    "width = 9\n",
    "height = width\n",
    "\n",
    "listedList = [[0] * width for i in range(height)]\n",
    "\n",
    "for i in range(width):\n",
    "    for j in range(height):\n",
    "        if (i == j or i + j == width-1 or i == 0 or j == 0 or i == width-1 or j == width-1):\n",
    "            listedList[i][j] = 1\n",
    "\n",
    "for i in listedList:\n",
    "    print (i)"
   ]
  }
 ],
 "metadata": {
  "kernelspec": {
   "display_name": "Python 3",
   "language": "python",
   "name": "python3"
  },
  "language_info": {
   "codemirror_mode": {
    "name": "ipython",
    "version": 3
   },
   "file_extension": ".py",
   "mimetype": "text/x-python",
   "name": "python",
   "nbconvert_exporter": "python",
   "pygments_lexer": "ipython3",
   "version": "3.7.0"
  }
 },
 "nbformat": 4,
 "nbformat_minor": 2
}
