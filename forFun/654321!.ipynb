{
 "cells": [
  {
   "cell_type": "markdown",
   "metadata": {},
   "source": [
    "--Q. 아래를 구현하라.\n",
    "\n",
    "66666<br>\n",
    "555<br>\n",
    "4<br>\n",
    "3<br>\n",
    "222<br>\n",
    "11111<br>"
   ]
  },
  {
   "cell_type": "code",
   "execution_count": 112,
   "metadata": {},
   "outputs": [
    {
     "name": "stdout",
     "output_type": "stream",
     "text": [
      "66666\n",
      "555\n",
      "4\n",
      "3\n",
      "222\n",
      "11111\n"
     ]
    }
   ],
   "source": [
    "#SUCCESS\n",
    "\n",
    "for i in range(6, 0, -1):\n",
    "    for j in range(5, -6, -2):\n",
    "        print(str(i) * abs(j))\n",
    "        i-=1\n",
    "        if(i==0):\n",
    "            break\n",
    "    break"
   ]
  },
  {
   "cell_type": "code",
   "execution_count": 88,
   "metadata": {},
   "outputs": [
    {
     "name": "stdout",
     "output_type": "stream",
     "text": [
      "66666\n",
      "555\n",
      "4\n",
      "3\n",
      "222\n",
      "11111\n"
     ]
    }
   ],
   "source": [
    "#TRIAL01\n",
    "\n",
    "a=[3,4,2,5,1,6]\n",
    "\n",
    "for i in range(5,0,-2):\n",
    "    for j in range(6):\n",
    "        print(str(a[i])*i)\n",
    "        break\n",
    "for i in range(1,6,2):\n",
    "    print(str(a[i-1])*i)"
   ]
  },
  {
   "cell_type": "code",
   "execution_count": 89,
   "metadata": {},
   "outputs": [
    {
     "name": "stdout",
     "output_type": "stream",
     "text": [
      "66666\n",
      "555\n",
      "4\n",
      "3\n",
      "222\n",
      "11111\n"
     ]
    }
   ],
   "source": [
    "#TRIAL02\n",
    "\n",
    "naljiBreak = True\n",
    "\n",
    "for i in range(6,0,-1):\n",
    "    for j in range(5,0,-2):\n",
    "        print(str(i)*j)\n",
    "        i-=1\n",
    "        if(i==3):\n",
    "            for k in range(3,0,-1):\n",
    "                for u in range(1,6,2):\n",
    "                    print(str(k)*u)\n",
    "                    k-=1\n",
    "                    if(k==0):\n",
    "                        naljiBreak=False\n",
    "                        break\n",
    "                if(naljiBreak==False):\n",
    "                    break\n",
    "            if(naljiBreak==False):\n",
    "                break\n",
    "    if(naljiBreak==False):\n",
    "                break\n"
   ]
  },
  {
   "cell_type": "code",
   "execution_count": 110,
   "metadata": {},
   "outputs": [
    {
     "name": "stdout",
     "output_type": "stream",
     "text": [
      "66666\n",
      "555\n",
      "4\n",
      "3\n",
      "222\n",
      "11111\n"
     ]
    }
   ],
   "source": [
    "#TRIAL03\n",
    "\n",
    "naljiBreak = True\n",
    "for i in range(6, 0, -1):\n",
    "    for j in range(5, -6, -2):\n",
    "        print(str(i) * abs(j))\n",
    "        i-=1\n",
    "        if(i==0):\n",
    "            naljiBreak=False\n",
    "            break\n",
    "    if(naljiBreak==False):\n",
    "        break"
   ]
  }
 ],
 "metadata": {
  "kernelspec": {
   "display_name": "Python 3",
   "language": "python",
   "name": "python3"
  },
  "language_info": {
   "codemirror_mode": {
    "name": "ipython",
    "version": 3
   },
   "file_extension": ".py",
   "mimetype": "text/x-python",
   "name": "python",
   "nbconvert_exporter": "python",
   "pygments_lexer": "ipython3",
   "version": "3.7.0"
  }
 },
 "nbformat": 4,
 "nbformat_minor": 2
}
