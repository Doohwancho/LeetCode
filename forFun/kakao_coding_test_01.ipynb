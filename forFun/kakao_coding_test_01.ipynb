{
 "cells": [
  {
   "cell_type": "markdown",
   "metadata": {},
   "source": [
    "# 문제 3. 비밀번호를 해독하시오!\n",
    "### 희건이와 영선이는 입학을 위해 호그와트로 떠납니다. <br><br>입학하기 위해서는 문제를 풀어야 하는데요.<br><br>입력값과 출력값은 3-1.png, 3-2.png를 참고하세요.<br>\n",
    "> ----------------------------------------------------------------<br>\n",
    "> passwd = password()<br>\n",
    "> passwd.compareList()<br>\n",
    "> *기본값 출력예시*<br>\n",
    "> ['00001', '00001', '00001', '00001', '00001'] 와 ['00001', '00001', '00001', '00001', '00001']<br>\n",
    "> ['　　#', '　　#', '　　#', '　　#', '　　#']<br><br>\n",
    "> passwd = password([31,31,31,31,31])<br>\n",
    "> passwd.compareList()<br>\n",
    "> *다른 출력 예시*<br>\n",
    "> ['11111', '11111', '11111', '11111', '11111'] 와 ['00001', '00001', '00001', '00001', '00001']<br>\n",
    "> ['#####', '#####', \"#####', '#####', '#####']<br>\n",
    "> ----------------------------------------------------------------<br>\n",
    "> 1. 참고 - 이진수 : https://docs.python.org/ko/3.6/library/functions.html?highlight=bin#bin<br>\n",
    "> 2. zfill 함수 사용<br>\n",
    "> 3. 이진수로 변환하였을 때 숫자로만 이루어지도록 한 후 진행을 해야 합니다. 문자와 숫자가 섞여 있으면 안됩니다.\n",
    "> 4. 리스트 안에 값은 0~31까지입니다. 0미만이거나 32이상일 경우를 고려한 코딩이 필요하지만 안해도 실행되지만 오류가 출력됩니다.(예외경우는 고려안해도 됨.)\n",
    "> 5. 생성자 파라미터는 두개의 리스트이어야 하고 리스트 길이는 5로 고정입니다.\n",
    "> 6. 자신만의 코드로 추가하거나 삭제 가능합니다."
   ]
  },
  {
   "cell_type": "markdown",
   "metadata": {},
   "source": [
    "![title](3-1.png \"Title\")"
   ]
  },
  {
   "cell_type": "markdown",
   "metadata": {},
   "source": [
    "![alt text](3-2.png \"Title\")"
   ]
  },
  {
   "cell_type": "code",
   "execution_count": 1,
   "metadata": {},
   "outputs": [
    {
     "name": "stdout",
     "output_type": "stream",
     "text": [
      "[' #  #', '# #  ', '###  ', '#  # ', ' # ##']\n",
      "['#### ', '    #', '# # #', '#   #', '###  ']\n"
     ]
    },
    {
     "data": {
      "text/plain": [
       "[['#', '#', '#', '#', '#'],\n",
       " ['#', ' ', '#', ' ', '#'],\n",
       " ['#', '#', '#', ' ', '#'],\n",
       " ['#', ' ', ' ', '#', '#'],\n",
       " ['#', '#', '#', '#', '#']]"
      ]
     },
     "execution_count": 1,
     "metadata": {},
     "output_type": "execute_result"
    }
   ],
   "source": [
    "\n",
    "a=[]\n",
    "\n",
    "a1=bin(9)[2:].zfill(5).replace(\"1\",\"#\").replace(\"0\",\" \")\n",
    "a2=bin(20)[2:].zfill(5).replace(\"1\",\"#\").replace(\"0\",\" \")\n",
    "a3=bin(28)[2:].zfill(5).replace(\"1\",\"#\").replace(\"0\",\" \")\n",
    "a4=bin(18)[2:].zfill(5).replace(\"1\",\"#\").replace(\"0\",\" \")\n",
    "a5=bin(11)[2:].zfill(5).replace(\"1\",\"#\").replace(\"0\",\" \")\n",
    "\n",
    "a.append(a1)\n",
    "a.append(a2)\n",
    "a.append(a3)\n",
    "a.append(a4)\n",
    "a.append(a5)\n",
    "print(a)\n",
    "\n",
    "b=[]\n",
    "\n",
    "b1=bin(30)[2:].zfill(5).replace(\"1\",\"#\").replace(\"0\",\" \")\n",
    "b2=bin(1)[2:].zfill(5).replace(\"1\",\"#\").replace(\"0\",\" \")\n",
    "b3=bin(21)[2:].zfill(5).replace(\"1\",\"#\").replace(\"0\",\" \")\n",
    "b4=bin(17)[2:].zfill(5).replace(\"1\",\"#\").replace(\"0\",\" \")\n",
    "b5=bin(28)[2:].zfill(5).replace(\"1\",\"#\").replace(\"0\",\" \")\n",
    "\n",
    "b.append(b1)\n",
    "b.append(b2)\n",
    "b.append(b3)\n",
    "b.append(b4)\n",
    "b.append(b5)\n",
    "print(b)\n",
    "\n",
    "c=[]\n",
    "\n",
    "\n",
    "for i in range(len(a)):\n",
    "    for j in range(5):\n",
    "        if(a[i][j]==\"#\" or b[i][j]==\"#\"):\n",
    "            c.append(\"#\")\n",
    "        else:\n",
    "            c.append(\" \")\n",
    "count=len(c)//5\n",
    "newList=[]\n",
    "dlist=[]\n",
    "\n",
    "for i in range(count):\n",
    "    for no in range(5):\n",
    "        dlist.append(c.pop(0))\n",
    "    newList.append(dlist.copy())\n",
    "    dlist.clear()\n",
    "newList\n"
   ]
  }
 ],
 "metadata": {
  "kernelspec": {
   "display_name": "Python 3",
   "language": "python",
   "name": "python3"
  },
  "language_info": {
   "codemirror_mode": {
    "name": "ipython",
    "version": 3
   },
   "file_extension": ".py",
   "mimetype": "text/x-python",
   "name": "python",
   "nbconvert_exporter": "python",
   "pygments_lexer": "ipython3",
   "version": "3.7.0"
  }
 },
 "nbformat": 4,
 "nbformat_minor": 2
}
