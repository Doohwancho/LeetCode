{
 "cells": [
  {
   "cell_type": "markdown",
   "metadata": {},
   "source": [
    "Given a sorted array and a target value, return the index if the target is found. If not, return the index where it would be if it were inserted in order.\n",
    "\n",
    "You may assume no duplicates in the array.\n",
    "\n",
    ">Example 1:<br>\n",
    ">Input: [1,3,5,6], 5<br>\n",
    ">Output: 2<br>\n",
    "\n",
    ">Example 2:<br>\n",
    ">Input: [1,3,5,6], 2<br>\n",
    ">Output: 1<br>\n",
    "\n",
    ">Example 3:<br>\n",
    ">Input: [1,3,5,6], 7<br>\n",
    ">Output: 4<br>\n",
    "\n",
    ">Example 4:<br>\n",
    ">Input: [1,3,5,6], 0<br>\n",
    ">Output: 0<br>"
   ]
  },
  {
   "cell_type": "code",
   "execution_count": 84,
   "metadata": {},
   "outputs": [
    {
     "name": "stdout",
     "output_type": "stream",
     "text": [
      "4\n"
     ]
    }
   ],
   "source": [
    "#SUCCESS\n",
    "\n",
    "nums =  [1,3,5,6]\n",
    "target = 7\n",
    "\n",
    "#nums=[1,3,4,5,10]\n",
    "#target=0\n",
    "\n",
    "\n",
    "#if ''.join([str(element) for element in nums]).find(str(target)) != -1:\n",
    "if nums.count(target) > 0:\n",
    "    print(nums.index(target))\n",
    "else:\n",
    "    if nums[-1] < target:\n",
    "        print(len(nums))\n",
    "    else:\n",
    "        for idx, element in enumerate(nums):  \n",
    "            if element > target:\n",
    "                rst=nums[:idx]+[target]+nums[idx:]\n",
    "                break\n",
    "        print(rst.index(target))"
   ]
  }
 ],
 "metadata": {
  "kernelspec": {
   "display_name": "Python 3",
   "language": "python",
   "name": "python3"
  },
  "language_info": {
   "codemirror_mode": {
    "name": "ipython",
    "version": 3
   },
   "file_extension": ".py",
   "mimetype": "text/x-python",
   "name": "python",
   "nbconvert_exporter": "python",
   "pygments_lexer": "ipython3",
   "version": "3.7.1"
  }
 },
 "nbformat": 4,
 "nbformat_minor": 2
}
