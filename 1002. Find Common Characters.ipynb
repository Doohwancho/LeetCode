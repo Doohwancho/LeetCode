{
 "cells": [
  {
   "cell_type": "markdown",
   "metadata": {},
   "source": [
    "Given an array A of strings made only from lowercase letters, return a list of all characters that show up in all strings within the list (including duplicates).  For example, if a character occurs 3 times in all strings but not 4 times, you need to include that character three times in the final answer.\n",
    "\n",
    "You may return the answer in any order.\n",
    "\n",
    ">Example 1:<br>\n",
    "Input: [\"bella\",\"label\",\"roller\"]<br>\n",
    ">Output: [\"e\",\"l\",\"l\"]<br>\n",
    "\n",
    ">Example 2:<br>\n",
    "Input: [\"cool\",\"lock\",\"cook\"]<br>\n",
    ">Output: [\"c\",\"o\"]<br>"
   ]
  },
  {
   "cell_type": "code",
   "execution_count": 103,
   "metadata": {},
   "outputs": [
    {
     "data": {
      "text/plain": [
       "['c', 'o']"
      ]
     },
     "execution_count": 103,
     "metadata": {},
     "output_type": "execute_result"
    }
   ],
   "source": [
    "#문제\n",
    "\n",
    "#리스트가 주어지면, 각 리스트 안 모든 문자열에 겹치는 알파벳을 반환하라. \n",
    "\n",
    "#예를들어 [\"bella\",\"label\",\"roller\"]라면,\n",
    "#'e'와 'l'과 'l'이 bella, label, roller에 모두 중복되서 나오므로, ['e','l','l']을 반환한다.\n",
    "\n",
    "\n",
    "\n",
    "#문제풀이\n",
    "\n",
    "#주어진 리스트의 첫번째 문자열의 각 알파벳을이 나머지 문자열에 포함되어있는지 확인하면서, \n",
    "#만약 나머지 문자열에 모두 포함되어 있는 경우라면, 나머지 문자열에 해당 알파벳을 지운 후,\n",
    "#해당 알파벳을 rst 리스트에 넣어서 마지막에 rst리스트를 리턴한다.\n",
    "#만약 [\"bella\",\"label\",\"roller\"]처럼 'l'이 두번 rst에 들어갈 일이 있을수도 있으니, rst 리스트에 넣을때, \n",
    "#각 문자열에 해당 알파벳이 몇번 등장하는지 세고, 가장 적게 등장하는 만큼 rst에 넣는다.\n",
    "#예를들어, [\"cool\",\"lock\",\"cook\"]의 경우, 알파벳 'o'는 cool에 두번, lock에 한번, cook에 두번 들어간다.\n",
    "#rst에 들어갈 알파벳은, 3개 모두 중복되는 알파벳만 넣어야 하기 때문에, cool과 cook에 두번 들어갔을지라도 한번만 rst에 넣는다.\n",
    "\n",
    "\n",
    "#step01 - 주어진 리스트의 첫번째 문자열과 나머지 문자열의 해당 알파벳 포함 유무를 비교하기 위해, A[0]와 A[1:]로 나눠준다.\n",
    "#step02 - 해당 알파벳이 나머지 문자열에 포함되어 있는지 comprehension을 써서 확인한다. 만약 모두 포함되어 있다면, [True,True]처럼 나온다.\n",
    "#         이때 파이썬 내장함수인 all()을 써서 한개라도 해당알파벳을 포함하고있지 않다면(e.g [True,False]라면) False를 리턴해 준다.\n",
    "#step03 - step02 조건이 충족되었다면, 각 문자열에 해당 알파벳이 몇번씩 들어가는지 세준 후, \n",
    "#         min()함수를 써 가장 적게 들어가는 만큼 rst에 넣어준다.\n",
    "#step04 - rst에 넣는게 끝났다면, A[1:]에 해당 알파벳을 replace()함수로 없애준다.\n",
    "\n",
    "\n",
    "\n",
    "\n",
    "#A = [\"bella\",\"label\",\"roller\"]\n",
    "A = [\"cool\",\"lock\",\"cook\"]\n",
    "\n",
    "\n",
    "rst = []\n",
    "restList = A[1:]\n",
    "\n",
    "for i in A[0]:\n",
    "    if all([True if i in j else False for j in restList]):\n",
    "        for p in range((min(l.count(i) for l in A))):   \n",
    "            rst.append(i)\n",
    "        for k in range(len(restList)):\n",
    "            restList[k] = restList[k].replace(i, \"\")\n",
    "rst"
   ]
  }
 ],
 "metadata": {
  "kernelspec": {
   "display_name": "Python 3",
   "language": "python",
   "name": "python3"
  },
  "language_info": {
   "codemirror_mode": {
    "name": "ipython",
    "version": 3
   },
   "file_extension": ".py",
   "mimetype": "text/x-python",
   "name": "python",
   "nbconvert_exporter": "python",
   "pygments_lexer": "ipython3",
   "version": "3.7.2"
  }
 },
 "nbformat": 4,
 "nbformat_minor": 2
}
