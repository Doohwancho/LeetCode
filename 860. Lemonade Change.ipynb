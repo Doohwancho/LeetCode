{
 "cells": [
  {
   "cell_type": "markdown",
   "metadata": {},
   "source": [
    "At a lemonade stand, each lemonade costs $5. \n",
    "\n",
    "Customers are standing in a queue to buy from you, and order one at a time (in the order specified by bills).\n",
    "\n",
    "Each customer will only buy one lemonade and pay with either a $5, $10, or $20 bill.  You must provide the correct change to each customer, so that the net transaction is that the customer pays $5.\n",
    "\n",
    "Note that you don't have any change in hand at first.\n",
    "\n",
    "Return true if and only if you can provide every customer with correct change.\n",
    "\n",
    " \n",
    "\n",
    ">Example 1:<br>\n",
    ">Input: [5,5,5,10,20]<br>\n",
    ">Output: true<br>\n",
    ">Explanation:<br>\n",
    ">From the first 3 customers, we collect three $5 bills in order.\n",
    ">From the fourth customer, we collect a $10 bill and give back a $5\n",
    ">From the fifth customer, we give a $10 bill and a $5 bill.\n",
    ">Since all customers got correct change, we output true.\n",
    "\n",
    ">Example 2:<br>\n",
    ">Input: [5,5,10]<br>\n",
    ">Output: true<br>\n",
    "\n",
    ">Example 3:<br>\n",
    ">Input: [10,10]<br>\n",
    ">Output: false<br>\n",
    "\n",
    ">Example 4:<br>\n",
    ">Input: [5,5,10,10,20]<br>\n",
    ">Output: false<br>\n",
    ">Explanation: <br>\n",
    ">From the first two customers in order, we collect two $5 bills.\n",
    "For the next two customers in order, we collect a $10 bill and give back a $5 bill.\n",
    "For the last customer, we can't give change of $15 back because we only have two $10 bills.\n",
    ">Since not every customer received correct change, the answer is false."
   ]
  },
  {
   "cell_type": "code",
   "execution_count": 24,
   "metadata": {},
   "outputs": [
    {
     "data": {
      "text/plain": [
       "True"
      ]
     },
     "execution_count": 24,
     "metadata": {},
     "output_type": "execute_result"
    }
   ],
   "source": [
    "#문제\n",
    "\n",
    "#5달러짜리 레몬에이드를 사는데 5달러/10달러/20달러짜리 수표를 줬을때,\n",
    "#거스름 돈을 줄 수 있다면 True, 한번이라도 거스름 돈을 줄 수 없다면 False를 반환한다.\n",
    "\n",
    "#예를들어, 손님이 bills = [5,5,5,10,20] 5달러/5달러/5달러/10달러/20달러를 내면서 레몬에이드를 샀을 경우\n",
    "#처음 3 손님에게 레몬에이드 가격인 5달러를 받아서 거스름 돈을 줄 필요가 없고,\n",
    "#네번째 손님은 10달러를 냈으니 수중에 있는 5달러를 주면 되고\n",
    "#마지막 손님은 20달러를 냈으니, 숭에 있는 5달러 두개와 10달러 1개중, 10달러 1개와 5달러 한개를 주면\n",
    "#모든 손님이 거스름 돈을 받을 수 있기 때문에, True를 반환한다.\n",
    "\n",
    "\n",
    "def lemonadeChange(bills):\n",
    "    five = ten = 0      #5달러의 갯수와 10달러의 갯수를 0으로 초기화\n",
    "    for num in bills:\n",
    "        if num == 5:    #손님이 5달러를 건내면, 수중 5달러의 갯수 1개 추가\n",
    "            five += 1\n",
    "        elif num == 10 and five:  #손님이 10달러를 건냈고, 수중에 5달러가 있다면, 10달러 1개추가, 5달러 1개 차감\n",
    "            ten += 1\n",
    "            five -= 1\n",
    "        elif num == 20 and five and ten: #손님이 20달러를 건냈는데, 5달러랑 10달러짜리가 있으면 각각 한개씩 차감\n",
    "            five -= 1\n",
    "            ten -= 1\n",
    "        elif num == 20 and five >= 3:  #만약 10달러짜리는 없는데 5달러짜리가 3개 이상 있다면, 5달러 3개 차감\n",
    "            five -= 3\n",
    "        else:\n",
    "            return False     #다른 모든 경우엔 False반환\n",
    "    return True\n",
    "\n",
    "bills = [5,5,5,10,20]\n",
    "lemonadeChange(bills)"
   ]
  }
 ],
 "metadata": {
  "kernelspec": {
   "display_name": "Python 3",
   "language": "python",
   "name": "python3"
  },
  "language_info": {
   "codemirror_mode": {
    "name": "ipython",
    "version": 3
   },
   "file_extension": ".py",
   "mimetype": "text/x-python",
   "name": "python",
   "nbconvert_exporter": "python",
   "pygments_lexer": "ipython3",
   "version": "3.7.2"
  }
 },
 "nbformat": 4,
 "nbformat_minor": 2
}
