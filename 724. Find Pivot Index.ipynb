{
 "cells": [
  {
   "cell_type": "markdown",
   "metadata": {},
   "source": [
    "Given an array of integers nums, write a method that returns the \"pivot\" index of this array.\n",
    "\n",
    "We define the pivot index as the index where the sum of the numbers to the left of the index is equal to the sum of the numbers to the right of the index.\n",
    "\n",
    "If no such index exists, we should return -1. If there are multiple pivot indexes, you should return the left-most pivot index.\n",
    "\n",
    ">Example 1:<br>\n",
    ">Input: <br>\n",
    ">nums = [1, 7, 3, 6, 5, 6]<br>\n",
    ">Output: 3<br>\n",
    ">Explanation: <br>\n",
    ">The sum of the numbers to the left of index 3 (nums[3] = 6) is equal to the sum of numbers to the right of index 3.<br>\n",
    ">Also, 3 is the first index where this occurs.<br>\n",
    "\n",
    ">Example 2:<br>\n",
    ">Input: <br>\n",
    ">nums = [1, 2, 3]<br>\n",
    ">Output: -1<br>\n",
    ">Explanation: <br>\n",
    ">There is no index that satisfies the conditions in the problem statement.<br>"
   ]
  },
  {
   "cell_type": "code",
   "execution_count": 11,
   "metadata": {},
   "outputs": [
    {
     "data": {
      "text/plain": [
       "6"
      ]
     },
     "execution_count": 11,
     "metadata": {},
     "output_type": "execute_result"
    }
   ],
   "source": [
    "nums =  [1, 7, 3, 6, 5, 6]\n",
    "\n",
    "def pivotIndex(nums):\n",
    "    for i in range(len(nums)):\n",
    "        if sum(nums[:i]) == sum(nums[i+1:]) : return(nums[i])\n",
    "    return -1\n",
    "\n",
    "pivotIndex(nums)"
   ]
  }
 ],
 "metadata": {
  "kernelspec": {
   "display_name": "Python 3",
   "language": "python",
   "name": "python3"
  },
  "language_info": {
   "codemirror_mode": {
    "name": "ipython",
    "version": 3
   },
   "file_extension": ".py",
   "mimetype": "text/x-python",
   "name": "python",
   "nbconvert_exporter": "python",
   "pygments_lexer": "ipython3",
   "version": "3.7.0"
  }
 },
 "nbformat": 4,
 "nbformat_minor": 2
}
