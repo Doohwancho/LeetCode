{
 "cells": [
  {
   "cell_type": "markdown",
   "metadata": {},
   "source": [
    "Given an array with n integers, your task is to check if it could become non-decreasing by modifying at most 1 element.\n",
    "\n",
    "We define an array is non-decreasing if array[i] <= array[i + 1] holds for every i (1 <= i < n).\n",
    "\n",
    ">Example 1:<br>\n",
    ">Input: [4,2,3]<br>\n",
    ">Output: True<br>\n",
    ">Explanation: You could modify the first 4 to 1 to get a non-decreasing array.<br>\n",
    "\n",
    ">Example 2:<br>\n",
    ">Input: [4,2,1]<br>\n",
    ">Output: False<br>\n",
    ">Explanation: You can't get a non-decreasing array by modify at most one element.<br>"
   ]
  },
  {
   "cell_type": "code",
   "execution_count": null,
   "metadata": {},
   "outputs": [],
   "source": [
    "#실패..\n",
    "\n",
    "#nums = [3,4,2,3]\n",
    "#nums = [4,2,1]\n",
    "#nums = [4,2,3]\n",
    "#nums = [1]\n",
    "#nums = [1,2,3]\n",
    "#nums = [1,3,2]\n",
    "#nums = [-1,4,2,3] #True /but my ans is false\n",
    "nums = [3,4,2,3]\n",
    "#nums = [1,5,4,6,7,10,10,8,9]\n",
    "#nums = [3,3,2,2]\n",
    "#nums = [2,1,1,1,1]\n",
    "#nums = [3,2,3,2,4]\n",
    "\n",
    "\n",
    "copied = nums.copy()\n",
    "cnt=0\n",
    "idx=1\n",
    "\n",
    "if len(nums) <= 1:\n",
    "    print(False)\n",
    "elif nums == sorted(nums):\n",
    "    print(True)\n",
    "else:        \n",
    "    while idx < len(nums) and cnt < 2 and len(list(dict.fromkeys(nums)))>1:\n",
    "        if nums[idx-1] >= nums[idx]:\n",
    "            cnt+=1\n",
    "            #delete but closest to idx-2\n",
    "            nums.pop(nums[:idx+1].index(max([element for element in nums[idx-1:idx+1] if nums[idx-2] < element])))\n",
    "            continue\n",
    "        idx+=1\n",
    "    if cnt >= 2:\n",
    "        if(copied[1:] == sorted(copied[1:])):\n",
    "            print(True)\n",
    "        else:\n",
    "            print(False)\n",
    "    else:\n",
    "        print(True)"
   ]
  },
  {
   "cell_type": "code",
   "execution_count": 58,
   "metadata": {},
   "outputs": [
    {
     "name": "stdout",
     "output_type": "stream",
     "text": [
      "False\n",
      "False\n"
     ]
    }
   ],
   "source": [
    "#SOLUTION\n",
    "\n",
    "'''\n",
    "count is the budget, we could use up to 1.\n",
    "append a smallest integer to the beginning of the list ( -sys.maxsize-1 is used here, but 0 can pass the test case as well ), save all the hassle related to the first index.\n",
    "nums[i] > nums[i+1] and nums[i+1] >= nums[i-1] handles cases like [...4,6,5..] --> [...4,5,5...]\n",
    "elif nums[i] > nums[i+1] and nums[i+1] < nums[i-1] handles cases like [...4,6,3...] --> [...4,6,6...]\n",
    "'''\n",
    "nums = [0, 1,5,4,6,7,10,10,8,9]\n",
    "\n",
    "count = 1\n",
    "#nums.insert(0,-sys.maxsize-1)\n",
    "for i in range(1,len(nums)-1):\n",
    "    if count < 0: print(False)\n",
    "    if nums[i] > nums[i+1] and nums[i+1] >= nums[i-1]:\n",
    "        nums[i] = nums[i+1]\n",
    "        count -= 1\n",
    "    elif nums[i] > nums[i+1] and nums[i+1] < nums[i-1]:\n",
    "        nums[i+1] = nums[i]\n",
    "        count -= 1\n",
    "print(count >= 0)"
   ]
  }
 ],
 "metadata": {
  "kernelspec": {
   "display_name": "Python 3",
   "language": "python",
   "name": "python3"
  },
  "language_info": {
   "codemirror_mode": {
    "name": "ipython",
    "version": 3
   },
   "file_extension": ".py",
   "mimetype": "text/x-python",
   "name": "python",
   "nbconvert_exporter": "python",
   "pygments_lexer": "ipython3",
   "version": "3.7.1"
  }
 },
 "nbformat": 4,
 "nbformat_minor": 2
}
