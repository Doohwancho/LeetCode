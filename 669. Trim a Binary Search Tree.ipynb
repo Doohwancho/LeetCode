{
 "cells": [
  {
   "cell_type": "markdown",
   "metadata": {},
   "source": [
    "Given a binary search tree and the lowest and highest boundaries as L and R, trim the tree so that all its elements lies in [L, R] (R >= L). You might need to change the root of the tree, so the result should return the new root of the trimmed binary search tree."
   ]
  },
  {
   "cell_type": "code",
   "execution_count": 8,
   "metadata": {},
   "outputs": [],
   "source": [
    "\"\"\"\n",
    "Example 1:\n",
    "Input: \n",
    "    1\n",
    "   / \\\n",
    "  0   2\n",
    "\n",
    "  L = 1\n",
    "  R = 2\n",
    "\n",
    "Output: \n",
    "    1\n",
    "      \\\n",
    "       2\n",
    "Example 2:\n",
    "Input: \n",
    "    3\n",
    "   / \\\n",
    "  0   4\n",
    "   \\\n",
    "    2\n",
    "   /\n",
    "  1\n",
    "\n",
    "  L = 1\n",
    "  R = 3\n",
    "\n",
    "Output: \n",
    "      3\n",
    "     / \n",
    "   2   \n",
    "  /\n",
    " 1\n",
    "\"\"\"\n",
    "\n",
    "#문제\n",
    "\n",
    "#root라는 트리와 L,R값이 주어진다. 트리안에 있는 값 중에서 L보다는 크고 R보다는 작은 숫자를 제외한 다른 값을 가진 node를 지우면 된다. example을 참조하면 이해가 편하다.\n",
    "\n",
    " \n",
    "\n",
    "#문제풀이\n",
    "\n",
    "#만약 노드의 값이 R보다 크면 오른쪽 child를 버려야 하니, root.left로 재귀돌리고, L보다 작으면 왼쪽 child를 버려야 하니 root.right로 재귀돌린다. 만약 해당값이 L보다 크고 R보다 작으면(정상범위안에 들어온다면) root.left에 root.left, root.right에 root.right을 물리되, 재귀형식으로 물린다.\n",
    "\n",
    " \n",
    "\n",
    "# Definition for a binary tree node. \n",
    "class TreeNode: \n",
    "    def __init__(self, x): \n",
    "        self.val = x \n",
    "        self.left = None \n",
    "        self.right = None \n",
    "\n",
    "class Solution: \n",
    "    def trimBST(self, root: TreeNode, L: int, R: int) -> TreeNode: \n",
    "        def dfs(root): \n",
    "            if not root: return \n",
    "            if root.val > R: \n",
    "                return dfs(root.left) \n",
    "            elif root.val < L: \n",
    "                return dfs(root.right) \n",
    "            else: \n",
    "                root.left = dfs(root.left) \n",
    "                root.right = dfs(root.right) \n",
    "                return root \n",
    "             \n",
    "        return dfs(root)"
   ]
  }
 ],
 "metadata": {
  "kernelspec": {
   "display_name": "Python 3",
   "language": "python",
   "name": "python3"
  },
  "language_info": {
   "codemirror_mode": {
    "name": "ipython",
    "version": 3
   },
   "file_extension": ".py",
   "mimetype": "text/x-python",
   "name": "python",
   "nbconvert_exporter": "python",
   "pygments_lexer": "ipython3",
   "version": "3.7.2"
  }
 },
 "nbformat": 4,
 "nbformat_minor": 2
}
