{
 "cells": [
  {
   "cell_type": "markdown",
   "metadata": {},
   "source": [
    "Given a paragraph and a list of banned words, return the most frequent word that is not in the list of banned words.  It is guaranteed there is at least one word that isn't banned, and that the answer is unique.\n",
    "\n",
    "Words in the list of banned words are given in lowercase, and free of punctuation.  Words in the paragraph are not case sensitive.  The answer is in lowercase.\n",
    "\n",
    ">**Input:** <br>\n",
    ">paragraph = \"Bob hit a ball, the hit BALL flew far after it was hit.\"<br>\n",
    ">banned = [\"hit\"]<br>\n",
    ">**Output: \"ball\"**<br>\n",
    ">**Explanation:** <br>\n",
    ">\"hit\" occurs 3 times, but it is a banned word.<br>\n",
    ">\"ball\" occurs twice (and no other word does), so it is the most frequent non-banned word in the paragraph. <br>\n",
    ">Note that words in the paragraph are not case sensitive,<br>\n",
    ">that punctuation is ignored (even if adjacent to words, such as \"ball,\"), <br>\n",
    ">and that \"hit\" isn't the answer even though it occurs more because it is banned.<br>"
   ]
  },
  {
   "cell_type": "code",
   "execution_count": 60,
   "metadata": {},
   "outputs": [
    {
     "name": "stdout",
     "output_type": "stream",
     "text": [
      "Collecting counter\n",
      "  Using cached https://files.pythonhosted.org/packages/7d/b0/23d19892f8d91ec9c5b8a2035659bce23587fed419d68fa3d70b6abf8bcd/Counter-1.0.0.tar.gz\n",
      "    Complete output from command python setup.py egg_info:\n",
      "    Traceback (most recent call last):\n",
      "      File \"<string>\", line 1, in <module>\n",
      "      File \"C:\\Users\\Playdata\\AppData\\Local\\Temp\\pip-install-07eavpie\\counter\\setup.py\", line 32, in <module>\n",
      "        long_description=getLongDescription(),\n",
      "      File \"C:\\Users\\Playdata\\AppData\\Local\\Temp\\pip-install-07eavpie\\counter\\setup.py\", line 13, in getLongDescription\n",
      "        for line in file:\n",
      "    UnicodeDecodeError: 'cp949' codec can't decode byte 0xe2 in position 2095: illegal multibyte sequence\n",
      "    \n",
      "    ----------------------------------------\n"
     ]
    },
    {
     "name": "stderr",
     "output_type": "stream",
     "text": [
      "Command \"python setup.py egg_info\" failed with error code 1 in C:\\Users\\Playdata\\AppData\\Local\\Temp\\pip-install-07eavpie\\counter\\\n"
     ]
    }
   ],
   "source": [
    "!pip install counter"
   ]
  },
  {
   "cell_type": "code",
   "execution_count": 115,
   "metadata": {},
   "outputs": [
    {
     "name": "stdout",
     "output_type": "stream",
     "text": [
      "b\n"
     ]
    }
   ],
   "source": [
    "# SUCCESS\n",
    "\n",
    "from collections import Counter \n",
    "\n",
    "#paragraph = \"Bob hit a ball, the hit BALL flew far after it was hit.\"\n",
    "#banned = [\"bob\", \"hit\"]\n",
    "paragraph =\"a, a, a, a, b,b,b,c, c\"\n",
    "banned = [\"a\"]\n",
    "a=paragraph.replace(\",\", \" \").replace(\".\", \" \").replace(\"!\", \" \").replace(\";\", \" \").replace('\"', \" \").replace(\"'\", \" \").replace(\"?\", \" \").lower().split(' ')\n",
    "b=paragraph.replace(\",\", \" \").replace(\".\", \" \").replace(\"!\", \" \").replace(\";\", \" \").replace('\"', \" \").replace(\"'\", \" \").replace(\"?\", \" \").lower()\n",
    "\n",
    "for i in range(len(banned)):\n",
    "    if(''.join(banned[i]) in sorted(a) and len(banned)>0):\n",
    "        b=b.replace(''.join(banned[i]),'')\n",
    "cnt=Counter(sorted(b.split()))\n",
    "print(cnt.most_common()[0][0])\n",
    "        "
   ]
  }
 ],
 "metadata": {
  "kernelspec": {
   "display_name": "Python 3",
   "language": "python",
   "name": "python3"
  },
  "language_info": {
   "codemirror_mode": {
    "name": "ipython",
    "version": 3
   },
   "file_extension": ".py",
   "mimetype": "text/x-python",
   "name": "python",
   "nbconvert_exporter": "python",
   "pygments_lexer": "ipython3",
   "version": "3.7.0"
  }
 },
 "nbformat": 4,
 "nbformat_minor": 2
}
