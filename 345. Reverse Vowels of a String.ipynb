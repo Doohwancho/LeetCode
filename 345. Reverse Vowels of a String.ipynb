{
 "cells": [
  {
   "cell_type": "markdown",
   "metadata": {},
   "source": [
    "Write a function that takes a string as input and reverse only the vowels of a string.\n",
    "\n",
    ">Example 1:<br>\n",
    ">Input: \"hello\"<br>\n",
    ">Output: \"holle\"<br>\n",
    "\n",
    ">Example 2:<br>\n",
    ">Input: \"leetcode\"<br>\n",
    ">Output: \"leotcede\"<br>"
   ]
  },
  {
   "cell_type": "code",
   "execution_count": 222,
   "metadata": {},
   "outputs": [
    {
     "data": {
      "text/plain": [
       "'holle'"
      ]
     },
     "execution_count": 222,
     "metadata": {},
     "output_type": "execute_result"
    }
   ],
   "source": [
    "#SUCESS\n",
    "#test=\"aA\" 에서 막히는데, 문제에서보면 vowel만 뒤집으라고 나옴. a가 하나일때 뒤집어도 제자리 이므로 문제가 좀 이상함\n",
    "\n",
    "\n",
    "test= \"hello\"\n",
    "#test=\"leetcode\"\n",
    "\n",
    "test1=list(test)\n",
    "lstdata = list(range(len(test1)))\n",
    "vowels=['a','e','i','o','u']\n",
    "Index=[]\n",
    "reverseIndex=[]\n",
    "rst=[]\n",
    "\n",
    "a={i:j for i,j in zip(lstdata, test1)} # 딕셔너리에 key:value 형태로 저장  //  zip을 이용하여 for문에서 i, j동시 사용\n",
    "\n",
    "for i, j in zip(lstdata, test1): #Index에서 vowel만 빼서 구분\n",
    "    if(a[i] in vowels):\n",
    "        reverseIndex.append(i)\n",
    "        Index.append(\" \")\n",
    "    else:\n",
    "        Index.append(i)\n",
    "\n",
    "for i in range(len(Index)): #뺀 vowel을 pop으로 다시 append\n",
    "    if(Index[i]==' '):\n",
    "        Index[i]=reverseIndex.pop()\n",
    "for i in Index:\n",
    "    rst.append(a[i])\n",
    "\"\".join(rst)                #list를 string으로 변환"
   ]
  }
 ],
 "metadata": {
  "kernelspec": {
   "display_name": "Python 3",
   "language": "python",
   "name": "python3"
  },
  "language_info": {
   "codemirror_mode": {
    "name": "ipython",
    "version": 3
   },
   "file_extension": ".py",
   "mimetype": "text/x-python",
   "name": "python",
   "nbconvert_exporter": "python",
   "pygments_lexer": "ipython3",
   "version": "3.7.0"
  }
 },
 "nbformat": 4,
 "nbformat_minor": 2
}
