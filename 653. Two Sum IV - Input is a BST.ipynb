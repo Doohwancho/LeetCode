{
 "cells": [
  {
   "cell_type": "code",
   "execution_count": 3,
   "metadata": {},
   "outputs": [
    {
     "data": {
      "text/plain": [
       "'\\nGiven a Binary Search Tree and a target number, return true if there exist two elements in the BST such that their sum is equal to the given target.\\n\\nExample 1:\\n\\nInput: \\n    5\\n   /   3   6\\n / \\\\   2   4   7\\n\\nTarget = 9\\n\\nOutput: True\\n \\n\\nExample 2:\\n\\nInput: \\n    5\\n   /   3   6\\n / \\\\   2   4   7\\n\\nTarget = 28\\n\\nOutput: False\\n'"
      ]
     },
     "execution_count": 3,
     "metadata": {},
     "output_type": "execute_result"
    }
   ],
   "source": [
    "\"\"\"\n",
    "Given a Binary Search Tree and a target number, return true if there exist two elements in the BST such that their sum is equal to the given target.\n",
    "\n",
    "Example 1:\n",
    "\n",
    "Input: \n",
    "    5\n",
    "   / \\\n",
    "  3   6\n",
    " / \\   \\\n",
    "2   4   7\n",
    "\n",
    "Target = 9\n",
    "\n",
    "Output: True\n",
    " \n",
    "\n",
    "Example 2:\n",
    "\n",
    "Input: \n",
    "    5\n",
    "   / \\\n",
    "  3   6\n",
    " / \\   \\\n",
    "2   4   7\n",
    "\n",
    "Target = 28\n",
    "\n",
    "Output: False\n",
    "\"\"\"\n",
    "\n",
    "문제\n",
    "숫자 k가 주어지면, tree에 노드값들중 두개를 더해서 k를 구할 수 있다면 True, 아니면 False를 반환하라.\n",
    "\n",
    "문제풀이(by lee215)\n",
    "효율적인 코드를 위해 트리순환과 k값 연산을 동시에 한다.\n",
    "bfs방식으로 트리를 순환하면서 각 노드의 값들을 prev라는 set에 담는다. \n",
    "k - 해당 노드의 값이 prev set에 있다면, 두개의 값을 더해서 k를 구할 수 있다는 말이므로, True를 반환한다.\n",
    "\n",
    "\n",
    "\n",
    "# Definition for a binary tree node.\n",
    "# class TreeNode:\n",
    "#     def __init__(self, x):\n",
    "#         self.val = x\n",
    "#         self.left = None\n",
    "#         self.right = None\n",
    "\n",
    "class Solution:\n",
    "    def findTarget(self, root: TreeNode, k: int) -> bool:\n",
    "        if not root: return False\n",
    "        q, prev = [root], set() #중복을 방지하기 위해 set()을 쓴다.\n",
    "        for i in q: #q에 처음에는 root 하나만 들어가지만, 이후에는 left/right child가 들어가므로 for문을 쓴다.\n",
    "            if k - i.val in prev: return True #만약 k - 해당 노드의 값이 이전에 집어넣은 prev에 있다면 True를 반환한다.\n",
    "            prev.add(i.val) #트리를 순회하면서 해당 값들을 prev에 넣어준다.\n",
    "            if i.left: q.append(i.left) #left child가 있으면 left child를 q에 넣는다.\n",
    "            if i.right: q.append(i.right) #right child가 있으면 right child를 q에 넣는다.\n",
    "        return False\n"
   ]
  }
 ],
 "metadata": {
  "kernelspec": {
   "display_name": "Python 3",
   "language": "python",
   "name": "python3"
  },
  "language_info": {
   "codemirror_mode": {
    "name": "ipython",
    "version": 3
   },
   "file_extension": ".py",
   "mimetype": "text/x-python",
   "name": "python",
   "nbconvert_exporter": "python",
   "pygments_lexer": "ipython3",
   "version": "3.7.2"
  }
 },
 "nbformat": 4,
 "nbformat_minor": 2
}
