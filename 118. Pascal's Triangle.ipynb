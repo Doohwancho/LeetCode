{
 "cells": [
  {
   "cell_type": "markdown",
   "metadata": {},
   "source": [
    "Given a non-negative integer numRows, generate the first numRows of Pascal's triangle.\n",
    "\n",
    ">Example:<br>\n",
    ">Input: 5<br>\n",
    ">Output:<br>\n",
    ">[<br>\n",
    ">     [1],<br>\n",
    ">    [1,1],<br>\n",
    ">   [1,2,1],<br>\n",
    ">  [1,3,3,1],<br>\n",
    "> [1,4,6,4,1]<br>\n",
    ">]<br>"
   ]
  },
  {
   "cell_type": "code",
   "execution_count": 29,
   "metadata": {},
   "outputs": [
    {
     "name": "stdout",
     "output_type": "stream",
     "text": [
      "[[1], [1, 1], [1, 2, 1], [1, 3, 3, 1], [1, 4, 6, 4, 1]]\n"
     ]
    }
   ],
   "source": [
    "a=[[1]]\n",
    "numRows=5\n",
    "empty=[]\n",
    "\n",
    "def pascal(a):\n",
    "    rst=[]\n",
    "    for i in range(len(a)):\n",
    "        if i == 0:\n",
    "            rst.append(1)\n",
    "            continue\n",
    "        rst.append(a[i]+a[i-1])\n",
    "    rst.append(1)\n",
    "    return rst\n",
    "\n",
    "for i in range(numRows-1):\n",
    "    a.append(pascal(a[i]))\n",
    "\n",
    "if numRows==0: print(empty)\n",
    "print(a)"
   ]
  },
  {
   "cell_type": "code",
   "execution_count": 8,
   "metadata": {},
   "outputs": [
    {
     "data": {
      "text/plain": [
       "[1, 2, 3, 3, 1]"
      ]
     },
     "execution_count": 8,
     "metadata": {},
     "output_type": "execute_result"
    }
   ],
   "source": [
    "# pass 와 continue의 차이**\n",
    "\n",
    "#pass는 if안에 이하코드 생략\n",
    "a=[1,2,1]\n",
    "\n",
    "rst=[]\n",
    "for i in range(len(a)):\n",
    "    if i == 0:\n",
    "        rst.append(1)\n",
    "        pass\n",
    "    rst.append(a[i]+a[i-1])\n",
    "rst.append(1)\n",
    "rst"
   ]
  },
  {
   "cell_type": "code",
   "execution_count": 9,
   "metadata": {},
   "outputs": [
    {
     "data": {
      "text/plain": [
       "[1, 3, 3, 1]"
      ]
     },
     "execution_count": 9,
     "metadata": {},
     "output_type": "execute_result"
    }
   ],
   "source": [
    "#continue는 for문안 전체 생략하고 다음코드 실행\n",
    "a=[1,2,1]\n",
    "\n",
    "rst=[]\n",
    "for i in range(len(a)):\n",
    "    if i == 0:\n",
    "        rst.append(1)\n",
    "        continue\n",
    "    rst.append(a[i]+a[i-1])\n",
    "rst.append(1)\n",
    "rst"
   ]
  }
 ],
 "metadata": {
  "kernelspec": {
   "display_name": "Python 3",
   "language": "python",
   "name": "python3"
  },
  "language_info": {
   "codemirror_mode": {
    "name": "ipython",
    "version": 3
   },
   "file_extension": ".py",
   "mimetype": "text/x-python",
   "name": "python",
   "nbconvert_exporter": "python",
   "pygments_lexer": "ipython3",
   "version": "3.7.1"
  }
 },
 "nbformat": 4,
 "nbformat_minor": 2
}
