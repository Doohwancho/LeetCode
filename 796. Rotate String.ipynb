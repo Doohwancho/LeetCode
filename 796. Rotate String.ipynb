{
 "cells": [
  {
   "cell_type": "markdown",
   "metadata": {},
   "source": [
    "We are given two strings, A and B.\n",
    "\n",
    "A shift on A consists of taking string A and moving the leftmost character to the rightmost position. For example, if A = 'abcde', then it will be 'bcdea' after one shift on A. Return True if and only if A can become B after some number of shifts on A.\n",
    "\n",
    ">Example 1:<br>\n",
    ">Input: A = 'abcde', B = 'cdeab'<br>\n",
    ">Output: true<br>\n",
    "\n",
    ">Example 2:<br>\n",
    ">Input: A = 'abcde', B = 'abced'<br>\n",
    ">Output: false<br>"
   ]
  },
  {
   "cell_type": "code",
   "execution_count": 108,
   "metadata": {},
   "outputs": [
    {
     "name": "stdout",
     "output_type": "stream",
     "text": [
      "True\n"
     ]
    }
   ],
   "source": [
    "A = 'abcde'\n",
    "B = 'deabc'\n",
    "\n",
    "a=list(A)\n",
    "for i in range(len(A)):\n",
    "    a.insert(len(a),a[0])\n",
    "    a.pop(0)\n",
    "    if(a==list(B)):\n",
    "        print(True)\n",
    "        break\n",
    "    if(i==len(A)-1):\n",
    "        print(False)"
   ]
  }
 ],
 "metadata": {
  "kernelspec": {
   "display_name": "Python 3",
   "language": "python",
   "name": "python3"
  },
  "language_info": {
   "codemirror_mode": {
    "name": "ipython",
    "version": 3
   },
   "file_extension": ".py",
   "mimetype": "text/x-python",
   "name": "python",
   "nbconvert_exporter": "python",
   "pygments_lexer": "ipython3",
   "version": "3.7.0"
  }
 },
 "nbformat": 4,
 "nbformat_minor": 2
}
