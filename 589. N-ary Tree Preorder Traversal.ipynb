{
 "cells": [
  {
   "cell_type": "code",
   "execution_count": null,
   "metadata": {},
   "outputs": [],
   "source": [
    "#Given an n-ary tree, return the preorder traversal of its nodes' values.\n",
    "\n",
    "\"\"\"\n",
    "# Definition for a Node.\n",
    "class Node:\n",
    "    def __init__(self, val, children):\n",
    "        self.val = val\n",
    "        self.children = children\n",
    "\"\"\"\n",
    "class Solution:\n",
    "    def preorder(self, root: 'Node') -> List[int]:\n",
    "        if root == None: return [] #해당 노드의 루트의 값이 없다면, 반환\n",
    "        rst = []\n",
    "        rst.append(root.val)\n",
    "        for s in root.children:     #left,right로 갈라져 있지 않으니까, children에 for문돌려서 left,right 자식들을 거침\n",
    "            rst += self.preorder(s) #각각의 child의 값을 rst에 append. 방법은 재귀.\n",
    "        return rst"
   ]
  }
 ],
 "metadata": {
  "kernelspec": {
   "display_name": "Python 3",
   "language": "python",
   "name": "python3"
  },
  "language_info": {
   "codemirror_mode": {
    "name": "ipython",
    "version": 3
   },
   "file_extension": ".py",
   "mimetype": "text/x-python",
   "name": "python",
   "nbconvert_exporter": "python",
   "pygments_lexer": "ipython3",
   "version": "3.7.2"
  }
 },
 "nbformat": 4,
 "nbformat_minor": 2
}
