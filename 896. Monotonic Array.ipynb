{
 "cells": [
  {
   "cell_type": "markdown",
   "metadata": {},
   "source": [
    "An array is monotonic if it is either monotone increasing or monotone decreasing.\n",
    "\n",
    "An array A is monotone increasing if for all i <= j, A[i] <= A[j].  An array A is monotone decreasing if for all i <= j, A[i] >= A[j].\n",
    "\n",
    "Return true if and only if the given array A is monotonic.\n",
    "\n",
    " \n",
    "\n",
    ">Example 1:<br>\n",
    ">Input: [1,2,2,3]<br>\n",
    ">Output: true<br>\n",
    "\n",
    ">Example 2:<br>\n",
    ">Input: [6,5,4,4]<br>\n",
    ">Output: true<br>\n",
    "\n",
    ">Example 3:<br>\n",
    ">Input: [1,3,2]<br>\n",
    ">Output: false<br>\n",
    "\n",
    ">Example 4:<br>\n",
    ">Input: [1,2,4,5]<br>\n",
    ">Output: true<br>\n",
    "\n",
    ">Example 5:<br>\n",
    ">Input: [1,1,1]<br>\n",
    ">Output: true<br>"
   ]
  },
  {
   "cell_type": "code",
   "execution_count": 22,
   "metadata": {},
   "outputs": [
    {
     "data": {
      "text/plain": [
       "True"
      ]
     },
     "execution_count": 22,
     "metadata": {},
     "output_type": "execute_result"
    }
   ],
   "source": [
    "#Solution\n",
    "#all()함수는 안의 있는 값이 모두 True일때만 True 반환\n",
    "\n",
    "def Question(A):\n",
    "    return all(n1 >= n2 for n1, n2 in zip(A, A[1:])) or all(n1 <= n2 for n1, n2 in zip(A, A[1:]))\n",
    "\n",
    "A=[6,5,4,4]\n",
    "\n",
    "Question(A)"
   ]
  },
  {
   "cell_type": "code",
   "execution_count": 20,
   "metadata": {},
   "outputs": [
    {
     "name": "stdout",
     "output_type": "stream",
     "text": [
      "5\n",
      "4\n",
      "4\n",
      "False\n"
     ]
    }
   ],
   "source": [
    "#yet\n",
    "#i와 i+1이 같은 값이 나올 경우, elif에서 걸림...\n",
    "\n",
    "#A=[1,2,2,3]\n",
    "A=[6,5,4,4]\n",
    "\n",
    "inc=0\n",
    "dec=0\n",
    "for i in range(len(A)):\n",
    "    if(i==0):\n",
    "        pass\n",
    "    elif(A[i]>=A[i-1]):\n",
    "        #print(A[i])\n",
    "        inc+=1\n",
    "        if(inc == len(A)-1):\n",
    "            print(True)\n",
    "            break\n",
    "    elif(A[i]<=A[i-1]):\n",
    "        #print(A[i])\n",
    "        dec+=1\n",
    "        if(dec == len(A)-1):\n",
    "            print(True)\n",
    "            break\n",
    "print(False)"
   ]
  }
 ],
 "metadata": {
  "kernelspec": {
   "display_name": "Python 3",
   "language": "python",
   "name": "python3"
  },
  "language_info": {
   "codemirror_mode": {
    "name": "ipython",
    "version": 3
   },
   "file_extension": ".py",
   "mimetype": "text/x-python",
   "name": "python",
   "nbconvert_exporter": "python",
   "pygments_lexer": "ipython3",
   "version": "3.7.1"
  }
 },
 "nbformat": 4,
 "nbformat_minor": 2
}
