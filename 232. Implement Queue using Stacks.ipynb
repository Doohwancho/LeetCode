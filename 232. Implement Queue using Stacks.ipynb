{
 "cells": [
  {
   "cell_type": "markdown",
   "metadata": {},
   "source": [
    "Implement the following operations of a queue using stacks.\n",
    "\n",
    "push(x) -- Push element x to the back of queue.<br>\n",
    "pop() -- Removes the element from in front of queue.<br>\n",
    "peek() -- Get the front element.<br>\n",
    "empty() -- Return whether the queue is empty.<br>\n",
    "\n",
    ">Example:<br>\n",
    "<br>\n",
    "MyQueue queue = new MyQueue();<br>\n",
    "<br>\n",
    "queue.push(1);<br>\n",
    "queue.push(2);  <br>\n",
    "queue.peek();  // returns 1<br>\n",
    "queue.pop();   // returns 1<br>\n",
    ">queue.empty(); // returns false<br>"
   ]
  },
  {
   "cell_type": "code",
   "execution_count": 21,
   "metadata": {},
   "outputs": [],
   "source": [
    "#문제\n",
    "\n",
    "#queue class에서 push/pop/peek/empty함수를 직접 만들어 보시오.\n",
    "#테스트 코드는 아래와 같음.\n",
    "\n",
    "# queue = MyQueue()\n",
    "\n",
    "# queue.push(1)\n",
    "# queue.push(2)\n",
    "# queue.peek()\n",
    "# queue.pop() \n",
    "# queue.empty()\n",
    "\n",
    "#문제에서 주어진 Queue 클래스\n",
    "\n",
    "class MyQueue:\n",
    "\n",
    "    def __init__(self):\n",
    "        \"\"\"\n",
    "        Initialize your data structure here.\n",
    "        \"\"\"\n",
    "        \n",
    "\n",
    "    def push(self, x: int) -> None:\n",
    "        \"\"\"\n",
    "        Push element x to the back of queue.\n",
    "        \"\"\"\n",
    "        \n",
    "\n",
    "    def pop(self) -> int:\n",
    "        \"\"\"\n",
    "        Removes the element from in front of queue and returns that element.\n",
    "        \"\"\"\n",
    "        \n",
    "        \n",
    "\n",
    "    def peek(self) -> int:\n",
    "        \"\"\"\n",
    "        Get the front element.\n",
    "        \"\"\"\n",
    "        \n",
    "\n",
    "    def empty(self) -> bool:\n",
    "        \"\"\"\n",
    "        Returns whether the queue is empty.\n",
    "        \"\"\""
   ]
  },
  {
   "cell_type": "code",
   "execution_count": 22,
   "metadata": {},
   "outputs": [
    {
     "data": {
      "text/plain": [
       "False"
      ]
     },
     "execution_count": 22,
     "metadata": {},
     "output_type": "execute_result"
    }
   ],
   "source": [
    "#문제 풀이\n",
    "\n",
    "\n",
    "class MyQueue:\n",
    "\n",
    "    def __init__(self):\n",
    "        \"\"\"\n",
    "        Initialize your data structure here.\n",
    "        \"\"\"\n",
    "        self.queueList = []                #queue를 담을 리스트 생성. 다른 함수에서도 쓰니 self를 붙임.\n",
    "        \n",
    "\n",
    "    def push(self, x: int) -> None:\n",
    "        \"\"\"\n",
    "        Push element x to the back of queue.\n",
    "        \"\"\"\n",
    "        return self.queueList.append(x)    #push는 queue 맨 뒤에 element하나 추가하는 것. 고로 append() 사용.\n",
    "        \n",
    "\n",
    "    def pop(self) -> int:\n",
    "        \"\"\"\n",
    "        Removes the element from in front of queue and returns that element.\n",
    "        \"\"\"\n",
    "        return self.queueList.pop(0)        #queue의 가장 앞의 element를 없애는 pop()을 이용\n",
    "        \n",
    "        \n",
    "\n",
    "    def peek(self) -> int:\n",
    "        \"\"\"\n",
    "        Get the front element.\n",
    "        \"\"\"\n",
    "        return self.queueList[0]            #queue의 가장 앞의 element를 보여주는 list[0]이용\n",
    "        \n",
    "\n",
    "    def empty(self) -> bool:\n",
    "        \"\"\"\n",
    "        Returns whether the queue is empty.\n",
    "        \"\"\"\n",
    "        return False if self.queueList else True  #파이썬 특유의 간결한 if-else문을 사용하여, \n",
    "                                                   #self.queueList안 내용물이 없으면 True를 반환하고, 있다면 False반환\n",
    "                \n",
    "    \n",
    "queue = MyQueue()\n",
    "\n",
    "queue.push(1)\n",
    "queue.push(2)\n",
    "queue.peek()\n",
    "queue.pop() \n",
    "queue.empty()"
   ]
  }
 ],
 "metadata": {
  "kernelspec": {
   "display_name": "Python 3",
   "language": "python",
   "name": "python3"
  },
  "language_info": {
   "codemirror_mode": {
    "name": "ipython",
    "version": 3
   },
   "file_extension": ".py",
   "mimetype": "text/x-python",
   "name": "python",
   "nbconvert_exporter": "python",
   "pygments_lexer": "ipython3",
   "version": "3.7.2"
  }
 },
 "nbformat": 4,
 "nbformat_minor": 2
}
