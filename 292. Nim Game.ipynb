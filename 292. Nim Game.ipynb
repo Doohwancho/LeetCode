{
 "cells": [
  {
   "cell_type": "markdown",
   "metadata": {},
   "source": [
    "You are playing the following Nim Game with your friend: There is a heap of stones on the table, each time one of you take turns to remove 1 to 3 stones. The one who removes the last stone will be the winner. You will take the first turn to remove the stones.\n",
    "\n",
    "Both of you are very clever and have optimal strategies for the game. Write a function to determine whether you can win the game given the number of stones in the heap.\n",
    "\n",
    ">Example:<br>\n",
    ">Input: 4<br>\n",
    ">Output: false <br>\n",
    ">Explanation: If there are 4 stones in the heap, then you will never win the game;<br>\n",
    ">             No matter 1, 2, or 3 stones you remove, the last stone will always be <br>\n",
    ">             removed by your friend.<br>"
   ]
  },
  {
   "cell_type": "code",
   "execution_count": 2,
   "metadata": {},
   "outputs": [
    {
     "data": {
      "text/plain": [
       "True"
      ]
     },
     "execution_count": 2,
     "metadata": {},
     "output_type": "execute_result"
    }
   ],
   "source": [
    "#문제\n",
    "\n",
    "#베스킨라빈스 31과 비슷한 게임이다.\n",
    "#친구와 두명이서 게임을 하는데, 1부터 3까지 숫자를 올릴 수 있다.\n",
    "#지정한 n의 숫자를 부르는 사람이 이긴다.\n",
    "#단, 항상 내가 먼저 시작하고, 나와 친구가 내는 숫자는 최적화된 숫자만 낸다고 가정한다.\n",
    "\n",
    "\n",
    "#문제 풀이\n",
    "\n",
    "#패턴을 찾아본다.n이 늘어날 때마다, 무조건 지는 숫자가 있는지 찾아본다.\n",
    "\n",
    "#9 win\n",
    "#8 lose\n",
    "#7 win\n",
    "#6 win\n",
    "#5 win\n",
    "#4 lose\n",
    "#3 win\n",
    "#2 win\n",
    "#1 win\n",
    "\n",
    "#n이 4일 경우, 내가 1을하면 친구가 3, 내가 2를하면 친구가 2, 내가 3을하면 친구가 1을 낸다.\n",
    "#n이 8일 경우, 내가 무엇을 하든 친구가 4를 만들고, 다시 내가 무엇을 내든 친구가 8을 만든다.\n",
    "#즉, n이 4의 배수인지 알면 언제 필패를 하고 필승을 하는지 알 수 있다.\n",
    "\n",
    "\n",
    "\n",
    "\n",
    "def canWinNim(n):\n",
    "    return False if n % 4 == 0 else True\n",
    "\n",
    "n = 5\n",
    "canWinNim(n)"
   ]
  }
 ],
 "metadata": {
  "kernelspec": {
   "display_name": "Python 3",
   "language": "python",
   "name": "python3"
  },
  "language_info": {
   "codemirror_mode": {
    "name": "ipython",
    "version": 3
   },
   "file_extension": ".py",
   "mimetype": "text/x-python",
   "name": "python",
   "nbconvert_exporter": "python",
   "pygments_lexer": "ipython3",
   "version": "3.7.2"
  }
 },
 "nbformat": 4,
 "nbformat_minor": 2
}
