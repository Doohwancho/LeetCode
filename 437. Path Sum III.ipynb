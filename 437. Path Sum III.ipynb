{
 "cells": [
  {
   "cell_type": "code",
   "execution_count": 11,
   "metadata": {},
   "outputs": [
    {
     "data": {
      "text/plain": [
       "[0]"
      ]
     },
     "execution_count": 11,
     "metadata": {},
     "output_type": "execute_result"
    }
   ],
   "source": [
    "\"\"\"\n",
    "You are given a binary tree in which each node contains an integer value.\n",
    "\n",
    "Find the number of paths that sum to a given value.\n",
    "\n",
    "The path does not need to start or end at the root or a leaf, but it must go downwards (traveling only from parent nodes to child nodes).\n",
    "\n",
    "The tree has no more than 1,000 nodes and the values are in the range -1,000,000 to 1,000,000.\n",
    "\n",
    "Example:\n",
    "\n",
    "root = [10,5,-3,3,2,null,11,3,-2,null,1], sum = 8\n",
    "\n",
    "      10\n",
    "     /  \\\n",
    "    5   -3\n",
    "   / \\    \\\n",
    "  3   2   11\n",
    " / \\   \\\n",
    "3  -2   1\n",
    "\n",
    "Return 3. The paths that sum to 8 are:\n",
    "\n",
    "1.  5 -> 3\n",
    "2.  5 -> 2 -> 1\n",
    "3. -3 -> 11\n",
    "\"\"\"\n",
    "\n",
    "#문제\n",
    "\n",
    "#숫자 하나 ex.8이 sum이라는 변수로 주어지면, 트리의 이어진 노드들의 합이 sum이 되는 경우의 수를 모두 구하라.\n",
    "#단 노드가 꼭 root에서 시작할 필요는 없다\n",
    "\n",
    "\n",
    "\n",
    "#문제풀이\n",
    "\n",
    "#preorder traverse로 각 노드를 순회할 때마다, dfs()함수로 해당 노드 이하에 있는 이어진 노드들의 합이 sum이 되는지 계산한다.\n",
    "#계산방식은 root를 기준으로 한단계씩 내려갈때마다 sum - node.val을 해준다. 그렇게 값을 빼주다가 sum과 node.val이 같아지면\n",
    "#이어진 노드들의 합이 sum과 같다는 말이므로 count+1을 해준다.\n",
    "\n",
    "\n",
    "\n",
    "# Definition for a binary tree node.\n",
    "# class TreeNode:\n",
    "#     def __init__(self, x):\n",
    "#         self.val = x\n",
    "#         self.left = None\n",
    "#         self.right = None\n",
    "\n",
    "class Solution: #(by Seasean)\n",
    "    def pathSum(self, root, sum):\n",
    "        \"\"\"\n",
    "        :type root: TreeNode\n",
    "        :type sum: int\n",
    "        :rtype: int\n",
    "        \"\"\"\n",
    "        if not root:\n",
    "            return 0\n",
    "        self.count=0\n",
    "        self.helper(root,sum)\n",
    "        return self.count\n",
    "    \n",
    "    def dfs(self,root,sum,count):\n",
    "        if root.val==sum:\n",
    "            self.count+=1\n",
    "        if root.left:\n",
    "            self.dfs(root.left,sum-root.val,self.count)\n",
    "        if root.right:\n",
    "            self.dfs(root.right,sum-root.val,self.count)\n",
    "    \n",
    "    def helper(self,root,sum):\n",
    "        if not root:\n",
    "            return \n",
    "        self.dfs(root,sum,self.count)\n",
    "        self.helper(root.left,sum)\n",
    "        self.helper(root.right,sum)"
   ]
  }
 ],
 "metadata": {
  "kernelspec": {
   "display_name": "Python 3",
   "language": "python",
   "name": "python3"
  },
  "language_info": {
   "codemirror_mode": {
    "name": "ipython",
    "version": 3
   },
   "file_extension": ".py",
   "mimetype": "text/x-python",
   "name": "python",
   "nbconvert_exporter": "python",
   "pygments_lexer": "ipython3",
   "version": "3.7.2"
  }
 },
 "nbformat": 4,
 "nbformat_minor": 2
}
