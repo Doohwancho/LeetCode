{
 "cells": [
  {
   "cell_type": "markdown",
   "metadata": {},
   "source": [
    "Give a string s, count the number of non-empty (contiguous) substrings that have the same number of 0's and 1's, and all the 0's and all the 1's in these substrings are grouped consecutively.\n",
    "\n",
    "Substrings that occur multiple times are counted the number of times they occur.\n",
    "\n",
    ">Example 1:<br>\n",
    ">Input: \"00110011\"<br>\n",
    ">Output: 6<br>\n",
    ">Explanation: There are 6 substrings that have equal number of consecutive 1's and 0's: \"0011\", \"01\", \"1100\", \"10\", \"0011\", and \"01\".<br>\n",
    "\n",
    "Notice that some of these substrings repeat and are counted the number of times they occur.\n",
    "Also, \"00110011\" is not a valid substring because all the 0's (and 1's) are not grouped together.\n",
    "\n",
    ">Example 2:<br>\n",
    ">Input: \"10101\"<br>\n",
    ">Output: 4<br>\n",
    ">Explanation: There are 4 substrings: \"10\", \"01\", \"10\", \"01\" that have equal number of consecutive 1's and 0's.<br>"
   ]
  },
  {
   "cell_type": "code",
   "execution_count": 33,
   "metadata": {},
   "outputs": [
    {
     "name": "stdout",
     "output_type": "stream",
     "text": [
      "3\n"
     ]
    }
   ],
   "source": [
    "#SUCCESS\n",
    "#다만 미친량의 input 넣었을경우 Time Limit걸림\n",
    "\n",
    "a=\"00110\"\n",
    "ordercount=len(a)\n",
    "contiguous=1\n",
    "comparison=0\n",
    "cnt=0\n",
    "\n",
    "for i in range(len(a)):\n",
    "    if(i+1< ordercount and a[i]==a[i+1]):\n",
    "        while(i+1 < ordercount):\n",
    "            if(a[i]==a[i+1]):\n",
    "                contiguous+=1\n",
    "                i+=1\n",
    "            else:\n",
    "                break\n",
    "        for j in range(contiguous):\n",
    "            if((i-(contiguous-1)+contiguous) < ordercount):\n",
    "                if(a[i-(contiguous-1)]!=a[i-(contiguous-1)+contiguous]):\n",
    "                    comparison+=1\n",
    "                    i+=1\n",
    "                    if(comparison==contiguous):\n",
    "                        cnt+=1\n",
    "                        break\n",
    "        contiguous=1\n",
    "        comparison=0\n",
    "    else:\n",
    "        if(i+2 <= ordercount and a[i]!=a[i+1]):\n",
    "            cnt+=1\n",
    "print(cnt)"
   ]
  }
 ],
 "metadata": {
  "kernelspec": {
   "display_name": "Python 3",
   "language": "python",
   "name": "python3"
  },
  "language_info": {
   "codemirror_mode": {
    "name": "ipython",
    "version": 3
   },
   "file_extension": ".py",
   "mimetype": "text/x-python",
   "name": "python",
   "nbconvert_exporter": "python",
   "pygments_lexer": "ipython3",
   "version": "3.7.0"
  }
 },
 "nbformat": 4,
 "nbformat_minor": 2
}
