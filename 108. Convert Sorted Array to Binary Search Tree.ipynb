{
 "cells": [
  {
   "cell_type": "code",
   "execution_count": null,
   "metadata": {},
   "outputs": [],
   "source": [
    "\"\"\"\n",
    "Given an array where elements are sorted in ascending order, convert it to a height balanced BST.\n",
    "\n",
    "For this problem, a height-balanced binary tree is defined as a binary tree in which the depth of the two subtrees of every node never differ by more than 1.\n",
    "\n",
    "Example:\n",
    "\n",
    "Given the sorted array: [-10,-3,0,5,9],\n",
    "\n",
    "One possible answer is: [0,-3,9,-10,null,5], which represents the following height balanced BST:\n",
    "\n",
    "      0\n",
    "     / \\\n",
    "   -3   9\n",
    "   /   /\n",
    " -10  5\n",
    "\"\"\"\n",
    "\n",
    "# Definition for a binary tree node.\n",
    "# class TreeNode:\n",
    "#     def __init__(self, x):\n",
    "#         self.val = x\n",
    "#         self.left = None\n",
    "#         self.right = None\n",
    "\n",
    "class Solution:\n",
    "    #by yangshun\n",
    "    #recursive \n",
    "    #[1, 2, 3, 4, 5, 6, 7] -> left: [1, 2, 3], root: 4, right: [5, 6, 7]\n",
    "    # [1, 2, 3] -> left: [1], root: 2, right: [3]\n",
    "    # [5, 6, 7] -> left: [5], root: 6, right: [7]\n",
    "    #slicing an array is memory expensive\n",
    "    #how much memory does it take? links below\n",
    "    #https://lists.gt.net/python/python/162807\n",
    "    \n",
    "    def sortedArrayToBST(self, nums: List[int]) -> TreeNode:\n",
    "        def convert(left, right):\n",
    "            if left > right:\n",
    "                return None \n",
    "            mid = (left+right) // 2\n",
    "            node = TreeNode(nums[mid])\n",
    "            node.left = convert(left, mid-1)\n",
    "            node.right = convert(mid+1, right)\n",
    "            return node\n",
    "        \n",
    "        return convert(0,len(nums)-1)"
   ]
  }
 ],
 "metadata": {
  "kernelspec": {
   "display_name": "Python 3",
   "language": "python",
   "name": "python3"
  },
  "language_info": {
   "codemirror_mode": {
    "name": "ipython",
    "version": 3
   },
   "file_extension": ".py",
   "mimetype": "text/x-python",
   "name": "python",
   "nbconvert_exporter": "python",
   "pygments_lexer": "ipython3",
   "version": "3.7.2"
  }
 },
 "nbformat": 4,
 "nbformat_minor": 2
}
