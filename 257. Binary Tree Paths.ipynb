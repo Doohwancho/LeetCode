{
 "cells": [
  {
   "cell_type": "code",
   "execution_count": null,
   "metadata": {},
   "outputs": [],
   "source": [
    "\"\"\"\n",
    "Given a binary tree, return all root-to-leaf paths.\n",
    "\n",
    "Note: A leaf is a node with no children.\n",
    "\n",
    "Example:\n",
    "\n",
    "Input:\n",
    "\n",
    "   1\n",
    " /   \\\n",
    "2     3\n",
    " \\\n",
    "  5\n",
    "\n",
    "Output: [\"1->2->5\", \"1->3\"]\n",
    "\n",
    "Explanation: All root-to-leaf paths are: 1->2->5, 1->3\n",
    "\"\"\"\n",
    "\n",
    "#문제\n",
    "#tree의 루트부터 leaf로 갈때까지의 모든 값들을 \"1->2->5\"같은 식으로 리스트에 넣어서 반환하라\n",
    "\n",
    "#문제풀이\n",
    "#dfs방식으로 트리를 순회하면서, 해당 노드의 값을 string 형태로 형변환 후 변수에 저장한다.\n",
    "#만약 해당 노드의 자식이 있다면, 그 다음 값이 있다는 말이므로 \"->\"를 붙여주고,\n",
    "#만약 자식이 없다면, 트리의 마지막 즉, leaf라는 말이므로, 여태껏 \"값->값->값\"이 되었던 변수를 리스트에 넣어준다.\n",
    "\n",
    "\n",
    "\n",
    "\n",
    "\n",
    "# Definition for a binary tree node.\n",
    "# class TreeNode:\n",
    "#     def __init__(self, x):\n",
    "#         self.val = x\n",
    "#         self.left = None\n",
    "#         self.right = None\n",
    "\n",
    "class Solution:\n",
    "    def binaryTreePaths(self, root: TreeNode) -> List[str]:\n",
    "        string = \"\"\n",
    "        rst = []\n",
    "        def treePath(root, string):\n",
    "            if not root: return\n",
    "            string += str(root.val)\n",
    "            if root.left or root.right:\n",
    "                string += \"->\"\n",
    "                if root.left: treePath(root.left, string)\n",
    "                if root.right: treePath(root.right, string)\n",
    "            else:\n",
    "                rst.append(string)\n",
    "                \n",
    "        treePath(root, string)\n",
    "        return rst"
   ]
  }
 ],
 "metadata": {
  "kernelspec": {
   "display_name": "Python 3",
   "language": "python",
   "name": "python3"
  },
  "language_info": {
   "codemirror_mode": {
    "name": "ipython",
    "version": 3
   },
   "file_extension": ".py",
   "mimetype": "text/x-python",
   "name": "python",
   "nbconvert_exporter": "python",
   "pygments_lexer": "ipython3",
   "version": "3.7.2"
  }
 },
 "nbformat": 4,
 "nbformat_minor": 2
}
