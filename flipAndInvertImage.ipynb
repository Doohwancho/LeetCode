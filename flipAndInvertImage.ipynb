{
 "cells": [
  {
   "cell_type": "code",
   "execution_count": 1,
   "metadata": {},
   "outputs": [],
   "source": [
    "A=[[1,1,0,0],[1,0,0,1],[0,1,1,1],[1,0,1,0]]\n",
    "\n",
    "class Solution:\n",
    "    def flipAndInvertImage(self, A):\n",
    "        b=[]\n",
    "        rst=[]\n",
    "        for i in range(len(A)):\n",
    "            b=list(reversed(A[i]))\n",
    "            for j in range(len(A)):\n",
    "                if(j==0):\n",
    "                    rst.append([abs(b[j]-1)])\n",
    "                else:\n",
    "                    rst[i].extend([abs(b[j]-1)])\n",
    "        return(rst)"
   ]
  },
  {
   "cell_type": "code",
   "execution_count": null,
   "metadata": {},
   "outputs": [],
   "source": [
    "for index, lst in enumerate(A):\n",
    "    A[index] = [1 if x == 0 else 0 for x in lst[::-1]]\n",
    "return A"
   ]
  }
 ],
 "metadata": {
  "kernelspec": {
   "display_name": "Python 3",
   "language": "python",
   "name": "python3"
  },
  "language_info": {
   "codemirror_mode": {
    "name": "ipython",
    "version": 3
   },
   "file_extension": ".py",
   "mimetype": "text/x-python",
   "name": "python",
   "nbconvert_exporter": "python",
   "pygments_lexer": "ipython3",
   "version": "3.7.0"
  }
 },
 "nbformat": 4,
 "nbformat_minor": 2
}
