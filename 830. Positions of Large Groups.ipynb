{
 "cells": [
  {
   "cell_type": "markdown",
   "metadata": {},
   "source": [
    "In a string S of lowercase letters, these letters form consecutive groups of the same character.\n",
    "\n",
    "For example, a string like S = \"abbxxxxzyy\" has the groups \"a\", \"bb\", \"xxxx\", \"z\" and \"yy\".\n",
    "\n",
    "Call a group large if it has 3 or more characters.  We would like the starting and ending positions of every large group.\n",
    "\n",
    "The final answer should be in lexicographic order.\n",
    "\n",
    " \n",
    "\n",
    ">Example 1:<br>\n",
    "Input: \"abbxxxxzzy\"<br>\n",
    "Output: [[3,6]]<br>\n",
    ">Explanation: \"xxxx\" is the single large group with starting  3 and ending positions 6.<br>\n",
    "\n",
    ">Example 2:<br>\n",
    "Input: \"abc\"<br>\n",
    "Output: []<br>\n",
    ">Explanation: We have \"a\",\"b\" and \"c\" but no large group.<br>\n",
    "\n",
    ">Example 3:<br>\n",
    "Input: \"abcdddeeeeaabbbcd\"<br>\n",
    ">Output: [[3,5],[6,9],[12,14]]<br>"
   ]
  },
  {
   "cell_type": "code",
   "execution_count": 38,
   "metadata": {},
   "outputs": [
    {
     "data": {
      "text/plain": [
       "[[0, 3], [6, 9]]"
      ]
     },
     "execution_count": 38,
     "metadata": {},
     "output_type": "execute_result"
    }
   ],
   "source": [
    "#SUCESS\n",
    "\n",
    "#S='abcde'\n",
    "#S=\"abcdddeeeeaabbbcd\"\n",
    "#S=\"babaaaabbb\"\n",
    "S=\"bbbbabaaaa\"\n",
    "S=S+'!'\n",
    "\n",
    "rst=[]\n",
    "\n",
    "for idx, (first, second, third) in enumerate(zip(S, S[1:], S[2:])):\n",
    "    if(first==second==third and first != S[idx-1]): #3 consecutives+ and no duplicates\n",
    "        rst.append([idx]) \n",
    "        cnt=idx\n",
    "        while first==second==third:\n",
    "            cnt+=1\n",
    "            if idx+3 == len(S): #if 3 consecutive elements are last, end here\n",
    "                rst[-1].append(idx+2)\n",
    "                break\n",
    "            elif S[cnt] == S[1:][cnt] != S[2:][cnt]: # reason why I added '!' to string 'S'\n",
    "                rst[-1].append(cnt+1)\n",
    "                idx+=1\n",
    "                break\n",
    "rst"
   ]
  },
  {
   "cell_type": "code",
   "execution_count": null,
   "metadata": {},
   "outputs": [],
   "source": [
    "#Trial01\n",
    "\n",
    "#S=\"abbxxxxzzzy\"\n",
    "S=\"abcdddeeeeaabbbcd\"\n",
    "\n",
    "s=[{value:S.count(value)} for idx, value in enumerate(list(set(S))) if S.count(value) > 2] # 3'consecutive'에서 막힘\n",
    "print(s)"
   ]
  }
 ],
 "metadata": {
  "kernelspec": {
   "display_name": "Python 3",
   "language": "python",
   "name": "python3"
  },
  "language_info": {
   "codemirror_mode": {
    "name": "ipython",
    "version": 3
   },
   "file_extension": ".py",
   "mimetype": "text/x-python",
   "name": "python",
   "nbconvert_exporter": "python",
   "pygments_lexer": "ipython3",
   "version": "3.7.1"
  }
 },
 "nbformat": 4,
 "nbformat_minor": 2
}
