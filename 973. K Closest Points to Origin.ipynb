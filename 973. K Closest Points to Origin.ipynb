{
 "cells": [
  {
   "cell_type": "markdown",
   "metadata": {},
   "source": [
    "We have a list of points on the plane.  Find the K closest points to the origin (0, 0).\n",
    "\n",
    "(Here, the distance between two points on a plane is the Euclidean distance.)\n",
    "\n",
    "You may return the answer in any order.  The answer is guaranteed to be unique (except for the order that it is in.)\n",
    "\n",
    " \n",
    "\n",
    ">Example 1:<br>\n",
    "Input: points = [[1,3],[-2,2]], K = 1<br>\n",
    "Output: [[-2,2]]<br>\n",
    "Explanation: <br>\n",
    "The distance between (1, 3) and the origin is sqrt(10).<br>\n",
    "The distance between (-2, 2) and the origin is sqrt(8).<br>\n",
    "Since sqrt(8) < sqrt(10), (-2, 2) is closer to the origin.<br>\n",
    ">We only want the closest K = 1 points from the origin, so the answer is just [[-2,2]].<br>\n",
    "\n",
    ">Example 2:<br>\n",
    "Input: points = [[3,3],[5,-1],[-2,4]], K = 2<br>\n",
    "Output: [[3,3],[-2,4]]<br>\n",
    ">(The answer [[-2,4],[3,3]] would also be accepted.)<br>"
   ]
  },
  {
   "cell_type": "code",
   "execution_count": 47,
   "metadata": {},
   "outputs": [
    {
     "data": {
      "text/plain": [
       "[[3, 3], [-2, 4]]"
      ]
     },
     "execution_count": 47,
     "metadata": {},
     "output_type": "execute_result"
    }
   ],
   "source": [
    "#SUCCESS\n",
    "\n",
    "import operator\n",
    "#points = [[1,3],[-2,2],[0,-3]]\n",
    "#K = 1\n",
    "points = [[3,3],[5,-1],[-2,4]]\n",
    "K = 2\n",
    "results={}\n",
    "bucket = []\n",
    "\n",
    "for idx, element in enumerate(points):\n",
    "    results[idx] = sum([abs(bits)**2 for bits in element])\n",
    "    \n",
    "sorted_results = sorted(results.items(), key=operator.itemgetter(1))\n",
    "#sorted_by_value = sorted(x.items(), key=lambda kv: kv[1])\n",
    "#sorted_results.reverse()\n",
    "#print(sorted_results)\n",
    "for i in range(K):\n",
    "    bucket.append(points[sorted_results[i][0]])\n",
    "    \n",
    "bucket"
   ]
  }
 ],
 "metadata": {
  "kernelspec": {
   "display_name": "Python 3",
   "language": "python",
   "name": "python3"
  },
  "language_info": {
   "codemirror_mode": {
    "name": "ipython",
    "version": 3
   },
   "file_extension": ".py",
   "mimetype": "text/x-python",
   "name": "python",
   "nbconvert_exporter": "python",
   "pygments_lexer": "ipython3",
   "version": "3.7.1"
  }
 },
 "nbformat": 4,
 "nbformat_minor": 2
}
