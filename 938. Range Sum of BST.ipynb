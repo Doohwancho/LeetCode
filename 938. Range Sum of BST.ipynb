{
 "cells": [
  {
   "cell_type": "code",
   "execution_count": null,
   "metadata": {},
   "outputs": [],
   "source": [
    "\"\"\"\n",
    "Given the root node of a binary search tree, return the sum of values of all nodes with value between L and R (inclusive).\n",
    "\n",
    "The binary search tree is guaranteed to have unique values.\n",
    "\n",
    " \n",
    "\n",
    "Example 1:\n",
    "\n",
    "Input: root = [10,5,15,3,7,null,18], L = 7, R = 15\n",
    "Output: 32\n",
    "Example 2:\n",
    "\n",
    "Input: root = [10,5,15,3,7,13,18,1,null,6], L = 6, R = 10\n",
    "Output: 23\n",
    "\"\"\"\n",
    "\n",
    "#문제\n",
    "#L,R이 주어지면, 트리 안에서 L보다 크고 R보다 작은 값들의 합을 리턴하라\n",
    "\n",
    "#문제풀이\n",
    "#preorder/inorder/postorder traversal 방법중 하나를 활용해서, 트리를 순회하는데\n",
    "#값이 L보다 크거나 같고 R보다 작거나 같으면 미리 만들어 놓은 element라는 이름의 리스트에 넣는다\n",
    "#마지막엔 element를 리턴하되, sum()내장함수를 사용해서 해당 리스트의 합을 반환한다.\n",
    "\n",
    "# Definition for a binary tree node.\n",
    "# class TreeNode:\n",
    "#     def __init__(self, x):\n",
    "#         self.val = x\n",
    "#         self.left = None\n",
    "#         self.right = None\n",
    "\n",
    "class Solution:\n",
    "    def rangeSumBST(self, root: TreeNode, L: int, R: int) -> int:\n",
    "        element = []\n",
    "        def dfs(root):\n",
    "            if not root: return\n",
    "            if root.val >= L and root.val <= R:\n",
    "                element.append(root.val)\n",
    "            if root.left: dfs(root.left)\n",
    "            if root.right: dfs(root.right)\n",
    "            return element\n",
    "\n",
    "        return sum(dfs(root))"
   ]
  }
 ],
 "metadata": {
  "kernelspec": {
   "display_name": "Python 3",
   "language": "python",
   "name": "python3"
  },
  "language_info": {
   "codemirror_mode": {
    "name": "ipython",
    "version": 3
   },
   "file_extension": ".py",
   "mimetype": "text/x-python",
   "name": "python",
   "nbconvert_exporter": "python",
   "pygments_lexer": "ipython3",
   "version": "3.7.2"
  }
 },
 "nbformat": 4,
 "nbformat_minor": 2
}
