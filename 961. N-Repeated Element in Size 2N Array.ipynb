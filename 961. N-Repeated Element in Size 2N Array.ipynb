{
 "cells": [
  {
   "cell_type": "markdown",
   "metadata": {},
   "source": [
    "In a array A of size 2N, there are N+1 unique elements, and exactly one of these elements is repeated N times.\n",
    "\n",
    "Return the element repeated N times.\n",
    "\n",
    " \n",
    "\n",
    ">Example 1:<br>\n",
    ">Input: [1,2,3,3]<br>\n",
    ">Output: 3<br>\n",
    "\n",
    ">Example 2:<br>\n",
    "Input: [2,1,2,5,3,2]<br>\n",
    ">Output: 2<br>\n",
    "\n",
    ">Example 3:<br>\n",
    "Input: [5,1,5,2,5,3,5,4]<br>\n",
    ">Output: 5<br>"
   ]
  },
  {
   "cell_type": "code",
   "execution_count": 6,
   "metadata": {},
   "outputs": [
    {
     "name": "stdout",
     "output_type": "stream",
     "text": [
      "5\n"
     ]
    }
   ],
   "source": [
    "#문제\n",
    "\n",
    "#리스트가 주어지면 리스트의 길이의 반을 N이라고 한다. 예를들어, 리스트 [1,2,3,3]의 N은 2이다.\n",
    "#리스트 안에 N개의 갯수만큼 있는 숫자가 딱 하나 있다.\n",
    "#그 숫자를 리턴하라.\n",
    "\n",
    "\n",
    "#문제풀이\n",
    "\n",
    "#step01 - N을 리스트의 길이에서 2로 나눠서 구한다. \n",
    "#step02 - 리스트를 for문으로 돈다. count()내장함수를 사용하여, 리스트 안에 i번째 숫자가 N번 반복되는지 확인한다.\n",
    "\n",
    "A = [5,1,5,2,5,3,5,4]\n",
    " \n",
    "repeatedTimes = len(A)//2                     #step01\n",
    "\n",
    "for i in A:                                 \n",
    "    if A.count(i) == repeatedTimes:           #step02 \n",
    "        print(i)\n",
    "        break"
   ]
  },
  {
   "cell_type": "code",
   "execution_count": 26,
   "metadata": {},
   "outputs": [
    {
     "name": "stdout",
     "output_type": "stream",
     "text": [
      "[3, 1]\n",
      "[1, 5]\n",
      "[4, 1]\n",
      "[4, 5]\n",
      "[5, 1]\n",
      "[5, 5]\n"
     ]
    },
    {
     "data": {
      "text/plain": [
       "5"
      ]
     },
     "execution_count": 26,
     "metadata": {},
     "output_type": "execute_result"
    }
   ],
   "source": [
    "#다른사람들의 답1\n",
    "#그냥 재미있는 답\n",
    "#random.sample(리스트,n)하면, 집어넣은 리스트 중에서 n개의 데이터를 랜덤으로 뽑는다.\n",
    "#문제에선 오직 하나의 숫자만 반복된다고 했으니,\n",
    "#랜덤으로 반복되는 두개의 숫자를 뽑을때까지 반복하고,\n",
    "#반복되는 숫자가 나오면 값을 리턴한다.\n",
    "\n",
    "\n",
    "\n",
    "import random\n",
    "\n",
    "\n",
    "def repeatedNTimes(A):\n",
    "    while 1:\n",
    "        s = random.sample(A, 2)\n",
    "        print(s)\n",
    "        if s[0] == s[1]:\n",
    "            return s[0]\n",
    "        \n",
    "A = [5,1,5,2,5,3,5,4]\n",
    "\n",
    "repeatedNTimes(A)"
   ]
  },
  {
   "cell_type": "code",
   "execution_count": 35,
   "metadata": {},
   "outputs": [
    {
     "data": {
      "text/plain": [
       "5"
      ]
     },
     "execution_count": 35,
     "metadata": {},
     "output_type": "execute_result"
    }
   ],
   "source": [
    "#다른사람들의 답2\n",
    "#set()을 이용하였다.\n",
    "#set()은 리스트 안에 중복된 숫자를 제거한다.\n",
    "#예를들어, set([1,2,3,3]) 은 [1,2,3]이다.\n",
    "#이를 이용하여 원래 리스트의 합에서 set(리스트)의 합을 뺀 후, N-1로 나눠주면 중복된 값이 나온다.\n",
    "\n",
    "def repeat(A):\n",
    "    return int((sum(A)-sum(set(A))) // (len(A)//2-1))\n",
    "    \n",
    "A = [5,1,5,2,5,3,5,4]\n",
    "repeat(A)"
   ]
  }
 ],
 "metadata": {
  "kernelspec": {
   "display_name": "Python 3",
   "language": "python",
   "name": "python3"
  },
  "language_info": {
   "codemirror_mode": {
    "name": "ipython",
    "version": 3
   },
   "file_extension": ".py",
   "mimetype": "text/x-python",
   "name": "python",
   "nbconvert_exporter": "python",
   "pygments_lexer": "ipython3",
   "version": "3.7.2"
  }
 },
 "nbformat": 4,
 "nbformat_minor": 2
}
