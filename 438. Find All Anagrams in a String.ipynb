{
 "cells": [
  {
   "cell_type": "markdown",
   "metadata": {},
   "source": [
    "Given a string s and a non-empty string p, find all the start indices of p's anagrams in s.\n",
    "\n",
    "Strings consists of lowercase English letters only and the length of both strings s and p will not be larger than 20,100.\n",
    "\n",
    "The order of output does not matter.\n",
    "\n",
    ">Example 1:<br>\n",
    ">Input: s: \"cbaebabacd\" p: \"abc\"<br>\n",
    ">Output:[0, 6]<br>\n",
    ">Explanation:<br>\n",
    ">The substring with start index = 0 is \"cba\", which is an anagram of \"abc\".<br>\n",
    ">The substring with start index = 6 is \"bac\", which is an anagram of \"abc\".<br>\n",
    "\n",
    ">Example 2:<br>\n",
    ">Input:s: \"abab\" p: \"ab\"<br>\n",
    ">Output:[0, 1, 2]<br>\n",
    ">Explanation:<br>\n",
    ">The substring with start index = 0 is \"ab\", which is an anagram of \"ab\".<br>\n",
    ">The substring with start index = 1 is \"ba\", which is an anagram of \"ab\".<br>\n",
    ">The substring with start index = 2 is \"ab\", which is an anagram of \"ab\".<br>"
   ]
  },
  {
   "cell_type": "code",
   "execution_count": 54,
   "metadata": {},
   "outputs": [
    {
     "name": "stdout",
     "output_type": "stream",
     "text": [
      "('c', 'b', 'a')\n",
      "True\n",
      "('b', 'a', 'e')\n",
      "False\n",
      "('a', 'e', 'b')\n",
      "False\n",
      "('e', 'b', 'a')\n",
      "False\n",
      "('b', 'a', 'b')\n",
      "False\n",
      "('a', 'b', 'a')\n",
      "False\n",
      "('b', 'a', 'c')\n",
      "False\n"
     ]
    },
    {
     "data": {
      "text/plain": [
       "[]"
      ]
     },
     "execution_count": 54,
     "metadata": {},
     "output_type": "execute_result"
    }
   ],
   "source": [
    "#yet ?????????????????\n",
    "#왜 ('b', 'a', 'c')가 False로 나오는가???????????\n",
    "\n",
    "from itertools import permutations \n",
    "\n",
    "s=\"cbaebabacd\"\n",
    "p=\"abc\"\n",
    "a = permutations(p)\n",
    "rst=[]\n",
    "\n",
    "for i in range(len(s)-3):\n",
    "    print(tuple(s[i:i+3]))\n",
    "    print(tuple(s[i:i+3]) in a)\n",
    "    #print(tuple(s[i:i+3]) ==('b','a','c'))\n",
    "    #if((tuple(s[i:i+3]) in a)==True):\n",
    "    #    rst.append(i)\n",
    "rst"
   ]
  },
  {
   "cell_type": "code",
   "execution_count": 40,
   "metadata": {},
   "outputs": [
    {
     "name": "stdout",
     "output_type": "stream",
     "text": [
      "('a', 'b', 'c')\n",
      "('a', 'c', 'b')\n",
      "('b', 'a', 'c')\n",
      "('b', 'c', 'a')\n",
      "('c', 'a', 'b')\n",
      "('c', 'b', 'a')\n"
     ]
    }
   ],
   "source": [
    "p=\"abc\"\n",
    "a = permutations(p)\n",
    "\n",
    "for i in a:\n",
    "    print(i)"
   ]
  },
  {
   "cell_type": "code",
   "execution_count": 46,
   "metadata": {},
   "outputs": [
    {
     "name": "stdout",
     "output_type": "stream",
     "text": [
      "[('1', '2'), ('1', '3'), ('1', '4'), ('1', '5'), ('2', '1'), ('2', '3'), ('2', '4'), ('2', '5'), ('3', '1'), ('3', '2'), ('3', '4'), ('3', '5'), ('4', '1'), ('4', '2'), ('4', '3'), ('4', '5'), ('5', '1'), ('5', '2'), ('5', '3'), ('5', '4')]\n",
      "\n",
      "[('1', '2'), ('1', '3'), ('1', '4'), ('1', '5'), ('2', '3'), ('2', '4'), ('2', '5'), ('3', '4'), ('3', '5'), ('4', '5')]"
     ]
    }
   ],
   "source": [
    "#combination과 permutation의 차이\n",
    "\n",
    "#permutation -- 중복 포함, 모든 경우의 수\n",
    "items=[\"1\",\"2\",\"3\",\"4\",\"5\"]\n",
    "from itertools import permutations\n",
    "print(list(permutations(items,2)),end=\"\")\n",
    "\n",
    "print(\"\\n\")\n",
    "\n",
    "#combination -- 중복X, 모든 경우의 수\n",
    "from itertools import combinations\n",
    "print(list(combinations(items,2)),end=\"\")"
   ]
  }
 ],
 "metadata": {
  "kernelspec": {
   "display_name": "Python 3",
   "language": "python",
   "name": "python3"
  },
  "language_info": {
   "codemirror_mode": {
    "name": "ipython",
    "version": 3
   },
   "file_extension": ".py",
   "mimetype": "text/x-python",
   "name": "python",
   "nbconvert_exporter": "python",
   "pygments_lexer": "ipython3",
   "version": "3.7.0"
  }
 },
 "nbformat": 4,
 "nbformat_minor": 2
}
