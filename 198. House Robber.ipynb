{
 "cells": [
  {
   "cell_type": "markdown",
   "metadata": {},
   "source": [
    "You are a professional robber planning to rob houses along a street. Each house has a certain amount of money stashed, the only constraint stopping you from robbing each of them is that adjacent houses have security system connected and it will automatically contact the police if two adjacent houses were broken into on the same night.\n",
    "\n",
    "Given a list of non-negative integers representing the amount of money of each house, determine the maximum amount of money you can rob tonight without alerting the police.\n",
    "\n",
    "Example 1:\n",
    "\n",
    "Input: [1,2,3,1]\n",
    "Output: 4\n",
    "Explanation: Rob house 1 (money = 1) and then rob house 3 (money = 3).\n",
    "             Total amount you can rob = 1 + 3 = 4.\n",
    "Example 2:\n",
    "\n",
    "Input: [2,7,9,3,1]\n",
    "Output: 12\n",
    "Explanation: Rob house 1 (money = 2), rob house 3 (money = 9) and rob house 5 (money = 1).\n",
    "             Total amount you can rob = 2 + 9 + 1 = 12."
   ]
  },
  {
   "cell_type": "code",
   "execution_count": 120,
   "metadata": {},
   "outputs": [
    {
     "name": "stdout",
     "output_type": "stream",
     "text": [
      "12\n"
     ]
    }
   ],
   "source": [
    "#Trial01\n",
    "\n",
    "#nums = [1,2,3,1]\n",
    "#nums = [2,7,9,3,1]\n",
    "#nums = [2,1,3]\n",
    "#nums = [2,1]\n",
    "#nums = []\n",
    "#nums = [2,1,1,2]\n",
    "#nums = [1000,1,2,3]\n",
    "#nums = [1000,1,2,3,4]\n",
    "#nums = [1000,1,2,3,4,5,6]\n",
    "#nums = [1000,1,2,3,4,5,6,7]\n",
    "nums = [4,1,2,7,5,3,1]\n",
    "\n",
    "if len(nums) >= 3:\n",
    "    for i in range(2,len(nums)):\n",
    "        nums[i] = max(nums[i-2]+nums[i],nums[i-1])\n",
    "        if i == len(nums)-2:\n",
    "            nums[i] = max(nums[i], nums[i-2]+nums[i+1])\n",
    "    print(nums[-1])\n",
    "elif len(nums) == 0:\n",
    "    print(0)\n",
    "else:\n",
    "    print(max(nums))"
   ]
  },
  {
   "cell_type": "code",
   "execution_count": 122,
   "metadata": {},
   "outputs": [
    {
     "name": "stdout",
     "output_type": "stream",
     "text": [
      "[11, 5, 3, 1, 10]\n",
      "21\n",
      "[14, 10]\n",
      "14\n"
     ]
    }
   ],
   "source": [
    "#Trial02 -- 비교를 4개로 해봄\n",
    "\n",
    "nums = [4,1,2,7,5,3,1,10]\n",
    "#nums = [4,1,2,7,5,3,1]\n",
    "#nums = [4,1,2,7,5,3]\n",
    "#nums = [4,1,2,7,5]\n",
    "#nums = [4,1,2,7]\n",
    "\n",
    "if len(nums) >= 3:\n",
    "    while len(nums) >3:\n",
    "        if len(nums) <= 5:\n",
    "            print(max(max(nums[0]+nums[2], nums[0]+nums[3], nums[1]+nums[3]), sorted(nums)[-1]+sorted(nums)[-2]))\n",
    "        nums[0] = max(nums[0]+nums[2], nums[0]+nums[3], nums[1]+nums[3])\n",
    "        nums.pop(1)\n",
    "        nums.pop(1)\n",
    "        nums.pop(1)\n",
    "        print(nums)\n",
    "        if len(nums) == 3:\n",
    "            print(max(nums[0]+nums[2], nums[1]))\n",
    "    print(nums[0])\n",
    "elif len(nums) == 0:\n",
    "    print(0)\n",
    "else:\n",
    "    print(max(nums))"
   ]
  },
  {
   "cell_type": "code",
   "execution_count": 123,
   "metadata": {},
   "outputs": [
    {
     "name": "stdout",
     "output_type": "stream",
     "text": [
      "4\n"
     ]
    }
   ],
   "source": [
    "#SOLUTION\n",
    "\n",
    "nums = [1,2,3,1]\n",
    "nums = [2,1,1,2]\n",
    "\n",
    "if not nums:print(0)\n",
    "if len(nums)<2:print(nums[0])\n",
    "dp=[0]*len(nums)#define dp\n",
    "dp[0]=nums[0]\n",
    "dp[1]=max(nums[0],nums[1]) #initialize dp\n",
    "for i in range(2,len(nums)):\n",
    "    dp[i]=max(nums[i]+dp[i-2],dp[i-1])#dp[i] is the value robbed from the i house\n",
    "print(max(dp))\n"
   ]
  }
 ],
 "metadata": {
  "kernelspec": {
   "display_name": "Python 3",
   "language": "python",
   "name": "python3"
  },
  "language_info": {
   "codemirror_mode": {
    "name": "ipython",
    "version": 3
   },
   "file_extension": ".py",
   "mimetype": "text/x-python",
   "name": "python",
   "nbconvert_exporter": "python",
   "pygments_lexer": "ipython3",
   "version": "3.7.1"
  }
 },
 "nbformat": 4,
 "nbformat_minor": 2
}
