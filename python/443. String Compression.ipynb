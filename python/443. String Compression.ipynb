{
 "cells": [
  {
   "cell_type": "markdown",
   "metadata": {},
   "source": [
    "Given an array of characters, compress it in-place.\n",
    "\n",
    "The length after compression must always be smaller than or equal to the original array.\n",
    "\n",
    "Every element of the array should be a character (not int) of length 1.\n",
    "\n",
    "After you are done modifying the input array in-place, return the new length of the array.\n",
    "\n",
    " \n",
    "Follow up:\n",
    "Could you solve it using only O(1) extra space?\n",
    "\n",
    " \n",
    ">Example 1:<br>\n",
    ">Input:[\"a\",\"a\",\"b\",\"b\",\"c\",\"c\",\"c\"]<br>\n",
    ">Output: Return 6, and the first 6 characters of the input array should be: [\"a\",\"2\",\"b\",\"2\",\"c\",\"3\"]<br>\n",
    ">Explanation:<br>\n",
    ">\"aa\" is replaced by \"a2\". \"bb\" is replaced by \"b2\". \"ccc\" is replaced by \"c3\".<br>"
   ]
  },
  {
   "cell_type": "code",
   "execution_count": 63,
   "metadata": {},
   "outputs": [
    {
     "data": {
      "text/plain": [
       "['a', 2, 'b', 2, 'c', 3, 'd', 1, 'e', 2]"
      ]
     },
     "execution_count": 63,
     "metadata": {},
     "output_type": "execute_result"
    }
   ],
   "source": [
    "a=[\"a\",\"a\",\"b\",\"b\",\"c\",\"c\",\"c\",\"d\",\"e\",\"e\"]\n",
    "rst=[]\n",
    "\n",
    "for i in range(len(list(sorted(set(a))))):\n",
    "    if(a.count(a[0])==1):\n",
    "        rst.append(list(sorted(set(a)))[i])\n",
    "    else:\n",
    "        rst.append(list(sorted(set(a)))[i])\n",
    "        rst.append(a.count(list(sorted(set(a)))[i]))\n",
    "rst"
   ]
  }
 ],
 "metadata": {
  "kernelspec": {
   "display_name": "Python 2",
   "language": "python",
   "name": "python2"
  },
  "language_info": {
   "codemirror_mode": {
    "name": "ipython",
    "version": 2
   },
   "file_extension": ".py",
   "mimetype": "text/x-python",
   "name": "python",
   "nbconvert_exporter": "python",
   "pygments_lexer": "ipython2",
   "version": "2.7.15"
  }
 },
 "nbformat": 4,
 "nbformat_minor": 2
}
