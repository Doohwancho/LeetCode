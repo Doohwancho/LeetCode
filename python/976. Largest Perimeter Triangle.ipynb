{
 "cells": [
  {
   "cell_type": "markdown",
   "metadata": {},
   "source": [
    "Given an array A of positive lengths, return the largest perimeter of a triangle with non-zero area, formed from 3 of these lengths.\n",
    "\n",
    "If it is impossible to form any triangle of non-zero area, return 0.\n",
    "\n",
    " \n",
    "\n",
    ">Example 1:<br>\n",
    ">Input: [2,1,2]\n",
    ">Output: 5\n",
    "\n",
    ">Example 2:<br>\n",
    ">Input: [1,2,1]<br>\n",
    ">Output: 0<br>\n",
    "\n",
    ">Example 3:<br>\n",
    ">Input: [3,2,3,4]<br>\n",
    ">Output: 10<br>\n",
    "\n",
    ">Example 4:<br>\n",
    ">Input: [3,6,2,3]<br>\n",
    ">Output: 8<br>"
   ]
  },
  {
   "cell_type": "code",
   "execution_count": 12,
   "metadata": {},
   "outputs": [],
   "source": [
    "import itertools"
   ]
  },
  {
   "cell_type": "code",
   "execution_count": 48,
   "metadata": {},
   "outputs": [
    {
     "name": "stdout",
     "output_type": "stream",
     "text": [
      "0\n"
     ]
    }
   ],
   "source": [
    "#SUCESS\n",
    "#근데 combination 경우의수가 겁나 많아지면 time exceed뜸\n",
    "#s=[3,2,3,4]\n",
    "#s=[3,6,2,3]\n",
    "#s=[2,1,2]\n",
    "#s=[3,2,3,4]\n",
    "s=[1,1,5,2,3]\n",
    "combinations=list(itertools.combinations(s,3))\n",
    "combinations\n",
    "perimeter=-999\n",
    "for i in range(len(combinations)):\n",
    "    if(sorted(combinations[i])[0]+sorted(combinations[i])[1] <= sorted(combinations[i])[2]):\n",
    "        pass\n",
    "    else:\n",
    "        summation=sorted(combinations[i])[0]+sorted(combinations[i])[1]+sorted(combinations[i])[2]\n",
    "        if(perimeter < summation):\n",
    "            perimeter = summation\n",
    "if(perimeter==-999):\n",
    "    print(0)\n",
    "else:\n",
    "    print(perimeter)"
   ]
  },
  {
   "cell_type": "code",
   "execution_count": 53,
   "metadata": {},
   "outputs": [
    {
     "name": "stdout",
     "output_type": "stream",
     "text": [
      "427\n",
      "0\n"
     ]
    }
   ],
   "source": [
    "#Solution\n",
    "#ascending order 정렬 후, i+1와 i+2가 그 이전 숫자보다 더 크면 값 도출\n",
    "\n",
    "A=[66,45,96,55,97,1,9,43,65,24,28,20,5,28,85,30,6,96,48,52,3,68,77,46,32,6,62,51,98,7,63,31,47,16439,55,7,48,902,7,2387,80,24,26608,57,24,14,41,51,772847,55,88,6,90,97,79,58,79,66,73,18,24,91,34,72,79,2,477640,81,18,8,68,98,49,557,65,52,95,22,54,54,78,10,91,65,41,32,72,19,64,69,24,50,51,49,20,58,27,45,50,6,59,17,32,68,37,4,43,80,87,21,61,56,28,92,8,13,30,53,16,8,50,59,68,28,58,13,35,99,12,81,47,65,10152,32,98,31,74,4,53,31,41,23,7,24,60,27,6,97,1,76,16,100,50,26,66,19,18,79,1478,6,70,182436,5,52,69,11,58,95,7,61,51,77,4,18,71,65,93,97,37,28,70,30,8,31,26,85,28,35,68,29,7,71,18,14,19,59,38,34,46,77,52,6270,88,63,11,29,3875,94,17,91,9,4,76,87,50,18,50,73,98,18,96,47,25,331,37,30,43,121,39,62,89,60,72,31,87,38,55,89,68,93,65,42,9,66,37,13,41,3,36,88,47,36,52,57,74,99,64,99,206,69,35,5,9,28,75,78,112745,69675,51,7,77,2,99,56,5,12,9,80,38,295195,2,99,75,100,77,62,4,81,74,72,81,25,93,49,71,43059,9,58,57,46]\n",
    "#A=[3,6,2,3]\n",
    "\n",
    "A = sorted(A, reverse=True)\n",
    "    \n",
    "for i in range(0, len(A)-2):\n",
    "    if A[i+1] + A[i+2] > A[i]:\n",
    "        print(A[i] + A[i+1] + A[i+2])\n",
    "        break\n",
    "print(0)"
   ]
  }
 ],
 "metadata": {
  "kernelspec": {
   "display_name": "Python 3",
   "language": "python",
   "name": "python3"
  },
  "language_info": {
   "codemirror_mode": {
    "name": "ipython",
    "version": 3
   },
   "file_extension": ".py",
   "mimetype": "text/x-python",
   "name": "python",
   "nbconvert_exporter": "python",
   "pygments_lexer": "ipython3",
   "version": "3.7.1"
  }
 },
 "nbformat": 4,
 "nbformat_minor": 2
}
