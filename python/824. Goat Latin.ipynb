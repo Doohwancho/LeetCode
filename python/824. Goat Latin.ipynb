{
 "cells": [
  {
   "cell_type": "markdown",
   "metadata": {},
   "source": [
    "A sentence S is given, composed of words separated by spaces. Each word consists of lowercase and uppercase letters only.\n",
    "\n",
    "We would like to convert the sentence to \"Goat Latin\" (a made-up language similar to Pig Latin.)\n",
    "\n",
    "The rules of Goat Latin are as follows:\n",
    "\n",
    "**If a word begins with a vowel (a, e, i, o, or u), append \"ma\" to the end of the word.\n",
    "For example, the word 'apple' becomes 'applema'.**\n",
    " \n",
    "**If a word begins with a consonant (i.e. not a vowel), remove the first letter and append it to the end, then add \"ma\".\n",
    "For example, the word \"goat\" becomes \"oatgma\".**\n",
    " \n",
    "**Add one letter 'a' to the end of each word per its word index in the sentence, starting with 1.\n",
    "For example, the first word gets \"a\" added to the end, the second word gets \"aa\" added to the end and so on.\n",
    "Return the final sentence representing the conversion from S to Goat Latin.**\n",
    "\n",
    " \n",
    "\n",
    ">Example 1:<br>\n",
    ">Input: \"I speak Goat Latin\"<br>\n",
    ">Output: \"Imaa peaksmaaa oatGmaaaa atinLmaaaaa\"<br>\n",
    "\n",
    ">Example 2:<br>\n",
    ">Input: \"The quick brown fox jumped over the lazy dog\"<br>\n",
    ">Output: \"heTmaa uickqmaaa rownbmaaaa oxfmaaaaa umpedjmaaaaaa overmaaaaaaa hetmaaaaaaaa azylmaaaaaaaaa ogdmaaaaaaaaaa\"<br>"
   ]
  },
  {
   "cell_type": "code",
   "execution_count": 62,
   "metadata": {},
   "outputs": [
    {
     "data": {
      "text/plain": [
       "'Imaa peaksmaaa oatGmaaaa atinLmaaaaa'"
      ]
     },
     "execution_count": 62,
     "metadata": {},
     "output_type": "execute_result"
    }
   ],
   "source": [
    "a=\"I speak Goat Latin\"\n",
    "rst=[]\n",
    "\n",
    "for i in range(len(a.split())):\n",
    "    if(a.split()[i][0].lower() in ('a','e','i','o','u')):\n",
    "        rst.append(a.split()[i]+'ma'+'a'*(i+1))\n",
    "    else:\n",
    "        rst.append(a.split()[i][1:]+a.split()[i][0]+'ma'+'a'*(i+1))\n",
    "' '.join(rst)    "
   ]
  }
 ],
 "metadata": {
  "kernelspec": {
   "display_name": "Python 3",
   "language": "python",
   "name": "python3"
  },
  "language_info": {
   "codemirror_mode": {
    "name": "ipython",
    "version": 3
   },
   "file_extension": ".py",
   "mimetype": "text/x-python",
   "name": "python",
   "nbconvert_exporter": "python",
   "pygments_lexer": "ipython3",
   "version": "3.7.0"
  }
 },
 "nbformat": 4,
 "nbformat_minor": 2
}
