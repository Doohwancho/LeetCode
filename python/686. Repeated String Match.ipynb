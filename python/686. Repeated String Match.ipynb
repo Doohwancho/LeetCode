{
 "cells": [
  {
   "cell_type": "markdown",
   "metadata": {},
   "source": [
    "Given two strings A and B, find the minimum number of times A has to be repeated such that B is a substring of it. If no such solution, return -1.\n",
    "\n",
    "For example, with A = \"abcd\" and B = \"cdabcdab\".\n",
    "\n",
    "Return 3, because by repeating A three times (“abcdabcdabcd”), B is a substring of it; and B is not a substring of A repeated two times (\"abcdabcd\").\n",
    "\n",
    "Note:\n",
    "The length of A and B will be between 1 and 10000."
   ]
  },
  {
   "cell_type": "code",
   "execution_count": 2,
   "metadata": {},
   "outputs": [
    {
     "name": "stdout",
     "output_type": "stream",
     "text": [
      "3\n"
     ]
    }
   ],
   "source": [
    "#yet\n",
    "#경우의수 1: A가 아무리 많이 반복되도 B가 그 안에 없을 경우 -- if i==?: return(-1) 해 줘야 하는데, 그 최대치 정하기 어려움\n",
    "#경우의수 2: A가 'a'이고 B가 'a'*10000이면 루핑을 만번 돌아야 하는데 i==10000은 좀 에바참치임. 경우의수 1과 상충됨.\n",
    "\n",
    "A = \"abcd\"\n",
    "B = \"cdabcdab\"\n",
    "\n",
    "identifier,i =False, 0\n",
    "while identifier==False:\n",
    "    if B in (A*i):\n",
    "        identifier=True\n",
    "        print(i)\n",
    "    i+=1"
   ]
  },
  {
   "cell_type": "code",
   "execution_count": 6,
   "metadata": {},
   "outputs": [
    {
     "data": {
      "text/plain": [
       "129"
      ]
     },
     "execution_count": 6,
     "metadata": {},
     "output_type": "execute_result"
    }
   ],
   "source": [
    "#Solution\n",
    "\n",
    "def Repeated(A,B):\n",
    "    i = 1\n",
    "    a = A\n",
    "    while B not in A and len(A)-len(a) < len(B): #A의 길이가 B보다 더 길때까지 늘리고 i+1\n",
    "        A = A + a\n",
    "        i = i+1\n",
    "    return i if B in A else -1 #B가 A안에 있으면 i return, 아니면 -1 return\n",
    "\n",
    "\n",
    "A = \"abcd\"\n",
    "B = \"cdabcdab\"\n",
    "#A = \"a\"\n",
    "#B = \"aaaaaaaaaaaaaaaaaaaaaaaaaaaaaaaaaaaaaaaaaaaaaaaaaaaaaaaaaaaaaaaaaaaaaaaaaaaaaaaaaaaaaaaaaaaaaaaaaaaaaaaaaaaaaaaaaaaaaaaaaaaaaaaaa\"\n",
    "Repeated(A,B)"
   ]
  }
 ],
 "metadata": {
  "kernelspec": {
   "display_name": "Python 3",
   "language": "python",
   "name": "python3"
  },
  "language_info": {
   "codemirror_mode": {
    "name": "ipython",
    "version": 3
   },
   "file_extension": ".py",
   "mimetype": "text/x-python",
   "name": "python",
   "nbconvert_exporter": "python",
   "pygments_lexer": "ipython3",
   "version": "3.7.0"
  }
 },
 "nbformat": 4,
 "nbformat_minor": 2
}
