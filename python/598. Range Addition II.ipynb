{
 "cells": [
  {
   "cell_type": "markdown",
   "metadata": {},
   "source": [
    "Given an m * n matrix M initialized with all 0's and several update operations.\n",
    "\n",
    "Operations are represented by a 2D array, and each operation is represented by an array with two positive integers a and b, which means M[i][j] should be added by one for all 0 <= i < a and 0 <= j < b.\n",
    "\n",
    "You need to count and return the number of maximum integers in the matrix after performing all the operations.\n",
    "\n",
    ">Example 1:<br>\n",
    ">Input: <br>\n",
    ">m = 3, n = 3<br>\n",
    ">operations = [[2,2],[3,3]]<br>\n",
    ">Output: 4<br>\n",
    "\n",
    ">Explanation: <br>\n",
    ">Initially, M = <br>\n",
    ">[[0, 0, 0],<br>\n",
    "> [0, 0, 0],<br>\n",
    "> [0, 0, 0]]<br>\n",
    ">After performing [2,2], M = <br>\n",
    ">[[1, 1, 0],<br>\n",
    "> [1, 1, 0],<br>\n",
    "> [0, 0, 0]]<br>\n",
    ">After performing [3,3], M = <br>\n",
    ">[[2, 2, 1],<br>\n",
    "> [2, 2, 1],<br>\n",
    "> [1, 1, 1]]<br>\n",
    ">So the maximum integer in M is 2, and there are four of it in M. So return 4.<br>"
   ]
  },
  {
   "cell_type": "code",
   "execution_count": 135,
   "metadata": {},
   "outputs": [
    {
     "name": "stdout",
     "output_type": "stream",
     "text": [
      "2\n"
     ]
    }
   ],
   "source": [
    "#TIME EXCEED 뜸 ㅜㅜ\n",
    "\n",
    "m, n = 3, 3\n",
    "ops = [[1,2],[3,3]]\n",
    "matrixs = [[0 for i in range(m)] for j in range(n)]\n",
    "\n",
    "if not ops:\n",
    "    print(m*n)\n",
    "else:\n",
    "    for i in range(len(ops)):\n",
    "        x, y = ops[i][0], ops[i][1]\n",
    "        sample = [[j+1 for j in i[0:x]] for i in matrixs[0:y]]\n",
    "        for i in range(len(sample)):\n",
    "            matrixs[i] = sample[i]+matrixs[i]\n",
    "\n",
    "    rearrangedMatrixs = [j for i in matrixs for j in i]\n",
    "    print(rearrangedMatrixs.count(max(rearrangedMatrixs)))"
   ]
  },
  {
   "cell_type": "code",
   "execution_count": 136,
   "metadata": {},
   "outputs": [
    {
     "name": "stdout",
     "output_type": "stream",
     "text": [
      "2\n"
     ]
    }
   ],
   "source": [
    "#Solution\n",
    "#몇번을 더하던, 중복되는것만 치기 때문에, x축의 것만 묶은 후 min값만 빼오면 됨\n",
    "\n",
    "m, n = 3, 3\n",
    "ops = [[1,2],[3,3]]\n",
    "\n",
    "if not ops:\n",
    "    print(R * C)\n",
    "else:\n",
    "    X, Y = zip(*ops)\n",
    "    print(min(X) * min(Y))"
   ]
  }
 ],
 "metadata": {
  "kernelspec": {
   "display_name": "Python 3",
   "language": "python",
   "name": "python3"
  },
  "language_info": {
   "codemirror_mode": {
    "name": "ipython",
    "version": 3
   },
   "file_extension": ".py",
   "mimetype": "text/x-python",
   "name": "python",
   "nbconvert_exporter": "python",
   "pygments_lexer": "ipython3",
   "version": "3.7.1"
  }
 },
 "nbformat": 4,
 "nbformat_minor": 2
}
