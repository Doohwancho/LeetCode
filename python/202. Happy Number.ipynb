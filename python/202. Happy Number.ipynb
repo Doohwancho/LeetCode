{
 "cells": [
  {
   "cell_type": "markdown",
   "metadata": {},
   "source": [
    "Write an algorithm to determine if a number is \"happy\".\n",
    "\n",
    "A happy number is a number defined by the following process: Starting with any positive integer, replace the number by the sum of the squares of its digits, and repeat the process until the number equals 1 (where it will stay), or it loops endlessly in a cycle which does not include 1. Those numbers for which this process ends in 1 are happy numbers.\n",
    "\n",
    ">Example: <br>\n",
    ">Input: 19<br>\n",
    ">Output: true<br>\n",
    ">Explanation: <br>\n",
    ">12 + 92 = 82<br>\n",
    ">82 + 22 = 68<br>\n",
    ">62 + 82 = 100<br>\n",
    ">12 + 02 + 02 = 1<br>"
   ]
  },
  {
   "cell_type": "code",
   "execution_count": 2,
   "metadata": {},
   "outputs": [
    {
     "name": "stdout",
     "output_type": "stream",
     "text": [
      "True\n"
     ]
    }
   ],
   "source": [
    "#Trial\n",
    "#break이 없음\n",
    "\n",
    "n = 19\n",
    "\n",
    "def happy1(n):\n",
    "    summation = n \n",
    "    while summation != 1:\n",
    "        number=0\n",
    "        for i in str(summation):\n",
    "            number += int(i)**2\n",
    "        summation = number\n",
    "    return True\n",
    "\n",
    "print(happy1(n))"
   ]
  },
  {
   "cell_type": "code",
   "execution_count": null,
   "metadata": {},
   "outputs": [],
   "source": [
    "n = 5\n",
    "\n",
    "def happy(n):\n",
    "    cycle = set()\n",
    "    #break를 n not in cycle로 함\n",
    "    while n!=1 and n not in cycle:\n",
    "        cycle.add(n)\n",
    "        n= sum(int(i)**2 for i in str(n))\n",
    "    return n==1\n",
    "\n",
    "happy(n)"
   ]
  },
  {
   "cell_type": "code",
   "execution_count": null,
   "metadata": {},
   "outputs": [],
   "source": []
  },
  {
   "cell_type": "code",
   "execution_count": null,
   "metadata": {},
   "outputs": [],
   "source": []
  }
 ],
 "metadata": {
  "kernelspec": {
   "display_name": "Python 3",
   "language": "python",
   "name": "python3"
  },
  "language_info": {
   "codemirror_mode": {
    "name": "ipython",
    "version": 3
   },
   "file_extension": ".py",
   "mimetype": "text/x-python",
   "name": "python",
   "nbconvert_exporter": "python",
   "pygments_lexer": "ipython3",
   "version": "3.7.1"
  }
 },
 "nbformat": 4,
 "nbformat_minor": 2
}
