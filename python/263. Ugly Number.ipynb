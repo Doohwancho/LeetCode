{
 "cells": [
  {
   "cell_type": "markdown",
   "metadata": {},
   "source": [
    "Write a program to check whether a given number is an ugly number.\n",
    "\n",
    "Ugly numbers are positive numbers whose prime factors only include 2, 3, 5.\n",
    "\n",
    ">Example 1:<br>\n",
    "Input: 6<br>\n",
    "Output: true<br>\n",
    ">Explanation: 6 = 2 × 3<br>\n",
    "\n",
    ">Example 2:<br>\n",
    "Input: 8<br>\n",
    "Output: true<br>\n",
    ">Explanation: 8 = 2 × 2 × 2<br>\n",
    "\n",
    ">Example 3:<br>\n",
    "Input: 14<br>\n",
    "Output: false<br> \n",
    ">Explanation: 14 is not ugly since it includes another prime factor 7.<br>"
   ]
  },
  {
   "cell_type": "code",
   "execution_count": 5,
   "metadata": {},
   "outputs": [
    {
     "data": {
      "text/plain": [
       "True"
      ]
     },
     "execution_count": 5,
     "metadata": {},
     "output_type": "execute_result"
    }
   ],
   "source": [
    "#SUCCESS\n",
    "\n",
    "\n",
    "def isUgly(num):\n",
    "    primeFactors = [2,3,5]\n",
    "\n",
    "    if num > 0:\n",
    "        for i in primeFactors:\n",
    "            while num % i == 0:\n",
    "                num /= i\n",
    "            if num == 1:\n",
    "                return(True)\n",
    "                break\n",
    "        return(False)\n",
    "    else:\n",
    "        return(False)\n",
    "\n",
    "isUgly(6)"
   ]
  },
  {
   "cell_type": "code",
   "execution_count": null,
   "metadata": {},
   "outputs": [],
   "source": [
    "#소수 판별하기 참고 url\n",
    "#https://53perc.tistory.com/entry/%ED%8C%8C%EC%9D%B4%EC%8D%AC-%EC%86%8C%EC%88%98-%ED%8C%90%EB%B3%84%ED%95%98%EA%B8%B0"
   ]
  }
 ],
 "metadata": {
  "kernelspec": {
   "display_name": "Python 3",
   "language": "python",
   "name": "python3"
  },
  "language_info": {
   "codemirror_mode": {
    "name": "ipython",
    "version": 3
   },
   "file_extension": ".py",
   "mimetype": "text/x-python",
   "name": "python",
   "nbconvert_exporter": "python",
   "pygments_lexer": "ipython3",
   "version": "3.7.1"
  }
 },
 "nbformat": 4,
 "nbformat_minor": 2
}
