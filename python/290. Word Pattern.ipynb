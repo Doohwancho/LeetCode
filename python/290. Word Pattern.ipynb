{
 "cells": [
  {
   "cell_type": "markdown",
   "metadata": {},
   "source": [
    "Given a pattern and a string str, find if str follows the same pattern.\n",
    "\n",
    "Here follow means a full match, such that there is a bijection between a letter in pattern and a non-empty word in str.\n",
    "\n",
    ">Example 1:<br>\n",
    "Input: pattern = \"abba\", str = \"dog cat cat dog\"<br>\n",
    ">Output: true<br>\n",
    "\n",
    ">Example 2:<br>\n",
    "Input:pattern = \"abba\", str = \"dog cat cat fish\"<br>\n",
    ">Output: false<br>\n",
    "\n",
    ">Example 3:<br>\n",
    "Input: pattern = \"aaaa\", str = \"dog cat cat dog\"<br>\n",
    ">Output: false<br>\n",
    "\n",
    ">Example 4:<br>\n",
    "Input: pattern = \"abba\", str = \"dog dog dog dog\"<br>\n",
    ">Output: false<br>"
   ]
  },
  {
   "cell_type": "code",
   "execution_count": 89,
   "metadata": {},
   "outputs": [
    {
     "name": "stdout",
     "output_type": "stream",
     "text": [
      "True\n"
     ]
    }
   ],
   "source": [
    "#문제\n",
    "\n",
    "#패턴과 문자열이 주어진다.\n",
    "#문자열이 주어진 패턴과 일치하는지 여부를 반환하면 된다.\n",
    "\n",
    "#예를들어,\n",
    "#pattern = \"abba\", str = \"dog cat cat dog\" 이런식으로 주어진다고 하자.\n",
    "#패턴을 보면 abba로 되어있다. 여기서 a를 dog,로 b를 cat으로 치환하면, abba패턴이 'dog cat cat dog'에 맞아 떨어진다.\n",
    "\n",
    "#만약 문자열이 \"dog dog dog dog\"인데, 패턴이 \"abba\"라면,\n",
    "#False를 반환해 주면 된다. 같은 패턴이 4번 나오기 때문에, 'aaaa'이여야 하기 때문이다.\n",
    "\n",
    "\n",
    "\n",
    "\n",
    "#문제 풀이\n",
    "\n",
    "\n",
    "# pattern = \"abc\"\n",
    "# string = \"b c a\"\n",
    "\n",
    "# pattern = \"abba\"\n",
    "# string = \"dog dog dog dog\"\n",
    "\n",
    "pattern = \"abba\"\n",
    "string = \"dog cat cat dog\"\n",
    "\n",
    "\n",
    "string_split= string.split() #스페이스바를 기준으로 단어를 분리해서 리스트에 저장\n",
    "dictionary = {}              #패턴의 알파벳과 string의 단어를 key, value값으로 저장\n",
    "emptyString = \"\"             #비어있는 문자열 선언\n",
    "\n",
    "\n",
    "for i in pattern:            #패턴을 돌면서\n",
    "    for j in string_split:   #패턴의 각 알파벳마다 문자열의 단어들을 for문으로 돈다\n",
    "        if i not in dictionary.keys() and j not in dictionary.values():  #이때, dictionary에 key,value형태로 저장되어 있지 않으면\n",
    "            dictionary[i]=j  #해당 패턴의 알파벳과 문자열의 단어를 key, value형태로 저장해 준다\n",
    "            break\n",
    "\n",
    "if len(set(pattern)) != len(set(string_split)):  #set()함수를 써서, pattern과 문자열의 중복된 단어를 없애도 길이가 다르다면, 무조건 틀리다는 말이니 False를 반환한다.\n",
    "    print(False)\n",
    "    \n",
    "for k in pattern:\n",
    "    emptyString += dictionary[k]+' '      #아까 dictionary에 저장해둔 key:value값을 이용하여, pattern에 맞는 문자열을 재생성한다.\n",
    "\n",
    "print(string == emptyString.rstrip())     #pattern에 맞는 문자열을 생성해서 문제에서 제시된 문자열과 비교해 본다. 여기서.rstrip()은 마지막에 더해지는 스페이스를 제거하기 위한 함수이다."
   ]
  }
 ],
 "metadata": {
  "kernelspec": {
   "display_name": "Python 3",
   "language": "python",
   "name": "python3"
  },
  "language_info": {
   "codemirror_mode": {
    "name": "ipython",
    "version": 3
   },
   "file_extension": ".py",
   "mimetype": "text/x-python",
   "name": "python",
   "nbconvert_exporter": "python",
   "pygments_lexer": "ipython3",
   "version": "3.7.2"
  }
 },
 "nbformat": 4,
 "nbformat_minor": 2
}
