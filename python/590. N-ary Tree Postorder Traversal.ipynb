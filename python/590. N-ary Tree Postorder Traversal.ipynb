{
 "cells": [
  {
   "cell_type": "code",
   "execution_count": null,
   "metadata": {},
   "outputs": [],
   "source": [
    "#Given an n-ary tree, return the postorder traversal of its nodes' values.\n",
    "\n",
    "#문제\n",
    "\n",
    "#'postorder'방식으로 tree를 순회하라\n",
    "\n",
    "\n",
    "#문제풀이\n",
    "\n",
    "# tree를 순회하는 방법은 크게 3가지가 있다.\n",
    "# 1.preorder 2. inorder 3.postorder\n",
    "# pre는 전, in은 중간, post는 후를 뜻하는데, root가 children대비, 어디에 등장하느냐가 관건이다.\n",
    "# root가 children보다 전에 등장하면 preorder, 중간에 등장하면 inorder, 후에 등장하면 postorder이다.\n",
    "# 구현 코드와 결과가 포함된 아래 링크를 참조하면 이해에 도움된다.\n",
    "# https://doohwancho.tistory.com/78\n",
    "\n",
    "\n",
    "\n",
    "\"\"\"\n",
    "# Definition for a Node.\n",
    "class Node:\n",
    "    def __init__(self, val, children):\n",
    "        self.val = val\n",
    "        self.children = children\n",
    "\"\"\"\n",
    "class Solution:\n",
    "    def postorder(self, root: 'Node') -> List[int]:\n",
    "        def dfs(root):\n",
    "            if not root:\n",
    "                return\n",
    "            for c in root.children:\n",
    "                dfs(c)\n",
    "            res.append(root.val)\n",
    "        res = []\n",
    "        dfs(root)\n",
    "        return res"
   ]
  }
 ],
 "metadata": {
  "kernelspec": {
   "display_name": "Python 3",
   "language": "python",
   "name": "python3"
  },
  "language_info": {
   "codemirror_mode": {
    "name": "ipython",
    "version": 3
   },
   "file_extension": ".py",
   "mimetype": "text/x-python",
   "name": "python",
   "nbconvert_exporter": "python",
   "pygments_lexer": "ipython3",
   "version": "3.7.2"
  }
 },
 "nbformat": 4,
 "nbformat_minor": 2
}
