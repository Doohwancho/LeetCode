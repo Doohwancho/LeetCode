{
 "cells": [
  {
   "cell_type": "markdown",
   "metadata": {},
   "source": [
    "Given an array of integers and an integer k, find out whether there are two distinct indices i and j in the array such that nums[i] = nums[j] and the absolute difference between i and j is at most k.\n",
    "\n",
    ">Example 1:<br>\n",
    ">Input: nums = [1,2,3,1], k = 3<br>\n",
    ">Output: true<br>\n",
    "\n",
    ">Example 2:<br>\n",
    ">Input: nums = [1,0,1,1], k = 1<br>\n",
    ">Output: true<br>\n",
    "\n",
    ">Example 3:<br>\n",
    ">Input: nums = [1,2,3,1,2,3], k = 2<br>\n",
    ">Output: false<br>"
   ]
  },
  {
   "cell_type": "code",
   "execution_count": 38,
   "metadata": {},
   "outputs": [
    {
     "name": "stdout",
     "output_type": "stream",
     "text": [
      "True\n"
     ]
    }
   ],
   "source": [
    "#SOLUTION\n",
    "#nums = [1,2,3,1,2,3]\n",
    "#k = 2\n",
    "nums = [1,0,1,1]\n",
    "k = 1\n",
    "\n",
    "dict = {}\n",
    "\n",
    "for idx, value in enumerate(nums):\n",
    "    if value in dict and idx - dict[value] <= k:\n",
    "        print(True)\n",
    "    dict[value]=idx"
   ]
  }
 ],
 "metadata": {
  "kernelspec": {
   "display_name": "Python 3",
   "language": "python",
   "name": "python3"
  },
  "language_info": {
   "codemirror_mode": {
    "name": "ipython",
    "version": 3
   },
   "file_extension": ".py",
   "mimetype": "text/x-python",
   "name": "python",
   "nbconvert_exporter": "python",
   "pygments_lexer": "ipython3",
   "version": "3.7.1"
  }
 },
 "nbformat": 4,
 "nbformat_minor": 2
}
