{
 "cells": [
  {
   "cell_type": "markdown",
   "metadata": {},
   "source": [
    "In a given integer array nums, there is always exactly one largest element.\n",
    "\n",
    "Find whether the largest element in the array is at least twice as much as every other number in the array.\n",
    "\n",
    "If it is, return the index of the largest element, otherwise return -1.\n",
    "\n",
    ">Example 1:<br>\n",
    ">Input: nums = [3, 6, 1, 0]<br>\n",
    ">Output: 1<br>\n",
    ">Explanation: 6 is the largest integer, and for every other number in the array x,<br>\n",
    ">6 is more than twice as big as x.  The index of value 6 is 1, so we return 1.<br>\n",
    " \n",
    "\n",
    ">Example 2:<br>\n",
    ">Input: nums = [1, 2, 3, 4]<br>\n",
    ">Output: -1<br>\n",
    ">Explanation: 4 isn't at least as big as twice the value of 3, so we return -1.<br>"
   ]
  },
  {
   "cell_type": "code",
   "execution_count": 27,
   "metadata": {},
   "outputs": [
    {
     "name": "stdout",
     "output_type": "stream",
     "text": [
      "1\n"
     ]
    }
   ],
   "source": [
    "#SUCCESS\n",
    "nums = [3, 6, 1, 0]\n",
    "\n",
    "if len(nums)==1:\n",
    "    print(0)\n",
    "elif max(nums) >= sorted(nums)[-2]*2:\n",
    "    print(nums.index(max(nums)))  \n",
    "else:\n",
    "    print(-1)"
   ]
  }
 ],
 "metadata": {
  "kernelspec": {
   "display_name": "Python 3",
   "language": "python",
   "name": "python3"
  },
  "language_info": {
   "codemirror_mode": {
    "name": "ipython",
    "version": 3
   },
   "file_extension": ".py",
   "mimetype": "text/x-python",
   "name": "python",
   "nbconvert_exporter": "python",
   "pygments_lexer": "ipython3",
   "version": "3.7.1"
  }
 },
 "nbformat": 4,
 "nbformat_minor": 2
}
