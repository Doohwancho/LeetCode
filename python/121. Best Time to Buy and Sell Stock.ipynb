{
 "cells": [
  {
   "cell_type": "markdown",
   "metadata": {},
   "source": [
    "Say you have an array for which the ith element is the price of a given stock on day i.\n",
    "\n",
    "If you were only permitted to complete at most one transaction (i.e., buy one and sell one share of the stock), design an algorithm to find the maximum profit.\n",
    "\n",
    "Note that you cannot sell a stock before you buy one.\n",
    "\n",
    ">Example 1:<br>\n",
    ">Input: [7,1,5,3,6,4]<br>\n",
    ">Output: 5<br>\n",
    ">Explanation: Buy on day 2 (price = 1) and sell on day 5 (price = 6), profit = 6-1 = 5.<br>\n",
    ">             Not 7-1 = 6, as selling price needs to be larger than buying price.<br>\n",
    "\n",
    ">Example 2:<br>\n",
    ">Input: [7,6,4,3,1]<br>\n",
    ">Output: 0<br>\n",
    ">Explanation: In this case, no transaction is done, i.e. max profit = 0.<br>"
   ]
  },
  {
   "cell_type": "code",
   "execution_count": 32,
   "metadata": {},
   "outputs": [
    {
     "data": {
      "text/plain": [
       "5"
      ]
     },
     "execution_count": 32,
     "metadata": {},
     "output_type": "execute_result"
    }
   ],
   "source": [
    "#크.... 짜릿해\n",
    "\n",
    "prices = [7,1,5,3,6,4]\n",
    "\n",
    "max([max([prices[j]-prices[i-1] for j in range(i, len(prices))]) for i in range(1, len(prices))])"
   ]
  }
 ],
 "metadata": {
  "kernelspec": {
   "display_name": "Python 3",
   "language": "python",
   "name": "python3"
  },
  "language_info": {
   "codemirror_mode": {
    "name": "ipython",
    "version": 3
   },
   "file_extension": ".py",
   "mimetype": "text/x-python",
   "name": "python",
   "nbconvert_exporter": "python",
   "pygments_lexer": "ipython3",
   "version": "3.7.1"
  }
 },
 "nbformat": 4,
 "nbformat_minor": 2
}
