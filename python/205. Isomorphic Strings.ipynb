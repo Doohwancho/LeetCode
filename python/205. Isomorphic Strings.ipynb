{
 "cells": [
  {
   "cell_type": "markdown",
   "metadata": {},
   "source": [
    "Given two strings s and t, determine if they are isomorphic.\n",
    "\n",
    "Two strings are isomorphic if the characters in s can be replaced to get t.\n",
    "\n",
    "All occurrences of a character must be replaced with another character while preserving the order of characters. No two characters may map to the same character but a character may map to itself.\n",
    "\n",
    ">Example 1:<br>\n",
    "Input: s = \"egg\", t = \"add\"<br>\n",
    ">Output: true<br>\n",
    "\n",
    ">Example 2:<br>\n",
    "Input: s = \"foo\", t = \"bar\"<br>\n",
    ">Output: false<br>\n",
    "\n",
    ">Example 3:<br>\n",
    "Input: s = \"paper\", t = \"title\"<br>\n",
    ">Output: true<br>"
   ]
  },
  {
   "cell_type": "code",
   "execution_count": 36,
   "metadata": {},
   "outputs": [
    {
     "data": {
      "text/plain": [
       "True"
      ]
     },
     "execution_count": 36,
     "metadata": {},
     "output_type": "execute_result"
    }
   ],
   "source": [
    "#Trial01 -- Timeout\n",
    "\n",
    "#문제\n",
    "\n",
    "#두개의 string이 주어지면, isomorphic한 여부를 확인하라.\n",
    "#isomorphic란 음... 말로 설명이 힘드니까 예시를 보자.\n",
    "#s = \"egg\", t = \"add\"를 보면, s에 e를 a로 바꾸고, s의 g를 d로 바꾸면 두번째 string인 'add'가 완성된다.\n",
    "#이렇게 s의 알파벳을 다른 알파벳으로 바꿔서 t를 만들 수 있으면 isomorphic이다.\n",
    "#단, s의 알파벳을 바꿀때, 같은 알파벳은 똑같이 바뀌어야 한다.\n",
    "#egg의 g가 d로 바뀌면, 다른 g도 d로 바뀌어야 한다는 뜻이다.\n",
    "\n",
    "#다른 예시를 보면,\n",
    "# s = \"foo\", t = \"bar\"가 있다. f를 b로, o를 a로 바꾸면, 'baa'가 된다. t인 'bar'가 아니므로 isomorphic이 아니다.\n",
    "\n",
    "#세번째 예시를 보면,\n",
    "#s = \"paper\", t = \"title\"가 주어지는데, s의 p를 t로, a를 i로, e를 ㅣ로, r을 e로 바꾸면 t string이 완성되므로 isomorphic이다.\n",
    "\n",
    "\n",
    "\n",
    "\n",
    "#문제풀이\n",
    "\n",
    "#step01 - collections.defaultdict()로 빈 딕셔너리를 만들어준다.\n",
    "#step02 - zip()함수로 s와 t string을 묶은 후,\n",
    "#step03 - s와 t를 처음에 만들어둔 딕셔너리에 key, value 형태로 저장 시키면서, for문을 돈다.\n",
    "#step04 - for문을 돌다가, zip한 s와 t가 기존에 딕셔너리에 key, value와 맞지 않다면, False를 리턴한다.\n",
    "\n",
    "\n",
    "\n",
    "\n",
    "import collections\n",
    "\n",
    "def isIsomorphic(s, t):\n",
    "    if len(s) != len(t):\n",
    "        return False\n",
    "    warehouse = collections.defaultdict(int) #step01\n",
    "    for i,j in zip(s,t): #step02\n",
    "        if not warehouse: #step03\n",
    "            warehouse[i]=j\n",
    "        elif i not in warehouse.keys() and j not in warehouse.values(): #step03\n",
    "            warehouse[i]=j\n",
    "        else:  \n",
    "            if warehouse[i]!=j: #step04\n",
    "                return(False)\n",
    "    return(True)\n",
    "\n",
    "s = \"paper\"\n",
    "t = \"title\"\n",
    "#s = \"foo\"\n",
    "#t = \"bar\"\n",
    "#s = \"ab\"\n",
    "#t = \"aa\"\n",
    "isIsomorphic(s, t)"
   ]
  }
 ],
 "metadata": {
  "kernelspec": {
   "display_name": "Python 3",
   "language": "python",
   "name": "python3"
  },
  "language_info": {
   "codemirror_mode": {
    "name": "ipython",
    "version": 3
   },
   "file_extension": ".py",
   "mimetype": "text/x-python",
   "name": "python",
   "nbconvert_exporter": "python",
   "pygments_lexer": "ipython3",
   "version": "3.7.2"
  }
 },
 "nbformat": 4,
 "nbformat_minor": 2
}
