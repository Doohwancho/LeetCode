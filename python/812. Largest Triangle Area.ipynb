{
 "cells": [
  {
   "cell_type": "markdown",
   "metadata": {},
   "source": [
    "You have a list of points in the plane. Return the area of the largest triangle that can be formed by any 3 of the points.\n",
    "\n",
    ">Example:<br>\n",
    ">Input: points = [[0,0],[0,1],[1,0],[0,2],[2,0]]<br>\n",
    ">Output: 2<br>\n",
    ">Explanation: <br>\n",
    ">The five points are show in the figure below. The red triangle is the largest.<br>\n",
    "\n",
    "\n",
    ">Notes:<br>\n",
    ">3 <= points.length <= 50.<br>\n",
    ">No points will be duplicated.<br>\n",
    "> -50 <= points[i][j] <= 50.<br>\n",
    ">Answers within 10^-6 of the true value will be accepted as correct.<br>"
   ]
  },
  {
   "cell_type": "code",
   "execution_count": 104,
   "metadata": {},
   "outputs": [],
   "source": [
    "import math\n",
    "import itertools\n",
    "import operator"
   ]
  },
  {
   "cell_type": "code",
   "execution_count": 105,
   "metadata": {},
   "outputs": [
    {
     "data": {
      "text/plain": [
       "2.9999999999999996"
      ]
     },
     "execution_count": 105,
     "metadata": {},
     "output_type": "execute_result"
    }
   ],
   "source": [
    "#헤론의 공식 -- 삼각형의 3변의 길이를 알면 넓이를 구할 수 있음\n",
    "#s=(a+b+c)/2\n",
    "#S(넓이)=sqrt(s*(s-a)*(s-b)*(s-c))\n",
    "\n",
    "a=math.sqrt(8)\n",
    "b=math.sqrt(5)\n",
    "c=math.sqrt(9)\n",
    "s=(a+b+c)/2\n",
    "math.sqrt(s*(s-a)*(s-b)*(s-c))"
   ]
  },
  {
   "cell_type": "code",
   "execution_count": 107,
   "metadata": {},
   "outputs": [
    {
     "name": "stdout",
     "output_type": "stream",
     "text": [
      "가장 넓은 넓이:39\n",
      "각 꼭지점 좌표;([5, 0], [13.2, 7], [2.6, 7.4])\n"
     ]
    }
   ],
   "source": [
    "#SUCCESS(?)\n",
    "#다만..미친량 input시 에러\n",
    "\n",
    "points=[[0,3],[8,2],[5,0],[13.2,7],[2.6,7.4]]\n",
    "area={}\n",
    "max_combination={}\n",
    "\n",
    "mycombination = itertools.combinations(points,3)  #3각형의 각 꼭지점 경우의 수\n",
    "for idx, value in enumerate(mycombination):\n",
    "    max_combination.update({idx:value})\n",
    "    small_comb = itertools.combinations(value,2)\n",
    "    abc=[]\n",
    "    for j in small_comb:\n",
    "        abc.append(math.sqrt(abs(j[0][0]-j[1][0])**2+abs(j[0][1]-j[1][1])**2))\n",
    "    s=(abc[0]+abc[1]+abc[2])/2\n",
    "    area.update({idx:math.sqrt(s*(s-abc[0])*(s-abc[1])*(s-abc[2]))}) #각 경우의 수의 넓이를 구해서 area에 대입\n",
    "\n",
    "for idx, value in max_combination.items():\n",
    "    if idx == max(area, key=lambda key: area[key]):\n",
    "        print(\"가장 넓은 넓이:{0}\".format(round(max(area.values()))))\n",
    "        print(\"각 꼭지점 좌표;{0}\".format(value))"
   ]
  }
 ],
 "metadata": {
  "kernelspec": {
   "display_name": "Python 3",
   "language": "python",
   "name": "python3"
  },
  "language_info": {
   "codemirror_mode": {
    "name": "ipython",
    "version": 3
   },
   "file_extension": ".py",
   "mimetype": "text/x-python",
   "name": "python",
   "nbconvert_exporter": "python",
   "pygments_lexer": "ipython3",
   "version": "3.7.1"
  }
 },
 "nbformat": 4,
 "nbformat_minor": 2
}
