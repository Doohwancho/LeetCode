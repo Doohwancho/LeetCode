{
 "cells": [
  {
   "cell_type": "markdown",
   "metadata": {},
   "source": [
    "Count the number of prime numbers less than a non-negative number, n.\n",
    "\n",
    ">Example:<br>\n",
    "Input: 10<br>\n",
    "Output: 4<br>\n",
    ">Explanation: There are 4 prime numbers less than 10, they are 2, 3, 5, 7.<br>"
   ]
  },
  {
   "cell_type": "code",
   "execution_count": 68,
   "metadata": {},
   "outputs": [
    {
     "name": "stdout",
     "output_type": "stream",
     "text": [
      "4\n"
     ]
    }
   ],
   "source": [
    "#문제\n",
    "\n",
    "#prime number는 소수다.\n",
    "#소수란, 자신보다 작은 두 개의 자연수를 곱하여 만들 수 없는 1보다 큰 자연수이다. \n",
    "#숫자 n이 주어지면, n의 소수의 총 갯수를 구하라.\n",
    "\n",
    "\n",
    "\n",
    "#문제풀이\n",
    "\n",
    "#step01 - 소수는 1과 본인은 제외한 수 이므로, range를 2부터 n-1까지 잡는다.\n",
    "#step02 - for문을 돌면서, 2부터 해당숫자-1까지의 범위중에, 0으로 나누어 떨어지는 숫자가 있다면 소수가 아니고, 없다면 소수이다.\n",
    "\n",
    "\n",
    "\n",
    "#단점\n",
    "\n",
    "#for문도는데 너무 오래걸려서, n이 엄~청 커지면 timeout이 나온다.\n",
    "\n",
    "n = 10\n",
    "primes = []\n",
    "\n",
    "for possiblePrime in range(2,n):         #step01\n",
    "    isPrime = True\n",
    "    for num in range(2, possiblePrime):  #step02\n",
    "        if possiblePrime % num == 0:     #step02\n",
    "            isPrime = False     \n",
    "    if isPrime:\n",
    "        primes.append(possiblePrime)\n",
    "        \n",
    "print(len(primes))"
   ]
  },
  {
   "cell_type": "code",
   "execution_count": 75,
   "metadata": {},
   "outputs": [
    {
     "data": {
      "text/plain": [
       "4"
      ]
     },
     "execution_count": 75,
     "metadata": {},
     "output_type": "execute_result"
    }
   ],
   "source": [
    "#개선된 답안\n",
    "\n",
    "#step01 - n만큼 리스트에 True를 만들어 준다.\n",
    "#step02 - for문을 돌면서, 해당 인덱스가 True일때만, 소수 판별을 한다\n",
    "#step03 - 해당 인덱스의 숫자 * n는 소수가 아니니, 앞으로 나올 숫자에서 제외한다.\n",
    "\n",
    "\n",
    "def countPrimes(n):\n",
    "    if n <= 2:\n",
    "        return 0\n",
    "    res = [True] * n                       #step01\n",
    "    res[0] = res[1] = False                #0과 1은 소수가 아니므로 제외한다.\n",
    "    for i in range(2, n):\n",
    "        if res[i] == True:                 #step02\n",
    "            for j in range(2, (n-1)//i +1):\n",
    "                res[i*j] = False           #step03\n",
    "    return sum(res)\n",
    "\n",
    "countPrimes(10)"
   ]
  }
 ],
 "metadata": {
  "kernelspec": {
   "display_name": "Python 3",
   "language": "python",
   "name": "python3"
  },
  "language_info": {
   "codemirror_mode": {
    "name": "ipython",
    "version": 3
   },
   "file_extension": ".py",
   "mimetype": "text/x-python",
   "name": "python",
   "nbconvert_exporter": "python",
   "pygments_lexer": "ipython3",
   "version": "3.7.2"
  }
 },
 "nbformat": 4,
 "nbformat_minor": 2
}
