{
 "cells": [
  {
   "cell_type": "markdown",
   "metadata": {},
   "source": [
    "You are standing at position 0 on an infinite number line. There is a goal at position target.\n",
    "\n",
    "On each move, you can either go left or right. During the n-th move (starting from 1), you take n steps.\n",
    "\n",
    "Return the minimum number of steps required to reach the destination.\n",
    "\n",
    ">Example 1:<br>\n",
    "Input: target = 3<br>\n",
    "Output: 2<br>\n",
    "Explanation:<br>\n",
    "On the first move we step from 0 to 1.<br>\n",
    ">On the second step we step from 1 to 3.<br>\n",
    "\n",
    ">Example 2:<br>\n",
    "Input: target = 2<br>\n",
    "Output: 3<br>\n",
    "Explanation:<br>\n",
    "On the first move we step from 0 to 1.<br>\n",
    "On the second move we step  from 1 to -1.<br>\n",
    ">On the third move we step from -1 to 2.<br>"
   ]
  },
  {
   "cell_type": "code",
   "execution_count": 6,
   "metadata": {},
   "outputs": [
    {
     "data": {
      "text/plain": [
       "7"
      ]
     },
     "execution_count": 6,
     "metadata": {},
     "output_type": "execute_result"
    }
   ],
   "source": [
    "#문제\n",
    "#target 숫자가 주워진다. \n",
    "#각 step은 1부터 시작되며, step마다 해당 step의 숫자를 더하거나 뺄 수 있다.\n",
    "#step들의 숫자를 더하거나 빼서 target을 만들 수 있는 최소의 step을 구하라.\n",
    "\n",
    "#예시1\n",
    "#target이 3이면, step1에서의 1, step2에서의 2를 더하면 3이 되므로, \n",
    "#두개의 step을 사용하였으니, 2를 리턴한다.\n",
    "\n",
    "#예시2\n",
    "#target이 2이면, step1에서 1을 더하고, step2에서 2를 빼주고(1-2 = -1) \n",
    "#다시 step3에서 3을 더해주면(-1+3=2) target이 된다.\n",
    "#3개의 step을 사용하였으니, 3을 리턴한다.\n",
    "\n",
    "\n",
    "\n",
    "\n",
    "#문제 풀이\n",
    "\n",
    "#target이 10이면, 1+2+3+4 가 최소 요구되는 steps이다. \n",
    "#그런데 target이 12면?\n",
    "#1+2+3+4+5 하면 15가 되고, 여기서 3만 빼주면 된다.\n",
    "#그런데 1+2-3+4+5 이면 -3이 아니라 -6이 되서 12가 아닌 9가 된다.\n",
    "\n",
    "#**여기서 빼주는 숫자가 짝수여야 된다는 것을 확인 할 수 있다.**\n",
    "#1+2+3+4+5+6을 해보면 21이 나온다. 21 - target(12) 하면 9이다.\n",
    "#이것도 짝수로 떨어지지 않는다.\n",
    "\n",
    "#1+2+3+4+5+6+7을 해보면 28이 나온다. 28 - target(12) 하면 16이다.\n",
    "#이건 짝수로 떨어진다.\n",
    "#16/2 == 8\n",
    "#8을 빼주려면 2와 6을 '-'로 바꾸면 된다.\n",
    "#1-2+3+4+5-6+7을 하면 target인 12가 된다.\n",
    "\n",
    "\n",
    "\n",
    "#step 01 - target은 최소 steps를 순차적으로 더한것 보다 커야한다.\n",
    "#step 02 - target - steps가 짝수여야 한다.\n",
    "\n",
    "\n",
    "def reachNumber(target):\n",
    "    target = abs(target)      #-이나 +이나, 서로의 답의 부등호만 바꿔주면 되기 때문에 상관이 없다.\n",
    "    if not target: return 0   #타겟이 없다면, 0를 리턴한다.\n",
    "    step = 1\n",
    "    total = 0\n",
    "    while True:\n",
    "        total += step            \n",
    "        if total >= target and (total-target)%2 == 0: # step01 & step02\n",
    "            return step\n",
    "        step += 1\n",
    "    return -1\n",
    "    \n",
    "reachNumber(12)"
   ]
  }
 ],
 "metadata": {
  "kernelspec": {
   "display_name": "Python 3",
   "language": "python",
   "name": "python3"
  },
  "language_info": {
   "codemirror_mode": {
    "name": "ipython",
    "version": 3
   },
   "file_extension": ".py",
   "mimetype": "text/x-python",
   "name": "python",
   "nbconvert_exporter": "python",
   "pygments_lexer": "ipython3",
   "version": "3.7.2"
  }
 },
 "nbformat": 4,
 "nbformat_minor": 2
}
