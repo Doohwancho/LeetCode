{
 "cells": [
  {
   "cell_type": "code",
   "execution_count": null,
   "metadata": {},
   "outputs": [],
   "source": [
    "\"\"\"\n",
    "Given a Binary Search Tree (BST), convert it to a Greater Tree such that every key of the original BST is changed to the original key plus sum of all keys greater than the original key in BST.\n",
    "\n",
    "Example:\n",
    "\n",
    "Input: The root of a Binary Search Tree like this:\n",
    "              5\n",
    "            /   \\\n",
    "           2     13\n",
    "\n",
    "Output: The root of a Greater Tree like this:\n",
    "             18\n",
    "            /   \\\n",
    "          20     13\n",
    "\"\"\"\n",
    "\n",
    "문제\n",
    "inorder traverse tree 방식으로 값이 증가하는 트리가 있다.\n",
    "각 노드의 값들을 해당 노드의 값 보다 더 큰 다른 모든 노드의 값들을 더한 숫자로 바꿔라.(예제 참고)\n",
    "\n",
    "문제풀이\n",
    "먼저, 값이 0인 sum이라는 변수를 만든다. \n",
    "reverse inorder traverse 방식으로 순회하면서(큰 수에서 작은수로 순회하면서), 해당 노드의 값을 sum과 더하고, sum에 해당 노드값을 더해준다.\n",
    "\n",
    "\n",
    "# Definition for a binary tree node.\n",
    "# class TreeNode:\n",
    "#     def __init__(self, x):\n",
    "#         self.val = x\n",
    "#         self.left = None\n",
    "#         self.right = None\n",
    "\n",
    "class Solution:\n",
    "    def convertBST(self, root: TreeNode) -> TreeNode:\n",
    "        self.sum = 0\n",
    "        def visit(root):\n",
    "            if root:\n",
    "                visit(root.right)\n",
    "                root.val += self.sum #어짜피 큰수에서 작은수로 가니까,순회할때마다 해당 노드에 sum을 더해준다.\n",
    "                self.sum = root.val #어짜피 더해지는 큰수들을 작은수보다 큰 값이니, 이전에 큰수들이 더해진 것을 더해주면 된다.\n",
    "                visit(root.left)\n",
    "        visit(root)\n",
    "        return root"
   ]
  }
 ],
 "metadata": {
  "kernelspec": {
   "display_name": "Python 3",
   "language": "python",
   "name": "python3"
  },
  "language_info": {
   "codemirror_mode": {
    "name": "ipython",
    "version": 3
   },
   "file_extension": ".py",
   "mimetype": "text/x-python",
   "name": "python",
   "nbconvert_exporter": "python",
   "pygments_lexer": "ipython3",
   "version": "3.7.2"
  }
 },
 "nbformat": 4,
 "nbformat_minor": 2
}
