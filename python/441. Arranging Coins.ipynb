{
 "cells": [
  {
   "cell_type": "markdown",
   "metadata": {},
   "source": [
    "You have a total of n coins that you want to form in a staircase shape, where every k-th row must have exactly k coins.\n",
    "\n",
    "Given n, find the total number of full staircase rows that can be formed.\n",
    "\n",
    "n is a non-negative integer and fits within the range of a 32-bit signed integer.\n",
    "\n",
    ">Example 1:<br>\n",
    ">n = 5<br>\n",
    ">The coins can form the following rows:<br>\n",
    ">¤<br>\n",
    ">¤ ¤<br>\n",
    ">¤ ¤<br>\n",
    "><br>\n",
    ">Because the 3rd row is incomplete, we return 2.<br>\n",
    "\n",
    ">Example 2:<br>\n",
    ">n = 8<br>\n",
    ">The coins can form the following rows:<br>\n",
    ">¤<br>\n",
    ">¤ ¤<br>\n",
    ">¤ ¤ ¤<br>\n",
    ">¤ ¤<br>\n",
    ">Because the 4th row is incomplete, we return 3.<br>"
   ]
  },
  {
   "cell_type": "code",
   "execution_count": 37,
   "metadata": {},
   "outputs": [
    {
     "name": "stdout",
     "output_type": "stream",
     "text": [
      "3\n"
     ]
    }
   ],
   "source": [
    "#SUCCESS\n",
    "#풀이방법:\n",
    "#step1. cnt는 층수를 의미하고 n은 주어진 block의 수를 의미한다.\n",
    "#step2. cnt 스택을 1부터 하나하나 쌓으면서 cnt가 n보다 커질때까지 빼준다. \n",
    "#step3. 경우의 수1 -- 만약 남은 n과 cnt의 수가 같다면, 남은 block과 층수의 갯수가 같다는 것을 의미하므로, 층수 숫자를 리턴한다.\n",
    "#step4. 경우의 수2 -- 만약 다르다면, example2처럼 block수가 남은 경우이다. 이 경우는 이전 층수를 리턴한다.\n",
    "\n",
    "\n",
    "n = 8\n",
    "cnt = 1\n",
    "\n",
    "while cnt < n:\n",
    "    n -= cnt\n",
    "    cnt+=1\n",
    "\n",
    "if n == cnt: print(cnt)\n",
    "else:print(cnt-1)"
   ]
  }
 ],
 "metadata": {
  "kernelspec": {
   "display_name": "Python 3",
   "language": "python",
   "name": "python3"
  },
  "language_info": {
   "codemirror_mode": {
    "name": "ipython",
    "version": 3
   },
   "file_extension": ".py",
   "mimetype": "text/x-python",
   "name": "python",
   "nbconvert_exporter": "python",
   "pygments_lexer": "ipython3",
   "version": "3.7.2"
  }
 },
 "nbformat": 4,
 "nbformat_minor": 2
}
