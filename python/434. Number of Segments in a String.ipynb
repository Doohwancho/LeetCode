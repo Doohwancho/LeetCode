{
 "cells": [
  {
   "cell_type": "markdown",
   "metadata": {},
   "source": [
    "Count the number of segments in a string, where a segment is defined to be a contiguous sequence of non-space characters.\n",
    "\n",
    "Please note that the string does not contain any non-printable characters.\n",
    "\n",
    ">Example:<br>\n",
    ">Input: \"Hello, my name is John\"<br>\n",
    ">Output: 5<br>"
   ]
  },
  {
   "cell_type": "code",
   "execution_count": 175,
   "metadata": {},
   "outputs": [
    {
     "name": "stdout",
     "output_type": "stream",
     "text": [
      "a, bb, cc, cc#, \n",
      "4\n"
     ]
    }
   ],
   "source": [
    "#s=\"Hello, my name    is John\"\n",
    "#s=\"Of all the gin joints in all the towns in all the world,   \"\n",
    "#s=\", , , ,        a, eaefa\"\n",
    "#s=\"a\"\n",
    "#s=\"                \"\n",
    "#s=\" \"\n",
    "s=\"a, bb, cc, cc#, \"\n",
    "\n",
    "S=list(s)\n",
    "\n",
    "if(len(s)==0):\n",
    "    print(0)\n",
    "    \n",
    "for i in range(len(s)):\n",
    "    if(S[i].isspace() and S[i-1].isspace() and i-1>=0 and i+1<=len(s)):\n",
    "        S[i-1]=\"\"\n",
    "        if(S[i]==\" \" and i==len(s)-1):\n",
    "            S[i]=\"\"\n",
    "print(''.join(S))\n",
    "if(len(''.join(S))==0 or (len(''.join(S))==1 and S[0].isspace())):\n",
    "    print(0)\n",
    "if(len(''.join(S))==1 and S[0].isspace() !=True):\n",
    "    print(1)\n",
    "print(''.join(S).strip().count(\" \")+1)"
   ]
  }
 ],
 "metadata": {
  "kernelspec": {
   "display_name": "Python 3",
   "language": "python",
   "name": "python3"
  },
  "language_info": {
   "codemirror_mode": {
    "name": "ipython",
    "version": 3
   },
   "file_extension": ".py",
   "mimetype": "text/x-python",
   "name": "python",
   "nbconvert_exporter": "python",
   "pygments_lexer": "ipython3",
   "version": "3.7.0"
  }
 },
 "nbformat": 4,
 "nbformat_minor": 2
}
