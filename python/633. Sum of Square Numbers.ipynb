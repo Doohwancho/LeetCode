{
 "cells": [
  {
   "cell_type": "markdown",
   "metadata": {},
   "source": [
    "Given a non-negative integer c, your task is to decide whether there're two integers a and b such that a2 + b2 = c.\n",
    "\n",
    ">Example 1:<br>\n",
    "Input: 5<br>\n",
    "Output: True<br>\n",
    ">Explanation: 1 * 1 + 2 * 2 = 5<br>\n",
    "\n",
    "\n",
    ">Example 2:<br>\n",
    "Input: 3<br>\n",
    ">Output: False<br>"
   ]
  },
  {
   "cell_type": "code",
   "execution_count": 34,
   "metadata": {},
   "outputs": [
    {
     "data": {
      "text/plain": [
       "True"
      ]
     },
     "execution_count": 34,
     "metadata": {},
     "output_type": "execute_result"
    }
   ],
   "source": [
    "#문제\n",
    "\n",
    "#피타고라스 정의와 유사하다. 피타고라스 정의에서 보면 a제곱+b제곱 = c제곱이 있다. \n",
    "#문제에서 c라는 숫자가 주어진다. \n",
    "#그러면 c를 만들수 있는 a제곱과 b제곱이 있으면 True를 리턴하라.\n",
    "#단 a와 b는 소숫점이 없는 자연수여야 한다.\n",
    "\n",
    "#예를들어, c가 5일경우, 1의 제곱(1) + 2의 제곱(4)를 더하면 5가 나오므로,\n",
    "#True를 반환한다.\n",
    "\n",
    "\n",
    "\n",
    "#문제풀이\n",
    "\n",
    "#math 모듈을 import해서 math.sqrt() 함수를 쓴다. sqrt()는 square root의 약자로, 루트 씌우라는 의미다.\n",
    "\n",
    "#step01 - for문으로 하나하나 체크할 때, range를 sqrt(c)로 한다. \n",
    "#예를들어, c가 25라고 해보자. sqrt(c)는 5이다. 5 이상의 수(ex.6)는 제곱해봐야 c를 초과하기 때문에, a제곱+b제곱을 할 수 없다.\n",
    "\n",
    "#step02 - verifier라는 변수를 만들어 c와 a가 주어진 상태에서 나머지 b를 구하는 수식을 짠다.\n",
    "\n",
    "#step03 - verifier(==b)가 소숫점이 없는 자연수인지 확인하기 위해, 소숫점을 버리는 int()를 사용한다.\n",
    "\n",
    "#step04 - 만약 for문이 끝나도 유효한 verifier가 나오지 않았을 경우, False를 반환한다.\n",
    "\n",
    "\n",
    "\n",
    "\n",
    "\n",
    "\n",
    "\n",
    "import math\n",
    "\n",
    "c = 2\n",
    "\n",
    "def SumofSquareNum(c):\n",
    "    for i in range(int(math.sqrt(c))+1):          #step01\n",
    "        verifier = math.sqrt(c - i**2)            #step02\n",
    "        if verifier - int(verifier) == 0:         #step03\n",
    "            return(True)  \n",
    "    return(False)                                 #step04\n",
    "\n",
    "SumofSquareNum(c)"
   ]
  }
 ],
 "metadata": {
  "kernelspec": {
   "display_name": "Python 3",
   "language": "python",
   "name": "python3"
  },
  "language_info": {
   "codemirror_mode": {
    "name": "ipython",
    "version": 3
   },
   "file_extension": ".py",
   "mimetype": "text/x-python",
   "name": "python",
   "nbconvert_exporter": "python",
   "pygments_lexer": "ipython3",
   "version": "3.7.2"
  }
 },
 "nbformat": 4,
 "nbformat_minor": 2
}
