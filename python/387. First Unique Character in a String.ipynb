{
 "cells": [
  {
   "cell_type": "markdown",
   "metadata": {},
   "source": [
    "Given a string, find the first non-repeating character in it and return it's index. If it doesn't exist, return -1.\n",
    "\n",
    ">Example1:<br>\n",
    ">s = \"leetcode\"<br>\n",
    ">return 0.<br>\n",
    "\n",
    ">Example2:<br>\n",
    ">s = \"loveleetcode\",<br>\n",
    ">return 2.<br>"
   ]
  },
  {
   "cell_type": "code",
   "execution_count": 142,
   "metadata": {},
   "outputs": [
    {
     "name": "stdout",
     "output_type": "stream",
     "text": [
      "7\n"
     ]
    }
   ],
   "source": [
    "#FAIL\n",
    "#aabbaaaba 시, s[-2]에서 s[-1]비교할 경우, 앞에 string과 비교하지 않기 때문\n",
    "\n",
    "s = \"aabbaaaba\"\n",
    "naljibreak=True #다중 for문 break\n",
    "\n",
    "if(len(s)==0):\n",
    "    print(-1)\n",
    "elif(len(s)==1):\n",
    "    print(0)\n",
    "for i in range(len(s)):\n",
    "    for j in range(i+1,len(s)):\n",
    "        if(s[i]==s[j]):\n",
    "            break\n",
    "        elif(s[i]!=s[j]):\n",
    "            j+=1\n",
    "            if(j==len(s)):\n",
    "                print(i)\n",
    "                naljibreak=False #다중 for문 break\n",
    "                break\n",
    "        if(naljibreak==False):#다중 for문 break\n",
    "            break\n",
    "    if(naljibreak==False):#다중 for문 break\n",
    "        break\n",
    "    "
   ]
  },
  {
   "cell_type": "code",
   "execution_count": 143,
   "metadata": {},
   "outputs": [
    {
     "name": "stdout",
     "output_type": "stream",
     "text": [
      "2\n"
     ]
    }
   ],
   "source": [
    "#SUCCESS\n",
    "#다만 미친량의 input을 넣었을 경우, 시간초과됌\n",
    "\n",
    "s = \"loveleetcode\"\n",
    "\n",
    "for i in range(len(s)):\n",
    "    if(s.count(s[i])==1):\n",
    "        print(i)\n",
    "        break\n",
    "    elif(i==(len(s)-1)):\n",
    "        print(-1)"
   ]
  }
 ],
 "metadata": {
  "kernelspec": {
   "display_name": "Python 3",
   "language": "python",
   "name": "python3"
  },
  "language_info": {
   "codemirror_mode": {
    "name": "ipython",
    "version": 3
   },
   "file_extension": ".py",
   "mimetype": "text/x-python",
   "name": "python",
   "nbconvert_exporter": "python",
   "pygments_lexer": "ipython3",
   "version": "3.7.0"
  }
 },
 "nbformat": 4,
 "nbformat_minor": 2
}
