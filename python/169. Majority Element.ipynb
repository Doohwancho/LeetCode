{
 "cells": [
  {
   "cell_type": "markdown",
   "metadata": {},
   "source": [
    "Given an array of size n, find the majority element. The majority element is the element that appears more than ⌊ n/2 ⌋ times.\n",
    "\n",
    "You may assume that the array is non-empty and the majority element always exist in the array.\n",
    "\n",
    ">Example 1:<br>\n",
    ">Input: [3,2,3]<br>\n",
    ">Output: 3<br>\n",
    "\n",
    ">Example 2:<br>\n",
    ">Input: [2,2,1,1,1,2,2]<br>\n",
    ">Output: 2<br>"
   ]
  },
  {
   "cell_type": "code",
   "execution_count": 29,
   "metadata": {},
   "outputs": [
    {
     "name": "stdout",
     "output_type": "stream",
     "text": [
      "2\n"
     ]
    }
   ],
   "source": [
    "nums=[2,2,1,1,1,2,2]\n",
    "removeDup=list(set(nums)) #set == unordered collections of distinct objects\n",
    "\n",
    "for idx,value in enumerate(removeDup):\n",
    "    if(nums.count(value) > len(nums)//2):\n",
    "        print(value)"
   ]
  }
 ],
 "metadata": {
  "kernelspec": {
   "display_name": "Python 3",
   "language": "python",
   "name": "python3"
  },
  "language_info": {
   "codemirror_mode": {
    "name": "ipython",
    "version": 3
   },
   "file_extension": ".py",
   "mimetype": "text/x-python",
   "name": "python",
   "nbconvert_exporter": "python",
   "pygments_lexer": "ipython3",
   "version": "3.7.1"
  }
 },
 "nbformat": 4,
 "nbformat_minor": 2
}
