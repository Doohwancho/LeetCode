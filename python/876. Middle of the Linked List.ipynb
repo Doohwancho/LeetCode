{
 "cells": [
  {
   "cell_type": "markdown",
   "metadata": {},
   "source": [
    "Given a non-empty, singly linked list with head node head, return a middle node of linked list.\n",
    "\n",
    "If there are two middle nodes, return the second middle node.\n",
    "\n",
    ">Input: [1,2,3,4,5]<br>\n",
    ">Output: Node 3 from this list (Serialization: [3,4,5])<br>"
   ]
  },
  {
   "cell_type": "code",
   "execution_count": 19,
   "metadata": {},
   "outputs": [
    {
     "data": {
      "text/plain": [
       "[2, 3, 4]"
      ]
     },
     "execution_count": 19,
     "metadata": {},
     "output_type": "execute_result"
    }
   ],
   "source": [
    "#yet\n",
    "#RUNTIME ERROR\n",
    "#Line 12: TypeError: object of type 'ListNode' has no len()\n",
    "\n",
    "a=[1,2,3,4,5]\n",
    "b=[]\n",
    "for i in range(len(a)):\n",
    "    if(i==len(a)//2):\n",
    "        b.append(a[i-1])\n",
    "        b.append(a[i])\n",
    "        b.append(a[i+1])\n",
    "b\n",
    "        "
   ]
  }
 ],
 "metadata": {
  "kernelspec": {
   "display_name": "Python 3",
   "language": "python",
   "name": "python3"
  },
  "language_info": {
   "codemirror_mode": {
    "name": "ipython",
    "version": 3
   },
   "file_extension": ".py",
   "mimetype": "text/x-python",
   "name": "python",
   "nbconvert_exporter": "python",
   "pygments_lexer": "ipython3",
   "version": "3.7.0"
  }
 },
 "nbformat": 4,
 "nbformat_minor": 2
}
