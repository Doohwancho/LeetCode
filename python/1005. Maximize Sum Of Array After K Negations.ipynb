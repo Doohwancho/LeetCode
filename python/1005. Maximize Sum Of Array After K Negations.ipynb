{
 "cells": [
  {
   "cell_type": "markdown",
   "metadata": {},
   "source": [
    "Given an array A of integers, we must modify the array in the following way: we choose an i and replace A[i] with -A[i], and we repeat this process K times in total.  (We may choose the same index i multiple times.)\n",
    "\n",
    "Return the largest possible sum of the array after modifying it in this way.\n",
    "\n",
    " \n",
    "\n",
    ">Example 1:<br>\n",
    "Input: A = [4,2,3], K = 1<br>\n",
    "Output: 5<br>\n",
    ">Explanation: Choose indices (1,) and A becomes [4,-2,3].<br>\n",
    "\n",
    ">Example 2:<br>\n",
    "Input: A = [3,-1,0,2], K = 3<br>\n",
    "Output: 6<br>\n",
    ">Explanation: Choose indices (1, 2, 2) and A becomes [3,1,0,2].<br>\n",
    "\n",
    ">Example 3:<br>\n",
    "Input: A = [2,-3,-1,5,-4], K = 2<br>\n",
    "Output: 13<br>\n",
    ">Explanation: Choose indices (1, 4) and A becomes [2,3,-1,5,4].<br>"
   ]
  },
  {
   "cell_type": "code",
   "execution_count": 33,
   "metadata": {},
   "outputs": [
    {
     "data": {
      "text/plain": [
       "20"
      ]
     },
     "execution_count": 33,
     "metadata": {},
     "output_type": "execute_result"
    }
   ],
   "source": [
    "#문제\n",
    "\n",
    "#리스트 A와 숫자 K가 주어진다.\n",
    "#주어진 리스트 안 숫자의 부호를 K번 바꿀 수 있다고 했을 때, 바꾼 후 리스트 안 숫자의 총 합이 가장 큰 경우를 리턴하라.\n",
    "#단, 같은 숫자의 부호를 중복으로 바꿀 수 있다.\n",
    "\n",
    "#예를들어, A = [3,-1,0,2], K = 3 인 경우,\n",
    "#A의 -1을 한번, 0을 두번 바꾸면 [3,1,0,2]가 되어, 총 합인 6을 반환하면 된다.\n",
    "\n",
    "#다른 예시로, A = [2,-3,-1,5,-4], K = 2 인 경우,\n",
    "#A의 -4와 -3을 +4와 +3으로 바꾸면 [2,3,-1,5,4]가 되어 총 합인 13을 반환하면 된다.\n",
    "\n",
    "\n",
    "\n",
    "#문제 풀이\n",
    "\n",
    "#먼저 A를 오름차순으로 정렬을 한 후, 총 3가지 경우의 수로 나뉜다.\n",
    "#case1) K값이 A 리스트 안 음수의 갯수보다 더 적거나 같은 경우.\n",
    "#이 경우는 K만큼 A리스트 안 음수를 양수로 바꿔주면 된다. \n",
    "#case2) K값이 A 리스트 안 음수의 갯수보다 더 크고, K-A값이 짝수인 경우.\n",
    "#K-A값이 짝수인 점이 왜 중요하냐면, A리스트안 음수를 양수로 모두 바꿔주고 난 후, 나머지 K가 짝수이면,\n",
    "#한 숫자를 중복해서 2번씩 바꿔주고, 이는 원점으로 돌아가기 때문에, 이 경우는 A리스트가 모두 양수로 바뀌게 된다.\n",
    "#case3) 나머지 경우(K값이 A 리스트 안 음수의 갯수보다 더 크고, K-A값이 홀수인 경우)\n",
    "#이 경우는 음수인 숫자는 모두 양수로 만들고, 절대값을 먹인 숫자중 가장 작은 숫자만 음수로 바꾸면 된다.\n",
    "\n",
    "\n",
    "def largestSumAfterKNegations(A, K):\n",
    "    A.sort()\n",
    "    B = [abs(num) for num in A]\n",
    "    num_neg = 0\n",
    "    for item in A:\n",
    "        if item >= 0:\n",
    "            break\n",
    "        else:\n",
    "            num_neg += 1\n",
    "    \n",
    "    if K <= num_neg:                   #case1\n",
    "        chunk1 = sum([abs(num) for num in A[0:K]])\n",
    "        chunk2 = sum([num for num in A[K:]])\n",
    "        return sum([chunk1, chunk2])   \n",
    "    else:\n",
    "        if (K - num_neg) % 2 == 0:     #case2\n",
    "            return sum(B)\n",
    "        else:\n",
    "            return sum(B) - 2 * min(B) #case3\n",
    "\n",
    "A = [5,6,9,-3,3]\n",
    "K = 2\n",
    "largestSumAfterKNegations(A, K)"
   ]
  }
 ],
 "metadata": {
  "kernelspec": {
   "display_name": "Python 3",
   "language": "python",
   "name": "python3"
  },
  "language_info": {
   "codemirror_mode": {
    "name": "ipython",
    "version": 3
   },
   "file_extension": ".py",
   "mimetype": "text/x-python",
   "name": "python",
   "nbconvert_exporter": "python",
   "pygments_lexer": "ipython3",
   "version": "3.7.2"
  }
 },
 "nbformat": 4,
 "nbformat_minor": 2
}
