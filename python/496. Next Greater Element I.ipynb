{
 "cells": [
  {
   "cell_type": "markdown",
   "metadata": {},
   "source": [
    "You are given two arrays (without duplicates) nums1 and nums2 where nums1’s elements are subset of nums2. Find all the next greater numbers for nums1's elements in the corresponding places of nums2.\n",
    "\n",
    "The Next Greater Number of a number x in nums1 is the first greater number to its right in nums2. If it does not exist, output -1 for this number.\n",
    "\n",
    ">Example 1:<br>\n",
    "Input: nums1 = [4,1,2], nums2 = [1,3,4,2].<br>\n",
    "Output: [-1,3,-1]<br>\n",
    "Explanation:<br>\n",
    "    For number 4 in the first array, you cannot find the next greater number for it in the second array, so output -1.<br>\n",
    "    For number 1 in the first array, the next greater number for it in the second array is 3.<br>\n",
    ">    For number 2 in the first array, there is no next greater number for it in the second array, so output -1.<br>\n",
    "\n",
    ">Example 2:<br>\n",
    "Input: nums1 = [2,4], nums2 = [1,2,3,4].<br>\n",
    "Output: [3,-1]<br>\n",
    "Explanation:<br>\n",
    "    For number 2 in the first array, the next greater number for it in the second array is 3.<br>\n",
    ">    For number 4 in the first array, there is no next greater number for it in the second array, so output -1.<br>"
   ]
  },
  {
   "cell_type": "code",
   "execution_count": 45,
   "metadata": {},
   "outputs": [
    {
     "data": {
      "text/plain": [
       "[7, 7, 7, 7, 7]"
      ]
     },
     "execution_count": 45,
     "metadata": {},
     "output_type": "execute_result"
    }
   ],
   "source": [
    "#문제\n",
    "\n",
    "#nums1,nums2라는 리스트 두개가 주어진다.\n",
    "#nums1 = [4,1,2], nums2 = [1,3,4,2]\n",
    "#nums1은 nums2의 부분집합이다.(== nums1에 있는 모든 숫자는 nums2에도 있다.)\n",
    "#num1 리스트 안의 숫자들을 하나하나 nums2에서 찾으면서, nums2에서 해당 숫자 다음으로 등장하는 숫자들 중, \n",
    "#첫번째로 가장 먼저 큰 숫자를 keep한다. 만약 해당 숫자보다 더 큰 숫자가 없다면, -1를 keep한다.\n",
    "\n",
    "#예시\n",
    "#num1의 첫번째 숫자는 4이다.\n",
    "#nums2에서 4를 찾는다. nums2의 4 이후의 숫자는 2다. \n",
    "#2는 nums1의 4보다 작으므로 -1를 keep한다.\n",
    "#nums1의 두번째 숫자는 1이다.\n",
    "#nums2에서 1을 찾는다. 1 이후의 숫자는 3,4,2다.\n",
    "#3,4,2중 가장 첫번째로 큰 숫자인 3을 keep한다.\n",
    "#nums1의 세번째 숫자는 3이다.\n",
    "#nums2에서 2을 찾는다. nums2의 2 이후의 숫자는 없다\n",
    "#2 이후의 숫자중 더 큰수를 keep해야 하는데, 2 이후의 숫자 자체가 없으므로 -1를 keep한다.\n",
    "#결과적으론 [-1,3,-1]을 반환한다.\n",
    "\n",
    "\n",
    "#문제풀이\n",
    "\n",
    "#step01 - 결과를 담을 rst리스트를 생성\n",
    "#step02 - nums1의 숫자를 for문으로 하나하나 뽑는다.\n",
    "#step03 - nums1의 숫자를 nums2에서 찾고, 해당 인덱스+1부터 nums1의 숫자보다 더 큰지 비교한다.\n",
    "#step04 - 만약 nums2의 for문이 다 돌아도 nums1의 숫자보다 더 큰 숫자가 없다면, -1를 keep한다.\n",
    "\n",
    "\n",
    "\n",
    "def nextGreaterElement(nums1, nums2):\n",
    "    \n",
    "    rst = []                               #step01\n",
    "    \n",
    "    for i in nums1:                        #step02\n",
    "        if len(nums2) == nums2.index(i)+1: #만약 nums1의 숫자가 nums2의 가장 마지막에 위치할 경우, 가장마지막+1의 인덱스를 찾으라고 하면\n",
    "            rst.append(-1)                 #해당 인덱스가 존재하지 않기 때문에 에러난다. 이 부분 방지용 조건문\n",
    "            continue                       #continue는 continue 이하를 건너뛰라는 기능을 가지고 있다.\n",
    "        for j in nums2[nums2.index(i)+1:]: #step03\n",
    "            if i < j:                      #step03\n",
    "                rst.append(j)\n",
    "                break                      #break는 해당 for문을 나가라는 기능을 가지고 있다.\n",
    "            if j == nums2[-1]:             #step04\n",
    "                rst.append(-1)\n",
    "    return rst\n",
    "\n",
    "nums1 = [1,3,5,2,4]\n",
    "nums2 = [6,5,4,3,2,1,7]\n",
    "nextGreaterElement(nums1, nums2)"
   ]
  }
 ],
 "metadata": {
  "kernelspec": {
   "display_name": "Python 3",
   "language": "python",
   "name": "python3"
  },
  "language_info": {
   "codemirror_mode": {
    "name": "ipython",
    "version": 3
   },
   "file_extension": ".py",
   "mimetype": "text/x-python",
   "name": "python",
   "nbconvert_exporter": "python",
   "pygments_lexer": "ipython3",
   "version": "3.7.2"
  }
 },
 "nbformat": 4,
 "nbformat_minor": 2
}
