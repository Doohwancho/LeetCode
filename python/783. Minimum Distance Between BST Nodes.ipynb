{
 "cells": [
  {
   "cell_type": "code",
   "execution_count": null,
   "metadata": {},
   "outputs": [],
   "source": [
    "\"\"\"\n",
    "Given a Binary Search Tree (BST) with the root node root, return the minimum difference between the values of any two different nodes in the tree.\n",
    "\n",
    "Example :\n",
    "\n",
    "Input: root = [4,2,6,1,3,null,null]\n",
    "Output: 1\n",
    "Explanation:\n",
    "Note that root is a TreeNode object, not an array.\n",
    "\n",
    "The given tree [4,2,6,1,3,null,null] is represented by the following diagram:\n",
    "\n",
    "          4\n",
    "        /   \\\n",
    "      2      6\n",
    "     / \\    \n",
    "    1   3  \n",
    "\n",
    "while the minimum difference in this tree is 1, it occurs between node 1 and node 2, also between node 3 and node 2.\n",
    "\"\"\"\n",
    "\n",
    "#문제\n",
    "#tree안 노드의 값들의 차중 최소값을 구하라\n",
    "\n",
    "#문제풀이\n",
    "#inorder traverse로 tree를 순회하면서, 이전 노드의 값을 self.prior에 담는다.\n",
    "#각 노드를 순회할때마다 현재 노드의 값 - 이전 노드의 값이 self.diff보다 작은경우, self.diff를 업데이트 해준다.\n",
    "#초기 self.diff는 infinity로 설정해준다. 두 노드의 값의 차이가 얼마가 됬든 그보다 큰 숫자로 설정해야 하기 때문이다.\n",
    "#if self.prior를 쓰지않고 if self.prior is not None으로 설정한 이유는, self.prior가 0일경우 False로 인식하기 때문이다.\n",
    "\n",
    "\n",
    "\n",
    "# Definition for a binary tree node.\n",
    "# class TreeNode:\n",
    "#     def __init__(self, x):\n",
    "#         self.val = x\n",
    "#         self.left = None\n",
    "#         self.right = None\n",
    "\n",
    "class Solution:\n",
    "    def minDiffInBST(self, root: TreeNode) -> int:\n",
    "        self.diff = float(\"inf\")\n",
    "        self.prior = None\n",
    "        \n",
    "        def dfs(root):\n",
    "            if root.left: dfs(root.left)\n",
    "            if self.prior is not None:\n",
    "                if self.diff > root.val - self.prior:\n",
    "                    self.diff = root.val - self.prior\n",
    "            self.prior = root.val\n",
    "            if root.right: dfs(root.right)\n",
    "                \n",
    "        dfs(root)\n",
    "        return self.diff"
   ]
  }
 ],
 "metadata": {
  "kernelspec": {
   "display_name": "Python 3",
   "language": "python",
   "name": "python3"
  },
  "language_info": {
   "codemirror_mode": {
    "name": "ipython",
    "version": 3
   },
   "file_extension": ".py",
   "mimetype": "text/x-python",
   "name": "python",
   "nbconvert_exporter": "python",
   "pygments_lexer": "ipython3",
   "version": "3.7.2"
  }
 },
 "nbformat": 4,
 "nbformat_minor": 2
}
