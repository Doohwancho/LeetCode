{
 "cells": [
  {
   "cell_type": "markdown",
   "metadata": {},
   "source": [
    "Given an array A of integers, return true if and only if it is a valid mountain array.\n",
    "\n",
    "\n",
    ">Recall that A is a mountain array if and only if:<br>\n",
    ">A.length >= 3<br>\n",
    ">There exists some i with 0 < i < A.length - 1 such that:<br>\n",
    ">A[0] < A[1] < ... A[i-1] < A[i]<br>\n",
    ">A[i] > A[i+1] > ... > A[B.length - 1]<br>\n",
    " \n",
    "\n",
    ">Example 1:<br>\n",
    ">Input: [2,1]<br>\n",
    ">Output: false<br>\n",
    "\n",
    ">Example 2:<br>\n",
    ">Input: [3,5,5]<br>\n",
    ">Output: false<br>\n",
    "\n",
    ">Example 3:<br>\n",
    ">Input: [0,3,2,1]<br>\n",
    ">Output: true<br>"
   ]
  },
  {
   "cell_type": "code",
   "execution_count": 110,
   "metadata": {},
   "outputs": [
    {
     "name": "stdout",
     "output_type": "stream",
     "text": [
      "False\n"
     ]
    }
   ],
   "source": [
    "#SUCCESS\n",
    "\n",
    "A = [9,8,7,6,5,4,3,2,1,0]\n",
    "#A= [0,3,2,1]\n",
    "A = [i for i in range(0,10)]\n",
    "if A:\n",
    "    tip=A.index(max(A))\n",
    "    if len(A) >= 3 and tip != 0 and all(A[j] < A[j+1] for j in range(tip)):\n",
    "        A.reverse()\n",
    "        if A.index(max(A)) != 0:\n",
    "            print(all(A[j-1] < A[j] for j in range(1, len(A)-tip)))\n",
    "        else:\n",
    "            print(False)\n",
    "    else:\n",
    "        print(False)\n",
    "else:\n",
    "    print(False)"
   ]
  }
 ],
 "metadata": {
  "kernelspec": {
   "display_name": "Python 3",
   "language": "python",
   "name": "python3"
  },
  "language_info": {
   "codemirror_mode": {
    "name": "ipython",
    "version": 3
   },
   "file_extension": ".py",
   "mimetype": "text/x-python",
   "name": "python",
   "nbconvert_exporter": "python",
   "pygments_lexer": "ipython3",
   "version": "3.7.1"
  }
 },
 "nbformat": 4,
 "nbformat_minor": 2
}
