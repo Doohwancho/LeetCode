{
 "cells": [
  {
   "cell_type": "markdown",
   "metadata": {},
   "source": [
    "Given an integer array, find three numbers whose product is maximum and output the maximum product.\n",
    "\n",
    ">Example 1:<br>\n",
    ">Input: [1,2,3]<br>\n",
    ">Output: 6<br>\n",
    "\n",
    ">Example 2:<br>\n",
    ">Input: [1,2,3,4]<br>\n",
    ">Output: 24<br>"
   ]
  },
  {
   "cell_type": "code",
   "execution_count": 5,
   "metadata": {},
   "outputs": [],
   "source": [
    "from functools import reduce"
   ]
  },
  {
   "cell_type": "code",
   "execution_count": 52,
   "metadata": {},
   "outputs": [
    {
     "data": {
      "text/plain": [
       "720"
      ]
     },
     "execution_count": 52,
     "metadata": {},
     "output_type": "execute_result"
    }
   ],
   "source": [
    "#yet\n",
    "#세개 모두 -일경우 -값이 안뜨네?\n",
    "\n",
    "nums=[-4,-3,-2,-1,60]\n",
    "#nums=[-1,-2,-3]\n",
    "\n",
    "reduce(lambda x, y: x*y, sorted([abs(number) for number in nums], reverse = True)[:3])"
   ]
  },
  {
   "cell_type": "code",
   "execution_count": 58,
   "metadata": {},
   "outputs": [
    {
     "data": {
      "text/plain": [
       "720"
      ]
     },
     "execution_count": 58,
     "metadata": {},
     "output_type": "execute_result"
    }
   ],
   "source": [
    "#Solution\n",
    "nums=[-4,-3,-2,-1,59,60]\n",
    "nums.sort()\n",
    "a=nums[-1]*nums[-2]*nums[-3]\n",
    "b=nums[0]*nums[1]*nums[-1]\n",
    "max(a,b)"
   ]
  }
 ],
 "metadata": {
  "kernelspec": {
   "display_name": "Python 3",
   "language": "python",
   "name": "python3"
  },
  "language_info": {
   "codemirror_mode": {
    "name": "ipython",
    "version": 3
   },
   "file_extension": ".py",
   "mimetype": "text/x-python",
   "name": "python",
   "nbconvert_exporter": "python",
   "pygments_lexer": "ipython3",
   "version": "3.7.1"
  }
 },
 "nbformat": 4,
 "nbformat_minor": 2
}
