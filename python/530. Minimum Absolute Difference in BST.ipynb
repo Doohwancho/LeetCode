{
 "cells": [
  {
   "cell_type": "code",
   "execution_count": null,
   "metadata": {},
   "outputs": [],
   "source": [
    "\"\"\"\n",
    "Given a binary search tree with non-negative values, find the minimum absolute difference between values of any two nodes.\n",
    "\n",
    "Example:\n",
    "\n",
    "Input:\n",
    "\n",
    "   1\n",
    "    \\\n",
    "     3\n",
    "    /\n",
    "   2\n",
    "\n",
    "Output:\n",
    "1\n",
    "\n",
    "Explanation:\n",
    "The minimum absolute difference is 1, which is the difference between 2 and 1 (or between 2 and 3).\n",
    "\"\"\"\n",
    "\n",
    "\n",
    "# Definition for a binary tree node.\n",
    "# class TreeNode:\n",
    "#     def __init__(self, x):\n",
    "#         self.val = x\n",
    "#         self.left = None\n",
    "#         self.right = None\n",
    "\n",
    "\n",
    "#문제\n",
    "#트리가 주어지면, 해당 노드의 값 중에서 차이가 최소인 수를 구하라\n",
    "\n",
    "#문제풀이\n",
    "#binary tree는 왼쪽에서 오른쪽으로 갈수록 숫자가 커지기 때문에, inorder traverse 방식으로 순회하면 숫자가 이미 정렬되어 있다. \n",
    "#이 때, 현재노드 - 이전노드의 차이의 최소값만 구해주면 된다.\n",
    "\n",
    "\n",
    "class Solution:\n",
    "    def getMinimumDifference(self, root: TreeNode) -> int:\n",
    "        self.diff = float(\"inf\")\n",
    "        self.prior = None\n",
    "        \n",
    "        def dfs(root):\n",
    "            if root.left: dfs(root.left) \n",
    "            if self.prior is not None: #if self.prior을 하면, self.prior가 0일때 False로 인식하므로, if self.prior is not None으로 하는게 옳다\n",
    "                self.diff = min(self.diff, root.val - self.prior) \n",
    "            self.prior = root.val \n",
    "            if root.right: dfs(root.right)\n",
    "            \n",
    "        dfs(root)\n",
    "        return self.diff"
   ]
  }
 ],
 "metadata": {
  "kernelspec": {
   "display_name": "Python 3",
   "language": "python",
   "name": "python3"
  },
  "language_info": {
   "codemirror_mode": {
    "name": "ipython",
    "version": 3
   },
   "file_extension": ".py",
   "mimetype": "text/x-python",
   "name": "python",
   "nbconvert_exporter": "python",
   "pygments_lexer": "ipython3",
   "version": "3.7.2"
  }
 },
 "nbformat": 4,
 "nbformat_minor": 2
}
