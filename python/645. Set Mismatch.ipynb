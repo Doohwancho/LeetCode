{
 "cells": [
  {
   "cell_type": "markdown",
   "metadata": {},
   "source": [
    "The set S originally contains numbers from 1 to n. But unfortunately, due to the data error, one of the numbers in the set got duplicated to another number in the set, which results in repetition of one number and loss of another number.\n",
    "\n",
    "Given an array nums representing the data status of this set after the error. Your task is to firstly find the number occurs twice and then find the number that is missing. Return them in the form of an array.\n",
    "\n",
    ">Example 1:<br>\n",
    ">Input: nums = [1,2,2,4]<br>\n",
    ">Output: [2,3]<br>"
   ]
  },
  {
   "cell_type": "code",
   "execution_count": 25,
   "metadata": {},
   "outputs": [
    {
     "data": {
      "text/plain": [
       "[2, 3]"
      ]
     },
     "execution_count": 25,
     "metadata": {},
     "output_type": "execute_result"
    }
   ],
   "source": [
    "#SUCCESS(?)\n",
    "#[2,2] 일때 [2,3]이라고 뜨는데 [2,1]뜨는게 답이라고 정답처리 안해줌. 아 근데 이거 둘다 답 될 수 있잖냐 인간적으로다가\n",
    "\n",
    "nums = [1,2,3,2]\n",
    "nums = [1,2,2,4]\n",
    "emptyList=[]\n",
    "\n",
    "def findErrorNums(nums):\n",
    "    for i in range(len(nums)):\n",
    "        if nums.count(nums[i])>1:\n",
    "            if nums[i] == nums[i+1]:\n",
    "                emptyList.append(nums[i])\n",
    "                emptyList.append(nums[i]+1)\n",
    "                return emptyList\n",
    "                break\n",
    "            else:\n",
    "                emptyList.append(nums[i])\n",
    "                nums.pop(i)\n",
    "                emptyList.append(nums[nums.index(emptyList[0])-1]+1)\n",
    "                return emptyList\n",
    "                break\n",
    "findErrorNums(nums)"
   ]
  },
  {
   "cell_type": "code",
   "execution_count": 27,
   "metadata": {},
   "outputs": [
    {
     "data": {
      "text/plain": [
       "[2, 3]"
      ]
     },
     "execution_count": 27,
     "metadata": {},
     "output_type": "execute_result"
    }
   ],
   "source": [
    "#천재의 답안\n",
    "\n",
    "nums = [1,2,2,4]\n",
    "\n",
    "def findErrorNums(nums):\n",
    "    return [sum(nums) - sum(set(nums)), sum(range(1, len(nums)+1)) - sum(set(nums))]\n",
    "\n",
    "findErrorNums(nums)"
   ]
  }
 ],
 "metadata": {
  "kernelspec": {
   "display_name": "Python 3",
   "language": "python",
   "name": "python3"
  },
  "language_info": {
   "codemirror_mode": {
    "name": "ipython",
    "version": 3
   },
   "file_extension": ".py",
   "mimetype": "text/x-python",
   "name": "python",
   "nbconvert_exporter": "python",
   "pygments_lexer": "ipython3",
   "version": "3.7.1"
  }
 },
 "nbformat": 4,
 "nbformat_minor": 2
}
