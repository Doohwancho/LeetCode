{
 "cells": [
  {
   "cell_type": "markdown",
   "metadata": {},
   "source": [
    "Determine whether an integer is a palindrome. An integer is a palindrome when it reads the same backward as forward.\n",
    "\n",
    ">Example 1:<br>\n",
    ">Input: 121<br>\n",
    ">Output: true<br>\n",
    "\n",
    ">Example 2:<br>\n",
    ">Input: -121<br>\n",
    ">Output: false<br>\n",
    ">Explanation: From left to right, it reads -121. From right to left, it becomes 121-. Therefore it is not a palindrome.<br>\n",
    "\n",
    ">Example 3:<br>\n",
    ">Input: 10<br>\n",
    ">Output: false<br>\n",
    ">Explanation: Reads 01 from right to left. Therefore it is not a palindrome.<br>"
   ]
  },
  {
   "cell_type": "code",
   "execution_count": 4,
   "metadata": {},
   "outputs": [
    {
     "data": {
      "text/plain": [
       "False"
      ]
     },
     "execution_count": 4,
     "metadata": {},
     "output_type": "execute_result"
    }
   ],
   "source": [
    "n = -121\n",
    "\n",
    "def palindrome(n):\n",
    "    string = str(n)\n",
    "    return string == string[::-1]\n",
    "    \n",
    "palindrome(n)"
   ]
  }
 ],
 "metadata": {
  "kernelspec": {
   "display_name": "Python 3",
   "language": "python",
   "name": "python3"
  },
  "language_info": {
   "codemirror_mode": {
    "name": "ipython",
    "version": 3
   },
   "file_extension": ".py",
   "mimetype": "text/x-python",
   "name": "python",
   "nbconvert_exporter": "python",
   "pygments_lexer": "ipython3",
   "version": "3.7.1"
  }
 },
 "nbformat": 4,
 "nbformat_minor": 2
}
