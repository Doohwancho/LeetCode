{
 "cells": [
  {
   "cell_type": "markdown",
   "metadata": {},
   "source": [
    "Given a sorted (in ascending order) integer array nums of n elements and a target value, write a function to search target in nums. If target exists, then return its index, otherwise return -1.\n",
    "\n",
    "\n",
    ">Example 1:<br>\n",
    "Input: nums = [-1,0,3,5,9,12], target = 9<br>\n",
    "Output: 4<br>\n",
    ">Explanation: 9 exists in nums and its index is 4<br>\n",
    "\n",
    ">Example 2:<br>\n",
    "Input: nums = [-1,0,3,5,9,12], target = 2<br>\n",
    "Output: -1<br>\n",
    ">Explanation: 2 does not exist in nums so return -1<br>"
   ]
  },
  {
   "cell_type": "code",
   "execution_count": 1,
   "metadata": {},
   "outputs": [
    {
     "data": {
      "text/plain": [
       "6"
      ]
     },
     "execution_count": 1,
     "metadata": {},
     "output_type": "execute_result"
    }
   ],
   "source": [
    "# return nums.index(target) if target in nums else -1\n",
    "# 로 간단히 문제를 풀 수 있으나..\n",
    "\n",
    "# 조금 더 간지나는 방법인 이진 검색 알고리즘을 이용해서 문제를 풀어보자.\n",
    "\n",
    "# 이진 검색 알고리즘을 굳이 왜 쓸까.\n",
    "\n",
    "# 검색해야 하는 대상이 엄~청 많으면, 처음부터 하나하나 찾는것 보다 실행속도가 훨~씬 빠르다.\n",
    "\n",
    "# 리스트 안 원소가 100만개이고, 찾고자 하는 target이 99만번째에 있다 라고 가정할 경우, .index()로 찾으면 컴퓨터가 처음부터  99만번을 하나하나 다 봐야하지만, 이진 검색 알고리즘을 쓰면, 맨 처음에 100만개의 반절을 뚝 떼서 50만~100만개 중에 절반인 75만번째가 target인지 본다.\n",
    "\n",
    "# 75만번째가 target이 아니면 target은 99만이니 75만~100만 범주에 해당 되므로, 컴퓨터는 다시 75~100만의 반을 뚝 떼서 87.5만이 target인지 본다. 이렇게 해당 리스트를 반절씩 줄여나가며 찾으니, 일일이 다 보는것 보다 찾는시간이 훨씬 더 빠르다.\n",
    "\n",
    "# 단!!!!\n",
    "\n",
    "# 이진 검색 알고리즘은 리스트 안의 숫자들이 오름차순으로 정렬되어 있어야 한다는 조건이 있다!!\n",
    "\n",
    "\n",
    "\n",
    "\n",
    "\n",
    "def search(nums, target):\n",
    "    left = 0                         #가장 왼쪽 index와 오른쪽 index 설정\n",
    "    right = len(nums) - 1\n",
    "    while left <= right:\n",
    "        midi = (left + right) // 2   #중앙값을 left와 right로 구한다.\n",
    "        mid = nums[midi] \n",
    "        \n",
    "        if mid == target:            #중앙값이 target과 같다면, 해당 인덱스를 리턴한다.\n",
    "            return midi\n",
    "        \n",
    "        if mid < target:             #중앙값이 target과 다르다면, 검색범위를 줄여나간다.\n",
    "            left = midi + 1    \n",
    "        else:\n",
    "            right = midi - 1\n",
    "    \n",
    "    return -1\n",
    "    \n",
    "nums = [-1,0,3,5,9,12,13]\n",
    "search(nums, 13)"
   ]
  }
 ],
 "metadata": {
  "kernelspec": {
   "display_name": "Python 3",
   "language": "python",
   "name": "python3"
  },
  "language_info": {
   "codemirror_mode": {
    "name": "ipython",
    "version": 3
   },
   "file_extension": ".py",
   "mimetype": "text/x-python",
   "name": "python",
   "nbconvert_exporter": "python",
   "pygments_lexer": "ipython3",
   "version": "3.7.2"
  }
 },
 "nbformat": 4,
 "nbformat_minor": 2
}
