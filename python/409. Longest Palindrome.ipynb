{
 "cells": [
  {
   "cell_type": "markdown",
   "metadata": {},
   "source": [
    "Given a string which consists of lowercase or uppercase letters, find the length of the longest palindromes that can be built with those letters.\n",
    "\n",
    "This is case sensitive, for example \"Aa\" is not considered a palindrome here.\n",
    "\n",
    "Note:\n",
    "Assume the length of given string will not exceed 1,010.\n",
    "\n",
    ">Example:<br>\n",
    ">Input:<br>\n",
    ">\"abccccdd\"<br>\n",
    ">Output:<br>\n",
    ">7<br>\n",
    ">Explanation:<br>\n",
    ">One longest palindrome that can be built is \"dccaccd\", whose length is 7.<br>"
   ]
  },
  {
   "cell_type": "code",
   "execution_count": 65,
   "metadata": {},
   "outputs": [
    {
     "name": "stdout",
     "output_type": "stream",
     "text": [
      "8 2 True\n"
     ]
    },
    {
     "data": {
      "text/plain": [
       "7"
      ]
     },
     "execution_count": 65,
     "metadata": {},
     "output_type": "execute_result"
    }
   ],
   "source": [
    "#문제\n",
    "\n",
    "#알파벳으로 이루어진 string이 주어진다.\n",
    "#여기서 대문자와 소문자 알파벳은 서로 다른 알파벳으로 취급한다.\n",
    "#이 알파벳을 조합하여, 가장 긴 'palindrome'한 문자열을 만들어야 한다.\n",
    "#'palindrome'이란, madam이나 nurses run처럼 앞에서부터 읽으나 뒤에서부터 읽으나 동일한 단어나 구이다.\n",
    "\n",
    "#예를들어 \"bananas\"라는 문자열이 주어졌으면,\n",
    "#\"bananas\"의 palindrome'은 'anana'이다. 앞에서부터 읽으나 뒤에서부터 읽으나 동일하기 때문이다.\n",
    "\n",
    "\n",
    "\n",
    "\n",
    "#문제풀이\n",
    "\n",
    "#string안에 짝수개의 앞파벳 갯수는 중요하지 않다. 몇개이든 나중에 더해주기만 하면 되기 때문이다.\n",
    "#중요한건 홀수개의 알파벳 갯수인데, 홀수개의 알파벳 갯수의 -1을 하면 짝수개가 되므로,\n",
    "#전체 string의 알파벳 갯수에서 홀수개의 숫자만큼 빼준 뒤, palindrome의 가장 가운데에 들어갈 홀수 알파벳 +1을 해주면 된다.\n",
    "\n",
    "#예를들어 'aaabbbcc'이 주어졌다고 하면, 이 string의 palindrome은 'cbaaabc'이다.\n",
    "#b는 홀수번 주어졌지만, 하나를 덜 사용했다.\n",
    "#이처럼 홀수번 주어진 알파벳도 하나만 덜 사용하면 짝수개 처럼 쓸 수 있다.\n",
    "#그래서 전체 알파벳 갯수에서('aaabbbcc'의 경우 8) 홀수번 주어진 알파벳의 갯수('aaa'와 'bbb'총 2개)를 빼고\n",
    "#만약 'aaabbbcc'의 알파벳 중, 홀수개의 알파벳이 있다면, 가운데 들어갈 알파벳 +1을 해주면 답이 나온다.\n",
    "\n",
    "\n",
    "\n",
    "import collections\n",
    "\n",
    "def longestPalindrome(s):\n",
    "    #collections.Counter(<문자열>)함수는 문자열을 받아서 문자열 한개한개의 갯수가 몇개인지 파악해, 각 알파벳을 key, 해당 알파벳의 숫자를 value인 dictionary로 반환한다.\n",
    "    #각 알파벳의 갯수를 파악해, 비트연산자 '& 1'를 이용하여 홀수인지 판별하고, 맞으면 True인 1을 반환한다.\n",
    "    #비트연산자 '& 1'가 어떻게 홀수를 판별해 주는지는 아래 링크를 참조하면 된다.\n",
    "    #https://stackoverflow.com/questions/8556206/what-does-mean-in-python\n",
    "    #이러한 True(1)의 갯수를 더한 것이 string의 홀수개의 알파벳을 더한것과 같게 된다.\n",
    "    odds = sum(v & 1 for v in collections.Counter(s).values())\n",
    "    return len(s) - odds + bool(odds)\n",
    "\n",
    "#s = \"Aabccccdd\"\n",
    "#s = \"ccc\"\n",
    "s = \"aaabbbbbcc\"\n",
    "s = 'aaabbbcc'\n",
    "#s = 'bb'\n",
    "#s = \"civilwartestingwhetherthatnaptionoranynartionsoconceivedandsodedicatedcanlongendureWeareqmetonagreatbattlefiemldoftzhatwarWehavecometodedicpateaportionofthatfieldasafinalrestingplaceforthosewhoheregavetheirlivesthatthatnationmightliveItisaltogetherfangandproperthatweshoulddothisButinalargersensewecannotdedicatewecannotconsecratewecannothallowthisgroundThebravelmenlivinganddeadwhostruggledherehaveconsecrateditfaraboveourpoorponwertoaddordetractTgheworldadswfilllittlenotlenorlongrememberwhatwesayherebutitcanneverforgetwhattheydidhereItisforusthelivingrathertobededicatedheretotheulnfinishedworkwhichtheywhofoughtherehavethusfarsonoblyadvancedItisratherforustobeherededicatedtothegreattdafskremainingbeforeusthatfromthesehonoreddeadwetakeincreaseddevotiontothatcauseforwhichtheygavethelastpfullmeasureofdevotionthatweherehighlyresolvethatthesedeadshallnothavediedinvainthatthisnationunsderGodshallhaveanewbirthoffreedomandthatgovernmentofthepeoplebythepeopleforthepeopleshallnotperishfromtheearth\"\n",
    "\n",
    "longestPalindrome(s)"
   ]
  },
  {
   "cell_type": "code",
   "execution_count": 67,
   "metadata": {},
   "outputs": [
    {
     "name": "stdout",
     "output_type": "stream",
     "text": [
      "5\n"
     ]
    }
   ],
   "source": [
    "#Trial01 \n",
    "\n",
    "#짝수는 모두 keep하고, 홀수는 가장 긴 것만 keep한후 마지막에 더해준다.\n",
    "\n",
    "\n",
    "#이 풀이의 문제점\n",
    "\n",
    "#하지만 홀수갯수의 알파벳이 나오면 -1개만 해서 짝수처럼 사용할 수 있다.\n",
    "#예를들어, s = 'aaabbbcc'의 경우, trial01대로라면, aaa와 bbb중 하나를 버리고, cc와 합쳐서 답은 5가 되지만,\n",
    "#aaa중 a를 버려 aa만 사용하고, bbb는 남은 홀수개의 알파벳중 가장 긴 string이니 모두 써서\n",
    "#'acbbbca'를 만들 수 있고 답은 7이 된다.\n",
    "\n",
    "\n",
    "\n",
    "import collections\n",
    "\n",
    "s = \"Aabccccdd\"\n",
    "#s = \"ccc\"\n",
    "#s = \"bananas\"\n",
    "#s = 'bb'\n",
    "s = \"aaabbbcc\"\n",
    "\n",
    "dictionary = collections.defaultdict(int)\n",
    "num = 0\n",
    "oddNum = True\n",
    "maxOdd = -float('inf')\n",
    "\n",
    "for i in s:\n",
    "    dictionary[i] += 1\n",
    "    \n",
    "for a, b in dictionary.items():\n",
    "    if b % 2 == 0:\n",
    "        num += b\n",
    "    elif b % 2 == 1:\n",
    "        if b > maxOdd:\n",
    "            maxOdd = b\n",
    "if maxOdd > 0:\n",
    "    num += maxOdd\n",
    "#만약 홀수의 largest > num, len(odd largest return else return num)  \n",
    "print(num if num > maxOdd else maxOdd)"
   ]
  }
 ],
 "metadata": {
  "kernelspec": {
   "display_name": "Python 3",
   "language": "python",
   "name": "python3"
  },
  "language_info": {
   "codemirror_mode": {
    "name": "ipython",
    "version": 3
   },
   "file_extension": ".py",
   "mimetype": "text/x-python",
   "name": "python",
   "nbconvert_exporter": "python",
   "pygments_lexer": "ipython3",
   "version": "3.7.2"
  }
 },
 "nbformat": 4,
 "nbformat_minor": 2
}
