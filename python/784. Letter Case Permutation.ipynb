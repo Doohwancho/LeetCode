{
 "cells": [
  {
   "cell_type": "markdown",
   "metadata": {},
   "source": [
    "Given a string S, we can transform every letter individually to be lowercase or uppercase to create another string.  Return a list of all possible strings we could create.\n",
    "\n",
    ">Examples:<br>\n",
    "Input: S = \"a1b2\"<br>\n",
    ">Output: [\"a1b2\", \"a1B2\", \"A1b2\", \"A1B2\"]<br>\n",
    "\n",
    ">Input: S = \"3z4\"<br>\n",
    ">Output: [\"3z4\", \"3Z4\"]<br>\n",
    "\n",
    ">Input: S = \"12345\"<br>\n",
    ">Output: [\"12345\"]<br>"
   ]
  },
  {
   "cell_type": "code",
   "execution_count": 48,
   "metadata": {},
   "outputs": [
    {
     "data": {
      "text/plain": [
       "['a1b2', 'A1b2', 'a1B2', 'A1B2']"
      ]
     },
     "execution_count": 48,
     "metadata": {},
     "output_type": "execute_result"
    }
   ],
   "source": [
    "#문제\n",
    "\n",
    "#문자열이 S = \"a1b2\"이런식으로 주어지면\n",
    "#문자열 알파벳들을 대문자,소문자로 바꿨을때의 모든 경우의 수를 리스트에 담아 리턴하라.\n",
    "\n",
    "\n",
    "\n",
    "#재귀법을 사용한 답\n",
    "#한줄한줄 코드를 시각화 해주는 아래 사이트 참조!\n",
    "#http://pythontutor.com/live.html#mode=edit\n",
    "\n",
    "def letterCasePermutation(S):\n",
    "    if not S:\n",
    "        return [\"\"]\n",
    "    index = -1\n",
    "    for i in range(len(S)):\n",
    "        if S[i].isalpha():\n",
    "            index = i\n",
    "            break         #알파벳이 감지되면, index를 해당알파벳의 index로 바꿔주고 for문을 나온다.\n",
    "    if index == -1:       #만약 재귀용법 사용중, 남은 알파벳이 없다면, sliced된 문자열을 리턴해 준다. \n",
    "        return [S]\n",
    "    else:\n",
    "        tmp = letterCasePermutation(S[index+1:])      #for문을 나오면 tmp변수에 해당 알파벳 이후의 문자열을 slicing한 후 넣어서 letterCasePermutation 함수를 다시 돌린다.\n",
    "        res = []\n",
    "        for s in tmp:\n",
    "            res.append(S[:index]+S[index].lower()+s)  #뒤에서 부터, 해당 알파벳을 소문자/대문자로 바꿔서 res에 넣어준다.\n",
    "            res.append(S[:index]+S[index].upper()+s)  #추후 해당 알파벳이 바뀌어서 넣어진 res는 tmp = letterCasePermutation(S[index+1:]) 줄 이하로 재귀된다.\n",
    "        return res\n",
    "    \n",
    "S = \"a1b2\"\n",
    "letterCasePermutation(S)"
   ]
  }
 ],
 "metadata": {
  "kernelspec": {
   "display_name": "Python 3",
   "language": "python",
   "name": "python3"
  },
  "language_info": {
   "codemirror_mode": {
    "name": "ipython",
    "version": 3
   },
   "file_extension": ".py",
   "mimetype": "text/x-python",
   "name": "python",
   "nbconvert_exporter": "python",
   "pygments_lexer": "ipython3",
   "version": "3.7.2"
  }
 },
 "nbformat": 4,
 "nbformat_minor": 2
}
