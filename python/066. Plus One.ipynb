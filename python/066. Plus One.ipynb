{
 "cells": [
  {
   "cell_type": "markdown",
   "metadata": {},
   "source": [
    "Given a non-empty array of digits representing a non-negative integer, plus one to the integer.\n",
    "\n",
    "The digits are stored such that the most significant digit is at the head of the list, and each element in the array contain a single digit.\n",
    "\n",
    "You may assume the integer does not contain any leading zero, except the number 0 itself.\n",
    "\n",
    ">Example 1:<br>\n",
    ">Input: [1,2,3]<br>\n",
    ">Output: [1,2,4]<br>\n",
    ">Explanation: The array represents the integer 123.<br>\n",
    "\n",
    ">Example 2:<br>\n",
    ">Input: [4,3,2,1]<br>\n",
    ">Output: [4,3,2,2]<br>\n",
    ">Explanation: The array represents the integer 4321.<br>"
   ]
  },
  {
   "cell_type": "code",
   "execution_count": 52,
   "metadata": {},
   "outputs": [
    {
     "data": {
      "text/plain": [
       "[4, 3, 3, 0]"
      ]
     },
     "execution_count": 52,
     "metadata": {},
     "output_type": "execute_result"
    }
   ],
   "source": [
    "#SUCCESS\n",
    "\n",
    "from functools import reduce  \n",
    "\n",
    "digits=[4,3,2,9]\n",
    "rst=[]\n",
    "summation=str(int(reduce(lambda x, y: str(x) + str(y), digits))+1)\n",
    "\n",
    "for i in range(len(summation)):\n",
    "    rst.append(int(summation[i]))\n",
    "\n",
    "rst"
   ]
  },
  {
   "cell_type": "code",
   "execution_count": 8,
   "metadata": {},
   "outputs": [
    {
     "data": {
      "text/plain": [
       "[4, 3, 2, 1, 0]"
      ]
     },
     "execution_count": 8,
     "metadata": {},
     "output_type": "execute_result"
    }
   ],
   "source": [
    "# trial01 -- 문제를 잘못파악해서 마지막꺼만 신경씀\n",
    "digits=[4,3,2,9]\n",
    "if digits[-1] == 9 :\n",
    "    digits[-1]=1\n",
    "    digits.append(0)\n",
    "    return digits\n",
    "else:\n",
    "    digits[-1]+=1\n",
    "    return digits"
   ]
  }
 ],
 "metadata": {
  "kernelspec": {
   "display_name": "Python 3",
   "language": "python",
   "name": "python3"
  },
  "language_info": {
   "codemirror_mode": {
    "name": "ipython",
    "version": 3
   },
   "file_extension": ".py",
   "mimetype": "text/x-python",
   "name": "python",
   "nbconvert_exporter": "python",
   "pygments_lexer": "ipython3",
   "version": "3.7.1"
  }
 },
 "nbformat": 4,
 "nbformat_minor": 2
}
