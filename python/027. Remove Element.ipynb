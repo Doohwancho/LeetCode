{
 "cells": [
  {
   "cell_type": "markdown",
   "metadata": {},
   "source": [
    "Given an array nums and a value val, remove all instances of that value in-place and return the new length.\n",
    "\n",
    "Do not allocate extra space for another array, you must do this by modifying the input array in-place with O(1) extra memory.\n",
    "\n",
    "The order of elements can be changed. It doesn't matter what you leave beyond the new length.\n",
    "\n",
    ">Example 1:<br>\n",
    ">Given nums = [3,2,2,3], val = 3,<br>\n",
    ">Your function should return length = 2, with the first two elements of nums being 2.<br>\n",
    ">It doesn't matter what you leave beyond the returned length.<br>\n",
    "\n",
    ">Example 2:<br>\n",
    ">Given nums = [0,1,2,2,3,0,4,2], val = 2,<br>\n",
    ">Your function should return length = 5, with the first five elements of nums containing 0, 1, 3, 0, and 4.<br>\n",
    ">Note that the order of those five elements can be arbitrary.<br>\n",
    ">It doesn't matter what values are set beyond the returned length.<br>"
   ]
  },
  {
   "cell_type": "code",
   "execution_count": 13,
   "metadata": {},
   "outputs": [
    {
     "data": {
      "text/plain": [
       "[0, 1, 3, 0, 4]"
      ]
     },
     "execution_count": 13,
     "metadata": {},
     "output_type": "execute_result"
    }
   ],
   "source": [
    "nums = [0,1,2,2,3,0,4,2] \n",
    "val = 2\n",
    "\n",
    "for i in range(nums.count(val)):\n",
    "    nums.remove(val)\n",
    "nums"
   ]
  }
 ],
 "metadata": {
  "kernelspec": {
   "display_name": "Python 3",
   "language": "python",
   "name": "python3"
  },
  "language_info": {
   "codemirror_mode": {
    "name": "ipython",
    "version": 3
   },
   "file_extension": ".py",
   "mimetype": "text/x-python",
   "name": "python",
   "nbconvert_exporter": "python",
   "pygments_lexer": "ipython3",
   "version": "3.7.1"
  }
 },
 "nbformat": 4,
 "nbformat_minor": 2
}
