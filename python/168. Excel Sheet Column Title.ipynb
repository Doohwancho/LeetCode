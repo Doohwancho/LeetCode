{
 "cells": [
  {
   "cell_type": "markdown",
   "metadata": {},
   "source": [
    "Given a positive integer, return its corresponding column title as appear in an Excel sheet.\n",
    "\n",
    ">For example:<br>\n",
    ">\n",
    ">    1 -> A<br>\n",
    ">    2 -> B<br>\n",
    ">    3 -> C<br>\n",
    ">    ...<br>\n",
    ">    26 -> Z<br>\n",
    ">    27 -> AA<br>\n",
    ">    28 -> AB <br>\n",
    "    \n",
    ">Example 1:<br>\n",
    "Input: 1<br>\n",
    ">Output: \"A\"<br>\n",
    "\n",
    ">Example 2:<br>\n",
    "Input: 28<br>\n",
    ">Output: \"AB\"<br>\n",
    "\n",
    ">Example 3:<br>\n",
    "Input: 701<br>\n",
    ">Output: \"ZY\"<br>"
   ]
  },
  {
   "cell_type": "code",
   "execution_count": 102,
   "metadata": {},
   "outputs": [
    {
     "name": "stdout",
     "output_type": "stream",
     "text": [
      "1 0 A A\n",
      "0 0 A AA\n"
     ]
    },
    {
     "data": {
      "text/plain": [
       "'AA'"
      ]
     },
     "execution_count": 102,
     "metadata": {},
     "output_type": "execute_result"
    }
   ],
   "source": [
    "#문제\n",
    "\n",
    "#숫자 n이 주어진다. 알파벳은 A~Z까지 순차적으로 바뀐다. 26번째인 Z다음은 AA이고, 51번째인 AZ다음은 BZ식으로 간다.\n",
    "#세자릿수도 마찬가지로, 702번째인 ZZ가 끝나면, 703번째로 AAA가 온다.\n",
    "\n",
    "\n",
    "#문제 풀이\n",
    "\n",
    "\n",
    "#step01 - A~Z를 인덱스로 표현할 수 있는 string을 만든다.\n",
    "#step02 - 파이썬의 내장함수 divmod()를 이용해서 n-1을 26로 나눈 몫과 나머지를 구한다.\n",
    "#step03 - n-1(dic가 인덱스0부터25이기 때문에 -1을 해줌)을 26으로 나눈것의 나머지는 해당 자릿수의 알파벳이 된다.\n",
    "#         **이때, 그 다음 더 큰 자릿수가 위치상 전 자릿수의 알파벳보다 앞에 나와야 하므로, res + dic[rem]이 아닌, dic[rem] + res을 쓴다.\n",
    "#step04 - 해당 자릿수의 알파벳이 구해졌으면, n-1을 26으로 나눈 몫이 n이 되어 자릿수를 높혀나간다. \n",
    "\n",
    "\n",
    "\n",
    "def convertToTitle(n):\n",
    "    dic = 'ABCDEFGHIJKLMNOPQRSTUVWXYZ'    #step01\n",
    "    res = ''\n",
    "    while n > 0:\n",
    "        n, rem = divmod(n-1, 26)          #step02 + step04\n",
    "        res = dic[rem] + res              #step03\n",
    "        print(n, rem, dic[rem], res)\n",
    "    return res \n",
    "\n",
    "convertToTitle(27)"
   ]
  },
  {
   "cell_type": "code",
   "execution_count": 81,
   "metadata": {},
   "outputs": [
    {
     "name": "stdout",
     "output_type": "stream",
     "text": [
      "AY\n"
     ]
    }
   ],
   "source": [
    "#Trial\n",
    "\n",
    "#26으로 나누어 떨어지는 숫자에서 error\n",
    "#3자릿수(702 이상이면 error)\n",
    "\n",
    "\n",
    "# A~Z   1~26 (27**1 - 27**0)\n",
    "# AA~ZZ  27~702 (27**2 - 27**1)\n",
    "# AAA~ZZZ 703~18954 (27**3 - 27**2)\n",
    "\n",
    "\n",
    "n = 51\n",
    "#n = 52\n",
    "#n = 702\n",
    "\n",
    "\n",
    "digit = 0\n",
    "\n",
    "string=\"\"\n",
    "\n",
    "alphabet = ['A','B','C','D','E','F','G','H','I','J','K','L','M','N','O','P','Q','R','S','T','U','V','W','X','Y','Z']\n",
    "dictionary = {i:j for i,j in zip(range(1,27), alphabet)}\n",
    "\n",
    "while True:\n",
    "    if n < 27:\n",
    "        string+=dictionary[n]\n",
    "        print(string)\n",
    "        break\n",
    "    else:\n",
    "        string+=dictionary[n//26]\n",
    "        if n % 26 == 0:\n",
    "            n = 26\n",
    "        else:\n",
    "            n %= 26\n",
    "        #print(n)"
   ]
  }
 ],
 "metadata": {
  "kernelspec": {
   "display_name": "Python 3",
   "language": "python",
   "name": "python3"
  }
 },
 "nbformat": 4,
 "nbformat_minor": 2
}
