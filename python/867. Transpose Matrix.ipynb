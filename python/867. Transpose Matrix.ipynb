{
 "cells": [
  {
   "cell_type": "markdown",
   "metadata": {},
   "source": [
    "Given a matrix A, return the transpose of A.\n",
    "\n",
    "The transpose of a matrix is the matrix flipped over it's main diagonal, switching the row and column indices of the matrix.\n",
    "\n",
    ">Example 1:<br>\n",
    ">Input: [[1,2,3],[4,5,6],[7,8,9]]<br>\n",
    ">Output: [[1,4,7],[2,5,8],[3,6,9]]<br>\n",
    "\n",
    ">Example 2:<br>\n",
    ">Input: [[1,2,3],[4,5,6]]<br>\n",
    ">Output: [[1,4],[2,5],[3,6]]<br>"
   ]
  },
  {
   "cell_type": "code",
   "execution_count": 24,
   "metadata": {},
   "outputs": [
    {
     "data": {
      "text/plain": [
       "[[1, 4], [2, 5], [3, 6]]"
      ]
     },
     "execution_count": 24,
     "metadata": {},
     "output_type": "execute_result"
    }
   ],
   "source": [
    "#Solution\n",
    "\n",
    "A=[[1,2,3],\n",
    "   [4,5,6],\n",
    "   [7,8,9]]\n",
    "sol = []\n",
    "\n",
    "for i in range(len(A[0])):\n",
    "    tmp = []\n",
    "    for j in range(len(A)):\n",
    "        tmp.append(A[j][i])\n",
    "    sol.append(tmp)\n",
    "sol"
   ]
  },
  {
   "cell_type": "code",
   "execution_count": 3,
   "metadata": {},
   "outputs": [
    {
     "data": {
      "text/plain": [
       "array([[1, 4],\n",
       "       [2, 5],\n",
       "       [3, 6]])"
      ]
     },
     "execution_count": 3,
     "metadata": {},
     "output_type": "execute_result"
    }
   ],
   "source": [
    "#numpy.array.transpose() 사용\n",
    "\n",
    "import numpy as np\n",
    "A=[[1,2,3],[4,5,6]]\n",
    "array1=np.array(A)\n",
    "output=array1.transpose()\n",
    "output"
   ]
  },
  {
   "cell_type": "code",
   "execution_count": 25,
   "metadata": {},
   "outputs": [
    {
     "data": {
      "text/plain": [
       "array([[0, 1, 2],\n",
       "       [3, 4, 5]])"
      ]
     },
     "execution_count": 25,
     "metadata": {},
     "output_type": "execute_result"
    }
   ],
   "source": [
    "import numpy as np\n",
    "\n",
    "x = np.arange(6).reshape((2,3)) #ex) .reshape(4,1)시 column하나의 4개 row가진 테이블 생성.\n",
    "x"
   ]
  },
  {
   "cell_type": "code",
   "execution_count": 23,
   "metadata": {},
   "outputs": [
    {
     "data": {
      "text/plain": [
       "array([[0, 3],\n",
       "       [1, 4],\n",
       "       [2, 5]])"
      ]
     },
     "execution_count": 23,
     "metadata": {},
     "output_type": "execute_result"
    }
   ],
   "source": [
    "np.transpose(x)"
   ]
  }
 ],
 "metadata": {
  "kernelspec": {
   "display_name": "Python 3",
   "language": "python",
   "name": "python3"
  },
  "language_info": {
   "codemirror_mode": {
    "name": "ipython",
    "version": 3
   },
   "file_extension": ".py",
   "mimetype": "text/x-python",
   "name": "python",
   "nbconvert_exporter": "python",
   "pygments_lexer": "ipython3",
   "version": "3.7.0"
  }
 },
 "nbformat": 4,
 "nbformat_minor": 2
}
