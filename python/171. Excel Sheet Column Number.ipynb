{
 "cells": [
  {
   "cell_type": "markdown",
   "metadata": {},
   "source": [
    "Given a column title as appear in an Excel sheet, return its corresponding column number.\n",
    "\n",
    ">For example:<br>\n",
    ">\n",
    ">    A -> 1<br>\n",
    ">    B -> 2<br>\n",
    ">    C -> 3<br>\n",
    ">    ...\n",
    ">    Z -> 26<br>\n",
    ">    AA -> 27<br>\n",
    ">    AB -> 28 <br>\n",
    "   \n",
    ">Example 1:<br>\n",
    ">Input: \"A\"<br>\n",
    ">Output: 1<br>\n",
    "\n",
    ">Example 2:<br>\n",
    ">Input: \"AB\"<br>\n",
    ">Output: 28<br>\n",
    "\n",
    ">Example 3:<br>\n",
    ">Input: \"ZY\"<br>\n",
    ">Output: 701<br>"
   ]
  },
  {
   "cell_type": "code",
   "execution_count": 32,
   "metadata": {},
   "outputs": [
    {
     "data": {
      "text/plain": [
       "701"
      ]
     },
     "execution_count": 32,
     "metadata": {},
     "output_type": "execute_result"
    }
   ],
   "source": [
    "#s = \"AB\"\n",
    "s = \"ZY\"\n",
    "alphabet = ['A','B','C','D','E','F','G','H','I','J','K','L','M','N','O','P','Q','R','S','T','U','V','W','X','Y','Z']\n",
    "dictionary = {}\n",
    "\n",
    "for i in range(1,27):\n",
    "    dictionary[alphabet[i-1]]=i\n",
    "\n",
    "sum([dictionary[s[j]]*26**(len(s)-j-1) for j in range(len(s))])"
   ]
  }
 ],
 "metadata": {
  "kernelspec": {
   "display_name": "Python 3",
   "language": "python",
   "name": "python3"
  },
  "language_info": {
   "codemirror_mode": {
    "name": "ipython",
    "version": 3
   },
   "file_extension": ".py",
   "mimetype": "text/x-python",
   "name": "python",
   "nbconvert_exporter": "python",
   "pygments_lexer": "ipython3",
   "version": "3.7.1"
  }
 },
 "nbformat": 4,
 "nbformat_minor": 2
}
