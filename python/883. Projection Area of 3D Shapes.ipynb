{
 "cells": [
  {
   "cell_type": "markdown",
   "metadata": {},
   "source": [
    "On a N * N grid, we place some 1 * 1 * 1 cubes that are axis-aligned with the x, y, and z axes.\n",
    "\n",
    "Each value v = grid[i][j] represents a tower of v cubes placed on top of grid cell (i, j).\n",
    "\n",
    "Now we view the projection of these cubes onto the xy, yz, and zx planes.\n",
    "\n",
    "A projection is like a shadow, that maps our 3 dimensional figure to a 2 dimensional plane. \n",
    "\n",
    "Here, we are viewing the \"shadow\" when looking at the cubes from the top, the front, and the side.\n",
    "\n",
    "Return the total area of all three projections.\n",
    "\n",
    " \n",
    "\n",
    ">Example 1:<br>\n",
    ">Input: [[2]]<br>\n",
    ">Output: 5<br>\n",
    "\n",
    ">Example 2:<br>\n",
    ">Input: [[1,2],[3,4]]<br>\n",
    ">Output: 17<br>\n",
    ">Explanation: <br>\n",
    ">Here are the three projections (\"shadows\") of the shape made with each axis-aligned plane.<br>\n",
    "\n",
    ">Example 3:<br>\n",
    ">Input: [[1,0],[0,2]]<br>\n",
    ">Output: 8<br>\n",
    "\n",
    ">Example 4:<br>\n",
    ">Input: [[1,1,1],[1,0,1],[1,1,1]]<br>\n",
    ">Output: 14<br>\n",
    "\n",
    ">Example 5:<br>\n",
    ">Input: [[2,2,2],[2,1,2],[2,2,2]]<br>\n",
    ">Output: 21<br>"
   ]
  },
  {
   "cell_type": "code",
   "execution_count": 42,
   "metadata": {},
   "outputs": [
    {
     "name": "stdout",
     "output_type": "stream",
     "text": [
      "30\n"
     ]
    }
   ],
   "source": [
    "#Success\n",
    "\n",
    "#data\n",
    "s=[[2,3,5],[4,0,0],[1,0,3]]\n",
    "#s=[[1,2],[3,4]]\n",
    "#s=[[1,1,1],[1,0,1],[1,1,1]]\n",
    "#s=[[1,0],[0,2]]\n",
    "#s=[[2]]\n",
    "\n",
    "\n",
    "#Top\n",
    "top=0\n",
    "for i in range(len(s)):\n",
    "    for j in range(len(s[i])):\n",
    "        if(s[i][j] > 0):\n",
    "            top+=1\n",
    "#Left\n",
    "maxLeft=0\n",
    "for i in range(len(s)):\n",
    "    maxNum=-999\n",
    "    for j in range(len(s)):\n",
    "        if(maxNum < s[j][i]):\n",
    "            maxNum = s[j][i]\n",
    "    maxLeft += maxNum \n",
    "    \n",
    "#Right\n",
    "maxRight=0\n",
    "for i in range(len(s)):\n",
    "    maxNum=-999\n",
    "    for j in range(len(s[i])):\n",
    "        if(maxNum < s[i][j]):\n",
    "            maxNum = s[i][j]\n",
    "    maxRight+=maxNum\n",
    "\n",
    "#print(top)\n",
    "#print(maxLeft)\n",
    "#print(maxRight)\n",
    "print(top+maxLeft+maxRight)"
   ]
  }
 ],
 "metadata": {
  "kernelspec": {
   "display_name": "Python 3",
   "language": "python",
   "name": "python3"
  },
  "language_info": {
   "codemirror_mode": {
    "name": "ipython",
    "version": 3
   },
   "file_extension": ".py",
   "mimetype": "text/x-python",
   "name": "python",
   "nbconvert_exporter": "python",
   "pygments_lexer": "ipython3",
   "version": "3.7.1"
  }
 },
 "nbformat": 4,
 "nbformat_minor": 2
}
