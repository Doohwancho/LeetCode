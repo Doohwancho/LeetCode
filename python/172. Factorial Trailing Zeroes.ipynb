{
 "cells": [
  {
   "cell_type": "markdown",
   "metadata": {},
   "source": [
    "Given an integer n, return the number of trailing zeroes in n!.\n",
    "\n",
    ">Example 1:<br>\n",
    ">Input: 3<br>\n",
    ">Output: 0<br>\n",
    ">Explanation: 3! = 6, no trailing zero.<br>\n",
    "\n",
    ">Example 2:<br>\n",
    ">Input: 5<br>\n",
    ">Output: 1<br>\n",
    ">Explanation: 5! = 120, one trailing zero.<br>"
   ]
  },
  {
   "cell_type": "code",
   "execution_count": 17,
   "metadata": {},
   "outputs": [
    {
     "name": "stdout",
     "output_type": "stream",
     "text": [
      "3628800 2\n"
     ]
    }
   ],
   "source": [
    "# 문제:\n",
    "# n이 주어지면 n의 팩토리얼을 한다.\n",
    "# 예를들어 n이 5면, 1*2*3*4*5 = 120이다.\n",
    "# n의 팩토리얼을 한 숫자의 trailing zeroes를 구한다.\n",
    "# trailing은 꽁지에 질질 끌린다 라는 뜻이다. 질질 끌면서 걸을때나 빗자루 같은것을 바닥에 질질 끌때 쓰이는 표현이다.\n",
    "# trailing zeroes를 숫자의 가장 마지막에 질질 끌리면서 나오는 0이라는 뜻이다.\n",
    "# 예를들어 120의 trailing zeros는 1개이다. \n",
    "\n",
    "\n",
    "#한계가 있는 답\n",
    "\n",
    "# 풀이\n",
    "# step01 - n의 팩토리얼을 구한다 (ex. 5! = 120)\n",
    "# step02 - n을 [::-1]을 써서 앞, 뒤로 뒤집는다 (ex. 120 -> 021)\n",
    "# step03 - 앞에서 부터 0의 갯수를 센다. 0이 안나오면 break한다.\n",
    "\n",
    "\n",
    "# 문제점\n",
    "# n이 엄~청 커지면 n의 팩토리얼을 구할때, 엄청 오래걸린다.\n",
    "\n",
    "\n",
    "\n",
    "n = 10\n",
    "num = 1\n",
    "cnt = 0\n",
    "\n",
    "#Factorial of n\n",
    "for i in range(1, n+1):\n",
    "    num *= i             # num = num * i와 동일\n",
    "\n",
    "\n",
    "#num을 앞, 뒤로 뒤집은 후, 앞에서부터 0이 안나올 때까지 카운트\n",
    "for j in str(num)[::-1]: # [::-1]는 string을 앞뒤로 뒤집는다.\n",
    "    if j == '0':\n",
    "        cnt += 1         #0이 나오면 count의 숫자를 늘린다\n",
    "    else:                # 0이 나오지 않으면, break로 for문을 나온다.\n",
    "        break \n",
    "\n",
    "print(num, cnt)"
   ]
  },
  {
   "cell_type": "code",
   "execution_count": 20,
   "metadata": {},
   "outputs": [
    {
     "name": "stdout",
     "output_type": "stream",
     "text": [
      "6\n"
     ]
    }
   ],
   "source": [
    "#개선된 답\n",
    "\n",
    "#팩토리얼 한 숫자의 마지막 0의 수를 알고싶다면, 그 숫자에 10이 몇번 곱해졌는지만 보면 된다\n",
    "#예를들어, 5! = 120인데, 10이 한번 곱해져서 0이 하나라는걸 알 수 있다.\n",
    "#그러면 10은 2*5이니까, 120안에 2랑 5가 몇번 곱해졌는지 알면된다. \n",
    "#근데 보통 숫자 안에 2는 많이 곱해진다. \n",
    "#그래서 우린 5가 몇번 나오는지만 보면 된다.\n",
    "#예를들어, 10!= 1*2*3*4*5*6*7*8*9*10 이고, 이 안에 5는 두번 곱해진다. 그래서 10!의 trailing zeroes는 2다.\n",
    "#실제로 10! = 3628800이다. trailing zeroes는 2이다.\n",
    "\n",
    "\n",
    "#근데 n!안에 25가 있다면?\n",
    "#5*5니까 5를 두번 세줘야 한다.\n",
    "#625가 있다면?\n",
    "#5*5*5니까 5를 세번 세줘야 한다.\n",
    "\n",
    "\n",
    "#예를들어 n은 25다\n",
    "#n안에 5의 갯수는 n/5 = 5개이다.\n",
    "#그런데 25는 5*5이므로 하나를 더 세준다.\n",
    "#그래서 25는 총 6개의 trailing zeroes가 있다.\n",
    "\n",
    "\n",
    "#n = 1808548329\n",
    "n = 25\n",
    "\n",
    "fiveSquares = 5\n",
    "cnt = 0\n",
    "\n",
    "while n // fiveSquares > 0:\n",
    "    cnt = cnt + (n // fiveSquares) \n",
    "    fiveSquares *= 5 #처음엔 5, 두번쨰엔 25, 세번째엔 625 ...으로 나눈 값을 더한다.\n",
    "\n",
    "print(cnt)"
   ]
  }
 ],
 "metadata": {
  "kernelspec": {
   "display_name": "Python 3",
   "language": "python",
   "name": "python3"
  },
  "language_info": {
   "codemirror_mode": {
    "name": "ipython",
    "version": 3
   },
   "file_extension": ".py",
   "mimetype": "text/x-python",
   "name": "python",
   "nbconvert_exporter": "python",
   "pygments_lexer": "ipython3",
   "version": "3.7.2"
  }
 },
 "nbformat": 4,
 "nbformat_minor": 2
}
