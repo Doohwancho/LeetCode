{
 "cells": [
  {
   "cell_type": "markdown",
   "metadata": {},
   "source": [
    "Given two arrays, write a function to compute their intersection.\n",
    "\n",
    ">Example 1:<br>\n",
    "Input: nums1 = [1,2,2,1], nums2 = [2,2]<br>\n",
    ">Output: [2]<br>\n",
    "\n",
    ">Example 2:<br>\n",
    "Input: nums1 = [4,9,5], nums2 = [9,4,9,8,4]<br>\n",
    ">Output: [9,4]<br>"
   ]
  },
  {
   "cell_type": "code",
   "execution_count": 3,
   "metadata": {},
   "outputs": [
    {
     "data": {
      "text/plain": [
       "[4, 9]"
      ]
     },
     "execution_count": 3,
     "metadata": {},
     "output_type": "execute_result"
    }
   ],
   "source": [
    "nums1 = [4,9,5]\n",
    "nums2 = [9,4,9,8,4]\n",
    "rst = []\n",
    "\n",
    "for i in nums1:\n",
    "    if i in nums2 and i not in rst:\n",
    "        rst.append(i)\n",
    "        \n",
    "rst"
   ]
  }
 ],
 "metadata": {
  "kernelspec": {
   "display_name": "Python 3",
   "language": "python",
   "name": "python3"
  },
  "language_info": {
   "codemirror_mode": {
    "name": "ipython",
    "version": 3
   },
   "file_extension": ".py",
   "mimetype": "text/x-python",
   "name": "python",
   "nbconvert_exporter": "python",
   "pygments_lexer": "ipython3",
   "version": "3.7.2"
  }
 },
 "nbformat": 4,
 "nbformat_minor": 2
}
