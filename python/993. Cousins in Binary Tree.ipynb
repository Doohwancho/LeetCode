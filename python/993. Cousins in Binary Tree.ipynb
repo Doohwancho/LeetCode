{
 "cells": [
  {
   "cell_type": "markdown",
   "metadata": {},
   "source": [
    "\"\"\"\n",
    "In a binary tree, the root node is at depth 0, and children of each depth k node are at depth k+1.\n",
    "\n",
    "Two nodes of a binary tree are cousins if they have the same depth, but have different parents.\n",
    "\n",
    "We are given the root of a binary tree with unique values, and the values x and y of two different nodes in the tree.\n",
    "\n",
    "Return true if and only if the nodes corresponding to the values x and y are cousins.\n",
    "\n",
    " \n",
    "\n",
    "Example 1:\n",
    "\n",
    "\n",
    "Input: root = [1,2,3,4], x = 4, y = 3\n",
    "Output: false\n",
    "Example 2:\n",
    "\n",
    "\n",
    "Input: root = [1,2,3,null,4,null,5], x = 5, y = 4\n",
    "Output: true\n",
    "Example 3:\n",
    "\n",
    "\n",
    "\n",
    "Input: root = [1,2,3,null,4], x = 2, y = 3\n",
    "Output: false\n",
    "\"\"\""
   ]
  },
  {
   "cell_type": "code",
   "execution_count": null,
   "metadata": {},
   "outputs": [],
   "source": [
    "# 문제\n",
    "# 트리에 노드들중, 같은 레벨(depth)에 있고 부모가 다른것을 Cousin(조카)라고 한다.\n",
    "# x,y가 주어졌을 때, 이 두개의 숫자가 조카인지 여부를 찾아라.\n",
    "# (트리에 존재하는 모든 노드의 값은 중복되지 않는다.)\n",
    "\n",
    "# 문제풀이\n",
    "# tree순회 방법:Breadth First Traversal (Or Level Order Traversal) (=층단위로 순회할때 쓰이는 알고리즘)\n",
    "# True조건1:x,y가 서로 다른 부모\n",
    "# True조건2:x,y가 같은 층에 위치\n",
    "# 층층이 돌면서 x나 y중 먼저 나타나는놈 부모를 firstParents에 넣고, 나머지놈의 부모가 firstParents와 다른지 비교한다.\n",
    "# 만약 x,y중 한놈의 부모만 firstParents에 넣어지고 다른층으로 넘어간 경우 False반환.\n",
    "\n",
    "\n",
    "# Definition for a binary tree node.\n",
    "# class TreeNode:\n",
    "#     def __init__(self, x):\n",
    "#         self.val = x\n",
    "#         self.left = None\n",
    "#         self.right = None\n",
    "\n",
    "class Solution:\n",
    "    def isCousins(self, root: TreeNode, x: int, y: int) -> bool:\n",
    "        firstParents = None\n",
    "        q = [root]\n",
    "        while q: #bfs 순회방식\n",
    "            level = []\n",
    "            for node in q:\n",
    "                for nextq in (node.left, node.right): #각 노드의 left,right child를 돌면서, child가 존재하면 level에 child를 넣고, level이 q가되어 해당 노드가 없어질때까지 while문을 돈다.\n",
    "                    if nextq:\n",
    "                        if nextq.val in (x,y): #자식노드가 x,y중 하나이고\n",
    "                            if not firstParents:   #firstParents가 아직 비어있으면\n",
    "                                firstParents = node #firstParents의 부모를 넣어준다\n",
    "                            else:\n",
    "                                return firstParents != node #만약 x의 firstParents가 넣어진 상태에서 y의 부모가 다르면, True를 반환한다.\n",
    "                        level.append(nextq)\n",
    "            if firstParents:     #만약 x,y중 한놈만 firstParents가 설정된 경우, 두놈이 다른층에 위치한다는 말이므로 False를 반환한다.\n",
    "                return False\n",
    "            q = level"
   ]
  }
 ],
 "metadata": {
  "kernelspec": {
   "display_name": "Python 3",
   "language": "python",
   "name": "python3"
  },
  "language_info": {
   "codemirror_mode": {
    "name": "ipython",
    "version": 3
   },
   "file_extension": ".py",
   "mimetype": "text/x-python",
   "name": "python",
   "nbconvert_exporter": "python",
   "pygments_lexer": "ipython3",
   "version": "3.7.2"
  }
 },
 "nbformat": 4,
 "nbformat_minor": 2
}
