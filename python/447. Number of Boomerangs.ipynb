{
 "cells": [
  {
   "cell_type": "markdown",
   "metadata": {},
   "source": [
    "Given n points in the plane that are all pairwise distinct, a \"boomerang\" is a tuple of points (i, j, k) such that the distance between i and j equals the distance between i and k (the order of the tuple matters).\n",
    "\n",
    "Find the number of boomerangs. You may assume that n will be at most 500 and coordinates of points are all in the range [-10000, 10000] (inclusive).\n",
    "\n",
    ">Example:<br>\n",
    ">Input:<br>\n",
    ">[[0,0],[1,0],[2,0]]<br>\n",
    "><br>\n",
    ">Output:<br>\n",
    ">2<br>\n",
    "><br>\n",
    ">Explanation:<br>\n",
    ">The two boomerangs are [[1,0],[0,0],[2,0]] and [[1,0],[2,0],[0,0]]<br>"
   ]
  },
  {
   "cell_type": "code",
   "execution_count": 38,
   "metadata": {},
   "outputs": [
    {
     "data": {
      "text/plain": [
       "2"
      ]
     },
     "execution_count": 38,
     "metadata": {},
     "output_type": "execute_result"
    }
   ],
   "source": [
    "#문제\n",
    "\n",
    "#원소가 3개인 리스트가 주어진다. [(x1,y1),(x2,y2),(x3,y3)] 처럼 주어진다.\n",
    "#리스트의 첫 원소를 기준으로, 리스트의 두번째 원소의 x들의 거리와 y들의 거리와 세번째 원소의 x들의 거리와 y들의 거리가 같다면, '부메랑'으로 취급한다.\n",
    "#각 원소의 순서를 바꿔가면서, 총 '부메랑'의 숫자를 구하면 된다.\n",
    "\n",
    "#예를들어 [[0,0],[1,0],[2,0]]라는 리스트가 주어졌다고 하였을 때,\n",
    "#리스트의 첫번째 원소인 [0,0]은 두번째 원소인 [1,0]과 x의 거리는 1차이, y의 거리는 0차이 난다.\n",
    "#세번째 원소인 [2,0]와 거리계산을 하면, x의 거리는 2차이, y의 거리는 0차이 난다.\n",
    "#y의 거리차이는 0으로 같지만, x의 거리차이가 다르므로 [[0,0],[1,0],[2,0]]는 '부메랑'이 아니다.\n",
    "\n",
    "#다른 예시로,[[1,0],[0,0],[2,0]] 라는 리스트가 주어졌다고 하였을 때,\n",
    "#리스트의 첫번째 원소인 [1,0]은 두번째 원소인 [0,0]과 x의 거리는 1차이, y의 거리는 0차이 난다.\n",
    "#세번째 원소인 [2,0]와 거리계산을 하면, x의 거리는 1차이, y의 거리는 0차이 난다.\n",
    "#x와 y의 거리차이가 각각 0으로 모두 같으므로,[[1,0],[0,0],[2,0]] 는 '부메랑'이다.\n",
    "\n",
    "#이런 식으로 계산을 해서, 처음 리스트인  [[0,0],[1,0],[2,0]]의 부메랑의 갯수를 구한다.\n",
    "#부메랑은 [[1,0],[0,0],[2,0]] 와 [[1,0],[2,0],[0,0]]이므로, 2를 반환한다.\n",
    "\n",
    "\n",
    "import collections\n",
    "\n",
    "\n",
    "def numberOfBoomrangs(points):\n",
    "    #마지막에 반환할 부메랑 갯수\n",
    "    nums = 0\n",
    "    #points의 첫번째 원소를 기준으로 나머지 원소들을 비교할 것이다.\n",
    "    for x1, y1 in points:\n",
    "        #첫번째 원소를 기준으로 나머지 원소들의 x,y의 거리값을 담을 dictionary를 생성한다\n",
    "        distance = collections.defaultdict(int)\n",
    "        #나머지 원소들의 x,y를 비교한다\n",
    "        for x2, y2 in points:\n",
    "            #x와 y의 거리는, 각각 빼주고 제곱해서 더해준 값을 거리값으로 정한다.\n",
    "            dx = abs(x2 - x1)\n",
    "            dy = abs(y2 - y1)\n",
    "            d = dx * dx + dy * dy\n",
    "            #만약 부메랑이 아닌경우(거리가 겹치지 않은 경우), 각각의 원소들마다 거리값이 다르므로, distance dictionary엔 세개의 거리값이 각각 다른 key로, value는 1로 저장된다.\n",
    "            #예를들어 [[0,0],[2,0],[4,0]]은 distance에 저장될 때 {0: 1, 4: 1, 16: 1}로 저장된다.\n",
    "            #만약 부메랑인경우, 거리값인 key값이 동일하므로, [[2,0],[0,0],[4,0]]일 때, {4: 2, 0: 1}처럼 같은 key값에 value가 +=1이 두번되서 2로 저장된다.\n",
    "            distance[d] += 1\n",
    "        #부멤랑인 경우, n이 2가 나오므로, n * (n-1)를 해주면 원하는 값이 ㄴ 2가 나온다.\n",
    "        nums += sum(n * (n-1) for n in distance.values())\n",
    "    return nums\n",
    "\n",
    "points = [[0,0],[2,0],[4,0]]\n",
    "numberOfBoomerangs(points)"
   ]
  }
 ],
 "metadata": {
  "kernelspec": {
   "display_name": "Python 3",
   "language": "python",
   "name": "python3"
  },
  "language_info": {
   "codemirror_mode": {
    "name": "ipython",
    "version": 3
   },
   "file_extension": ".py",
   "mimetype": "text/x-python",
   "name": "python",
   "nbconvert_exporter": "python",
   "pygments_lexer": "ipython3",
   "version": "3.7.2"
  }
 },
 "nbformat": 4,
 "nbformat_minor": 2
}
