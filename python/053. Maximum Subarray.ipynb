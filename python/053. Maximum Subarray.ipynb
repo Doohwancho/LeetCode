{
 "cells": [
  {
   "cell_type": "markdown",
   "metadata": {},
   "source": [
    "Given an integer array nums, find the contiguous subarray (containing at least one number) which has the largest sum and return its sum.\n",
    "\n",
    ">Example:<br>\n",
    ">Input: [-2,1,-3,4,-1,2,1,-5,4],<br>\n",
    ">Output: 6<br>\n",
    ">Explanation: [4,-1,2,1] has the largest sum = 6.<br>"
   ]
  },
  {
   "cell_type": "code",
   "execution_count": 25,
   "metadata": {},
   "outputs": [
    {
     "data": {
      "text/plain": [
       "6"
      ]
     },
     "execution_count": 25,
     "metadata": {},
     "output_type": "execute_result"
    }
   ],
   "source": [
    "#SUCESS\n",
    "#timeout 뜸\n",
    "\n",
    "nums = [-2,1,-3,4,-1,2,1,-5,4]\n",
    "maxnum=-float('inf')\n",
    "\n",
    "while nums:\n",
    "    for i in range(1,len(nums)+1):\n",
    "        #print(nums[:i])\n",
    "        if sum(nums[:i]) > maxnum:\n",
    "            maxnum = sum(nums[:i])\n",
    "    nums.pop(0)\n",
    "maxnum"
   ]
  },
  {
   "cell_type": "code",
   "execution_count": 27,
   "metadata": {},
   "outputs": [
    {
     "name": "stdout",
     "output_type": "stream",
     "text": [
      "6\n"
     ]
    }
   ],
   "source": [
    "#Kadane's algorithm (Solution)\n",
    "# http://blog.naver.com/PostView.nhn?blogId=7005ye&logNo=221070006057&redirect=Dlog&widgetTypeCall=true&directAccess=false\n",
    "\n",
    "nums = [-2,1,-3,4,-1,2,1,-5,4]\n",
    "\n",
    "for i in range(1, len(nums)):\n",
    "    if nums[i-1] > 0:\n",
    "        nums[i] += nums[i-1]\n",
    "print(max(nums))"
   ]
  }
 ],
 "metadata": {
  "kernelspec": {
   "display_name": "Python 3",
   "language": "python",
   "name": "python3"
  },
  "language_info": {
   "codemirror_mode": {
    "name": "ipython",
    "version": 3
   },
   "file_extension": ".py",
   "mimetype": "text/x-python",
   "name": "python",
   "nbconvert_exporter": "python",
   "pygments_lexer": "ipython3",
   "version": "3.7.1"
  }
 },
 "nbformat": 4,
 "nbformat_minor": 2
}
