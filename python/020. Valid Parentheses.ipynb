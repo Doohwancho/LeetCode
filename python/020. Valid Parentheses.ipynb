{
 "cells": [
  {
   "cell_type": "markdown",
   "metadata": {},
   "source": [
    "Given a string containing just the characters '(', ')', '{', '}', '[' and ']', determine if the input string is valid.\n",
    "\n",
    "An input string is valid if:\n",
    "\n",
    "Open brackets must be closed by the same type of brackets.\n",
    "Open brackets must be closed in the correct order.\n",
    "Note that an empty string is also considered valid.\n",
    "\n",
    ">Example 1:<br>\n",
    ">Input: \"()\"<br>\n",
    ">Output: true<br>\n",
    "\n",
    ">Example 2:<br>\n",
    ">Input: \"()[]{}\"<br>\n",
    ">Output: true<br>\n",
    "\n",
    ">Example 3:<br>\n",
    ">Input: \"(]\"<br>\n",
    ">Output: false<br>\n",
    "\n",
    ">Example 4:<br>\n",
    ">Input: \"([)]\"<br>\n",
    ">Output: false<br>\n",
    "\n",
    ">Example 5:<br>\n",
    ">Input: \"{[]}\"<br>\n",
    ">Output: true<br>"
   ]
  },
  {
   "cell_type": "code",
   "execution_count": 4,
   "metadata": {},
   "outputs": [
    {
     "name": "stdout",
     "output_type": "stream",
     "text": [
      "True\n"
     ]
    }
   ],
   "source": [
    "#Solution\n",
    "\n",
    "s=\"()[]{}\"\n",
    "#s=\"[}\"\n",
    "#s=\"([{}])\"\n",
    "\n",
    "stack = []\n",
    "dict = {\"]\":\"[\", \"}\":\"{\", \")\":\"(\"}\n",
    "\n",
    "for char in s:\n",
    "    if char in dict.values():\n",
    "        stack.append(char)\n",
    "    elif char in dict.keys():\n",
    "        if stack == [] or dict[char] != stack.pop(): #stack에 들어간것과 i+1의 파트너 비교\n",
    "            print(False)\n",
    "    else:\n",
    "        print(False)\n",
    "print(stack == [])"
   ]
  },
  {
   "cell_type": "code",
   "execution_count": 6,
   "metadata": {},
   "outputs": [
    {
     "name": "stdout",
     "output_type": "stream",
     "text": [
      "2\n"
     ]
    }
   ],
   "source": [
    "#실패...\n",
    "\n",
    "#a=\"{[]}\"\n",
    "#a=\"([)]\"\n",
    "#a=\"()[]{}\"\n",
    "#b=\"()[]{}\"\n",
    "B=list(b)\n",
    "rst=0\n",
    "\n",
    "for i in range(len(a)-1):\n",
    "    if(i==0):\n",
    "        pass    \n",
    "    elif(B.index(a[i-1])+1!=B.index(a[i])):\n",
    "        rst+=1\n",
    "    elif(B.index(a[i-1])+1==B.index(a[i])):\n",
    "        rst-=1\n",
    "print(rst)"
   ]
  },
  {
   "cell_type": "code",
   "execution_count": 3,
   "metadata": {},
   "outputs": [
    {
     "name": "stdout",
     "output_type": "stream",
     "text": [
      "(\n",
      ")\n",
      "[\n",
      "]\n",
      "{\n",
      "}\n"
     ]
    }
   ],
   "source": [
    "#실패..\n",
    "\n",
    "\n",
    "a=\"[]{}\"\n",
    "b=\"()[]{}\"\n",
    "B={x:y for x, y in enumerate(b)}\n",
    "\n",
    "for i in range(len(B)):\n",
    "    print(B[i])"
   ]
  }
 ],
 "metadata": {
  "kernelspec": {
   "display_name": "Python 3",
   "language": "python",
   "name": "python3"
  },
  "language_info": {
   "codemirror_mode": {
    "name": "ipython",
    "version": 3
   },
   "file_extension": ".py",
   "mimetype": "text/x-python",
   "name": "python",
   "nbconvert_exporter": "python",
   "pygments_lexer": "ipython3",
   "version": "3.7.1"
  }
 },
 "nbformat": 4,
 "nbformat_minor": 2
}
