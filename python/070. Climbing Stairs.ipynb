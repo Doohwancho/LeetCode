{
 "cells": [
  {
   "cell_type": "markdown",
   "metadata": {},
   "source": [
    "You are climbing a stair case. It takes n steps to reach to the top.\n",
    "\n",
    "Each time you can either climb 1 or 2 steps. In how many distinct ways can you climb to the top?\n",
    "\n",
    "Note: Given n will be a positive integer.\n",
    "\n",
    ">Example 1:<br>\n",
    ">Input: 2<br>\n",
    ">Output: 2<br>\n",
    ">Explanation: There are two ways to climb to the top.<br>\n",
    ">1. 1 step + 1 step<br>\n",
    ">2. 2 steps<br>\n",
    "\n",
    ">Example 2:<br>\n",
    ">Input: 3<br>\n",
    ">Output: 3<br>\n",
    ">Explanation: There are three ways to climb to the top.<br>\n",
    ">1. 1 step + 1 step + 1 step<br>\n",
    ">2. 1 step + 2 steps<br>\n",
    ">3. 2 steps + 1 step<br>"
   ]
  },
  {
   "cell_type": "code",
   "execution_count": 105,
   "metadata": {},
   "outputs": [
    {
     "name": "stdout",
     "output_type": "stream",
     "text": [
      "89\n"
     ]
    }
   ],
   "source": [
    "#SUCCESS\n",
    "#근데 timeout뜸\n",
    "from itertools import combinations\n",
    "\n",
    "\"\"\"\n",
    "2 == 1+1(2)\n",
    "3 == 1+2+1(4)\n",
    "4 == 1+3+1(5)\n",
    "5 == 1+4+3+1(8)\n",
    "6 == 1+5+6+1(13)\n",
    "\n",
    "\"\"\"\n",
    "n = 10\n",
    "num = [1 for i in range(n)]\n",
    "rst = []\n",
    "\n",
    "def internal(n):\n",
    "    if n%2 != 0:\n",
    "        return(n//2)\n",
    "    else:\n",
    "        return(n // 2 -1)\n",
    "\n",
    "#internal(n)\n",
    "for i in range(internal(n)):\n",
    "    #print(list(combinations(num[i+1:],len(num[i+1:])-1)))\n",
    "    rst.append(len(list(combinations(num[i+1:],len(num[i+1:])-(i+1)))))\n",
    "\n",
    "#print(rst)\n",
    "if n % 2 == 1:print(sum(rst)+1)\n",
    "else: print(sum(rst)+2)"
   ]
  },
  {
   "cell_type": "code",
   "execution_count": 106,
   "metadata": {},
   "outputs": [
    {
     "data": {
      "text/plain": [
       "89"
      ]
     },
     "execution_count": 106,
     "metadata": {},
     "output_type": "execute_result"
    }
   ],
   "source": [
    "#SOLUTION1\n",
    "\n",
    "N = 10\n",
    "\n",
    "def solution(N):\n",
    "    if N <= 1:\n",
    "        return 1\n",
    "    prev_prev, prev, ways = 1, 1, 0\n",
    "    for i in range(2, N+1):\n",
    "        ways = prev + prev_prev\n",
    "        prev_prev, prev = prev, ways\n",
    "    return ways\n",
    "\n",
    "solution(N)"
   ]
  },
  {
   "cell_type": "code",
   "execution_count": 107,
   "metadata": {},
   "outputs": [
    {
     "data": {
      "text/plain": [
       "89"
      ]
     },
     "execution_count": 107,
     "metadata": {},
     "output_type": "execute_result"
    }
   ],
   "source": [
    "#SOLUTION2\n",
    "#어떤 천재가 만듬.. recursive라는데 패스..\n",
    "\n",
    "def memo1(f):\n",
    "    d = {}\n",
    "    def g(a):\n",
    "        if not a in d: d[a] = f(a)\n",
    "        return d[a]\n",
    "    return g\n",
    "    \n",
    "@memo1\n",
    "def fib(n):\n",
    "    if n == 1: return 1\n",
    "    if n == 2: return 2\n",
    "    return fib(n - 1) + fib(n - 2)\n",
    "\n",
    "class Solution:\n",
    "    # @param n, an integer\n",
    "    # @return an integer\n",
    "    def climbStairs(self, n):\n",
    "        return fib(n)\n",
    "    \n",
    "a=Solution()\n",
    "a.climbStairs(10)"
   ]
  }
 ],
 "metadata": {
  "kernelspec": {
   "display_name": "Python 3",
   "language": "python",
   "name": "python3"
  },
  "language_info": {
   "codemirror_mode": {
    "name": "ipython",
    "version": 3
   },
   "file_extension": ".py",
   "mimetype": "text/x-python",
   "name": "python",
   "nbconvert_exporter": "python",
   "pygments_lexer": "ipython3",
   "version": "3.7.1"
  }
 },
 "nbformat": 4,
 "nbformat_minor": 2
}
