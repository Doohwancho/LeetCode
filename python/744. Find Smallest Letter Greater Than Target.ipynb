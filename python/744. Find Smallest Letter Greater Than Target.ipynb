{
 "cells": [
  {
   "cell_type": "markdown",
   "metadata": {},
   "source": [
    "Given a list of sorted characters letters containing only lowercase letters, and given a target letter target, find the smallest element in the list that is larger than the given target.\n",
    "\n",
    "Letters also wrap around. For example, if the target is target = 'z' and letters = ['a', 'b'], the answer is 'a'.\n",
    "\n",
    "Examples:\n",
    "\n",
    "Input:\n",
    "letters = [\"c\", \"f\", \"j\"]\n",
    "target = \"a\"\n",
    "Output: \"c\"\n",
    "\n",
    "Input:\n",
    "letters = [\"c\", \"f\", \"j\"]\n",
    "target = \"c\"\n",
    "Output: \"f\"\n",
    "\n",
    "Input:\n",
    "letters = [\"c\", \"f\", \"j\"]\n",
    "target = \"d\"\n",
    "Output: \"f\"\n",
    "\n",
    "Input:\n",
    "letters = [\"c\", \"f\", \"j\"]\n",
    "target = \"g\"\n",
    "Output: \"j\"\n",
    "\n",
    "Input:\n",
    "letters = [\"c\", \"f\", \"j\"]\n",
    "target = \"j\"\n",
    "Output: \"c\"\n",
    "\n",
    "Input:\n",
    "letters = [\"c\", \"f\", \"j\"]\n",
    "target = \"k\"\n",
    "Output: \"c\""
   ]
  },
  {
   "cell_type": "code",
   "execution_count": 1,
   "metadata": {},
   "outputs": [
    {
     "name": "stdout",
     "output_type": "stream",
     "text": [
      "c\n"
     ]
    }
   ],
   "source": [
    "# 문제\n",
    "\n",
    "# letters = [\"c\", \"f\", \"j\"]\n",
    "\n",
    "# target = \"a\"\n",
    "\n",
    "# 처럼 리스트와 알파벳이 주어지면, 첫번째로 target 보다 알파벳 순서상 더 뒤에있는 단어를 letters에서 찾아 반환하면 된다.\n",
    "\n",
    "# 예를들어, target이 \"a\"인 경우, letters에서 \"c\"가 사전 순서상 a보다 뒤면서 다른 \"f\"와 \"j\"보다 먼저 등장한다.\n",
    "\n",
    "# 다른 예시로, target이 \"d\"인 경우, letters에서 \"d\"보다 사전 순서상 뒤면서 다른 알파벳보다 먼저 등장하는 알파벳은 \"f\"이다.\n",
    "\n",
    "# 만약에 target이 \"z\"여서 letters에 \"z\"보다 뒤인 알파벳이 없을경우, 가장 첫번째인 알파벳을 리턴한다.\n",
    "\n",
    "\n",
    "\n",
    "# 문제풀이\n",
    "\n",
    "# 1. 준비\n",
    "\n",
    "# alphabets 변수 안에 a부터 z까지 알파벳을 스트링 타입으로 저장하고,\n",
    "\n",
    "# listedAlphabet이라는 딕셔너리에 해당 알파벳과 인덱스를 key:value형태로 저장해 둔다.\n",
    "\n",
    "\n",
    "\n",
    "# 2. 적용\n",
    "\n",
    "# letters의 알파벳을 for문으로 돌면서, 해당 letters의 알파벳이 target보다 인덱스 값이 더 높으면(사전상 뒤에 위치하면), \n",
    "\n",
    "# 해당 인덱스 값을 리턴한다.\n",
    "\n",
    "# 만약 letters의 알파벳을 모두 적용했는데도 값이 리턴이 안됬다면, letters의 첫번째 알파벳을 리턴한다.\n",
    "\n",
    "\n",
    "\n",
    "\n",
    "\n",
    "letters = [\"c\", \"f\", \"j\"]\n",
    "target = \"k\"\n",
    "alphabets = \"abcdefghijklmnopqrstuvwxyz\"\n",
    "listedAlphabet = {v:i for i,v in enumerate(alphabets)}\n",
    "for i in letters:\n",
    "    if listedAlphabet[i] > listedAlphabet[target]:\n",
    "        print(i)\n",
    "        break\n",
    "    elif i == letters[-1]:\n",
    "        print(letters[0])\n",
    "        break"
   ]
  }
 ],
 "metadata": {
  "kernelspec": {
   "display_name": "Python 3",
   "language": "python",
   "name": "python3"
  },
  "language_info": {
   "codemirror_mode": {
    "name": "ipython",
    "version": 3
   },
   "file_extension": ".py",
   "mimetype": "text/x-python",
   "name": "python",
   "nbconvert_exporter": "python",
   "pygments_lexer": "ipython3",
   "version": "3.7.2"
  }
 },
 "nbformat": 4,
 "nbformat_minor": 2
}
