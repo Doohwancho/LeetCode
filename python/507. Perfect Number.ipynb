{
 "cells": [
  {
   "cell_type": "markdown",
   "metadata": {},
   "source": [
    "We define the Perfect Number is a positive integer that is equal to the sum of all its positive divisors except itself.\n",
    "\n",
    "Now, given an integer n, write a function that returns true when it is a perfect number and false when it is not.\n",
    "\n",
    ">Example:<br>\n",
    "Input: 28<br>\n",
    "Output: True<br>\n",
    ">Explanation: 28 = 1 + 2 + 4 + 7 + 14<br>"
   ]
  },
  {
   "cell_type": "code",
   "execution_count": 6,
   "metadata": {},
   "outputs": [
    {
     "name": "stdout",
     "output_type": "stream",
     "text": [
      "True\n"
     ]
    }
   ],
   "source": [
    "# 문제\n",
    "\n",
    "# num이라는 숫자가 주어진다.\n",
    "# num을 나머지 없이 나눌 수 있는 숫자들을 구한다.\n",
    "# 예를들어, 28은, 1,2,4,7,14,28로 나눴을 경우, 나머지가 없다.\n",
    "# 이 나머지들중 num(이 경우 28)을 제외한 1,2,4,7,14의 합이 num과 같을 경우,\n",
    "# True를 리턴하라.\n",
    "\n",
    "\n",
    "# 문제풀이\n",
    "\n",
    "# step01 - num을 나머지 없이 나눌 수 있는 숫자들을 구한다.\n",
    "# step02 - 그 숫자들의 합을 num과 비교하여, 같으면 True, 다르면 False를 반환한다.\n",
    "\n",
    "\n",
    "\n",
    "num = 28\n",
    "verifier = 0\n",
    "\n",
    "#1부터 num-1까지의 숫자\n",
    "for i in range(1,num):\n",
    "    if num % i == 0:         #만약 나머지가 없다면(1,2,4,7,14 같은 수라면), \n",
    "        verifier += i        #verifier에 더해라\n",
    "\n",
    "if num == verifier:          #만약 num과 verifier가 같다면, True를 반환한다.\n",
    "    print(True)\n",
    "else:                        #다르다면, False를 반환한다.\n",
    "    print(False)"
   ]
  },
  {
   "cell_type": "code",
   "execution_count": 15,
   "metadata": {},
   "outputs": [
    {
     "name": "stdout",
     "output_type": "stream",
     "text": [
      "True\n"
     ]
    }
   ],
   "source": [
    "#문제점\n",
    "#위 풀이는, num이 겁~나 큰 숫자면, for문 도는데 엄~청 긴 시간이 걸려서 time-out(시간초과)가 뜨게 된다.\n",
    "\n",
    "\n",
    "#개선된 답안\n",
    "\n",
    "#num이 28이면 num의 divisors는 1,2,4,7,14,28 이다.\n",
    "#여기서 우리는 1,2,4까지만 구하면, 나머지 7,14,28은 num 에서 1,2,4를 나눠주기만 하면 구해진다.\n",
    "#문제에 num(원래 숫자)를 제외한 나머지 숫자들의 합을 구하라고 하였으니, \n",
    "#num을 구하는데 필요한 1은 제외시키고 나머지 2,4만 구하도록 짜면 된다.\n",
    "\n",
    "\n",
    "#4와 7, 그 중간점은 루트를 이용해서 찾으면 된다.\n",
    "#예를들어 9의 divisor는 1,3,9 이고, 중간점은 9의 루트인 3이다.\n",
    "#루트를 먹인 중간점이 소숫점일 수도 있으니, 올림을 해준다.\n",
    "#예를들어, 28의 루트는 5.xx이니까, 6까지 고려해준다.\n",
    "\n",
    "\n",
    "#문제풀이\n",
    "\n",
    "#step01 - divisors의 중간점을 루트로 찾아준다\n",
    "#step02 - 중간점까지 2부터 for문으로 하나하나 보면서, 나머지가 없이 나눠지면, ret 리스트에 값을 넣는다\n",
    "#step03 - for문이 끝나고, 만약 ret의 합이 num과 같다면 True,아니면 False를 반환한다.\n",
    "\n",
    "\n",
    "\n",
    "import math\n",
    "\n",
    "num=28\n",
    "ret=[1]\n",
    "\n",
    "\n",
    "for i in range(2,int(math.sqrt(abs(num))+1)):\n",
    "    if num%i==0:\n",
    "        ret.append(i)\n",
    "        ret.append(num/i)\n",
    "        \n",
    "if num!=1:\n",
    "    print(sum(ret)==abs(num))\n",
    "else:\n",
    "    print(False)"
   ]
  }
 ],
 "metadata": {
  "kernelspec": {
   "display_name": "Python 3",
   "language": "python",
   "name": "python3"
  },
  "language_info": {
   "codemirror_mode": {
    "name": "ipython",
    "version": 3
   },
   "file_extension": ".py",
   "mimetype": "text/x-python",
   "name": "python",
   "nbconvert_exporter": "python",
   "pygments_lexer": "ipython3",
   "version": "3.7.2"
  }
 },
 "nbformat": 4,
 "nbformat_minor": 2
}
