{
 "cells": [
  {
   "cell_type": "markdown",
   "metadata": {},
   "source": [
    "Given a string S that only contains \"I\" (increase) or \"D\" (decrease), let N = S.length.\n",
    "\n",
    "Return any permutation A of [0, 1, ..., N] such that for all i = 0, ..., N-1:\n",
    "\n",
    "If S[i] == \"I\", then A[i] < A[i+1]\n",
    "If S[i] == \"D\", then A[i] > A[i+1]\n",
    " \n",
    "\n",
    ">Example 1:<br>\n",
    ">Input: \"IDID\"<br>\n",
    ">Output: [0,4,1,3,2]<br>\n",
    "\n",
    ">Example 2:<br>\n",
    ">Input: \"III\"<br>\n",
    ">Output: [0,1,2,3]<br>\n",
    "\n",
    ">Example 3:<br>\n",
    ">Input: \"DDI\"<br>\n",
    ">Output: [3,2,0,1]<br>"
   ]
  },
  {
   "cell_type": "code",
   "execution_count": 66,
   "metadata": {},
   "outputs": [
    {
     "name": "stdout",
     "output_type": "stream",
     "text": [
      "(1, 0, 2, 3) 0\n",
      "(1, 0, 3, 2) 0\n",
      "(2, 0, 1, 3) 0\n",
      "(2, 0, 3, 1) 0\n",
      "(2, 1, 0, 3) 0\n",
      "(2, 1, 3, 0) 0\n",
      "(3, 0, 1, 2) 0\n",
      "(3, 0, 2, 1) 0\n",
      "(3, 1, 0, 2) 0\n",
      "(3, 1, 2, 0) 0\n",
      "(3, 2, 0, 1) 0\n",
      "(3, 2, 1, 0) 0\n"
     ]
    }
   ],
   "source": [
    "#Fail\n",
    "#조건문에서 막힘\n",
    "\n",
    "import itertools\n",
    "\n",
    "S=\"IDD\"\n",
    "rst=list(range(len(S)+1))\n",
    "rst\n",
    "\n",
    "mypermuatation =  itertools.permutations(rst)\n",
    "for i in mypermuatation:\n",
    "    for j in range(1):\n",
    "        if(S[j]==\"I\" and i[j]>i[j+1]):\n",
    "            print i,j \n",
    "        if(S[j]==\"D\" and i[j]<i[j+1]):\n",
    "            print i,j\n"
   ]
  },
  {
   "cell_type": "code",
   "execution_count": 62,
   "metadata": {},
   "outputs": [
    {
     "name": "stdout",
     "output_type": "stream",
     "text": [
      "[2, 3, 1, 4, 5, 0]\n"
     ]
    }
   ],
   "source": [
    "#Solution1\n",
    "#step1. I(Increase)를 +1, D(Decrease)를 -1삼아 ans[]에 누적기록. ex> \"IDIID\" -- ans[0,1,-1,2,3,-2]\n",
    "#step2. 가장 낮은 음수의 절대값을 더함 ex> +abs(-2) -- ans[2,3,1,4,5,0]\n",
    "\n",
    "S=\"IDIID\"\n",
    "\n",
    "ans, left, right = [0] * (len(S) + 1), -1, 1\n",
    "        \n",
    "for i in range(1, len(S) + 1):\n",
    "    if S[i - 1] == 'I': ans[i] = right; right += 1\n",
    "    else: ans[i] = left; left -= 1\n",
    "print list(map(lambda x: x - left - 1, ans))"
   ]
  },
  {
   "cell_type": "code",
   "execution_count": 67,
   "metadata": {},
   "outputs": [
    {
     "name": "stdout",
     "output_type": "stream",
     "text": [
      "[0, 5, 1, 2, 4, 3]\n"
     ]
    }
   ],
   "source": [
    "#Solution2\n",
    "#더하고 뺄때, 가능한 가장 높은 숫자(safest)를 더하고 뺀 후, 마지막에 left+1를 더한다\n",
    "\n",
    "S=\"IDIID\"\n",
    "l, r, arr = 0, len(S), []\n",
    "for s in S:\n",
    "    arr.append(l if s == \"I\" else r)\n",
    "    l, r = l + (s == \"I\"), r - (s == \"D\") #?동작방식 -----#I면 left에 +1, D면 right에 -1\n",
    "print(arr + [l]) #마지막에 남는숫자 left+1더해줌"
   ]
  }
 ],
 "metadata": {
  "kernelspec": {
   "display_name": "Python 2",
   "language": "python",
   "name": "python2"
  },
  "language_info": {
   "codemirror_mode": {
    "name": "ipython",
    "version": 2
   },
   "file_extension": ".py",
   "mimetype": "text/x-python",
   "name": "python",
   "nbconvert_exporter": "python",
   "pygments_lexer": "ipython2",
   "version": "2.7.15"
  }
 },
 "nbformat": 4,
 "nbformat_minor": 2
}
