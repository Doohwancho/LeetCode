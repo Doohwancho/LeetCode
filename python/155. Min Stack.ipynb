{
 "cells": [
  {
   "cell_type": "markdown",
   "metadata": {},
   "source": [
    "Design a stack that supports push, pop, top, and retrieving the minimum element in constant time.\n",
    "\n",
    ">push(x) -- Push element x onto stack.<br>\n",
    "pop() -- Removes the element on top of the stack.<br>\n",
    "top() -- Get the top element.<br>\n",
    ">getMin() -- Retrieve the minimum element in the stack.<br>\n",
    "\n",
    ">Example:<br>\n",
    "MinStack minStack = new MinStack();<br>\n",
    "minStack.push(-2);<br>\n",
    "minStack.push(0);<br>\n",
    "minStack.push(-3);<br>\n",
    "minStack.getMin();   --> Returns -3.<br>\n",
    "minStack.pop();<br>\n",
    "minStack.top();      --> Returns 0.<br>\n",
    ">minStack.getMin();   --> Returns -2.<br>"
   ]
  },
  {
   "cell_type": "code",
   "execution_count": 5,
   "metadata": {},
   "outputs": [],
   "source": [
    "class MinStack:\n",
    "\n",
    "    def __init__(self):\n",
    "        \"\"\"\n",
    "        initialize your data structure here.\n",
    "        \"\"\"\n",
    "        self.stackList = []\n",
    "\n",
    "    def push(self, x: int) -> None:\n",
    "        return self.stackList.append(x)\n",
    "\n",
    "    def pop(self) -> None:\n",
    "        return self.stackList.pop(-1)\n",
    "\n",
    "    def top(self) -> int:\n",
    "        return self.stackList[-1]\n",
    "\n",
    "    def getMin(self) -> int:\n",
    "        return min(self.stackList)\n",
    "\n",
    "\n",
    "# Your MinStack object will be instantiated and called as such:\n",
    "# obj = MinStack()\n",
    "# obj.push(x)\n",
    "# obj.pop()\n",
    "# param_3 = obj.top()\n",
    "# param_4 = obj.getMin()"
   ]
  }
 ],
 "metadata": {
  "kernelspec": {
   "display_name": "Python 3",
   "language": "python",
   "name": "python3"
  },
  "language_info": {
   "codemirror_mode": {
    "name": "ipython",
    "version": 3
   },
   "file_extension": ".py",
   "mimetype": "text/x-python",
   "name": "python",
   "nbconvert_exporter": "python",
   "pygments_lexer": "ipython3",
   "version": "3.7.2"
  }
 },
 "nbformat": 4,
 "nbformat_minor": 2
}
