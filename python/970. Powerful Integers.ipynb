{
 "cells": [
  {
   "cell_type": "markdown",
   "metadata": {},
   "source": [
    "Given two non-negative integers x and y, an integer is powerful if it is equal to x^i + y^j for some integers i >= 0 and j >= 0.\n",
    "\n",
    "Return a list of all powerful integers that have value less than or equal to bound.\n",
    "\n",
    "You may return the answer in any order.  In your answer, each value should occur at most once.\n",
    "\n",
    " \n",
    "\n",
    ">Example 1:<br>\n",
    "Input: \n",
    "x = 2, <br>\n",
    "y = 3, <br>\n",
    "bound = 10<br>\n",
    "<br>\n",
    "Output: [2,3,4,5,7,9,10]<br>\n",
    "Explanation: <br>\n",
    "2 = 2^0 + 3^0<br>\n",
    "3 = 2^1 + 3^0<br>\n",
    "4 = 2^0 + 3^1<br>\n",
    "5 = 2^1 + 3^1<br>\n",
    "7 = 2^2 + 3^1<br>\n",
    "9 = 2^3 + 3^0<br>\n",
    ">10 = 2^0 + 3^2<br>\n",
    "\n",
    ">Example 2:<br>\n",
    "Input: x = 3, y = 5, bound = 15<br>\n",
    ">Output: [2,4,6,8,10,14]<br>"
   ]
  },
  {
   "cell_type": "code",
   "execution_count": 8,
   "metadata": {},
   "outputs": [
    {
     "data": {
      "text/plain": [
       "[2, 3, 4, 5, 7, 9, 10]"
      ]
     },
     "execution_count": 8,
     "metadata": {},
     "output_type": "execute_result"
    }
   ],
   "source": [
    "#SOLTUION\n",
    "#x와 y의 각각 제곱한 것들의 경우의 수를 구한다음 서로 더한게 bound보다 작으면 keep\n",
    "\n",
    "x = 2\n",
    "y = 3\n",
    "bound = 10\n",
    "\n",
    "xs = {x**i for i in range(20) if x**i < bound}\n",
    "ys = {y**i for i in range(20) if y**i < bound}\n",
    "list({i + j for i in xs for j in ys if i + j <= bound})"
   ]
  }
 ],
 "metadata": {
  "kernelspec": {
   "display_name": "Python 3",
   "language": "python",
   "name": "python3"
  },
  "language_info": {
   "codemirror_mode": {
    "name": "ipython",
    "version": 3
   },
   "file_extension": ".py",
   "mimetype": "text/x-python",
   "name": "python",
   "nbconvert_exporter": "python",
   "pygments_lexer": "ipython3",
   "version": "3.7.1"
  }
 },
 "nbformat": 4,
 "nbformat_minor": 2
}
