{
 "cells": [
  {
   "cell_type": "markdown",
   "metadata": {},
   "source": [
    "Given a string S, return the \"reversed\" string where all characters that are not a letter stay in the same place, and all letters reverse their positions.\n",
    "\n",
    " \n",
    "\n",
    ">Example 1:<br>\n",
    ">Input: \"ab-cd\"<br>\n",
    ">Output: \"dc-ba\"<br>\n",
    "\n",
    ">Example 2:\n",
    ">Input: \"a-bC-dEf-ghIj\"<br>\n",
    ">Output: \"j-Ih-gfE-dCba\"<br>\n",
    "\n",
    ">Example 3:\n",
    ">Input: \"Test1ng-Leet=code-Q!\"<br>\n",
    ">Output: \"Qedo1ct-eeLg=ntse-T!\"<br>"
   ]
  },
  {
   "cell_type": "code",
   "execution_count": 103,
   "metadata": {},
   "outputs": [
    {
     "data": {
      "text/plain": [
       "'Qedo1ct-eeLg=ntse-T!'"
      ]
     },
     "execution_count": 103,
     "metadata": {},
     "output_type": "execute_result"
    }
   ],
   "source": [
    "#SUCCESS\n",
    "#로직\n",
    "#1. isalpha면 b=[]에 append후, pop으로 list(a)인 c에 차곡차곡\n",
    "\n",
    "a=\"Test1ng-Leet=code-Q!\"\n",
    "c=list(a)\n",
    "b=[]\n",
    "for i in range(len(a)):\n",
    "    if(a[i].isalpha()):\n",
    "        b.append(a[i])\n",
    "for j in range(len(a)):\n",
    "    if(a[j].isalpha()):\n",
    "        c[j] =b.pop()\n",
    "\"\".join(c)\n"
   ]
  }
 ],
 "metadata": {
  "kernelspec": {
   "display_name": "Python 3",
   "language": "python",
   "name": "python3"
  },
  "language_info": {
   "codemirror_mode": {
    "name": "ipython",
    "version": 3
   },
   "file_extension": ".py",
   "mimetype": "text/x-python",
   "name": "python",
   "nbconvert_exporter": "python",
   "pygments_lexer": "ipython3",
   "version": "3.7.0"
  }
 },
 "nbformat": 4,
 "nbformat_minor": 2
}
