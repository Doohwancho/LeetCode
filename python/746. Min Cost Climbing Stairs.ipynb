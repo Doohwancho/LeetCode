{
 "cells": [
  {
   "cell_type": "markdown",
   "metadata": {},
   "source": [
    "On a staircase, the i-th step has some non-negative cost cost[i] assigned (0 indexed).\n",
    "\n",
    "Once you pay the cost, you can either climb one or two steps. You need to find minimum cost to reach the top of the floor, and you can either start from the step with index 0, or the step with index 1.\n",
    "\n",
    ">Example 1:<br>\n",
    ">Input: cost = [10, 15, 20]<br>\n",
    ">Output: 15<br>\n",
    ">Explanation: Cheapest is start on cost[1], pay that cost and go to the top.<br>\n",
    "\n",
    ">Example 2:<br>\n",
    ">Input: cost = [1, 100, 1, 1, 1, 100, 1, 1, 100, 1]<br>\n",
    ">Output: 6<br>\n",
    ">Explanation: Cheapest is start on cost[0], and only step on 1s, skipping cost[3].<br>"
   ]
  },
  {
   "cell_type": "code",
   "execution_count": 11,
   "metadata": {},
   "outputs": [
    {
     "data": {
      "text/plain": [
       "[1, 1, 1, 1, 1, 1, 1]"
      ]
     },
     "execution_count": 11,
     "metadata": {},
     "output_type": "execute_result"
    }
   ],
   "source": [
    "#fail\n",
    "#단순히 앞에꺼 두개중에서 적은 수 위주로 카운팅하려 그랬는데 이 문제의 핵심은 그게 아니라 최단거리 찾는거임...ㅜㅜ\n",
    "\n",
    "cost = [1, 100, 1, 1, 1, 100, 1, 1, 100, 1]\n",
    "#cost = [10, 15, 20]\n",
    "rst=[]\n",
    "\n",
    "while len(cost)>0:\n",
    "    if cost[0] == min(cost[0],cost[1]): \n",
    "        rst.append(cost[0])\n",
    "        cost.pop(0)\n",
    "    elif cost[1] == min(cost[0], cost[1]):\n",
    "        rst.append(cost[1])\n",
    "        cost.pop(0)\n",
    "        cost.pop(0)\n",
    "rst"
   ]
  },
  {
   "cell_type": "code",
   "execution_count": 12,
   "metadata": {},
   "outputs": [
    {
     "name": "stdout",
     "output_type": "stream",
     "text": [
      "6\n"
     ]
    }
   ],
   "source": [
    "#Solution\n",
    "#천재의 답안\n",
    "\n",
    "cost = [1, 100, 1, 1, 1, 100, 1, 1, 100, 1]\n",
    "\n",
    "l =len(cost)\n",
    "### we are taking a list of length l+1 so that l+1 th elemeent represents the target\n",
    "### note that we need to cross the last step and not just reach it.\n",
    "### this is equivalent to saying that we need to reach the l +1 th step\n",
    "ans = [None] * (l +1)\n",
    "\n",
    "#### ans[i] represents the cost of reaching the i th step\n",
    "\n",
    "###since we can start at 0 or 1 , these are set to zero\n",
    "ans [0] = 0\n",
    "ans[1] = 0\n",
    "\n",
    "\n",
    "### for reaching the i th step , we can do 2 things :\n",
    "### 1. reach  (i-2) th step and pay cost[i-2] and then take 2 steps\n",
    "### 2. reach (i-1) th srep and pay cost[i-1] and then take 1 step\n",
    "### we will then choose the minimum among the above two steps\n",
    "\n",
    "for i in range(2, l +1 ) : \n",
    "    ans[i] = min((ans[i-1] + cost[i-1] ),  (ans[i-2] + cost[i-2]) )\n",
    "\n",
    "### we are returning the cost to reach l+1 th step which is our target \n",
    "print(ans[l])"
   ]
  }
 ],
 "metadata": {
  "kernelspec": {
   "display_name": "Python 3",
   "language": "python",
   "name": "python3"
  },
  "language_info": {
   "codemirror_mode": {
    "name": "ipython",
    "version": 3
   },
   "file_extension": ".py",
   "mimetype": "text/x-python",
   "name": "python",
   "nbconvert_exporter": "python",
   "pygments_lexer": "ipython3",
   "version": "3.7.1"
  }
 },
 "nbformat": 4,
 "nbformat_minor": 2
}
