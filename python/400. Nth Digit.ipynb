{
 "cells": [
  {
   "cell_type": "markdown",
   "metadata": {},
   "source": [
    "Find the nth digit of the infinite integer sequence 1, 2, 3, 4, 5, 6, 7, 8, 9, 10, 11, ...\n",
    "\n",
    "Note:\n",
    "n is positive and will fit within the range of a 32-bit signed integer (n < 231).\n",
    "\n",
    ">Example 1:<br>\n",
    "Input:3<br>\n",
    ">Output:3<br>\n",
    "\n",
    ">Example 2:<br>\n",
    "Input:11<br>\n",
    "Output:0<br>\n",
    "Explanation:<br>\n",
    ">The 11th digit of the sequence 1, 2, 3, 4, 5, 6, 7, 8, 9, 10, 11, ... is a 0, which is part of the number 10.<br>"
   ]
  },
  {
   "cell_type": "code",
   "execution_count": 133,
   "metadata": {},
   "outputs": [
    {
     "name": "stdout",
     "output_type": "stream",
     "text": [
      "370 3\n"
     ]
    }
   ],
   "source": [
    "#문제\n",
    "\n",
    "#1부터 증가하는 숫자의 n번째 수를 구하라\n",
    "#예를들어, n이 11이면, 1~?번째 숫자중 11번째 숫자를 리턴하면 된다.\n",
    "#**단, 자리숫자는 무시되어 하나의 숫자로 친다.\n",
    "#예를들어, 1,2,3,4,5,6,7,8,9,1,0,1,1 의 11번째 숫자는 '0'이다.\n",
    "\n",
    "\n",
    "\n",
    "\n",
    "\n",
    "#문제 풀이\n",
    "\n",
    "\n",
    "#step01 - 먼저, n이 어느정도의 자릿수 범위인지 알기위해, 자릿수마다 몇개의 숫자가 있는지 파악한다.\n",
    "\n",
    "# 1의자리 수 : 9개 (1~9)\n",
    "# 10의자리 수 : 90개(10~99) * 2 == 180개 \n",
    "# 100의자리 수 : 900개(100~999) * 3 == 2700개\n",
    "# 1000의자리 수 : 9000개(1000~9999) * 4 == 36000개\n",
    "\n",
    "# 자리수가 증가함에 따라, 일정한 패턴을 보인다.\n",
    "# pattern : 9 * 자릿수(10의 배수) * 자릿수의 갯수(ex. 1의자리는 1, 10의자리는 2, 100의자리는 3, ...)\n",
    "\n",
    "#step02 - n이 어느 자릿수 범주에 속한지 알기 위해, 1의자리에 존재하는 숫자의 갯수부터 n을 순차적으로 빼준다,\n",
    "# ex) n이 200이면, n-9(1의자리) == 191, n-180(10의 자리) == 11. \n",
    "#     11에서 2700개를 더 이상 빼줄 수 없으므로, n은 100의자리수라는 것을 알 수 있다.\n",
    "\n",
    "#step03 - n의 자릿수를 파악했으면, 해당자릿수부터(ex. 10 / 100 / 1000 / ...), 해당 자릿수의 개수(ex. 2 / 3 / 4 / ...)를 더해가면서\n",
    "#         n이 속하는 숫자가 어느 숫자인지 파악한다\n",
    "\n",
    "#step04 - n이 속하는 숫자를 파악했으면, n에서 해당 자릿수의 개수를 나눈 나머지의 -1이 우리가 찾는 답이다.\n",
    "\n",
    "\n",
    "\n",
    "\n",
    "import math\n",
    "\n",
    "\n",
    "n = 1000\n",
    "#n = 9\n",
    "digit = 1\n",
    "\n",
    "#n이 10보다 작으면, 그대로 리턴한다.\n",
    "if n < 10:\n",
    "    print(n)\n",
    "    \n",
    "while True:\n",
    "    digit_counter = 0\n",
    "    cnt = 0\n",
    "    for i in str(digit):\n",
    "        digit_counter += 1                                     #자릿수의 갯수 \n",
    "    cnt += digit * 9 * digit_counter                           #step01\n",
    "    if n - cnt < 0:\n",
    "        for j in range(digit, digit+n, digit_counter):         #step03\n",
    "            digit+=1\n",
    "        print(digit-1, int(str(digit-1)[n % digit_counter-1])) #step04\n",
    "        break\n",
    "    else:\n",
    "        pass\n",
    "    n -= cnt                                                   #step02\n",
    "    digit *= 10"
   ]
  }
 ],
 "metadata": {
  "kernelspec": {
   "display_name": "Python 3",
   "language": "python",
   "name": "python3"
  },
  "language_info": {
   "codemirror_mode": {
    "name": "ipython",
    "version": 3
   },
   "file_extension": ".py",
   "mimetype": "text/x-python",
   "name": "python",
   "nbconvert_exporter": "python",
   "pygments_lexer": "ipython3",
   "version": "3.7.2"
  }
 },
 "nbformat": 4,
 "nbformat_minor": 2
}
