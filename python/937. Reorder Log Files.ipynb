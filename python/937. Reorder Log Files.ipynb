{
 "cells": [
  {
   "cell_type": "markdown",
   "metadata": {},
   "source": [
    "You have an array of logs.  Each log is a space delimited string of words.\n",
    "\n",
    "For each log, the first word in each log is an alphanumeric identifier.  Then, either:\n",
    "\n",
    "Each word after the identifier will consist only of lowercase letters, or;\n",
    "Each word after the identifier will consist only of digits.\n",
    "We will call these two varieties of logs letter-logs and digit-logs.  It is guaranteed that each log has at least one word after its identifier.\n",
    "\n",
    "Reorder the logs so that all of the letter-logs come before any digit-log.  The letter-logs are ordered lexicographically ignoring identifier, with the identifier used in case of ties.  The digit-logs should be put in their original order.\n",
    "\n",
    "Return the final order of the logs.\n",
    "\n",
    " \n",
    "\n",
    ">Example 1:<br>\n",
    ">Input: [\"a1 9 2 3 1\",\"g1 act car\",\"zo4 4 7\",\"ab1 off key dog\",\"a8 act zoo\"]<br>\n",
    ">Output: [\"g1 act car\",\"a8 act zoo\",\"ab1 off key dog\",\"a1 9 2 3 1\",\"zo4 4 7\"]<br>\n",
    "\n",
    ">Wrong Answer<br>\n",
    ">Details <br>\n",
    ">Input<br>\n",
    ">[\"j je\", \"b fjt\", \"7 zbr\", \"m le\", \"o 33\"]<br>\n",
    ">Output<br>\n",
    ">[\"j je\",\"b fjt\",\"7 zbr\",\"m le\",\"o 33\"]<br>\n",
    ">Expected<br>\n",
    ">[\"b fjt\",\"j je\",\"m le\",\"7 zbr\",\"o 33\"]<br>"
   ]
  },
  {
   "cell_type": "code",
   "execution_count": 155,
   "metadata": {},
   "outputs": [
    {
     "name": "stdout",
     "output_type": "stream",
     "text": [
      "['b fjt', 'j je', 'm le', '7 zbr', 'o 33']\n"
     ]
    }
   ],
   "source": [
    "a=[\"j je\", \"b fjt\", \"7 zbr\", \"m le\", \"o 33\"]\n",
    "b=[]\n",
    "c=[]\n",
    "for i in range(len(a)):\n",
    "    if(a[i].split()[1].isalpha()==True):\n",
    "        b.append(a[i])\n",
    "        c=sorted(b, key=lambda x: (x[x.find(\" \"):])) # find():  --find(\" \")가 안에 인덱스에 몇번째인지 찾는다. :는 그 이후를 뜻함\n",
    "        \n",
    "for i in range(len(a)):\n",
    "    if(a[i].split()[1].isdigit()==True):\n",
    "        c.append(a[i])\n",
    "print(c)"
   ]
  }
 ],
 "metadata": {
  "kernelspec": {
   "display_name": "Python 3",
   "language": "python",
   "name": "python3"
  },
  "language_info": {
   "codemirror_mode": {
    "name": "ipython",
    "version": 3
   },
   "file_extension": ".py",
   "mimetype": "text/x-python",
   "name": "python",
   "nbconvert_exporter": "python",
   "pygments_lexer": "ipython3",
   "version": "3.7.0"
  }
 },
 "nbformat": 4,
 "nbformat_minor": 2
}
