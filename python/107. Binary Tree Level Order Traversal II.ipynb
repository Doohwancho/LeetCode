{
 "cells": [
  {
   "cell_type": "code",
   "execution_count": null,
   "metadata": {},
   "outputs": [],
   "source": [
    "\"\"\"\n",
    "Given a binary tree, return the bottom-up level order traversal of its nodes' values. (ie, from left to right, level by level from leaf to root).\n",
    "\n",
    "For example:\n",
    "Given binary tree [3,9,20,null,null,15,7],\n",
    "    3\n",
    "   / \\\n",
    "  9  20\n",
    "    /  \\\n",
    "   15   7\n",
    "return its bottom-up level order traversal as:\n",
    "[\n",
    "  [15,7],\n",
    "  [9,20],\n",
    "  [3]\n",
    "]\n",
    "\"\"\"\n",
    "\n",
    "# 문제\n",
    "# 가장 아래층부터 위층 순으로 reverse된 값을 리턴하라. (보기 참조)\n",
    "\n",
    "\n",
    "# 문제풀이(by gabbu)\n",
    "\n",
    "# self.helper(root.left, level+1, result) 를 통해 root.left(자식) 즉, 새로운 층으로 갈때마다 level+1을 해준다.\n",
    "# level+1을 할때, if len(result) <= level: 조건이 충족되므로, 빈 리스트인 'result'변수의 첫번쨰 인덱스에 해당 \n",
    "# 층의 값을 담을 빈 리스트를 하나 만들어준다. 위 코드가 바로 result.insert(0, []) 이다.\n",
    "# 여기서 주의점은, insert()시 0 인덱스, 즉 첫번째 인덱스에 해당 층의 값을 담을 리스트를 만들어 주는 것인데, \n",
    "# 그 이유는 문제가 요구하는게 reverse된 트리이기 때문이다. 나중에 등장하는 층일수록 result변수에 첫번째에 담겨서\n",
    "# 반환되면 트리 값을 reverse할 수 있다. 여기서 또 하나 주목할만한 코드는 result[-(level+1)].append(root.val)이다.\n",
    "# 위 코드는, 값이 해당 값의 층에 넣어질 수 있도록 하는 코드이다. 예를들어, 가장 윗층이라면, 인덱스값, 즉 여기서는 \n",
    "# level이 0인데, result[-(0+1)].append(root.val)을 하면, result에 가장 마지막 리스트에 값을 넣어준다. 가장 최상층이기 때문에\n",
    "# 가장 마지막에 위치하는 것이 맞다. 만약 인덱스가 2, 층 level이 2라면(3층이라면), result[-3]에 값을 append 해준다. 마지막에서 \n",
    "# 3번째에 위치한 리스트에 값을 넣는 것이기 때문에 이 또한 위치가 맞다.\n",
    "\n",
    "\n",
    "\n",
    "\n",
    "class Solution(object):\n",
    "    def levelOrderBottom(self, root):\n",
    "        result = []\n",
    "        self.helper(root, 0, result)\n",
    "        return result\n",
    "    \n",
    "    def helper(self, root, level, result):\n",
    "        if root is None:\n",
    "            return\n",
    "        if len(result) <= level:\n",
    "            result.insert(0, [])\n",
    "        result[-(level+1)].append(root.val)\n",
    "        self.helper(root.left, level+1, result)\n",
    "        self.helper(root.right, level+1, result)"
   ]
  }
 ],
 "metadata": {
  "kernelspec": {
   "display_name": "Python 3",
   "language": "python",
   "name": "python3"
  },
  "language_info": {
   "codemirror_mode": {
    "name": "ipython",
    "version": 3
   },
   "file_extension": ".py",
   "mimetype": "text/x-python",
   "name": "python",
   "nbconvert_exporter": "python",
   "pygments_lexer": "ipython3",
   "version": "3.7.2"
  }
 },
 "nbformat": 4,
 "nbformat_minor": 2
}
