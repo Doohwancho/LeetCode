{
 "cells": [
  {
   "cell_type": "markdown",
   "metadata": {},
   "source": [
    "Given a non-empty array of integers, return the third maximum number in this array. If it does not exist, return the maximum number. The time complexity must be in O(n).\n",
    "\n",
    ">Example 1:<br>\n",
    ">Input: [3, 2, 1]<br>\n",
    ">Output: 1<br>\n",
    ">Explanation: The third maximum is 1.<br>\n",
    "\n",
    ">Example 2:<br>\n",
    ">Input: [1, 2]<br>\n",
    ">Output: 2<br>\n",
    ">Explanation: The third maximum does not exist, so the maximum (2) is returned instead.<br>\n",
    "\n",
    ">Example 3:<br>\n",
    ">Input: [2, 2, 3, 1]<br>\n",
    ">Output: 1<br>\n",
    ">Explanation: Note that the third maximum here means the third maximum distinct number.<br>\n",
    ">Both numbers with value 2 are both considered as second maximum.<br>"
   ]
  },
  {
   "cell_type": "code",
   "execution_count": 27,
   "metadata": {},
   "outputs": [
    {
     "name": "stdout",
     "output_type": "stream",
     "text": [
      "1\n"
     ]
    }
   ],
   "source": [
    "#SUCCESS\n",
    "\n",
    "nums = [2, 2, 3, 1]\n",
    "#nums = [2,4]\n",
    "#nums = []\n",
    "\n",
    "reorderedList=sorted(list(dict.fromkeys(nums)))\n",
    "\n",
    "if reorderedList: \n",
    "    if len(reorderedList) > 2:\n",
    "        print(reorderedList[-3])\n",
    "    else:\n",
    "        print(reorderedList[-1])\n",
    "else:\n",
    "    print(0)"
   ]
  }
 ],
 "metadata": {
  "kernelspec": {
   "display_name": "Python 3",
   "language": "python",
   "name": "python3"
  },
  "language_info": {
   "codemirror_mode": {
    "name": "ipython",
    "version": 3
   },
   "file_extension": ".py",
   "mimetype": "text/x-python",
   "name": "python",
   "nbconvert_exporter": "python",
   "pygments_lexer": "ipython3",
   "version": "3.7.1"
  }
 },
 "nbformat": 4,
 "nbformat_minor": 2
}
