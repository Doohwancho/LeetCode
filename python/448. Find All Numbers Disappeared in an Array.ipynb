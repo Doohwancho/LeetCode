{
 "cells": [
  {
   "cell_type": "markdown",
   "metadata": {},
   "source": [
    "Given an array of integers where 1 ≤ a[i] ≤ n (n = size of array), some elements appear twice and others appear once.\n",
    "\n",
    "Find all the elements of [1, n] inclusive that do not appear in this array.\n",
    "\n",
    "Could you do it without extra space and in O(n) runtime? You may assume the returned list does not count as extra space.\n",
    "\n",
    ">Example:<br>\n",
    ">Input:[4,3,2,7,8,2,3,1]<br>\n",
    ">Output:[5,6]<br>"
   ]
  },
  {
   "cell_type": "code",
   "execution_count": 9,
   "metadata": {},
   "outputs": [
    {
     "data": {
      "text/plain": [
       "[5, 6]"
      ]
     },
     "execution_count": 9,
     "metadata": {},
     "output_type": "execute_result"
    }
   ],
   "source": [
    "#SUCESS\n",
    "#답이 이상함.. [1,1]의 경우 사이값이 없기 때문에 반환값이 없어야 함\n",
    "nums=[4,3,2,7,8,2,3,1]\n",
    "nums.sort()\n",
    "rst=[]\n",
    "\n",
    "for idx, value in enumerate(nums):\n",
    "    if(idx==0):\n",
    "        pass\n",
    "    else:\n",
    "        if(value == nums[idx-1] or value == nums[idx-1]+1):\n",
    "            pass\n",
    "        else:\n",
    "            x=nums[idx-1]+1\n",
    "            while x < value:\n",
    "                rst.append(x)\n",
    "                x+=1\n",
    "rst"
   ]
  },
  {
   "cell_type": "code",
   "execution_count": 13,
   "metadata": {},
   "outputs": [
    {
     "data": {
      "text/plain": [
       "[5, 6]"
      ]
     },
     "execution_count": 13,
     "metadata": {},
     "output_type": "execute_result"
    }
   ],
   "source": [
    "#Solution\n",
    "#딕셔너리끼리 값 빼는게 가능하네?\n",
    "#ex1) {1,2,3} - {2} = {1,3}\n",
    "\n",
    "nums=[4,3,2,7,8,2,3,1]\n",
    "\n",
    "list(set(range(1, len(nums) + 1)) - set(nums))"
   ]
  }
 ],
 "metadata": {
  "kernelspec": {
   "display_name": "Python 3",
   "language": "python",
   "name": "python3"
  },
  "language_info": {
   "codemirror_mode": {
    "name": "ipython",
    "version": 3
   },
   "file_extension": ".py",
   "mimetype": "text/x-python",
   "name": "python",
   "nbconvert_exporter": "python",
   "pygments_lexer": "ipython3",
   "version": "3.7.1"
  }
 },
 "nbformat": 4,
 "nbformat_minor": 2
}
