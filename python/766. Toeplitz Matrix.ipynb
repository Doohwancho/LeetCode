{
 "cells": [
  {
   "cell_type": "markdown",
   "metadata": {},
   "source": [
    "A matrix is Toeplitz if every diagonal from top-left to bottom-right has the same element.\n",
    "\n",
    "Now given an M x N matrix, return True if and only if the matrix is Toeplitz.\n",
    "\n",
    ">Example 1:<br>\n",
    ">Input:<br>\n",
    ">matrix = [<br>\n",
    ">  [1,2,3,4],<br>\n",
    ">  [5,1,2,3],<br>\n",
    ">  [9,5,1,2]<br>\n",
    ">]<br>\n",
    ">Output: True<br>\n",
    ">Explanation:<br>\n",
    ">In the above grid, the diagonals are:<br>\n",
    ">\"[9]\", \"[5, 5]\", \"[1, 1, 1]\", \"[2, 2, 2]\", \"[3, 3]\", \"[4]\".<br>\n",
    ">In each diagonal all elements are the same, so the answer is True.<br>\n",
    "\n",
    ">Example 2:<br>\n",
    ">Input:<br>\n",
    ">matrix = [<br>\n",
    ">  [1,2],<br>\n",
    ">  [2,2]<br>\n",
    ">]<br>\n",
    ">Output: False<br>\n",
    ">Explanation:<br>\n",
    ">The diagonal \"[1, 2]\" has different elements.<br>"
   ]
  },
  {
   "cell_type": "code",
   "execution_count": 64,
   "metadata": {},
   "outputs": [
    {
     "name": "stdout",
     "output_type": "stream",
     "text": [
      "True\n"
     ]
    }
   ],
   "source": [
    "#Solution\n",
    "\n",
    "m = [\n",
    "[1,2,3,4],\n",
    "[5,1,2,3],\n",
    "[9,5,1,2]\n",
    "]\n",
    "\n",
    "for i in range(len(m) - 1):\n",
    "    for j in range(len(m[0]) - 1): \n",
    "        if(m[i][j] != m[i + 1][j + 1]): #바로 우측 밑 숫자와 동등비교. 귀퉁이에 있는수는 어짜피 1개라 피교필요X\n",
    "            print(False)\n",
    "print(True)"
   ]
  }
 ],
 "metadata": {
  "kernelspec": {
   "display_name": "Python 3",
   "language": "python",
   "name": "python3"
  },
  "language_info": {
   "codemirror_mode": {
    "name": "ipython",
    "version": 3
   },
   "file_extension": ".py",
   "mimetype": "text/x-python",
   "name": "python",
   "nbconvert_exporter": "python",
   "pygments_lexer": "ipython3",
   "version": "3.7.0"
  }
 },
 "nbformat": 4,
 "nbformat_minor": 2
}
