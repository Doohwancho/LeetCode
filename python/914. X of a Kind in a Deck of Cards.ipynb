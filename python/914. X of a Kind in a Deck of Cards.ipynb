{
 "cells": [
  {
   "cell_type": "markdown",
   "metadata": {},
   "source": [
    "In a deck of cards, each card has an integer written on it.\n",
    "\n",
    "Return true if and only if you can choose X >= 2 such that it is possible to split the entire deck into 1 or more groups of cards, where:\n",
    "\n",
    "Each group has exactly X cards.\n",
    "All the cards in each group have the same integer.\n",
    " \n",
    "\n",
    ">Example 1:<Br>\n",
    ">Input: [1,2,3,4,4,3,2,1]<Br>\n",
    ">Output: true<Br>\n",
    ">Explanation: Possible partition [1,1],[2,2],[3,3],[4,4]<Br>\n",
    "\n",
    ">Example 2:<Br>\n",
    ">Input: [1,1,1,2,2,2,3,3]<Br>\n",
    ">Output: false<Br>\n",
    ">Explanation: No possible partition.<Br>\n",
    "\n",
    ">Example 3:<Br>\n",
    ">Input: [1]<Br>\n",
    ">Output: false<Br>\n",
    ">Explanation: No possible partition.<Br>\n",
    "\n",
    ">Example 4:<Br>\n",
    ">Input: [1,1]<Br>\n",
    ">Output: true<Br>\n",
    ">Explanation: Possible partition [1,1]<Br>\n",
    "\n",
    ">Example 5:<Br>\n",
    ">Input: [1,1,2,2,2,2]<Br>\n",
    ">Output: true<Br>\n",
    ">Explanation: Possible partition [1,1],[2,2],[2,2]<Br>"
   ]
  },
  {
   "cell_type": "code",
   "execution_count": null,
   "metadata": {},
   "outputs": [],
   "source": [
    "#Trial01 \n",
    "#[1,1,2,2,2,2]일경우 true인데도 불구하고 false뜸\n",
    "#deck = [1,2,3,4,4,3,2,1]\n",
    "\n",
    "a = list(dict.fromkeys(deck))\n",
    "cnt = 0\n",
    "\n",
    "for i in a:\n",
    "    if deck.count(i) == 2:\n",
    "        cnt+=1\n",
    "if cnt == len(a):\n",
    "    print(True)\n",
    "else:\n",
    "    print(False)"
   ]
  },
  {
   "cell_type": "code",
   "execution_count": 5,
   "metadata": {},
   "outputs": [
    {
     "name": "stdout",
     "output_type": "stream",
     "text": [
      "False\n",
      "True\n"
     ]
    }
   ],
   "source": [
    "#Trial02 \n",
    "#[1,1,1,2,2,2,3,3,3]일경우 false반환함. 문제 이해를 잘못함...\n",
    "\n",
    "deck = [1,1,2,2,2,2]\n",
    "deck = [1,1,1,2,2,2,3,3]\n",
    "\n",
    "\n",
    "if len(deck) < 2:\n",
    "    print(False)\n",
    "\n",
    "while len(deck)>1:\n",
    "    if deck[1:].count(deck[0])>0 and deck[1:].index(deck[0]) > -1:\n",
    "        delete=deck[0]\n",
    "        deck.remove(delete)\n",
    "        deck.remove(delete)\n",
    "    else:\n",
    "        print(False)\n",
    "        break\n",
    "    num+=1\n",
    "print(True)"
   ]
  },
  {
   "cell_type": "code",
   "execution_count": 15,
   "metadata": {},
   "outputs": [
    {
     "name": "stdout",
     "output_type": "stream",
     "text": [
      "False\n",
      "True\n"
     ]
    }
   ],
   "source": [
    "#Trial03\n",
    "#[1,1,2,2,2,2]는 파훼 못함\n",
    "\n",
    "deck = [1,1,1,2,2,2,3,3,3]\n",
    "deck = [1,1,1,2,2,2,3,3]\n",
    "deck = [1,1,2,2,2,2]\n",
    "\n",
    "a = list(dict.fromkeys(deck))\n",
    "prev= deck.count(a[0])\n",
    "\n",
    "for i in range(len(a)):\n",
    "    if prev != deck.count(a[i]):\n",
    "        print(False)\n",
    "print(True)"
   ]
  },
  {
   "cell_type": "code",
   "execution_count": 74,
   "metadata": {},
   "outputs": [
    {
     "name": "stdout",
     "output_type": "stream",
     "text": [
      "2\n",
      "True\n"
     ]
    }
   ],
   "source": [
    "#Trial04\n",
    "#deck = [1,1,1,1,2,2,2,2,2,2]이 되야되는데 안됨\n",
    "deck = [1,1,2,2,2,2]\n",
    "#deck = [1,1,1,1,2,2,2,2,2,2]\n",
    "\n",
    "a = list(dict.fromkeys(deck))\n",
    "\n",
    "bracket = min(deck.count(a[i]) for i in range(len(a)))\n",
    "\n",
    "if len(deck) < 2:\n",
    "    print(False)\n",
    "\n",
    "while len(deck)>1:\n",
    "    if deck[1:].count(deck[0])>0 and deck[1:].index(deck[0]) > -1:\n",
    "        delete=deck[0]\n",
    "        for i in range(bracket):\n",
    "            deck.remove(delete)\n",
    "    else:\n",
    "        print(False)\n",
    "        break\n",
    "    num+=1\n",
    "print(True)"
   ]
  },
  {
   "cell_type": "code",
   "execution_count": 83,
   "metadata": {},
   "outputs": [
    {
     "name": "stdout",
     "output_type": "stream",
     "text": [
      "True\n"
     ]
    }
   ],
   "source": [
    "#Trial05 -- SUCCESS\n",
    "#bracket(묶는 양을 deck에 등장한 숫자들의 최대공약수로 설정함)\n",
    "\n",
    "from functools import reduce\n",
    "\n",
    "# (Euclidean Algorithm; Euclid's Algorithm)\n",
    "#greatest common divisor\n",
    "#a와 b의 최대공약수는 b와 a를 b로 나눈 나머지와의 최대공약수와 같기 때문에, \n",
    "#나머지가 0이 될때까지 이 작업 반복. 나머지가 0일때에 a의값이 a와 b의 최대공약수가 됨\n",
    "\n",
    "\n",
    "def gcd(a, b): \n",
    "    while (b != 0):\n",
    "        temp = a % b\n",
    "        a = b\n",
    "        b = temp\n",
    "    return abs(a)\n",
    "\n",
    "deck = [1,1,1,2,2,2,3,3,3]\n",
    "a = list(dict.fromkeys(deck))\n",
    "b=list(deck.count(i) for i in a)\n",
    "c= reduce(lambda x, y: gcd(x,y), b)\n",
    "\n",
    "if len(deck) < 2:\n",
    "    print(False)\n",
    "\n",
    "while len(deck)>1:\n",
    "    if deck[1:].count(deck[0])>0 and deck[1:].index(deck[0]) > -1:\n",
    "        delete=deck[0]\n",
    "        for i in range(c):\n",
    "            deck.remove(delete)\n",
    "    else:\n",
    "        print(False)\n",
    "        break\n",
    "print(True)"
   ]
  }
 ],
 "metadata": {
  "kernelspec": {
   "display_name": "Python 3",
   "language": "python",
   "name": "python3"
  },
  "language_info": {
   "codemirror_mode": {
    "name": "ipython",
    "version": 3
   },
   "file_extension": ".py",
   "mimetype": "text/x-python",
   "name": "python",
   "nbconvert_exporter": "python",
   "pygments_lexer": "ipython3",
   "version": "3.7.1"
  }
 },
 "nbformat": 4,
 "nbformat_minor": 2
}
