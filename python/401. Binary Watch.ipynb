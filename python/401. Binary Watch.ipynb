{
 "cells": [
  {
   "cell_type": "markdown",
   "metadata": {},
   "source": [
    "A binary watch has 4 LEDs on the top which represent the hours (0-11), and the 6 LEDs on the bottom represent the minutes (0-59).\n",
    "\n",
    "Each LED represents a zero or one, with the least significant bit on the right.\n",
    "\n",
    "\n",
    "For example, the above binary watch reads \"3:25\".\n",
    "\n",
    "Given a non-negative integer n which represents the number of LEDs that are currently on, return all possible times the watch could represent.\n",
    "\n",
    ">Example:<br>\n",
    "Input: n = 1<br>\n",
    "Return: [\"1:00\", \"2:00\", \"4:00\", \"8:00\", \"0:01\", \"0:02\", \"0:04\", \"0:08\", \"0:16\", \"0:32\"]<br>\n",
    "Note:<br>\n",
    "The order of output does not matter.<br>\n",
    "The hour must not contain a leading zero, for example \"01:00\" is not valid, it should be \"1:00\".<br>\n",
    ">The minute must be consist of two digits and may contain a leading zero, for example \"10:2\" is not valid, it should be \"10:02\".<br>"
   ]
  },
  {
   "cell_type": "code",
   "execution_count": 28,
   "metadata": {},
   "outputs": [
    {
     "data": {
      "text/plain": [
       "['0:01',\n",
       " '0:02',\n",
       " '0:04',\n",
       " '0:08',\n",
       " '0:16',\n",
       " '0:32',\n",
       " '1:00',\n",
       " '2:00',\n",
       " '4:00',\n",
       " '8:00']"
      ]
     },
     "execution_count": 28,
     "metadata": {},
     "output_type": "execute_result"
    }
   ],
   "source": [
    "#Answer by StefanPochmann\n",
    "\n",
    "#모든 시:분의 경우의 수를 for문으로 돌면서, bin()함수를 이용해 시간과 분은 2진수로 바꿔, 1의 갯수가 우리가 입력한 num의 갯수와 같은지 보고,\n",
    "#같으면 \"%d:%02d\" % (h,m) 형태로 리스트에 넣어준다. 여기서 %d는 decimal(10진수)로 넣으라는 말이고, 분단위에 %02d를 붙여준 이유는 \n",
    "#문제에서 분단위는 0을 포함한 두자리를 입력하라고 해서다.\n",
    "\n",
    "def readBinaryWatch(num):\n",
    "    return ['%d:%02d' % (h, m)\n",
    "            for h in range(12) for m in range(60)\n",
    "            if (bin(h) + bin(m)).count('1') == num]\n",
    "\n",
    "num = 1\n",
    "readBinaryWatch(num)"
   ]
  },
  {
   "cell_type": "code",
   "execution_count": 27,
   "metadata": {},
   "outputs": [
    {
     "data": {
      "text/plain": [
       "['0:01',\n",
       " '0:02',\n",
       " '0:04',\n",
       " '0:08',\n",
       " '0:16',\n",
       " '0:32',\n",
       " '1:00',\n",
       " '2:00',\n",
       " '4:00',\n",
       " '8:00']"
      ]
     },
     "execution_count": 27,
     "metadata": {},
     "output_type": "execute_result"
    }
   ],
   "source": [
    "#Comprehension을 안쓴 버전\n",
    "\n",
    "rst = []\n",
    "\n",
    "def readBinaryWatch(num):\n",
    "    for h in range(12):\n",
    "        for m in range(60):\n",
    "            if (bin(h) + bin(m)).count('1') == num:\n",
    "                rst.append('%d:%02d' % (h, m))    \n",
    "    return rst\n",
    "             \n",
    "            \n",
    "\n",
    "num = 1\n",
    "readBinaryWatch(num)"
   ]
  },
  {
   "cell_type": "code",
   "execution_count": 21,
   "metadata": {},
   "outputs": [
    {
     "name": "stdout",
     "output_type": "stream",
     "text": [
      "[1, 2, 4, 8, 16, 32] [1, 2, 4, 8]\n"
     ]
    }
   ],
   "source": [
    "#Trial01 \n",
    "\n",
    "#python3의 itertools.permutations()함수를 이용하면, num이 2 이상일 경우, hours과 minutes에 동시에 적용될 때 처리 못함\n",
    "\n",
    "\n",
    "import itertools\n",
    "\n",
    "num = 1\n",
    "\n",
    "minutes = [1,2,4,8,16,32]\n",
    "minutesList = []\n",
    "for i in itertools.permutations(minutes, num):\n",
    "    if sum(i) not in minutesList:\n",
    "        minutesList.append(sum(i))\n",
    "        \n",
    "hours = [1,2,4,8]\n",
    "hoursList = []\n",
    "for i in itertools.permutations(hours, num):\n",
    "    if sum(i) not in hoursList:\n",
    "        hoursList.append(sum(i))\n",
    "        \n",
    "print(minutesList,hoursList)"
   ]
  }
 ],
 "metadata": {
  "kernelspec": {
   "display_name": "Python 3",
   "language": "python",
   "name": "python3"
  },
  "language_info": {
   "codemirror_mode": {
    "name": "ipython",
    "version": 3
   },
   "file_extension": ".py",
   "mimetype": "text/x-python",
   "name": "python",
   "nbconvert_exporter": "python",
   "pygments_lexer": "ipython3",
   "version": "3.7.2"
  }
 },
 "nbformat": 4,
 "nbformat_minor": 2
}
