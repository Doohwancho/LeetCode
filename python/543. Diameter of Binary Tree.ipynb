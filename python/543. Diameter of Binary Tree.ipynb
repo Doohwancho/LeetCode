{
 "cells": [
  {
   "cell_type": "code",
   "execution_count": null,
   "metadata": {},
   "outputs": [],
   "source": [
    "\"\"\"\n",
    "Given a binary tree, you need to compute the length of the diameter of the tree. The diameter of a binary tree is the length of the longest path between any two nodes in a tree. This path may or may not pass through the root.\n",
    "\n",
    "Example:\n",
    "Given a binary tree \n",
    "          1\n",
    "         / \\\n",
    "        2   3\n",
    "       / \\     \n",
    "      4   5    \n",
    "\"\"\"\n",
    "\n",
    "#문제\n",
    "#서로 가장 떨어져있는 노드의 거리를 구하라\n",
    "\n",
    "\n",
    "#max depth구하는 법\n",
    "#아래는 sudo code이다.\n",
    "#재귀용법으로 맨 밑에 노드부터 한층한층 올라올때마다 해당노드가 없으면 0, 있으면 층수에 +1을 더해 준다. \n",
    "#그렇게 한층한층 올라오면서 left child와 right child중 더 층수가 높은것을 max()함수로 갱신해준다.\n",
    "\n",
    "\n",
    "def depth(self):\n",
    "    left_depth = self.left.depth() if self.left else 0\n",
    "    right_depth = self.right.depth() if self.right else 0\n",
    "    return max(left_depth, right_depth) + 1\n",
    "\n",
    "\n",
    "#문제풀이\n",
    "#max depth를 구하는 방식에서 문제에서 요구하는 가장 먼 두 node의 거리를 구하는 방식을 추가했다.\n",
    "#트리의 가장 아래층부터 위로 올라갈때마다 self.d와 l+r를 비교해 더 큰값으로 업데이트 한다.\n",
    "#여기서 l+r은 left child와 right child 거리의 합이다.\n",
    "\n",
    "\n",
    "class Solution:\n",
    "    def diameterOfBinaryTree(self, root):\n",
    "        self.d = 0\n",
    "        self.diameter(root)\n",
    "        return self.d\n",
    "        \n",
    "    def diameter(self, node):\n",
    "        if not node: return 0\n",
    "        l, r = self.diameter(node.left), self.diameter(node.right)\n",
    "        self.d = max(self.d, l+r)\n",
    "        return max(l, r) + 1"
   ]
  }
 ],
 "metadata": {
  "kernelspec": {
   "display_name": "Python 3",
   "language": "python",
   "name": "python3"
  },
  "language_info": {
   "codemirror_mode": {
    "name": "ipython",
    "version": 3
   },
   "file_extension": ".py",
   "mimetype": "text/x-python",
   "name": "python",
   "nbconvert_exporter": "python",
   "pygments_lexer": "ipython3",
   "version": "3.7.2"
  }
 },
 "nbformat": 4,
 "nbformat_minor": 2
}
