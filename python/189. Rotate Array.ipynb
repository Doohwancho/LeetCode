{
 "cells": [
  {
   "cell_type": "markdown",
   "metadata": {},
   "source": [
    "Given an array, rotate the array to the right by k steps, where k is non-negative.\n",
    "\n",
    ">Example 1:<br>\n",
    ">Input: [1,2,3,4,5,6,7] and k = 3<br>\n",
    ">Output: [5,6,7,1,2,3,4]<br>\n",
    ">Explanation:<br>\n",
    ">rotate 1 steps to the right: [7,1,2,3,4,5,6]<br>\n",
    ">rotate 2 steps to the right: [6,7,1,2,3,4,5]<br>\n",
    ">rotate 3 steps to the right: [5,6,7,1,2,3,4]<br>\n",
    "\n",
    ">Example 2:<br>\n",
    ">Input: [-1,-100,3,99] and k = 2<br>\n",
    ">Output: [3,99,-1,-100]<br>\n",
    ">Explanation: <br>\n",
    ">rotate 1 steps to the right: [99,-1,-100,3]<br>\n",
    ">rotate 2 steps to the right: [3,99,-1,-100]<br>"
   ]
  },
  {
   "cell_type": "code",
   "execution_count": 11,
   "metadata": {},
   "outputs": [
    {
     "data": {
      "text/plain": [
       "[5, 6, 7, 1, 2, 3, 4]"
      ]
     },
     "execution_count": 11,
     "metadata": {},
     "output_type": "execute_result"
    }
   ],
   "source": [
    "#SUCCESS\n",
    "\n",
    "nums =  [1,2,3,4,5,6,7]\n",
    "k = 3\n",
    "\n",
    "nums[-k:]+nums[:len(nums)-k]"
   ]
  },
  {
   "cell_type": "code",
   "execution_count": 18,
   "metadata": {},
   "outputs": [
    {
     "data": {
      "text/plain": [
       "[5, 6, 7, 1, 2, 3, 4]"
      ]
     },
     "execution_count": 18,
     "metadata": {},
     "output_type": "execute_result"
    }
   ],
   "source": [
    "#SOLUTION\n",
    "\n",
    "nums =  [1,2,3,4,5,6,7]\n",
    "k = 3\n",
    "\n",
    "if k > len(nums):\n",
    "    k = k % len(nums)\n",
    "\n",
    "temp = nums[len(nums) - k : len(nums)]\n",
    "nums[k : len(nums)] = nums[0:len(nums)-k]\n",
    "nums[0:k] = temp\n",
    "nums"
   ]
  }
 ],
 "metadata": {
  "kernelspec": {
   "display_name": "Python 3",
   "language": "python",
   "name": "python3"
  },
  "language_info": {
   "codemirror_mode": {
    "name": "ipython",
    "version": 3
   },
   "file_extension": ".py",
   "mimetype": "text/x-python",
   "name": "python",
   "nbconvert_exporter": "python",
   "pygments_lexer": "ipython3",
   "version": "3.7.1"
  }
 },
 "nbformat": 4,
 "nbformat_minor": 2
}
