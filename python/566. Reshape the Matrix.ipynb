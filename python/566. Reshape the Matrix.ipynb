{
 "cells": [
  {
   "cell_type": "markdown",
   "metadata": {},
   "source": [
    "In MATLAB, there is a very useful function called 'reshape', which can reshape a matrix into a new one with different size but keep its original data.\n",
    "\n",
    "You're given a matrix represented by a two-dimensional array, and two positive integers r and c representing the row number and column number of the wanted reshaped matrix, respectively.\n",
    "\n",
    "The reshaped matrix need to be filled with all the elements of the original matrix in the same row-traversing order as they were.\n",
    "\n",
    "If the 'reshape' operation with given parameters is possible and legal, output the new reshaped matrix; Otherwise, output the original matrix.\n",
    "\n",
    ">Example 1:<br>\n",
    ">Input: <br>\n",
    ">nums = <br>\n",
    ">[[1,2],<br>\n",
    "> [3,4]]<br>\n",
    ">r = 1, c = 4<br>\n",
    ">Output: <br>\n",
    ">[[1,2,3,4]]<br>\n",
    ">Explanation:<br>\n",
    ">The row-traversing of nums is [1,2,3,4]. The new reshaped matrix is a 1 * 4 matrix, fill it row by row by using the previous list.<br>\n",
    "\n",
    "\n",
    ">Example 2:<br>\n",
    ">Input: <br>\n",
    ">nums = <br>\n",
    ">[[1,2],<br>\n",
    "> [3,4]]<br>\n",
    ">r = 2, c = 4<br>\n",
    ">Output: <br>\n",
    ">[[1,2],<br>\n",
    "> [3,4]]<br>\n",
    ">Explanation:<br>\n",
    ">There is no way to reshape a 2 * 2 matrix to a 2 * 4 matrix. So output the original matrix.<br>"
   ]
  },
  {
   "cell_type": "code",
   "execution_count": 38,
   "metadata": {},
   "outputs": [],
   "source": [
    "import numpy as np"
   ]
  },
  {
   "cell_type": "code",
   "execution_count": 52,
   "metadata": {},
   "outputs": [
    {
     "name": "stdout",
     "output_type": "stream",
     "text": [
      "[[1 2]\n",
      " [3 4]]\n"
     ]
    }
   ],
   "source": [
    "#Success\n",
    "\n",
    "nums = [[1,2],[3,4]]\n",
    "numsArray=np.array(nums)\n",
    "numsArray\n",
    "\n",
    "r, c = 2,2\n",
    "\n",
    "if(len(numsArray.flatten()) % (r*c) == 0):\n",
    "    print(numsArray.reshape(r,c))\n",
    "else:\n",
    "    print(numsArray)"
   ]
  },
  {
   "cell_type": "code",
   "execution_count": 37,
   "metadata": {},
   "outputs": [
    {
     "name": "stdout",
     "output_type": "stream",
     "text": [
      "[[1 2 3 4]]\n"
     ]
    }
   ],
   "source": [
    "#trial01 -- raises value error\n",
    "\n",
    "nums = [[1,2],[3,4]]\n",
    "numsArray=np.array(nums)\n",
    "\n",
    "r, c = 1, 4\n",
    "if(numsArray.reshape(r,c).any()): #.any() 아무거나 하나라도 true면 true 반환 / .all은 모두가 true면 true반환\n",
    "    print(numsArray.reshape(r,c))\n",
    "else: #if X, raises value error\n",
    "    print(None)"
   ]
  }
 ],
 "metadata": {
  "kernelspec": {
   "display_name": "Python 3",
   "language": "python",
   "name": "python3"
  },
  "language_info": {
   "codemirror_mode": {
    "name": "ipython",
    "version": 3
   },
   "file_extension": ".py",
   "mimetype": "text/x-python",
   "name": "python",
   "nbconvert_exporter": "python",
   "pygments_lexer": "ipython3",
   "version": "3.7.1"
  }
 },
 "nbformat": 4,
 "nbformat_minor": 2
}
