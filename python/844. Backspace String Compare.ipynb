{
 "cells": [
  {
   "cell_type": "markdown",
   "metadata": {},
   "source": [
    "Given two strings S and T, return if they are equal when both are typed into empty text editors. # means a backspace character.\n",
    "\n",
    ">Example 1:<br>\n",
    ">Input: S = \"ab#c\", T = \"ad#c\"<br>\n",
    ">Output: true<br>\n",
    ">Explanation: Both S and T become \"ac\".<br>\n",
    "\n",
    ">Example 2:<br>\n",
    ">Input: S = \"ab##\", T = \"c#d#\"<br>\n",
    ">Output: true<br>\n",
    ">Explanation: Both S and T become \"\".<br>\n",
    "\n",
    ">Example 3:<br>\n",
    ">Input: S = \"a##c\", T = \"#a#c\"<br>\n",
    ">Output: true<br>\n",
    ">Explanation: Both S and T become \"c\".<br>\n",
    "\n",
    ">Example 4:<br>\n",
    ">Input: S = \"a#c\", T = \"b\"<br>\n",
    ">Output: false<br>\n",
    ">Explanation: S becomes \"c\" while T becomes \"b\".<br>"
   ]
  },
  {
   "cell_type": "code",
   "execution_count": 177,
   "metadata": {},
   "outputs": [
    {
     "name": "stdout",
     "output_type": "stream",
     "text": [
      "['f']\n",
      "['f']\n",
      "True\n"
     ]
    }
   ],
   "source": [
    "S=\"y#fo##f\"\n",
    "T=\"y#f#o##f\"\n",
    "\n",
    "a=list(S)\n",
    "b=list(T)\n",
    "\n",
    "for i in range(a.count('#')):\n",
    "    if(a.index('#')==0):\n",
    "        del a[a.index('#')]\n",
    "    elif(a[a.index('#')-1].isalpha()):\n",
    "        del a[a.index('#')-1]    \n",
    "        del a[a.index('#')]\n",
    "for i in range(b.count('#')):\n",
    "    if(b.index('#')==0):\n",
    "        del b[b.index('#')]\n",
    "    elif(b[b.index('#')-1].isalpha()):\n",
    "        del b[b.index('#')-1]    \n",
    "        del b[b.index('#')]\n",
    "print(a)\n",
    "print(b)\n",
    "if(a==b):\n",
    "    print(True)\n",
    "else:\n",
    "    print(False)\n"
   ]
  }
 ],
 "metadata": {
  "kernelspec": {
   "display_name": "Python 2",
   "language": "python",
   "name": "python2"
  },
  "language_info": {
   "codemirror_mode": {
    "name": "ipython",
    "version": 2
   },
   "file_extension": ".py",
   "mimetype": "text/x-python",
   "name": "python",
   "nbconvert_exporter": "python",
   "pygments_lexer": "ipython2",
   "version": "2.7.15"
  }
 },
 "nbformat": 4,
 "nbformat_minor": 2
}
