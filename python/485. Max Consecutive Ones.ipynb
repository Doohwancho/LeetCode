{
 "cells": [
  {
   "cell_type": "markdown",
   "metadata": {},
   "source": [
    "Given a binary array, find the maximum number of consecutive 1s in this array.\n",
    "\n",
    ">Example 1:<br>\n",
    ">Input: [1,1,0,1,1,1]<br>\n",
    ">Output: 3<br>\n",
    ">Explanation: The first two digits or the last three digits are consecutive 1s.<br>\n",
    ">    The maximum number of consecutive 1s is 3.<br>"
   ]
  },
  {
   "cell_type": "code",
   "execution_count": 23,
   "metadata": {},
   "outputs": [
    {
     "name": "stdout",
     "output_type": "stream",
     "text": [
      "6\n"
     ]
    }
   ],
   "source": [
    "nums = [1,1,0,1,1,1,1,1,0,1,1,1,1,1,1]\n",
    "#nums=[1,0,1,1,0,1]\n",
    "\n",
    "maxConseq=0\n",
    "conseq=0\n",
    "for idx, value in enumerate(nums):\n",
    "    if(idx == 0):\n",
    "        pass\n",
    "    else:\n",
    "        if(value == 1 and value == nums[idx-1]):\n",
    "            conseq+=1\n",
    "        if(conseq > maxConseq):\n",
    "            maxConseq = conseq\n",
    "        if(value == 0):\n",
    "            conseq = 0\n",
    "if(nums.count(1)<1):\n",
    "    print(0)\n",
    "else:\n",
    "    print(maxConseq+1)"
   ]
  }
 ],
 "metadata": {
  "kernelspec": {
   "display_name": "Python 3",
   "language": "python",
   "name": "python3"
  },
  "language_info": {
   "codemirror_mode": {
    "name": "ipython",
    "version": 3
   },
   "file_extension": ".py",
   "mimetype": "text/x-python",
   "name": "python",
   "nbconvert_exporter": "python",
   "pygments_lexer": "ipython3",
   "version": "3.7.1"
  }
 },
 "nbformat": 4,
 "nbformat_minor": 2
}
