{
 "cells": [
  {
   "cell_type": "markdown",
   "metadata": {},
   "source": [
    "You're now a baseball game point recorder.<br>\n",
    "<br>\n",
    "Given a list of strings, each string can be one of the 4 following types:<br>\n",
    "<br>\n",
    "Integer (one round's score): Directly represents the number of points you get in this round.<br>\n",
    "\"+\" (one round's score): Represents that the points you get in this round are the sum of the last two valid round's points.<br>\n",
    "\"D\" (one round's score): Represents that the points you get in this round are the doubled data of the last valid round's points.<br>\n",
    "\"C\" (an operation, which isn't a round's score): Represents the last valid round's points you get were invalid and should be removed.<br>\n",
    "Each round's operation is permanent and could have an impact on the round before and the round after.<br>\n",
    "<br>\n",
    "You need to return the sum of the points you could get in all the rounds.<br>\n",
    "<br>\n",
    "\n",
    ">Example 1:<br>\n",
    "Input: [\"5\",\"2\",\"C\",\"D\",\"+\"]<br>\n",
    "Output: 30<br>\n",
    "Explanation: <br>\n",
    "Round 1: You could get 5 points. The sum is: 5.<br>\n",
    "Round 2: You could get 2 points. The sum is: 7.<br>\n",
    "Operation 1: The round 2's data was invalid. The sum is: 5.  <br>\n",
    "Round 3: You could get 10 points (the round 2's data has been removed). The sum is: 15.<br>\n",
    ">Round 4: You could get 5 + 10 = 15 points. The sum is: 30.<br>\n",
    "\n",
    ">Example 2:<br>\n",
    "Input: [\"5\",\"-2\",\"4\",\"C\",\"D\",\"9\",\"+\",\"+\"]<br>\n",
    "Output: 27<br>\n",
    "Explanation: <br>\n",
    "Round 1: You could get 5 points. The sum is: 5.<br>\n",
    "Round 2: You could get -2 points. The sum is: 3.<br>\n",
    "Round 3: You could get 4 points. The sum is: 7.<br>\n",
    "Operation 1: The round 3's data is invalid. The sum is: 3.  <br>\n",
    "Round 4: You could get -4 points (the round 3's data has been removed). The sum is: -1.<br>\n",
    "Round 5: You could get 9 points. The sum is: 8.<br>\n",
    "Round 6: You could get -4 + 9 = 5 points. The sum is 13.<br>\n",
    ">Round 7: You could get 9 + 5 = 14 points. The sum is 27.<br>"
   ]
  },
  {
   "cell_type": "code",
   "execution_count": 31,
   "metadata": {},
   "outputs": [
    {
     "data": {
      "text/plain": [
       "27"
      ]
     },
     "execution_count": 31,
     "metadata": {},
     "output_type": "execute_result"
    }
   ],
   "source": [
    "#문제\n",
    "\n",
    "#리스트가 주어진다. ex)[\"5\",\"2\",\"C\",\"D\",\"+\"]\n",
    "#리스트안 숫자는 스코어를 의미한다. \n",
    "#C는 C 이전의 스코어를 cancel, 즉 없애라라는 뜻이다.\n",
    "#D는 D 이전의 스코어를 double, 즉 두배를 해서 score에 추가하라는 뜻이다.\n",
    "#+는 가장 마지막 숫자와 마지막에서 2번째 숫자를 더하라는 뜻이다.\n",
    "\n",
    "#예시\n",
    "\n",
    "#리스트 [\"5\",\"-2\",\"4\",\"C\",\"D\",\"9\",\"+\",\"+\"] 가 주어졌다.\n",
    "#step1) 5는 숫자니 score에 더한다. (score==5)\n",
    "#step2) -2는 숫자니 score에 더한다. (score==3)\n",
    "#step3) 4는 숫자니 score에 더한다. (score==4)\n",
    "#step4) C는 cancel이니, 마지막 score를 없앤다. (score == 3 (7에서 마지막숫자인 4 없앰))\n",
    "#step5) D는 double이니, 마지막 score를 두배해서 더해준다. (score == -1 (3에서 마지막 숫자인 -2의 두배를 더해준다.))\n",
    "#step6) 9는 숫자니 score에 더한다. (score==8)\n",
    "#step7) +는 가장 마지막 숫자와 마지막에서 2번째 숫자를 더하라는 뜻이니, -4와 9를 더한값을 score에 더해준다. (score == 13 (8+5))\n",
    "#step8) +는 가장 마지막 숫자와 마지막에서 2번째 숫자를 더하라는 뜻이니, 9와 5를 더한값을 score에 더해준다. (score == 27 (13+14))\n",
    "\n",
    "\n",
    "\n",
    "#문제풀이\n",
    "\n",
    "#stack을 활용해 풀면 된다. score라는 리스트를 만들어서, 각 step별 score를 append 시키고, 'C','D','+'가 나왔을 경우, 대처하면 된다.\n",
    "\n",
    "#주의점: 숫자와 문자열을 구분지을때 .isdigit()을 쓰는데,  숫자가 음수일 경우(ex) \"-2\") .isdigit()이 문자열과 같이 False를 반환한다.\n",
    "#다시 int()를 써서 정수로 바꾸고 .isdigit()하기에는 다른 문자열 'C','D','+'가 있어서 번거롭기 때문에 else문으로 빼준다.\n",
    "\n",
    "#step01 - score 리스트 생성\n",
    "#step02 - C일 경우, score리스트에 마지막 숫자 제거\n",
    "#step03 - D일 경우, score리스트에 마지막 숫자 *2를 score에 더함\n",
    "#step04 - +일 경우, score리스트에 마지막 숫자 두개를 더한값을 score에 더함\n",
    "#step05 - score리스트의 총 합을 반환\n",
    "\n",
    "\n",
    "def calPoints(ops):\n",
    "    score = []                               #step01\n",
    "    for i in ops:\n",
    "        if i == \"C\":                         #step02\n",
    "            score.pop(-1)\n",
    "        elif i == \"D\":                       #step03\n",
    "            score.append(score[-1]*2)\n",
    "        elif i == \"+\":                       #step04\n",
    "            score.append(score[-1]+score[-2])\n",
    "        else:                                #주의사항\n",
    "            score.append(int(i))          \n",
    "    return sum(score)                        #step05\n",
    "\n",
    "\n",
    "ops =  [\"5\",\"2\",\"C\",\"D\",\"+\"]\n",
    "ops =  [\"5\",\"-2\",\"4\",\"C\",\"D\",\"9\",\"+\",\"+\"]\n",
    "calPoints(ops)"
   ]
  }
 ],
 "metadata": {
  "kernelspec": {
   "display_name": "Python 3",
   "language": "python",
   "name": "python3"
  },
  "language_info": {
   "codemirror_mode": {
    "name": "ipython",
    "version": 3
   },
   "file_extension": ".py",
   "mimetype": "text/x-python",
   "name": "python",
   "nbconvert_exporter": "python",
   "pygments_lexer": "ipython3",
   "version": "3.7.2"
  }
 },
 "nbformat": 4,
 "nbformat_minor": 2
}
