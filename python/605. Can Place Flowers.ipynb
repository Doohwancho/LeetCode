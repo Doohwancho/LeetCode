{
 "cells": [
  {
   "cell_type": "markdown",
   "metadata": {},
   "source": [
    "Suppose you have a long flowerbed in which some of the plots are planted and some are not. However, flowers cannot be planted in adjacent plots - they would compete for water and both would die.\n",
    "\n",
    "Given a flowerbed (represented as an array containing 0 and 1, where 0 means empty and 1 means not empty), and a number n, return if n new flowers can be planted in it without violating the no-adjacent-flowers rule.\n",
    "\n",
    ">Example 1:<br>\n",
    ">Input: flowerbed = [1,0,0,0,1], n = 1<br>\n",
    ">Output: True<br>\n",
    "\n",
    ">Example 2:<br>\n",
    ">Input: flowerbed = [1,0,0,0,1], n = 2<br>\n",
    ">Output: False<br>"
   ]
  },
  {
   "cell_type": "code",
   "execution_count": 34,
   "metadata": {},
   "outputs": [
    {
     "data": {
      "text/plain": [
       "False"
      ]
     },
     "execution_count": 34,
     "metadata": {},
     "output_type": "execute_result"
    }
   ],
   "source": [
    "#flowerbed = [1,0,0,0,1]\n",
    "flowerbed = [1,0,0,0,0,1]\n",
    "n = 2\n",
    "\n",
    "#flowerbed의 len이 2이하일 경우\n",
    "if len(flowerbed) <= 2:\n",
    "    if sum(flowerbed) == 0:\n",
    "        print(n <= 1)\n",
    "    else:\n",
    "        print(n == 0)\n",
    " \n",
    "#flowerbed의 len이 3이상일 경우\n",
    "flowerbed.append(2)\n",
    "availableSpot=0\n",
    "for i in range(1, len(flowerbed)):\n",
    "    if (i == 1 or i == len(flowerbed)-2) and flowerbed[i-1]== flowerbed[i]==0:\n",
    "        availableSpot+=1\n",
    "        flowerbed[i-1]=1\n",
    "    elif flowerbed[i-1] == flowerbed[i] == flowerbed[i+1]:\n",
    "        availableSpot+=1\n",
    "        flowerbed[i]=1\n",
    "\n",
    "#availableSpot\n",
    "n <= availableSpot"
   ]
  }
 ],
 "metadata": {
  "kernelspec": {
   "display_name": "Python 3",
   "language": "python",
   "name": "python3"
  },
  "language_info": {
   "codemirror_mode": {
    "name": "ipython",
    "version": 3
   },
   "file_extension": ".py",
   "mimetype": "text/x-python",
   "name": "python",
   "nbconvert_exporter": "python",
   "pygments_lexer": "ipython3",
   "version": "3.7.1"
  }
 },
 "nbformat": 4,
 "nbformat_minor": 2
}
