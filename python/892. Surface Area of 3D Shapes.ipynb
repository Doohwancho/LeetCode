{
 "cells": [
  {
   "cell_type": "markdown",
   "metadata": {},
   "source": [
    "On a N * N grid, we place some 1 * 1 * 1 cubes.\n",
    "\n",
    "Each value v = grid[i][j] represents a tower of v cubes placed on top of grid cell (i, j).\n",
    "\n",
    "Return the total surface area of the resulting shapes.\n",
    "\n",
    " \n",
    "\n",
    ">Example 1:<br>\n",
    ">Input: [[2]]<br>\n",
    ">Output: 10<br>\n",
    "\n",
    ">Example 2:<br>\n",
    ">Input: [[1,2],[3,4]]<br>\n",
    ">Output: 34<br>\n",
    "\n",
    ">Example 3:<br>\n",
    ">Input: [[1,0],[0,2]]<br>\n",
    ">Output: 16<br>\n",
    "\n",
    ">Example 4:<br>\n",
    ">Input: [[1,1,1],[1,0,1],[1,1,1]]<br>\n",
    ">Output: 32<br>\n",
    "\n",
    ">Example 5:<br>\n",
    ">Input: [[2,2,2],[2,1,2],[2,2,2]]<br>\n",
    ">Output: 46<br>"
   ]
  },
  {
   "cell_type": "code",
   "execution_count": 2,
   "metadata": {},
   "outputs": [],
   "source": [
    "import numpy as np"
   ]
  },
  {
   "cell_type": "code",
   "execution_count": 44,
   "metadata": {},
   "outputs": [
    {
     "name": "stdout",
     "output_type": "stream",
     "text": [
      "42\n"
     ]
    }
   ],
   "source": [
    "#SUCCESS(?)\n",
    "# case1) grid=[[1,1,1],[1,0,1],[1,1,1]]\n",
    "# case2) grid=[[2,2,2],[2,1,2],[2,2,2]]\n",
    "# 가 예시에는 이상하게 뜸. 그리고 왠지 모르겠는데 leetcode에서 import numpy가 안먹힘...나만 ㅠㅠ\n",
    "\n",
    "#grid=[[1,2],[3,4]]\n",
    "#grid=[[2]]\n",
    "#grid=[[1,0],[0,2]]\n",
    "#grid=[[1,1,1],[1,0,1],[1,1,1]]\n",
    "grid=[[2,2,2],[2,1,2],[2,2,2]]\n",
    "\n",
    "#top & bottom\n",
    "TopBottom=np.array(grid).flatten()\n",
    "TopBottom_num=0\n",
    "for i in range(len(TopBottom)):\n",
    "    if(TopBottom[i]>0):\n",
    "        TopBottom_num+=1\n",
    "TopBottom_num=TopBottom_num*2\n",
    "\n",
    "#Left\n",
    "Left_num=0\n",
    "max_num=-999\n",
    "for i in range(len(grid)):\n",
    "    for j in range(len(grid[i])):\n",
    "        if(grid[j][i] > max_num):\n",
    "            max_num=grid[j][i]\n",
    "    Left_num+=max_num\n",
    "Left_num=Left_num*2\n",
    "\n",
    "#Right\n",
    "Right_num=0\n",
    "max_num=-999\n",
    "for i in range(len(grid)):\n",
    "    for j in range(len(grid[i])):\n",
    "        if(grid[i][j] > max_num):\n",
    "            max_num = grid[i][j]\n",
    "    Right_num+=max_num\n",
    "Right_num=Right_num*2\n",
    "\n",
    "rst=TopBottom_num+Left_num+Right_num\n",
    "print(rst)"
   ]
  }
 ],
 "metadata": {
  "kernelspec": {
   "display_name": "Python 3",
   "language": "python",
   "name": "python3"
  },
  "language_info": {
   "codemirror_mode": {
    "name": "ipython",
    "version": 3
   },
   "file_extension": ".py",
   "mimetype": "text/x-python",
   "name": "python",
   "nbconvert_exporter": "python",
   "pygments_lexer": "ipython3",
   "version": "3.7.1"
  }
 },
 "nbformat": 4,
 "nbformat_minor": 2
}
