{
 "cells": [
  {
   "cell_type": "markdown",
   "metadata": {},
   "source": [
    "Given a tree, rearrange the tree in in-order so that the leftmost node in the tree is now the root of the tree, and every node has no left child and only 1 right child."
   ]
  },
  {
   "cell_type": "code",
   "execution_count": null,
   "metadata": {},
   "outputs": [],
   "source": [
    "#문제\n",
    "\n",
    "#inorder를 써서 담긴 리스트안의 값들을, 새로운 tree에 넣는데, 아래와 같은 방식으로 오른쪽 child에게만 넣는다.\n",
    "# Example 1:\n",
    "# Input: [5,3,6,2,4,null,8,1,null,null,null,7,9]\n",
    "\n",
    "#        5\n",
    "#       / \\\n",
    "#     3    6\n",
    "#    / \\    \\\n",
    "#   2   4    8\n",
    "#  /        / \\ \n",
    "# 1        7   9\n",
    "\n",
    "# Output: [1,null,2,null,3,null,4,null,5,null,6,null,7,null,8,null,9]\n",
    "\n",
    "#  1\n",
    "#   \\\n",
    "#    2\n",
    "#     \\\n",
    "#      3\n",
    "#       \\\n",
    "#        4\n",
    "#         \\\n",
    "#          5\n",
    "#           \\\n",
    "#            6\n",
    "#             \\\n",
    "#              7\n",
    "#               \\\n",
    "#                8\n",
    "#                 \\\n",
    "#                  9 \n",
    "\n",
    "\n",
    "\n",
    "# Definition for a binary tree node.\n",
    "# class TreeNode:\n",
    "#     def __init__(self, x):\n",
    "#         self.val = x\n",
    "#         self.left = None\n",
    "#         self.right = None\n",
    "\n",
    "class Solution:\n",
    "    def increasingBST(self, root: TreeNode) -> TreeNode:\n",
    "        \n",
    "        def dfs(root):\n",
    "            if not root: return\n",
    "            dfs(root.left)\n",
    "            container.append(root.val)  #inorder 방식으로 가장 왼쪽부터 container에 담는다.\n",
    "            dfs(root.right)\n",
    "            \n",
    "        def construct_tree(i,array):                # i와 dfs()로 담은 container 가져옴\n",
    "            if i == len(array):                     # i가 해당 container의 길이와 같아지면 끝냄\n",
    "                return None\n",
    "            node = TreeNode(array[i])               # container의 i번째 인덱스에 있는 값을 node에 넣어준다.\n",
    "            node.right = construct_tree(i+1,array)  # node의 오른쪽 child만 재귀용법을 써서 construct_tree()을 적용시킨다.\n",
    "            return node\n",
    "                \n",
    "        container = []\n",
    "        dfs(root)\n",
    "        \n",
    "        return construct_tree(0,container)"
   ]
  }
 ],
 "metadata": {
  "kernelspec": {
   "display_name": "Python 3",
   "language": "python",
   "name": "python3"
  },
  "language_info": {
   "codemirror_mode": {
    "name": "ipython",
    "version": 3
   },
   "file_extension": ".py",
   "mimetype": "text/x-python",
   "name": "python",
   "nbconvert_exporter": "python",
   "pygments_lexer": "ipython3",
   "version": "3.7.2"
  }
 },
 "nbformat": 4,
 "nbformat_minor": 2
}
