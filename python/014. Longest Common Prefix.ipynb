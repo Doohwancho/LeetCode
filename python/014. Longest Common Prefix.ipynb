{
 "cells": [
  {
   "cell_type": "markdown",
   "metadata": {},
   "source": [
    "Write a function to find the longest common prefix string amongst an array of strings.\n",
    "\n",
    "If there is no common prefix, return an empty string \"\".\n",
    "\n",
    ">Example 1:<br>\n",
    ">Input: [\"flower\",\"flow\",\"flight\"]<br>\n",
    ">Output: \"fl\"<br>\n",
    "\n",
    "Example 2:<br>\n",
    "Input: [\"dog\",\"racecar\",\"car\"]<br>\n",
    "Output: \"\"<br>\n",
    "Explanation: There is no common prefix among the input strings.<br>"
   ]
  },
  {
   "cell_type": "code",
   "execution_count": 3,
   "metadata": {},
   "outputs": [
    {
     "name": "stdout",
     "output_type": "stream",
     "text": [
      "fl\n",
      "flo\n",
      "flow\n"
     ]
    }
   ],
   "source": [
    "strs=[\"flower\",\"flow\",\"flight\"]\n",
    "\n",
    "if not strs:\n",
    "    print(\"\")\n",
    "shortest = min(strs,key=len) #가장 짧은 단어 추출\n",
    "for i, ch in enumerate(shortest): #enumerate는 index와 name을 뽑는 것\n",
    "    for other in strs: \n",
    "        if other[i] != ch: #만약 첫번째부터 다르면 [:1]은 return null / 3번째부터 다르면 [:2]까지 출력 \n",
    "            print(shortest[:i])\n",
    "print(shortest) #만약 3개가 다 똑같은 경우 해당 글자(shortest) 출력"
   ]
  }
 ],
 "metadata": {
  "kernelspec": {
   "display_name": "Python 3",
   "language": "python",
   "name": "python3"
  },
  "language_info": {
   "codemirror_mode": {
    "name": "ipython",
    "version": 3
   },
   "file_extension": ".py",
   "mimetype": "text/x-python",
   "name": "python",
   "nbconvert_exporter": "python",
   "pygments_lexer": "ipython3",
   "version": "3.7.0"
  }
 },
 "nbformat": 4,
 "nbformat_minor": 2
}
