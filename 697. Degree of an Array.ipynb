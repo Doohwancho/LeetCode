{
 "cells": [
  {
   "cell_type": "markdown",
   "metadata": {},
   "source": [
    "Given a non-empty array of non-negative integers nums, the degree of this array is defined as the maximum frequency of any one of its elements.\n",
    "\n",
    "Your task is to find the smallest possible length of a (contiguous) subarray of nums, that has the same degree as nums.\n",
    "\n",
    ">Example 1:<br>\n",
    ">Input: [1, 2, 2, 3, 1]<br>\n",
    ">Output: 2<br>\n",
    ">Explanation: <br>\n",
    ">The input array has a degree of 2 because both elements 1 and 2 appear twice.<br>\n",
    ">Of the subarrays that have the same degree:<br>\n",
    ">[1, 2, 2, 3, 1], [1, 2, 2, 3], [2, 2, 3, 1], [1, 2, 2], [2, 2, 3], [2, 2]<br>\n",
    ">The shortest length is 2. So return 2.<br>\n",
    "\n",
    ">Example 2:<br>\n",
    ">Input: [1,2,2,3,1,4,2]<br>\n",
    ">Output: 6<br>"
   ]
  },
  {
   "cell_type": "code",
   "execution_count": 83,
   "metadata": {},
   "outputs": [
    {
     "data": {
      "text/plain": [
       "5"
      ]
     },
     "execution_count": 83,
     "metadata": {},
     "output_type": "execute_result"
    }
   ],
   "source": [
    "#yet\n",
    "\n",
    "#nums = [1,2,4,2,3,1,2,4,4,4,4,1,1,5]\n",
    "nums = [1,2,2,3,1]\n",
    "\n",
    "freqNum=max(set(nums), key=nums.count)\n",
    "freq=sorted([nums.count(x) for x in list(set(nums))])[-1]\n",
    "\n",
    "len(nums)-nums[::-1].index(freqNum)-nums.index(freqNum) #yet -- 중복 숫자가 두개일 경우 구분 못함"
   ]
  },
  {
   "cell_type": "code",
   "execution_count": 121,
   "metadata": {},
   "outputs": [
    {
     "name": "stdout",
     "output_type": "stream",
     "text": [
      "2\n"
     ]
    }
   ],
   "source": [
    "#yet \n",
    "\n",
    "nums = [1,2,2,3,1]\n",
    "#nums = [1,2,4,2,3,1,2,4,4,4,4,1,1,5]\n",
    "\n",
    "freqNum=max(set(nums), key=nums.count)\n",
    "freq=sorted([nums.count(x) for x in list(set(nums))])[-1]\n",
    "distance=10000\n",
    "\n",
    "while distance > len(nums)-nums[::-1].index(freqNum)-nums.index(freqNum) and len(nums)>1:\n",
    "    distance = len(nums)-nums[::-1].index(freqNum)-nums.index(freqNum)\n",
    "    cnt=0\n",
    "    while cnt<freq:\n",
    "        nums.remove(freqNum) #error -- 지워버리면 두번째 most freq num부터는 사이길이가 더 짧아짐\n",
    "        cnt+=1\n",
    "    freqNum=max(set(nums), key=nums.count)\n",
    "    freq=sorted([nums.count(x) for x in list(set(nums))])[-1]\n",
    "print(distance)"
   ]
  },
  {
   "cell_type": "code",
   "execution_count": 124,
   "metadata": {},
   "outputs": [
    {
     "name": "stdout",
     "output_type": "stream",
     "text": [
      "{1: [0, 4], 2: [1, 2], 3: [3]}\n",
      "[[0, 4], [1, 2]]\n"
     ]
    },
    {
     "data": {
      "text/plain": [
       "2"
      ]
     },
     "execution_count": 124,
     "metadata": {},
     "output_type": "execute_result"
    }
   ],
   "source": [
    "#Solution\n",
    "\n",
    "def findShortestSubArray(self, nums):\n",
    "    book = {}\n",
    "    for index,num in enumerate(nums):\n",
    "        if num not in book:\n",
    "            book[num] = [index]\n",
    "        else:\n",
    "            book[num].append(index)\n",
    "\n",
    "    print(book)\n",
    "    # compute the degree of nums[]\n",
    "    degree = 0\n",
    "    maxlist = []  \n",
    "        freq = len(book[i])\n",
    "        if freq > degree:\n",
    "            degree = freq\n",
    "            maxlist = [book[i]]  \n",
    "        elif freq == degree:\n",
    "            maxlist.append(book[i]) # 이거 때문에 frequency 같은 숫자도 비교 가능\n",
    "\n",
    "    # special case\n",
    "    if degree == 1:\n",
    "        return 1\n",
    "\n",
    "    minlength = float('inf')\n",
    "    print(maxlist)\n",
    "    \n",
    "    for i in maxlist:\n",
    "        length = i[-1] - i[0] + 1\n",
    "        minlength = min(length,minlength)\n",
    "    return minlength\n",
    "\n",
    "\n",
    "nums = [1,2,2,3,1]\n",
    "\n",
    "findShortestSubArray(1, nums)"
   ]
  }
 ],
 "metadata": {
  "kernelspec": {
   "display_name": "Python 3",
   "language": "python",
   "name": "python3"
  },
  "language_info": {
   "codemirror_mode": {
    "name": "ipython",
    "version": 3
   },
   "file_extension": ".py",
   "mimetype": "text/x-python",
   "name": "python",
   "nbconvert_exporter": "python",
   "pygments_lexer": "ipython3",
   "version": "3.7.1"
  }
 },
 "nbformat": 4,
 "nbformat_minor": 2
}
