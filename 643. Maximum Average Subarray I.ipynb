{
 "cells": [
  {
   "cell_type": "markdown",
   "metadata": {},
   "source": [
    "Given an array consisting of n integers, find the contiguous subarray of given length k that has the maximum average value. And you need to output the maximum average value.\n",
    "\n",
    ">Example 1:<br>\n",
    ">Input: [1,12,-5,-6,50,3], k = 4<br>\n",
    ">Output: 12.75<br>\n",
    ">Explanation: Maximum average is (12-5-6+50)/4 = 51/4 = 12.75<br>"
   ]
  },
  {
   "cell_type": "code",
   "execution_count": 45,
   "metadata": {},
   "outputs": [
    {
     "name": "stdout",
     "output_type": "stream",
     "text": [
      "3.3333333333333335\n"
     ]
    }
   ],
   "source": [
    "#SUCCESS\n",
    "\n",
    "nums=[3,3,4,3,0]\n",
    "k=3\n",
    "\n",
    "if len(nums) < k:\n",
    "    print(sum(nums)/len(nums))\n",
    "else:\n",
    "    maxnum=-float('inf')\n",
    "    for i in range(len(nums)-(k-1)):\n",
    "        if sum(nums[i:k+i])/k > maxnum:\n",
    "            maxnum = sum(nums[i:k+i])/k\n",
    "\n",
    "    print(maxnum)"
   ]
  }
 ],
 "metadata": {
  "kernelspec": {
   "display_name": "Python 3",
   "language": "python",
   "name": "python3"
  },
  "language_info": {
   "codemirror_mode": {
    "name": "ipython",
    "version": 3
   },
   "file_extension": ".py",
   "mimetype": "text/x-python",
   "name": "python",
   "nbconvert_exporter": "python",
   "pygments_lexer": "ipython3",
   "version": "3.7.1"
  }
 },
 "nbformat": 4,
 "nbformat_minor": 2
}
