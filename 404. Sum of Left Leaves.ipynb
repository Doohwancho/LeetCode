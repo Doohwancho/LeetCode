{
 "cells": [
  {
   "cell_type": "code",
   "execution_count": null,
   "metadata": {},
   "outputs": [],
   "source": [
    "\"\"\"\n",
    "Find the sum of all left leaves in a given binary tree.\n",
    "\n",
    "Example:\n",
    "\n",
    "    3\n",
    "   / \\\n",
    "  9  20\n",
    "    /  \\\n",
    "   15   7\n",
    "\n",
    "There are two left leaves in the binary tree, with values 9 and 15 respectively. Return 24.\n",
    "\"\"\"\n",
    "\n",
    "#문제\n",
    "#tree의 왼쪽 leaves의 합을 구하라\n",
    "\n",
    "\n",
    "#문제풀이\n",
    "#트리의 왼쪽 leaves는 2가지 전제조건이 있다.\n",
    "#전제조건1. 노드의 부모로 부터 left child인가?\n",
    "#전제조건2. 해당 노드의 자식이 없는가?\n",
    "#전제조건1을 만족시키기 위해, root.left로 재귀할때 True를 넣어주고,\n",
    "#전제조건2를 만족시키기 위해 if not root.left and not root.right를 넣어준다.\n",
    "\n",
    "\n",
    "\n",
    "# Definition for a binary tree node.\n",
    "# class TreeNode:\n",
    "#     def __init__(self, x):\n",
    "#         self.val = x\n",
    "#         self.left = None\n",
    "#         self.right = None\n",
    "\n",
    "class Solution:\n",
    "    def sumOfLeftLeaves(self, root: TreeNode) -> int:\n",
    "        def dfs(root, left):\n",
    "            if not root: return\n",
    "            if left and not root.left and not root.right:\n",
    "                summation.append(root.val)\n",
    "            if root.left: dfs(root.left, True)\n",
    "            if root.right: dfs(root.right, False)\n",
    "            \n",
    "        summation = []\n",
    "        dfs(root, False)\n",
    "        return sum(summation)\n"
   ]
  }
 ],
 "metadata": {
  "kernelspec": {
   "display_name": "Python 3",
   "language": "python",
   "name": "python3"
  },
  "language_info": {
   "codemirror_mode": {
    "name": "ipython",
    "version": 3
   },
   "file_extension": ".py",
   "mimetype": "text/x-python",
   "name": "python",
   "nbconvert_exporter": "python",
   "pygments_lexer": "ipython3",
   "version": "3.7.2"
  }
 },
 "nbformat": 4,
 "nbformat_minor": 2
}
