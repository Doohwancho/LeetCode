{
 "cells": [
  {
   "cell_type": "markdown",
   "metadata": {},
   "source": [
    "Suppose Andy and Doris want to choose a restaurant for dinner, and they both have a list of favorite restaurants represented by strings.\n",
    "\n",
    "You need to help them find out their common interest with the least list index sum. If there is a choice tie between answers, output all of them with no order requirement. You could assume there always exists an answer.\n",
    "\n",
    ">Example 1:<br>\n",
    "Input:<br>\n",
    "[\"Shogun\", \"Tapioca Express\", \"Burger King\", \"KFC\"]<br>\n",
    "[\"Piatti\", \"The Grill at Torrey Pines\", \"Hungry Hunter Steakhouse\", \"Shogun\"]<br>\n",
    "Output: [\"Shogun\"]<br>\n",
    ">Explanation: The only restaurant they both like is \"Shogun\".<br>\n",
    "\n",
    ">Example 2:<br>\n",
    "Input:<br>\n",
    "[\"Shogun\", \"Tapioca Express\", \"Burger King\", \"KFC\"]<br>\n",
    "[\"KFC\", \"Shogun\", \"Burger King\"]<br>\n",
    "Output: [\"Shogun\"]<br>\n",
    ">Explanation: The restaurant they both like and have the least index sum is \"Shogun\" with index sum 1 (0+1).<br>"
   ]
  },
  {
   "cell_type": "code",
   "execution_count": 20,
   "metadata": {},
   "outputs": [
    {
     "name": "stdout",
     "output_type": "stream",
     "text": [
      "['KFC']\n"
     ]
    }
   ],
   "source": [
    "#문제\n",
    "\n",
    "#두 사람이 음식점을 고르려고 하고있다.\n",
    "#각 사람이 가고싶은 음식점의 리스트를, list1, list2에 담아놨다.\n",
    "#해당 리스트 중, 겹치는 곳이 있으면 가장 첫번째로 겹치는 음식점을 반환한다.\n",
    "#단, 두사람이 제시한 리스트의 음식점들이 모두 겹치면, 모든 음식점을 반환한다.\n",
    "\n",
    "\n",
    "\n",
    "\n",
    "#문제 오류\n",
    "\n",
    "#문제엔 list1과 list2가 같으면, tie라서 list1에 있는 값을 모두 리턴하라고 나와있으나,\n",
    "#trial input이 list1 = [\"k\",\"KFC\"], list2 = [\"k\",\"KFC\"]일 경우, expected output이 [\"k\"]로 나온다.\n",
    "#두개 모두 같으므로 tie이다. 따라서 [\"k\",\"KFC\"]를 반환해야 한다.\n",
    "\n",
    "\n",
    "#문제 풀이\n",
    "\n",
    "#이중 for문으로 list1의 각 element를, list2의 각 element와 비교하여, 두개의 element가 같다면, rst라는 리스트에 넣어둔다.\n",
    "#만약 두 사람이 가고싶은 음식점이 모두 겹칠경우, rst의 길이와 list1 or list2의 길이가 같으므로, 이 경우는 모든 음식점을 반환한다.\n",
    "#단, 이 경우가 아닐경우, rst에서 가장 첫번째의 음식점을 반환한다.\n",
    "\n",
    "\n",
    "\n",
    "# list1 = [\"Shogun\",\"Tapioca Express\",\"Burger King\",\"KFC\"]\n",
    "# list2 = [\"KFC\",\"Burger King\",\"Tapioca Express\",\"Shogun\"]\n",
    "list1 = [\"Shogun\", \"Tapioca Express\", \"Burger King\", \"KFC\"]\n",
    "list2 = [\"KFC\", \"Shogun\", \"Burger King\"]\n",
    "\n",
    "list1 = [\"vacag\",\"KFC\"]\n",
    "list2 = [\"fvo\",\"xrljq\",\"jrl\",\"KFC\"]\n",
    "\n",
    "rst = []\n",
    "\n",
    "for i in list1:\n",
    "    for j in list2:\n",
    "        if i == j:\n",
    "            rst.append(i)\n",
    "            break\n",
    "\n",
    "if len(list1) == len(rst):\n",
    "    print(rst)\n",
    "else:\n",
    "    print([rst[0]])"
   ]
  }
 ],
 "metadata": {
  "kernelspec": {
   "display_name": "Python 3",
   "language": "python",
   "name": "python3"
  },
  "language_info": {
   "codemirror_mode": {
    "name": "ipython",
    "version": 3
   },
   "file_extension": ".py",
   "mimetype": "text/x-python",
   "name": "python",
   "nbconvert_exporter": "python",
   "pygments_lexer": "ipython3",
   "version": "3.7.2"
  }
 },
 "nbformat": 4,
 "nbformat_minor": 2
}
