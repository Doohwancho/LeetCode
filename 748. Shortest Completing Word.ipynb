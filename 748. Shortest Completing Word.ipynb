{
 "cells": [
  {
   "cell_type": "markdown",
   "metadata": {},
   "source": [
    "Find the minimum length word from a given dictionary words, which has all the letters from the string licensePlate. Such a word is said to complete the given string licensePlate\n",
    "\n",
    "Here, for letters we ignore case. For example, \"P\" on the licensePlate still matches \"p\" on the word.\n",
    "\n",
    "It is guaranteed an answer exists. If there are multiple answers, return the one that occurs first in the array.\n",
    "\n",
    "The license plate might have the same letter occurring multiple times. For example, given a licensePlate of \"PP\", the word \"pair\" does not complete the licensePlate, but the word \"supper\" does.\n",
    "\n",
    ">Example 1:<br>\n",
    "Input: licensePlate = \"1s3 PSt\", words = [\"step\", \"steps\", \"stripe\", \"stepple\"]<br>\n",
    "Output: \"steps\"<br>\n",
    "Explanation: The smallest length word that contains the letters \"S\", \"P\", \"S\", and \"T\".<br>\n",
    "Note that the answer is not \"step\", because the letter \"s\" must occur in the word twice.<br>\n",
    ">Also note that we ignored case for the purposes of comparing whether a letter exists in the word.<br>\n",
    "\n",
    ">Example 2:<br>\n",
    "Input: licensePlate = \"1s3 456\", words = [\"looks\", \"pest\", \"stew\", \"show\"]<br>\n",
    "Output: \"pest\"<br>\n",
    "Explanation: There are 3 smallest length words that contains the letters \"s\".<br>\n",
    ">We return the one that occurred first.<br>"
   ]
  },
  {
   "cell_type": "code",
   "execution_count": 36,
   "metadata": {},
   "outputs": [
    {
     "name": "stdout",
     "output_type": "stream",
     "text": [
      "{'s': 2, 'p': 1, 't': 1}\n",
      "step {'s': 1} None\n",
      "***********************\n",
      "{'s': 2, 'p': 1, 't': 1}\n",
      "steps {} None\n",
      "***********************\n",
      "{'s': 2, 'p': 1, 't': 1}\n",
      "stripe {'s': 1} steps\n",
      "***********************\n",
      "{'s': 2, 'p': 1, 't': 1}\n",
      "stepple {'s': 1} steps\n",
      "***********************\n"
     ]
    },
    {
     "data": {
      "text/plain": [
       "'steps'"
      ]
     },
     "execution_count": 36,
     "metadata": {},
     "output_type": "execute_result"
    }
   ],
   "source": [
    "#문제\n",
    "\n",
    "#licensePlate와 words가 각각 문자열, 리스트형태로 주어진다.\n",
    "#licensePlate에 나온 문자열의 알파벳들이 words에 몇번 나오는지 세서 \n",
    "#가장 많은 빈도수가 나온 words의 element중 단어 길이가 가장 짧은 것을 리턴하라\n",
    "\n",
    "\n",
    "#예를들어 licensePlate = \"1s3 PSt\", words = [\"step\", \"steps\", \"stripe\", \"stepple\"]라고 하자.\n",
    "#licensePlate의 문자열중 알파벳은 's','P','S','t'이므로, 's'는 2번, 'p'는 1번, 't'는 1번 등장한다.\n",
    "#words의 각 단어들 중, 위의 알파벳이 최대한 많이 등장하는 단어를 찾는다.\n",
    "#만약 하나 이상의 단어의 알파벳 등장 빈도수가 같다면, 단어길이가 더 짧은 쪽을 리턴한다.\n",
    "\n",
    "\n",
    "\n",
    "\n",
    "\n",
    "#문제풀이\n",
    "\n",
    "#step01 - collections.defaultdict(int)로 value가 int타입인 딕셔너리를 만든다. defaultdict()는 dictionary 에 기본값을 정의하고 키값이 없더라도 에러를 출력하지않고 기본값을 출력한다.\n",
    "#step02 - licensePlate의 알파벳을 카운팅해서 step01의 dictionary의 해당 알파벳과 그 수를 key, value값으로 저장한다.\n",
    "#step03 - words의 각 단어를 for문으로 돌면서, licensePlate의 알파벳이 나올때마다 licensePlate의 각 알파벳에 해당하는 value값을 빼준다.\n",
    "#step04 - 만약 licensePlate의 value가 0이되면 해당 key를 지운다.\n",
    "#step05 - licensePlate key들의 value들이 모두 0이되어서 licensePlate가 빈 dictionary가 되면, 해당 단어를 res라는 변수에 넣는다. 만약 나중에 등장하는 단어중 licensePlate의 value가 0이 되었는데 res의 길이보다 짧으면, res를 해당 단어로 바꿔준다.\n",
    "\n",
    "\n",
    "\n",
    "\n",
    "\n",
    "import collections \n",
    "\n",
    "def shortestCompletingWord(licensePlate, words):\n",
    "    cntr_lp, res = collections.defaultdict(int), None       #step01\n",
    "    lp = licensePlate\n",
    "\n",
    "    for char in lp:\n",
    "        if char.isalpha(): \n",
    "            cntr_lp[char.lower()] += 1                      #step02\n",
    "    for word in words:\n",
    "        check = dict(cntr_lp)\n",
    "        print(check)\n",
    "        for char in word:                                 \n",
    "            char = char.lower()\n",
    "            if char in check:\n",
    "                check[char] -= 1                            #step03\n",
    "                if not check[char]: \n",
    "                    del check[char]                         #step04\n",
    "\n",
    "        print(word, check, res)\n",
    "        print(\"***********************\")\n",
    "        if not check and (not res or len(word) < len(res)): #step05\n",
    "            res = word\n",
    "    return res\n",
    "\n",
    "\n",
    "licensePlate = \"1s3 PSt\"\n",
    "words = [\"step\", \"steps\", \"stripe\", \"stepple\"]\n",
    "shortestCompletingWord(licensePlate, words)"
   ]
  }
 ],
 "metadata": {
  "kernelspec": {
   "display_name": "Python 3",
   "language": "python",
   "name": "python3"
  },
  "language_info": {
   "codemirror_mode": {
    "name": "ipython",
    "version": 3
   },
   "file_extension": ".py",
   "mimetype": "text/x-python",
   "name": "python",
   "nbconvert_exporter": "python",
   "pygments_lexer": "ipython3",
   "version": "3.7.2"
  }
 },
 "nbformat": 4,
 "nbformat_minor": 2
}
