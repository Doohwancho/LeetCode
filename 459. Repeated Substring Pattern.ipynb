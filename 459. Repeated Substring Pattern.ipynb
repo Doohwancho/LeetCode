{
 "cells": [
  {
   "cell_type": "markdown",
   "metadata": {},
   "source": [
    "Given a non-empty string check if it can be constructed by taking a substring of it and appending multiple copies of the substring together. You may assume the given string consists of lowercase English letters only and its length will not exceed 10000.\n",
    "\n",
    ">Example 1:<br>\n",
    ">Input: \"abab\"<br>\n",
    ">Output: True<br>\n",
    ">Explanation: It's the substring \"ab\" twice.<br>\n",
    "\n",
    ">Example 2:<br>\n",
    ">Input: \"aba\"<br>\n",
    ">Output: False<br>\n",
    "\n",
    ">Input: \"abcabcabcabc\"<br>\n",
    ">Output: True<br>\n",
    ">Explanation: It's the substring \"abc\" four times. (And the substring \"abcabc\" twice.)<br>"
   ]
  },
  {
   "cell_type": "code",
   "execution_count": 65,
   "metadata": {},
   "outputs": [
    {
     "name": "stdout",
     "output_type": "stream",
     "text": [
      "True\n",
      "False\n"
     ]
    }
   ],
   "source": [
    "#SUCESS(almost?)\n",
    "#문제에서는 substring으로'만' 나머지 string이 이어져야한다고 하는 것 같음\n",
    "#밑에껀 substring이 한번이라도 나올 경우 True반환하는 로직(방향이 조금 다름)\n",
    "\n",
    "A=\"abcabc\"\n",
    "n=1\n",
    "naljiBreak=False\n",
    "\n",
    "\n",
    "if(len(A)==2 and A[0]==A[1]):\n",
    "    print(True)\n",
    "for i in range(len(A)):\n",
    "    if(naljiBreak==True):\n",
    "        break\n",
    "    while n<len(A):\n",
    "        #print(A[:n+1])\n",
    "        #print(A[i+1:])\n",
    "        #print(A[i+1:].find(A[:n+1]))\n",
    "        if(A[i+1:].find(A[:n+1])!=-1): # and len(A[i]+A[i+n])==n):\n",
    "            print(True)\n",
    "            naljiBreak=True\n",
    "            break\n",
    "        n+=1\n",
    "print(False)"
   ]
  }
 ],
 "metadata": {
  "kernelspec": {
   "display_name": "Python 3",
   "language": "python",
   "name": "python3"
  },
  "language_info": {
   "codemirror_mode": {
    "name": "ipython",
    "version": 3
   },
   "file_extension": ".py",
   "mimetype": "text/x-python",
   "name": "python",
   "nbconvert_exporter": "python",
   "pygments_lexer": "ipython3",
   "version": "3.7.0"
  }
 },
 "nbformat": 4,
 "nbformat_minor": 2
}
