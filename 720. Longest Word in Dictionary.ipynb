{
 "cells": [
  {
   "cell_type": "markdown",
   "metadata": {},
   "source": [
    "Given a list of strings words representing an English Dictionary, find the longest word in words that can be built one character at a time by other words in words. If there is more than one possible answer, return the longest word with the smallest lexicographical order.\n",
    "\n",
    "If there is no answer, return the empty string.\n",
    ">Example 1:<br>\n",
    "Input: <br>\n",
    "words = [\"w\",\"wo\",\"wor\",\"worl\", \"world\"]<br>\n",
    "Output: \"world\"<br>\n",
    "Explanation: <br>\n",
    ">The word \"world\" can be built one character at a time by \"w\", \"wo\", \"wor\", and \"worl\".<br>\n",
    "\n",
    ">Example 2:<br>\n",
    "Input: <br>\n",
    "words = [\"a\", \"banana\", \"app\", \"appl\", \"ap\", \"apply\", \"apple\"]<br>\n",
    "Output: \"apple\"<br>\n",
    "Explanation: <br>\n",
    ">Both \"apply\" and \"apple\" can be built from other words in the dictionary. However, \"apple\" is lexicographically smaller than \"apply\".<br>"
   ]
  },
  {
   "cell_type": "code",
   "execution_count": 47,
   "metadata": {},
   "outputs": [
    {
     "data": {
      "text/plain": [
       "'apple'"
      ]
     },
     "execution_count": 47,
     "metadata": {},
     "output_type": "execute_result"
    }
   ],
   "source": [
    "#문제\n",
    "\n",
    "#리스트가 [\"a\", \"banana\", \"app\", \"appl\", \"ap\", \"apply\", \"apple\"]이렇게 주어진다.\n",
    "#리스트를 보면, 알파벳 하나씩 더해지면서 단어가 완성된다. apple이랑 apply가 이런식으로 완성된다.\n",
    "#이렇게 한개씩 더해지면서 완성되는 알파벳을 찾되, apple이랑 apply처럼, 마지막 알파벳만 다르고 appl까지 똑같다면,\n",
    "#마지막 알파벳이 사전에 나오는 순서상 앞에있는것을 리턴하라.\n",
    "#이 경우, e가 y보다 사전에 앞에 위치하므로, apple을 반환한다.\n",
    "\n",
    "\n",
    "\n",
    "\n",
    "words = [\"a\", \"banana\", \"app\", \"apple\", \"appl\", \"ap\", \"apply\" ]\n",
    "\n",
    "def longestWord(words):\n",
    "    #답을 담을 변수 선언\n",
    "    res = None\n",
    "    #res의 길이를 답을 변수 선언\n",
    "    maxlen = 0\n",
    "    #단어들을 마지막 알파벳부터 하나씩 없애가면서 in 함수를 통해 리스트에 있는지 확인할 때 필요한 look_up 변수 선언.\n",
    "    #중복된 단어를 set()으로 없애준다.\n",
    "    look_up = set(words)\n",
    "    \n",
    "    for word in words:\n",
    "        if len(word) >= maxlen:\n",
    "            #apple과 apply처럼, 길이가 같은 경우를 판별한다.\n",
    "            if len(word) == maxlen:\n",
    "                #만약 사전상 해당 알파벳이 앞에 위치하면\n",
    "                if word < res:\n",
    "                    #주어진 리스트에서 가장 마지막 알파벳을 제외한 다른 숫자가 있는지, 하나씩 comprehension으로 확인한다.\n",
    "                    #all()함수를 써서 만약 모두 true면, 해당 단어가 res 변수 안에 들어간다.\n",
    "                    if all(word[:i] in look_up for i in range(1, len(word))):\n",
    "                        res = word\n",
    "            else:\n",
    "                #만약 word가 res보다 더 단어의 길이가 길다면, 마지막 알파벳-1해서 비교를 한 후, 조건이 모두 부합하면 res 변수에 넣어준다. \n",
    "                if all(word[:i] in look_up for i in range(1, len(word))):\n",
    "                    res = word\n",
    "                    maxlen = len(word)\n",
    "    return res\n",
    "    \n",
    "longestWord(words)"
   ]
  }
 ],
 "metadata": {
  "kernelspec": {
   "display_name": "Python 3",
   "language": "python",
   "name": "python3"
  },
  "language_info": {
   "codemirror_mode": {
    "name": "ipython",
    "version": 3
   },
   "file_extension": ".py",
   "mimetype": "text/x-python",
   "name": "python",
   "nbconvert_exporter": "python",
   "pygments_lexer": "ipython3",
   "version": "3.7.2"
  }
 },
 "nbformat": 4,
 "nbformat_minor": 2
}
