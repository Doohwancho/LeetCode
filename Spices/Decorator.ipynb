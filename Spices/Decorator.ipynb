{
 "cells": [
  {
   "cell_type": "markdown",
   "metadata": {},
   "source": [
    "decorator는 원래 작업의 앞 뒤에 추가적인 작업을 손쉽게 사용 가능하도록 도와주는 역할이라는 것이다.<br>\n",
    "<br>\n",
    "함수를 이용한 decorator를 구현 가능하고, class 형태로도 구현이 가능하다"
   ]
  },
  {
   "cell_type": "code",
   "execution_count": 104,
   "metadata": {},
   "outputs": [
    {
     "name": "stdout",
     "output_type": "stream",
     "text": [
      "2019-02-09 19:27:49.469707\n",
      "MAIN FUNCTION 1 START\n",
      "2019-02-09 19:27:49.470705\n"
     ]
    }
   ],
   "source": [
    "#예제0-1 -- 함수를 이용한 decorator\n",
    "import datetime\n",
    "\n",
    "def datetime_decorator(func):\n",
    "    def decorated():\n",
    "        print(datetime.datetime.now())\n",
    "        func()\n",
    "        print(datetime.datetime.now())\n",
    "    return decorated\n",
    "\n",
    "@datetime_decorator\n",
    "def main_function():\n",
    "    print(\"MAIN FUNCTION 1 START\")\n",
    "    \n",
    "main_function()"
   ]
  },
  {
   "cell_type": "code",
   "execution_count": 124,
   "metadata": {},
   "outputs": [
    {
     "name": "stdout",
     "output_type": "stream",
     "text": [
      "2019-02-09 19:31:26.925702\n",
      "MAIN FUNCTION 1 START\n",
      "2019-02-09 19:31:26.925702\n",
      "****************************\n",
      "2019-02-09 19:31:26.925702\n",
      "MAIN FUNCTION 2 START\n",
      "2019-02-09 19:31:26.925702\n",
      "****************************\n",
      "2019-02-09 19:31:26.925702\n",
      "MAIN FUNCTION 3 START\n",
      "2019-02-09 19:31:26.925702\n"
     ]
    }
   ],
   "source": [
    "#예제 0-2 -- class를 이용한 decorator\n",
    "\n",
    "import datetime\n",
    "\n",
    "\n",
    "class DatetimeDecorator:\n",
    "    def __init__(self, f):\n",
    "            self.func = f\n",
    "    def __call__(self, *args, **kwargs):\n",
    "            print(datetime.datetime.now())\n",
    "            self.func(*args, **kwargs)\n",
    "            print(datetime.datetime.now())\n",
    "\n",
    "class MainClass:\n",
    "    @DatetimeDecorator\n",
    "    def main_function_1():\n",
    "        print(\"MAIN FUNCTION 1 START\")\n",
    "\n",
    "    @DatetimeDecorator\n",
    "    def main_function_2():\n",
    "        print(\"MAIN FUNCTION 2 START\")\n",
    "\n",
    "    @DatetimeDecorator\n",
    "    def main_function_3():\n",
    "        print(\"MAIN FUNCTION 3 START\")\n",
    "\n",
    "\n",
    "my = MainClass()\n",
    "\n",
    "my.main_function_1()\n",
    "print(\"****************************\")\n",
    "my.main_function_2()\n",
    "print(\"****************************\")\n",
    "my.main_function_3()"
   ]
  },
  {
   "cell_type": "code",
   "execution_count": 132,
   "metadata": {},
   "outputs": [
    {
     "name": "stdout",
     "output_type": "stream",
     "text": [
      "display 함수가 실행됐습니다\n"
     ]
    }
   ],
   "source": [
    "#예제 0-3 -- 데코레이터 수동 활용 + 실행순서\n",
    "\n",
    "# 데코레이터 예제 \n",
    " \n",
    "def decorator_function(original_function): #1, #4 \n",
    "    def wrapper_function(): #5 #8 \n",
    "        return original_function() #9 \n",
    "    return wrapper_function #6 \n",
    " \n",
    "def display(): #2, #10 \n",
    "    print(\"display 함수가 실행됐습니다\") #11 \n",
    " \n",
    "decorated_display = decorator_function(display)  #3 display 함수를 전달 \n",
    "decorated_display() #7 "
   ]
  },
  {
   "cell_type": "code",
   "execution_count": 134,
   "metadata": {},
   "outputs": [
    {
     "name": "stdout",
     "output_type": "stream",
     "text": [
      "첫번째로 꾸며줌\n",
      "display 함수가 실행됐습니다\n",
      "마지막으로 꾸며줌\n"
     ]
    }
   ],
   "source": [
    "#예제 0-4 -- 데코레이터 수동 활용 + 살짝 바꿔봄\n",
    "\n",
    "# 데코레이터 예제 \n",
    " \n",
    "def decorator_function(original_function): \n",
    "    def wrapper_function(): \n",
    "        print(\"첫번째로 꾸며줌\")\n",
    "        original_function() \n",
    "        print(\"마지막으로 꾸며줌\")\n",
    "    return wrapper_function \n",
    " \n",
    "def display(): \n",
    "    print(\"display 함수가 실행됐습니다\") \n",
    "    return\n",
    "\n",
    "decorated_display = decorator_function(display)  \n",
    "decorated_display() "
   ]
  },
  {
   "cell_type": "code",
   "execution_count": 136,
   "metadata": {},
   "outputs": [
    {
     "name": "stdout",
     "output_type": "stream",
     "text": [
      "display_1 함수가 호출되기 전입니다.\n",
      "display_1 함수가 실행됐습니다.\n"
     ]
    }
   ],
   "source": [
    "#예제 0-5 -- @심볼 활용\n",
    "\n",
    "# @ 심볼 활용하기 \n",
    " \n",
    "def decorator_function(original_function):\n",
    "    def wrapper_function():\n",
    "        print(\"{} 함수가 호출되기 전입니다.\".format(original_function.__name__))\n",
    "        return original_function()\n",
    "    return wrapper_function\n",
    " \n",
    "@decorator_function\n",
    "def display_1():\n",
    "    print(\"display_1 함수가 실행됐습니다.\")\n",
    "    \n",
    "# 원래는 display_1 = decorator_function(display_1) 이래야 됬는데\n",
    "# 변수에 함수형 리턴값 할당 없이 바로 함수 호출이 가능.\n",
    "\n",
    "display_1()"
   ]
  },
  {
   "cell_type": "code",
   "execution_count": 137,
   "metadata": {},
   "outputs": [
    {
     "name": "stdout",
     "output_type": "stream",
     "text": [
      "display_1 함수가 호출되기 전입니다.\n",
      "display_1 함수가 실행됐습니다.\n"
     ]
    },
    {
     "ename": "TypeError",
     "evalue": "wrapper_function() takes 0 positional arguments but 2 were given",
     "output_type": "error",
     "traceback": [
      "\u001b[1;31m---------------------------------------------------------------------------\u001b[0m",
      "\u001b[1;31mTypeError\u001b[0m                                 Traceback (most recent call last)",
      "\u001b[1;32m<ipython-input-137-26850d9bc8a2>\u001b[0m in \u001b[0;36m<module>\u001b[1;34m\u001b[0m\n\u001b[0;32m     19\u001b[0m \u001b[1;33m\u001b[0m\u001b[0m\n\u001b[0;32m     20\u001b[0m \u001b[0mdisplay_1\u001b[0m\u001b[1;33m(\u001b[0m\u001b[1;33m)\u001b[0m\u001b[1;33m\u001b[0m\u001b[1;33m\u001b[0m\u001b[0m\n\u001b[1;32m---> 21\u001b[1;33m \u001b[0mdisplay_info\u001b[0m\u001b[1;33m(\u001b[0m\u001b[1;34m'김아무개'\u001b[0m\u001b[1;33m,\u001b[0m \u001b[1;36m37\u001b[0m\u001b[1;33m)\u001b[0m\u001b[1;33m\u001b[0m\u001b[1;33m\u001b[0m\u001b[0m\n\u001b[0m",
      "\u001b[1;31mTypeError\u001b[0m: wrapper_function() takes 0 positional arguments but 2 were given"
     ]
    }
   ],
   "source": [
    "#예제 0-6 -- 위치인자와 키워드 인자 활용 1\n",
    "\n",
    "def decorator_function(original_function):\n",
    "    #여기에 display_info에 2개 파라미터값 못받음\n",
    "    def wrapper_function():\n",
    "        print(\"{} 함수가 호출되기 전입니다.\".format(original_function.__name__))\n",
    "        return original_function()\n",
    "    return wrapper_function\n",
    " \n",
    "@decorator_function\n",
    "def display_1():\n",
    "    print(\"display_1 함수가 실행됐습니다.\")\n",
    " \n",
    "@decorator_function\n",
    "def display_info(name, age): # 위 예제와 다르게 인자가 전달된다. \n",
    "    print(\"display_info( {}, {} ) 함수가 실행됐습니다.\").format(name, age)\n",
    " \n",
    "# display_1 = decorator_function(display_1) \n",
    "# display_2 = decorator_function(display_2) \n",
    " \n",
    "display_1()\n",
    "display_info('김아무개', 37)"
   ]
  },
  {
   "cell_type": "code",
   "execution_count": 148,
   "metadata": {},
   "outputs": [
    {
     "name": "stdout",
     "output_type": "stream",
     "text": [
      "display_1 함수가 호출되기 전입니다.\n",
      "display_1 함수가 실행됐습니다.\n",
      "display_info 함수가 호출되기 전입니다.\n",
      "김아무개 37\n"
     ]
    }
   ],
   "source": [
    "#예제 0-6 -- 위치인자와 키워드 인자 활용 1\n",
    "\n",
    "def decorator_function(original_function):\n",
    "    #여기에 display_info에 2개 파라미터값 못받음\n",
    "    def wrapper_function(*args, **kwargs):\n",
    "        print(\"{} 함수가 호출되기 전입니다.\".format(original_function.__name__))\n",
    "        return original_function(*args, **kwargs)\n",
    "    return wrapper_function\n",
    " \n",
    "@decorator_function\n",
    "def display_1():\n",
    "    print(\"display_1 함수가 실행됐습니다.\")\n",
    "    return\n",
    " \n",
    "@decorator_function\n",
    "def display_info(name, age): # 위 예제와 다르게 인자가 전달된다. \n",
    "    print(name,age)\n",
    "    return\n",
    " \n",
    "# display_1 = decorator_function(display_1)\n",
    "# display_2 = decorator_function(display_2)\n",
    " \n",
    "display_1()\n",
    "display_info('김아무개', 37)"
   ]
  },
  {
   "cell_type": "code",
   "execution_count": 151,
   "metadata": {},
   "outputs": [
    {
     "name": "stdout",
     "output_type": "stream",
     "text": [
      "Running function :  add_inits\n",
      "Positional arguments :  (1, 2)\n",
      "Keyword arugments : {}\n",
      "Result :  3\n",
      "3\n",
      "\n",
      "Running function :  div_inits\n",
      "Positional arguments :  (4, 3)\n",
      "Keyword arugments : {}\n",
      "Result :  1.3333333333333333\n",
      "1.3333333333333333\n"
     ]
    }
   ],
   "source": [
    "# 예제 0-7 \n",
    "\n",
    "def document_it(func):\n",
    "    def new_function(*args, **kwargs):\n",
    "        print('Running function : ', func.__name__)\n",
    "        print('Positional arguments : ', args)\n",
    "        print('Keyword arugments :' , kwargs)\n",
    "        result = func(*args, **kwargs)\n",
    "        print('Result : ', result)\n",
    "        return result\n",
    "    return new_function\n",
    "\n",
    "@document_it\n",
    "def add_inits(a, b):\n",
    "    return a + b\n",
    "\n",
    "@document_it\n",
    "def div_inits(a,b):\n",
    "    return a / b\n",
    " \n",
    "#add = document_it(add_inits)\n",
    "#div = document_it(div_inits) \n",
    "#print(add(5,3))\n",
    "#print(\"\")\n",
    "#print(div(5,3))\n",
    "\n",
    "print(add_inits(1,2))\n",
    "print(\"\")\n",
    "print(div_inits(4,3))"
   ]
  },
  {
   "cell_type": "code",
   "execution_count": 105,
   "metadata": {},
   "outputs": [],
   "source": [
    "class MyCls:\n",
    "    def myF1(self, p1,p2):\n",
    "        print('in myF1(p1=\"%s\",p2=\"%s\")' % (p1,p2))"
   ]
  },
  {
   "cell_type": "code",
   "execution_count": 106,
   "metadata": {},
   "outputs": [
    {
     "name": "stdout",
     "output_type": "stream",
     "text": [
      "in myF1(p1=\"1\",p2=\"2\")\n"
     ]
    }
   ],
   "source": [
    "m = MyCls()\n",
    "m.myF1(1,2)"
   ]
  },
  {
   "cell_type": "code",
   "execution_count": 109,
   "metadata": {},
   "outputs": [],
   "source": [
    "#==========================================================================\n",
    "def get_param(*args, **kwargs):\n",
    "    sl = []\n",
    "    for arg in args:\n",
    "        if isinstance(arg,str):\n",
    "            print(1)\n",
    "            sl.append('%s:\"%s\"' % (type(arg).__name__,arg))\n",
    "        else:\n",
    "            sl.append('%s:%s' % (type(arg).__name__, arg))\n",
    "    for k,v in kwargs.items():\n",
    "        if isinstance(v,str):\n",
    "            print(2)\n",
    "            sl.append('%s=%s:\"%s\"' % (str(k),type(v).__name__,v))\n",
    "        else:\n",
    "            sl.append('%s=%s:%s' % (str(k),type(v).__name__,v))\n",
    "    return ','.join(sl) # == return ''.join(sl)\n",
    "    #return sl #리스트 형태로 반환"
   ]
  },
  {
   "cell_type": "code",
   "execution_count": 110,
   "metadata": {},
   "outputs": [
    {
     "name": "stdout",
     "output_type": "stream",
     "text": [
      "1\n"
     ]
    },
    {
     "data": {
      "text/plain": [
       "'str:\"안녕하세요\"'"
      ]
     },
     "execution_count": 110,
     "metadata": {},
     "output_type": "execute_result"
    }
   ],
   "source": [
    "get_param(('안녕하세요'))"
   ]
  },
  {
   "cell_type": "code",
   "execution_count": 111,
   "metadata": {},
   "outputs": [
    {
     "data": {
      "text/plain": [
       "'tuple:(1, 2, 3)'"
      ]
     },
     "execution_count": 111,
     "metadata": {},
     "output_type": "execute_result"
    }
   ],
   "source": [
    "get_param((1,2,3))"
   ]
  },
  {
   "cell_type": "code",
   "execution_count": 112,
   "metadata": {},
   "outputs": [
    {
     "data": {
      "text/plain": [
       "\"dict:{'a': 1, 'b': 2}\""
      ]
     },
     "execution_count": 112,
     "metadata": {},
     "output_type": "execute_result"
    }
   ],
   "source": [
    "get_param({'a':1,'b':2})"
   ]
  },
  {
   "cell_type": "code",
   "execution_count": 113,
   "metadata": {},
   "outputs": [],
   "source": [
    "#예제1\n",
    "\n",
    "def get_param(*args, **kwargs):\n",
    "    sl = []\n",
    "    for arg in args:\n",
    "        if isinstance(arg,str):\n",
    "            print(1)\n",
    "            sl.append('%s:\"%s\"' % (type(arg).__name__,arg))\n",
    "        else:\n",
    "            sl.append('%s:%s' % (type(arg).__name__, arg))\n",
    "    for k,v in kwargs.items():\n",
    "        if isinstance(v,str):\n",
    "            print(2)\n",
    "            sl.append('%s=%s:\"%s\"' % (str(k),type(v).__name__,v))\n",
    "        else:\n",
    "            sl.append('%s=%s:%s' % (str(k),type(v).__name__,v))\n",
    "    return ','.join(sl) # == return ''.join(sl)\n",
    "    #return sl #리스트 형태로 반환\n",
    "###############################################################################\n",
    "def entryExit(original_function):\n",
    "    def new_function(*args, **kwargs):\n",
    "        print(\">>>Entering\", original_function.__name__, '(%s)' % get_param(*args, **kwargs))\n",
    "        original_function(*args, **kwargs)\n",
    "        print(\"<<<Exited\", original_function.__name__)\n",
    "    return new_function\n",
    "\n",
    "\n",
    "@entryExit\n",
    "def hello(targetName=None):\n",
    "    if targetName:\n",
    "        print(\"Hello, \" +  targetName +\"!\")\n",
    "    else:\n",
    "        print(\"Hello, world!\")"
   ]
  },
  {
   "cell_type": "code",
   "execution_count": 152,
   "metadata": {},
   "outputs": [
    {
     "name": "stdout",
     "output_type": "stream",
     "text": [
      "1\n",
      ">>>Entering hello (str:\"Earth\")\n",
      "Hello, Earth!\n",
      "<<<Exited hello\n"
     ]
    }
   ],
   "source": [
    "hello(\"Earth\")"
   ]
  },
  {
   "cell_type": "code",
   "execution_count": 115,
   "metadata": {},
   "outputs": [
    {
     "name": "stdout",
     "output_type": "stream",
     "text": [
      ">>>Entering hello ()\n",
      "Hello, world!\n",
      "<<<Exited hello\n"
     ]
    }
   ],
   "source": [
    "hello()"
   ]
  },
  {
   "cell_type": "code",
   "execution_count": 116,
   "metadata": {},
   "outputs": [
    {
     "name": "stdout",
     "output_type": "stream",
     "text": [
      "1\n",
      "2\n",
      ">>>Entering func1 (int:2,str:\"sss\",foo=str:\"baa\")\n",
      "1\n",
      "2\n",
      "\tinside func1(int:2,str:\"sss\",foo=str:\"baa\")\n",
      "<<<Exited func1\n"
     ]
    }
   ],
   "source": [
    "#예제2\n",
    "\n",
    "def get_param(*args, **kwargs):\n",
    "    sl = []\n",
    "    for arg in args:\n",
    "        if isinstance(arg,str):\n",
    "            print(1)\n",
    "            sl.append('%s:\"%s\"' % (type(arg).__name__,arg))\n",
    "        else:\n",
    "            sl.append('%s:%s' % (type(arg).__name__, arg))\n",
    "    for k,v in kwargs.items():\n",
    "        if isinstance(v,str):\n",
    "            print(2)\n",
    "            sl.append('%s=%s:\"%s\"' % (str(k),type(v).__name__,v))\n",
    "        else:\n",
    "            sl.append('%s=%s:%s' % (str(k),type(v).__name__,v))\n",
    "    return ','.join(sl) # == return ''.join(sl)\n",
    "\n",
    "class EntryExit(object):\n",
    "    def __init__(self, f):\n",
    "        self.f = f\n",
    "    def __call__(self, *args, **kwargs):\n",
    "        print(\">>>Entering\", self.f.__name__, '(%s)' % get_param(*args, **kwargs))\n",
    "        self.f(*args, **kwargs)\n",
    "        print(\"<<<Exited\", self.f.__name__)\n",
    "        \n",
    "@EntryExit\n",
    "def func1(*args, **kwargs):\n",
    "    print(\"\\tinside func1(%s)\" % get_param(*args, **kwargs))\n",
    "    \n",
    "func1(2,'sss',foo='baa')"
   ]
  },
  {
   "cell_type": "code",
   "execution_count": 117,
   "metadata": {},
   "outputs": [],
   "source": [
    "#예제3 \n",
    "\n",
    "class trial(object):\n",
    "    def get_param(*args, **kwargs):\n",
    "        sl = []\n",
    "        for arg in args:\n",
    "            if isinstance(arg,str):\n",
    "                print(1)\n",
    "                sl.append('%s:\"%s\"' % (type(arg).__name__,arg))\n",
    "            else:\n",
    "                sl.append('%s:%s' % (type(arg).__name__, arg))\n",
    "        for k,v in kwargs.items():\n",
    "            if isinstance(v,str):\n",
    "                print(2)\n",
    "                sl.append('%s=%s:\"%s\"' % (str(k),type(v).__name__,v))\n",
    "            else:\n",
    "                sl.append('%s=%s:%s' % (str(k),type(v).__name__,v))\n",
    "        return ','.join(sl)\n",
    "\n",
    "    def entryExit(original_function):\n",
    "        def new_function(*args, **kwargs):\n",
    "            print(\">>>Entering\", original_function.__name__, '(%s)' % get_param(*args, **kwargs))\n",
    "            original_function(*args, **kwargs)\n",
    "            print(\"<<<Exited\", original_function.__name__)\n",
    "        return new_function\n",
    "\n",
    "class myClass(object):\n",
    "    def myDecorator(original_function):\n",
    "        def new_function(self, *args, **kwargs):\n",
    "            print(\">>>Entering\", original_function.__name__, '(%s)' % get_param(*args, **kwargs))\n",
    "            original_function(self, *args, **kwargs)\n",
    "            print(\"<<<Exited\", original_function.__name__)\n",
    "        return new_function\n",
    "    \n",
    "    @entryExit\n",
    "    def myFuncA(self, a, b, c='default'):\n",
    "        print('\\tmyFuncA(a=\"%s\",b=\"%s\",c=\"%s\")' % (a,b,c))\n",
    "    @myDecorator\n",
    "    def myFuncB(self, a, b, c='default'):\n",
    "        print('\\tmyFuncA(a=\"%s\",b=\"%s\",c=\"%s\")' % (a,b,c))"
   ]
  },
  {
   "cell_type": "code",
   "execution_count": 118,
   "metadata": {},
   "outputs": [],
   "source": [
    "mc = myClass()"
   ]
  },
  {
   "cell_type": "code",
   "execution_count": 119,
   "metadata": {},
   "outputs": [
    {
     "name": "stdout",
     "output_type": "stream",
     "text": [
      ">>>Entering myFuncA (myClass:<__main__.myClass object at 0x000001FDE4199278>,int:1,int:2)\n",
      "\tmyFuncA(a=\"1\",b=\"2\",c=\"default\")\n",
      "<<<Exited myFuncA\n"
     ]
    }
   ],
   "source": [
    "mc.myFuncA(1,2)"
   ]
  },
  {
   "cell_type": "code",
   "execution_count": 120,
   "metadata": {},
   "outputs": [
    {
     "name": "stdout",
     "output_type": "stream",
     "text": [
      "1\n",
      ">>>Entering myFuncB (int:3,str:\"four\")\n",
      "\tmyFuncA(a=\"3\",b=\"four\",c=\"default\")\n",
      "<<<Exited myFuncB\n"
     ]
    }
   ],
   "source": [
    "mc.myFuncB(3,'four')"
   ]
  }
 ],
 "metadata": {
  "kernelspec": {
   "display_name": "Python 3",
   "language": "python",
   "name": "python3"
  },
  "language_info": {
   "codemirror_mode": {
    "name": "ipython",
    "version": 3
   },
   "file_extension": ".py",
   "mimetype": "text/x-python",
   "name": "python",
   "nbconvert_exporter": "python",
   "pygments_lexer": "ipython3",
   "version": "3.7.1"
  }
 },
 "nbformat": 4,
 "nbformat_minor": 2
}
