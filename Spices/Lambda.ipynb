{
 "cells": [
  {
   "cell_type": "markdown",
   "metadata": {},
   "source": [
    "**장점1**<br>\n",
    "람다는 '익명함수'다. <br>\n",
    "익명함수 : 메모리를 아끼고 가독성을 향상시킨다. pythonic<br>\n",
    "일반적인 함수는 객체를 만들고, 재사용을 위해 함수 이름(메모리)를 할당한다.<br>\n",
    "<br>\n",
    "세부설명:<br>\n",
    "&nbsp;&nbsp;&nbsp;&nbsp;익명함수이기 때문에 한번 쓰이고 다음줄로 넘어가면 힙(heap) 메모리 영역에서 증발<br>\n",
    "&nbsp;&nbsp;&nbsp;&nbsp;(참고) 가비지 컬렉터 (참조하는 객체가 없으면 지워버린다)<br>\n",
    "&nbsp;&nbsp;&nbsp;&nbsp;파이썬에서는 모든것이 객체로 관리 되고 각 객체들은 레퍼런스 카운터를 갖게 된다.<br>\n",
    "&nbsp;&nbsp;&nbsp;&nbsp;이 카운터가 0 즉, 그 누구도 참조하지 않게 된다면 메모리를 환원 하게 된다.<br>\n",
    "\n",
    "**장점2**<br>\n",
    "def함수를 만들지 않고도 간단히 바로 사용할 수 있는 장점을 가짐<br>"
   ]
  },
  {
   "cell_type": "code",
   "execution_count": 1,
   "metadata": {},
   "outputs": [
    {
     "data": {
      "text/plain": [
       "4"
      ]
     },
     "execution_count": 1,
     "metadata": {},
     "output_type": "execute_result"
    }
   ],
   "source": [
    "def square(num):\n",
    "    result = num**2\n",
    "    return result\n",
    "\n",
    "square(2)"
   ]
  },
  {
   "cell_type": "code",
   "execution_count": 2,
   "metadata": {},
   "outputs": [
    {
     "data": {
      "text/plain": [
       "4"
      ]
     },
     "execution_count": 2,
     "metadata": {},
     "output_type": "execute_result"
    }
   ],
   "source": [
    "#간소화 1\n",
    "def square(num):\n",
    "    return num**2\n",
    "\n",
    "square(2)"
   ]
  },
  {
   "cell_type": "code",
   "execution_count": 3,
   "metadata": {},
   "outputs": [
    {
     "data": {
      "text/plain": [
       "4"
      ]
     },
     "execution_count": 3,
     "metadata": {},
     "output_type": "execute_result"
    }
   ],
   "source": [
    "#간소화 2\n",
    "def square(num): return num**2\n",
    "square(2)"
   ]
  },
  {
   "cell_type": "code",
   "execution_count": 5,
   "metadata": {},
   "outputs": [
    {
     "data": {
      "text/plain": [
       "4"
      ]
     },
     "execution_count": 5,
     "metadata": {},
     "output_type": "execute_result"
    }
   ],
   "source": [
    "#간소화 3(lambda)\n",
    "square = lambda num: num**2\n",
    "square(2)"
   ]
  },
  {
   "cell_type": "code",
   "execution_count": 8,
   "metadata": {},
   "outputs": [
    {
     "data": {
      "text/plain": [
       "False"
      ]
     },
     "execution_count": 8,
     "metadata": {},
     "output_type": "execute_result"
    }
   ],
   "source": [
    "#예제1 - 짝수 구하기\n",
    "even = lambda x: x%2==0\n",
    "even(3)"
   ]
  },
  {
   "cell_type": "code",
   "execution_count": 9,
   "metadata": {},
   "outputs": [
    {
     "data": {
      "text/plain": [
       "True"
      ]
     },
     "execution_count": 9,
     "metadata": {},
     "output_type": "execute_result"
    }
   ],
   "source": [
    "#개인 연습1\n",
    "odd = lambda x: x%2 == 1\n",
    "odd(3)"
   ]
  },
  {
   "cell_type": "code",
   "execution_count": 12,
   "metadata": {},
   "outputs": [
    {
     "data": {
      "text/plain": [
       "0"
      ]
     },
     "execution_count": 12,
     "metadata": {},
     "output_type": "execute_result"
    }
   ],
   "source": [
    "#예제2 - 어떤 문자열의 첫번째 문자 구하기\n",
    "firstLetter = lambda x: x[0]\n",
    "firstLetter('hello')\n",
    "firstLetter([0,1,2])"
   ]
  },
  {
   "cell_type": "code",
   "execution_count": 13,
   "metadata": {},
   "outputs": [
    {
     "data": {
      "text/plain": [
       "'다신가어들 에방 가지버아'"
      ]
     },
     "execution_count": 13,
     "metadata": {},
     "output_type": "execute_result"
    }
   ],
   "source": [
    "#예제3 - 문자열을 좌우 거꾸로 뒤집기\n",
    "reverse = lambda x: x[::-1]\n",
    "reverse(\"아버지가 방에 들어가신다\")"
   ]
  },
  {
   "cell_type": "code",
   "execution_count": 15,
   "metadata": {},
   "outputs": [
    {
     "data": {
      "text/plain": [
       "3"
      ]
     },
     "execution_count": 15,
     "metadata": {},
     "output_type": "execute_result"
    }
   ],
   "source": [
    "#예제4 - 일반 함수처럼 두 개의 파라미터를 받아 처리\n",
    "twoVar = lambda x,y: x+y\n",
    "twoVar(1,2)"
   ]
  },
  {
   "cell_type": "code",
   "execution_count": 16,
   "metadata": {},
   "outputs": [
    {
     "data": {
      "text/plain": [
       "30"
      ]
     },
     "execution_count": 16,
     "metadata": {},
     "output_type": "execute_result"
    }
   ],
   "source": [
    "#예제5 - 두개의 함수, 다른 방법\n",
    "(lambda x,y: x + y)(10, 20)"
   ]
  },
  {
   "cell_type": "code",
   "execution_count": 20,
   "metadata": {},
   "outputs": [
    {
     "data": {
      "text/plain": [
       "[0, 1, 4, 9, 16]"
      ]
     },
     "execution_count": 20,
     "metadata": {},
     "output_type": "execute_result"
    }
   ],
   "source": [
    "#예제6-1 - 내장함수 map() \n",
    "#map(함수, 리스트**)\n",
    "#리스트로 부터 원소 하나하나씩 꺼내서 함수에 넣고 그 결과를 새로운 리스트에 담아줌\n",
    "\n",
    "list(map(lambda x:x**2, range(5)))"
   ]
  },
  {
   "cell_type": "code",
   "execution_count": 44,
   "metadata": {},
   "outputs": [
    {
     "data": {
      "text/plain": [
       "['음수', '음수', '0', '양수', '양수']"
      ]
     },
     "execution_count": 44,
     "metadata": {},
     "output_type": "execute_result"
    }
   ],
   "source": [
    "#예제6-2 map사용시 3항 연산자\n",
    "\n",
    "li = [-3, -2, 0, 6, 8]\n",
    "\n",
    "#2항 연산자\n",
    "list(map(lambda x: '음수' if x < 0 else '양수', li))\n",
    "\n",
    "#3항 연산자\n",
    "list(map(lambda x: '양수' if x>0 else('음수' if x<0 else '0'), li))"
   ]
  },
  {
   "cell_type": "code",
   "execution_count": 45,
   "metadata": {},
   "outputs": [
    {
     "data": {
      "text/plain": [
       "['음수', '음수', '0', '양수', '양수']"
      ]
     },
     "execution_count": 45,
     "metadata": {},
     "output_type": "execute_result"
    }
   ],
   "source": [
    "#6-3 깨알 comprehension\n",
    "\n",
    "['음수' if i < 0 else('양수' if i > 0 else '0') for i in li]"
   ]
  },
  {
   "cell_type": "code",
   "execution_count": 23,
   "metadata": {},
   "outputs": [
    {
     "data": {
      "text/plain": [
       "10"
      ]
     },
     "execution_count": 23,
     "metadata": {},
     "output_type": "execute_result"
    }
   ],
   "source": [
    "#예제 7-1 - 내장함수 reduce()\n",
    "#reduce(함수, 순서형 자료(문자열 / 리스트 / 튜플))\n",
    "#reduce는 python3부터 내장함수에서 빠지기 때문에 from functools import reduce를 꼭 해줘야 함\n",
    "\n",
    "#<리스트>\n",
    "from functools import reduce\n",
    "reduce(lambda x,y:x+y, range(5))"
   ]
  },
  {
   "cell_type": "code",
   "execution_count": 30,
   "metadata": {},
   "outputs": [
    {
     "data": {
      "text/plain": [
       "'요세하녕안'"
      ]
     },
     "execution_count": 30,
     "metadata": {},
     "output_type": "execute_result"
    }
   ],
   "source": [
    "#예제 7-2\n",
    "\n",
    "#<문자열>\n",
    "from functools import reduce\n",
    "reduce(lambda x,y:y+x, \"안녕하세요\")\n",
    "\n",
    "#Logic\n",
    "#step01 - 녕+안\n",
    "#step02 - 하+녕안\n",
    "#step03 - 세+하녕안\n",
    "#step04 - 요+세하녕안"
   ]
  },
  {
   "cell_type": "code",
   "execution_count": 31,
   "metadata": {},
   "outputs": [
    {
     "data": {
      "text/plain": [
       "120"
      ]
     },
     "execution_count": 31,
     "metadata": {},
     "output_type": "execute_result"
    }
   ],
   "source": [
    "#예제 7-3 \n",
    "\n",
    "#<튜플>\n",
    "from functools import reduce\n",
    "reduce(lambda x,y:x*y, (1,2,3,4,5))"
   ]
  },
  {
   "cell_type": "code",
   "execution_count": 33,
   "metadata": {},
   "outputs": [
    {
     "data": {
      "text/plain": [
       "[0, 1, 2, 3, 4]"
      ]
     },
     "execution_count": 33,
     "metadata": {},
     "output_type": "execute_result"
    }
   ],
   "source": [
    "#예제 8-1 - 내장함수 filter()\n",
    "#filter(함수, 리스트)\n",
    "#리스트의 있는 값을 필터링 한 후, 새로운 리스트에 담음\n",
    "\n",
    "list(filter(lambda x:x<5, range(10)))"
   ]
  },
  {
   "cell_type": "code",
   "execution_count": 34,
   "metadata": {},
   "outputs": [
    {
     "data": {
      "text/plain": [
       "[1, 3, 5, 7, 9]"
      ]
     },
     "execution_count": 34,
     "metadata": {},
     "output_type": "execute_result"
    }
   ],
   "source": [
    "#예제 8-2 홀수 구하기\n",
    "\n",
    "#2로 나눴을때 나머지가 없으면 0이다. 0은 False므로 출력X\n",
    "list(filter(lambda x:x%2, range(10)))"
   ]
  }
 ],
 "metadata": {
  "kernelspec": {
   "display_name": "Python 3",
   "language": "python",
   "name": "python3"
  },
  "language_info": {
   "codemirror_mode": {
    "name": "ipython",
    "version": 3
   },
   "file_extension": ".py",
   "mimetype": "text/x-python",
   "name": "python",
   "nbconvert_exporter": "python",
   "pygments_lexer": "ipython3",
   "version": "3.7.1"
  }
 },
 "nbformat": 4,
 "nbformat_minor": 2
}
