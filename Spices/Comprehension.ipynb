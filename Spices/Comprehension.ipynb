{
 "cells": [
  {
   "cell_type": "code",
   "execution_count": 1,
   "metadata": {},
   "outputs": [
    {
     "data": {
      "text/plain": [
       "[[1, 2, 3], [4, 5, 6], [7, 8, 9]]"
      ]
     },
     "execution_count": 1,
     "metadata": {},
     "output_type": "execute_result"
    }
   ],
   "source": [
    "matrix = [[1,2,3], [4,5,6], [7,8,9]]\n",
    "\n",
    "matrix_row=[row for row in matrix] #for 한번당 []한번 벗김\n",
    "matrix_row"
   ]
  },
  {
   "cell_type": "code",
   "execution_count": 2,
   "metadata": {},
   "outputs": [
    {
     "data": {
      "text/plain": [
       "[1, 2, 3, 4, 5, 6, 7, 8, 9]"
      ]
     },
     "execution_count": 2,
     "metadata": {},
     "output_type": "execute_result"
    }
   ],
   "source": [
    "matrix_row_element = [row_element for row in matrix for row_element in row] # 2-for // 2-[]\n",
    "matrix_row_element"
   ]
  },
  {
   "cell_type": "code",
   "execution_count": 3,
   "metadata": {},
   "outputs": [
    {
     "name": "stdout",
     "output_type": "stream",
     "text": [
      "괄호 한 번 벗기기\n",
      "matrix_sub_matrix : [[[1, 2, 3], [4, 5, 6], [7, 8, 9]], [['a', 'b', 'c'], ['d', 'e', 'f']]]\n",
      "괄호 두 번 벗기기\n",
      "matrix_sub_matrix_list :  [[1, 2, 3], [4, 5, 6], [7, 8, 9], ['a', 'b', 'c'], ['d', 'e', 'f']]\n",
      "괄호 세 번 벗기기\n",
      "matrix_sub_matrix_list_element :  [1, 2, 3, 4, 5, 6, 7, 8, 9, 'a', 'b', 'c', 'd', 'e', 'f']\n"
     ]
    }
   ],
   "source": [
    "matrix = [[[1,2,3], [4,5,6], [7,8,9]], [['a','b','c'], ['d', 'e', 'f']]]\n",
    "\n",
    "# 괄호 1번 벗기기\n",
    "print(\"괄호 한 번 벗기기\")\n",
    "sub_matrix = [row for row in matrix]\n",
    "print(\"matrix_sub_matrix :\", sub_matrix)\n",
    " \n",
    "# 괄호 2번 벗기기\n",
    "print(\"괄호 두 번 벗기기\")\n",
    "sub_matrix_list = [row_element for row in matrix for row_element in row]\n",
    "print(\"matrix_sub_matrix_list : \", sub_matrix_list)\n",
    " \n",
    "# 괄호 3번 벗기기\n",
    "print(\"괄호 세 번 벗기기\")\n",
    "sub_matrix_list_element = [element for sub_matrix in matrix\n",
    "                                   for sub_matrix_list in sub_matrix\n",
    "                                   for element in sub_matrix_list]\n",
    " \n",
    "print(\"matrix_sub_matrix_list_element : \", sub_matrix_list_element)"
   ]
  },
  {
   "cell_type": "code",
   "execution_count": 4,
   "metadata": {},
   "outputs": [
    {
     "data": {
      "text/plain": [
       "[1, 4, 9, 16, 25, 36, 49, 64, 81]"
      ]
     },
     "execution_count": 4,
     "metadata": {},
     "output_type": "execute_result"
    }
   ],
   "source": [
    "vector = [1,2,3,4,5,6,7,8,9]\n",
    "squared_vector = [element**2 for element in vector]\n",
    "squared_vector"
   ]
  },
  {
   "cell_type": "code",
   "execution_count": 5,
   "metadata": {},
   "outputs": [
    {
     "data": {
      "text/plain": [
       "[[1, 4, 9], [16, 25, 36], [49, 64, 81]]"
      ]
     },
     "execution_count": 5,
     "metadata": {},
     "output_type": "execute_result"
    }
   ],
   "source": [
    "#list살리면서 안의 값 계산\n",
    "\n",
    "matrix = [[1,2,3],[4,5,6],[7,8,9]]\n",
    "squared_matrix = [[element**2 for element in matrix_list] for matrix_list in matrix]\n",
    "squared_matrix"
   ]
  },
  {
   "cell_type": "code",
   "execution_count": 50,
   "metadata": {},
   "outputs": [
    {
     "data": {
      "text/plain": [
       "[[1, 4, 7], [2, 5, 8], [3, 6, 9]]"
      ]
     },
     "execution_count": 50,
     "metadata": {},
     "output_type": "execute_result"
    }
   ],
   "source": [
    "matrix = [[1,2,3], [4,5,6], [7,8,9]]\n",
    "\n",
    "result_row = [row for row in matrix] #행\n",
    "result_col = [[col for col in matrix] for matrix in zip(*matrix)] # zip안 *는 unzip의미\n",
    "result_col"
   ]
  },
  {
   "cell_type": "code",
   "execution_count": 62,
   "metadata": {},
   "outputs": [
    {
     "name": "stdout",
     "output_type": "stream",
     "text": [
      "<zip object at 0x000002A1D268CA48>\n",
      "[('x', 3), ('y', 4), ('z', 5)]\n",
      "c = ('x', 'y', 'z')\n",
      "v = (3, 4, 5)\n"
     ]
    }
   ],
   "source": [
    "# '*'??\n",
    "# Usage0 -- zip(* ???) -- unzip\n",
    "\n",
    "coordinate = ['x', 'y', 'z']\n",
    "value = [3, 4, 5, 0, 9]\n",
    "\n",
    "result = zip(coordinate, value)\n",
    "print(result)\n",
    "resultList = list(result)\n",
    "print(resultList)\n",
    "\n",
    "c, v =  zip(*resultList)\n",
    "print('c =', c)\n",
    "print('v =', v)"
   ]
  },
  {
   "cell_type": "code",
   "execution_count": 33,
   "metadata": {},
   "outputs": [
    {
     "name": "stdout",
     "output_type": "stream",
     "text": [
      "('a', 'b', 'c', 'd')\n",
      "a\n",
      "b\n",
      "c\n",
      "d\n"
     ]
    }
   ],
   "source": [
    "#usage1 -- '*args'\n",
    "#\"arguments\"\n",
    "#파라미터가 몇개 들어올지 모를경우, 변수가 튜플형태로 전달됨.\n",
    "\n",
    "def print_param(*args):\n",
    "    print(args)\n",
    "    for p in args:\n",
    "        print(p)\n",
    "        \n",
    "print_param('a','b','c','d')"
   ]
  },
  {
   "cell_type": "code",
   "execution_count": 37,
   "metadata": {},
   "outputs": [
    {
     "name": "stdout",
     "output_type": "stream",
     "text": [
      "{'first': 'a', 'second': 'b', 'third': 'c', 'fourth': 'd'}\n",
      "dict_keys(['first', 'second', 'third', 'fourth'])\n",
      "dict_values(['a', 'b', 'c', 'd'])\n",
      "first : a\n",
      "second : b\n",
      "third : c\n",
      "fourth : d\n"
     ]
    }
   ],
   "source": [
    "#usage2 -- '**kwargs'\n",
    "#\"keyword arguments\"\n",
    "#파라미터가 몇개 들어올지 모를경우, 파라미터가 딕셔너리 형태로 전달됨\n",
    "\n",
    "def print_param2(**kwargs):\n",
    "    print(kwargs)\n",
    "    print(kwargs.keys())\n",
    "    print(kwargs.values())\n",
    "    \n",
    "    for name, value in kwargs.items():\n",
    "        print(\"%s : %s\" % (name, value) )\n",
    "\n",
    "print_param2(first= 'a', second= 'b', third = 'c', fourth = 'd')"
   ]
  },
  {
   "cell_type": "code",
   "execution_count": 39,
   "metadata": {},
   "outputs": [
    {
     "name": "stdout",
     "output_type": "stream",
     "text": [
      "('a', 'b')\n",
      "{}\n",
      "()\n",
      "{'third': 'c', 'fourth': 'd'}\n",
      "('a', 'b')\n",
      "{'third': 'c', 'fourth': 'd'}\n"
     ]
    }
   ],
   "source": [
    "#usage3 -- 두개 같이쓰면?\n",
    "\n",
    "def print_param3(*args, **kwargs):\n",
    "    print(args)\n",
    "    print(kwargs)\n",
    "    \n",
    "print_param3('a','b')\n",
    "print_param3(third='c',fourth='d')\n",
    "print_param3('a','b', third= 'c', fourth='d')"
   ]
  },
  {
   "cell_type": "code",
   "execution_count": 46,
   "metadata": {},
   "outputs": [
    {
     "name": "stdout",
     "output_type": "stream",
     "text": [
      "a b c\n",
      "2 3 1\n"
     ]
    }
   ],
   "source": [
    "#응용\n",
    "\n",
    "def print_param4(a, b, c):\n",
    "    print(a, b, c)\n",
    "\n",
    "p1=['a','b','c']\n",
    "print_param4(*p1)\n",
    "\n",
    "p2={'c':'1','a':'2','b':'3'}\n",
    "print_param4(**p2)"
   ]
  },
  {
   "cell_type": "code",
   "execution_count": 8,
   "metadata": {},
   "outputs": [
    {
     "data": {
      "text/plain": [
       "[(1, 4), (2, 5), (3, 6)]"
      ]
     },
     "execution_count": 8,
     "metadata": {},
     "output_type": "execute_result"
    }
   ],
   "source": [
    "#zip?\n",
    "list(zip([1, 2, 3], [4, 5, 6]))"
   ]
  },
  {
   "cell_type": "code",
   "execution_count": 10,
   "metadata": {},
   "outputs": [
    {
     "data": {
      "text/plain": [
       "[(1, 4, 7), (2, 5, 8), (3, 6, 9)]"
      ]
     },
     "execution_count": 10,
     "metadata": {},
     "output_type": "execute_result"
    }
   ],
   "source": [
    "list(zip([1, 2, 3], [4, 5, 6], [7, 8, 9]))"
   ]
  },
  {
   "cell_type": "code",
   "execution_count": 11,
   "metadata": {},
   "outputs": [
    {
     "data": {
      "text/plain": [
       "[('a', 'd'), ('b', 'e'), ('c', 'f')]"
      ]
     },
     "execution_count": 11,
     "metadata": {},
     "output_type": "execute_result"
    }
   ],
   "source": [
    "list(zip(\"abc\", \"def\"))"
   ]
  },
  {
   "cell_type": "markdown",
   "metadata": {},
   "source": [
    "----------------------------------------------------------------"
   ]
  },
  {
   "cell_type": "code",
   "execution_count": 14,
   "metadata": {},
   "outputs": [
    {
     "data": {
      "text/plain": [
       "[0, 2, 4, 6, 8, 10, 12, 14, 16, 18, 20, 22, 24, 26, 28]"
      ]
     },
     "execution_count": 14,
     "metadata": {},
     "output_type": "execute_result"
    }
   ],
   "source": [
    "#조건문 활용\n",
    "[i for i in range(30) if i % 2 == 0]"
   ]
  },
  {
   "cell_type": "code",
   "execution_count": 15,
   "metadata": {},
   "outputs": [
    {
     "data": {
      "text/plain": [
       "['a1',\n",
       " 'a2',\n",
       " 'a3',\n",
       " 'a4',\n",
       " 'a5',\n",
       " 'b1',\n",
       " 'b2',\n",
       " 'b3',\n",
       " 'b4',\n",
       " 'b5',\n",
       " 'c1',\n",
       " 'c2',\n",
       " 'c3',\n",
       " 'c4',\n",
       " 'c5',\n",
       " 'd1',\n",
       " 'd2',\n",
       " 'd3',\n",
       " 'd4',\n",
       " 'd5',\n",
       " 'e1',\n",
       " 'e2',\n",
       " 'e3',\n",
       " 'e4',\n",
       " 'e5']"
      ]
     },
     "execution_count": 15,
     "metadata": {},
     "output_type": "execute_result"
    }
   ],
   "source": [
    "#두개의 반복문 활용\n",
    "a=['a','b','c','d','e']\n",
    "b=['1','2','3','4','5']\n",
    "[i+j for i in a for j in b]"
   ]
  },
  {
   "cell_type": "code",
   "execution_count": 16,
   "metadata": {},
   "outputs": [
    {
     "data": {
      "text/plain": [
       "['a1',\n",
       " 'a2',\n",
       " 'a3',\n",
       " 'a4',\n",
       " 'a5',\n",
       " 'b1',\n",
       " 'b2',\n",
       " 'b3',\n",
       " 'b4',\n",
       " 'b5',\n",
       " 'c1',\n",
       " 'c2',\n",
       " 'c3',\n",
       " 'c4',\n",
       " 'c5',\n",
       " 'd1',\n",
       " 'd2',\n",
       " 'd3',\n",
       " 'd4',\n",
       " 'd5',\n",
       " 'e1',\n",
       " 'e2',\n",
       " 'e3',\n",
       " 'e4',\n",
       " 'e5']"
      ]
     },
     "execution_count": 16,
     "metadata": {},
     "output_type": "execute_result"
    }
   ],
   "source": [
    "#이것과 같음\n",
    "new_list=[]\n",
    "for i in a:\n",
    "    for j in b:\n",
    "        new_list.append(i+j)\n",
    "new_list"
   ]
  },
  {
   "cell_type": "code",
   "execution_count": 18,
   "metadata": {},
   "outputs": [
    {
     "data": {
      "text/plain": [
       "[0, 6, 12, 18, 24, 30, 36, 42, 48]"
      ]
     },
     "execution_count": 18,
     "metadata": {},
     "output_type": "execute_result"
    }
   ],
   "source": [
    "#두개의 조건문 활용\n",
    "[i for i in range(50) if i%2 == 0 if i%3 == 0]"
   ]
  },
  {
   "cell_type": "code",
   "execution_count": 20,
   "metadata": {},
   "outputs": [
    {
     "data": {
      "text/plain": [
       "['even', 'odd', 'even', 'odd', 'even', 'odd', 'even', 'odd', 'even', 'odd']"
      ]
     },
     "execution_count": 20,
     "metadata": {},
     "output_type": "execute_result"
    }
   ],
   "source": [
    "#조건문에서 else사용 -- 아쉽게도 elif는 사용불가. if 와 else 만 사용가능\n",
    "['even' if i%2 == 0 else 'odd' for i in range(10)]"
   ]
  },
  {
   "cell_type": "code",
   "execution_count": 24,
   "metadata": {},
   "outputs": [
    {
     "ename": "SyntaxError",
     "evalue": "invalid syntax (<ipython-input-24-f6aa69b25ac9>, line 2)",
     "output_type": "error",
     "traceback": [
      "\u001b[1;36m  File \u001b[1;32m\"<ipython-input-24-f6aa69b25ac9>\"\u001b[1;36m, line \u001b[1;32m2\u001b[0m\n\u001b[1;33m    ['even' if i%2 == 0 elif  i == 0 'zero' else 'odd' for i in range(10)]\u001b[0m\n\u001b[1;37m                           ^\u001b[0m\n\u001b[1;31mSyntaxError\u001b[0m\u001b[1;31m:\u001b[0m invalid syntax\n"
     ]
    }
   ],
   "source": [
    "#elif 불가\n",
    "['even' if i%2 == 0 elif  i == 0 'zero' else 'odd' for i in range(10)]"
   ]
  },
  {
   "cell_type": "code",
   "execution_count": 29,
   "metadata": {},
   "outputs": [
    {
     "data": {
      "text/plain": [
       "['zero', 'odd', 'even', 'odd', 'even', 'odd', 'even', 'odd', 'even', 'odd']"
      ]
     },
     "execution_count": 29,
     "metadata": {},
     "output_type": "execute_result"
    }
   ],
   "source": [
    "#else 뒤에서 if를 한번 더 사용함으로써, elif와 같은 기능을 갖는 구문을 만들 수 있음\n",
    "\n",
    "['zero' if i == 0 else 'even' if i%2 == 0 else 'odd' for i in range(10)]"
   ]
  },
  {
   "cell_type": "code",
   "execution_count": 31,
   "metadata": {},
   "outputs": [
    {
     "data": {
      "text/plain": [
       "['one', 'two', 'three', 'hum', 'hum', 'hum', 'hum', 'hum', 'hum']"
      ]
     },
     "execution_count": 31,
     "metadata": {},
     "output_type": "execute_result"
    }
   ],
   "source": [
    "['one' if i==1 else 'two' if i==2 else 'three' if i == 3 else 'hum' for i in range(1,10)]"
   ]
  },
  {
   "cell_type": "code",
   "execution_count": null,
   "metadata": {},
   "outputs": [],
   "source": []
  },
  {
   "cell_type": "code",
   "execution_count": null,
   "metadata": {},
   "outputs": [],
   "source": []
  },
  {
   "cell_type": "code",
   "execution_count": null,
   "metadata": {},
   "outputs": [],
   "source": []
  }
 ],
 "metadata": {
  "kernelspec": {
   "display_name": "Python 3",
   "language": "python",
   "name": "python3"
  },
  "language_info": {
   "codemirror_mode": {
    "name": "ipython",
    "version": 3
   },
   "file_extension": ".py",
   "mimetype": "text/x-python",
   "name": "python",
   "nbconvert_exporter": "python",
   "pygments_lexer": "ipython3",
   "version": "3.7.1"
  }
 },
 "nbformat": 4,
 "nbformat_minor": 2
}
