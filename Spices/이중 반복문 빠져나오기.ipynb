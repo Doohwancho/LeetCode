{
 "cells": [
  {
   "cell_type": "code",
   "execution_count": 10,
   "metadata": {},
   "outputs": [
    {
     "name": "stdout",
     "output_type": "stream",
     "text": [
      "****************\n",
      "another 0 has begun!\n",
      "0\n",
      "1\n",
      "2\n",
      "3\n",
      "4\n",
      "****************\n",
      "another 1 has begun!\n",
      "0\n",
      "1\n",
      "2\n",
      "3\n"
     ]
    }
   ],
   "source": [
    "#기존에 썼던 방법\n",
    "nalgiBreak = False\n",
    "for i in range(10):\n",
    "    print(\"****************\")\n",
    "    print('another {} has begun!'.format(i))\n",
    "    for j in range(5):\n",
    "        print(j)\n",
    "        if i == 1 and j > 2:\n",
    "            nalgiBreak=True\n",
    "            break\n",
    "    if nalgiBreak:\n",
    "        break"
   ]
  },
  {
   "cell_type": "code",
   "execution_count": 11,
   "metadata": {},
   "outputs": [
    {
     "name": "stdout",
     "output_type": "stream",
     "text": [
      "****************\n",
      "another 0 has begun!\n",
      "0\n",
      "1\n",
      "2\n",
      "3\n",
      "4\n",
      "****************\n",
      "another 1 has begun!\n",
      "0\n",
      "1\n",
      "2\n",
      "3\n"
     ]
    }
   ],
   "source": [
    "#더 간지나는 방법\n",
    "for i in range(10):\n",
    "    print(\"****************\")\n",
    "    print('another {} has begun!'.format(i))\n",
    "    for j in range(5):\n",
    "        print(j)\n",
    "        if i == 1 and j > 2:\n",
    "            break\n",
    "    else: \n",
    "        continue # no break encountered\n",
    "    break"
   ]
  }
 ],
 "metadata": {
  "kernelspec": {
   "display_name": "Python 3",
   "language": "python",
   "name": "python3"
  },
  "language_info": {
   "codemirror_mode": {
    "name": "ipython",
    "version": 3
   },
   "file_extension": ".py",
   "mimetype": "text/x-python",
   "name": "python",
   "nbconvert_exporter": "python",
   "pygments_lexer": "ipython3",
   "version": "3.7.1"
  }
 },
 "nbformat": 4,
 "nbformat_minor": 2
}
