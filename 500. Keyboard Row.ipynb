{
 "cells": [
  {
   "cell_type": "markdown",
   "metadata": {},
   "source": [
    "Given a List of words, return the words that can be typed using letters of alphabet on only one row's of American keyboard like the image below.\n",
    "\n",
    ">Input: [\"Hello\", \"Alaska\", \"Dad\", \"Peace\"]<br>\n",
    ">Output: [\"Alaska\", \"Dad\"]<br>"
   ]
  },
  {
   "cell_type": "code",
   "execution_count": 116,
   "metadata": {},
   "outputs": [
    {
     "name": "stdout",
     "output_type": "stream",
     "text": [
      "['Alaska', 'Dad']\n"
     ]
    }
   ],
   "source": [
    "#SUCCESS\n",
    "#3중 for문\n",
    "\n",
    "a1=\"qwertyuiop\"\n",
    "a2=\"asdfghjkl\"\n",
    "a3=\"zxcvbnm\"\n",
    "a4=[]\n",
    "a4.append(a1)\n",
    "a4.append(a2)\n",
    "a4.append(a3)\n",
    "\n",
    "rst=0\n",
    "final=[]\n",
    "\n",
    "Input=[\"Hello\", \"Alaska\", \"Dad\", \"Peace\"]\n",
    "#Output=[\"Alaska\", \"Dad\"]\n",
    "\n",
    "for i in range(len(Input)):\n",
    "    for j in range(len(a4)):\n",
    "        for k in range(len(a4[j])):\n",
    "            if(Input[i].lower().count(a4[j][k])>0): #count로 중복되는 알파벳 갯수파악\n",
    "                rst+=Input[i].lower().count(a4[j][k]) \n",
    "                if(rst==len(Input[i])):\n",
    "                    final.append(Input[i])\n",
    "                    rst=0\n",
    "                    break\n",
    "        rst=0\n",
    "print(final)"
   ]
  }
 ],
 "metadata": {
  "kernelspec": {
   "display_name": "Python 3",
   "language": "python",
   "name": "python3"
  },
  "language_info": {
   "codemirror_mode": {
    "name": "ipython",
    "version": 3
   },
   "file_extension": ".py",
   "mimetype": "text/x-python",
   "name": "python",
   "nbconvert_exporter": "python",
   "pygments_lexer": "ipython3",
   "version": "3.7.0"
  }
 },
 "nbformat": 4,
 "nbformat_minor": 2
}
