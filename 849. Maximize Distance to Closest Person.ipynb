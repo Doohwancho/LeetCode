{
 "cells": [
  {
   "cell_type": "markdown",
   "metadata": {},
   "source": [
    "In a row of seats, 1 represents a person sitting in that seat, and 0 represents that the seat is empty. \n",
    "\n",
    "There is at least one empty seat, and at least one person sitting.\n",
    "\n",
    "Alex wants to sit in the seat such that the distance between him and the closest person to him is maximized. \n",
    "\n",
    "Return that maximum distance to closest person.\n",
    "\n",
    ">Example 1:<br>\n",
    ">Input: [1,0,0,0,1,0,1]<br>\n",
    ">Output: 2<br>\n",
    ">Explanation: <br>\n",
    ">If Alex sits in the second open seat (seats[2]), then the closest person has distance 2.<br>\n",
    ">If Alex sits in any other open seat, the closest person has distance 1.<br>\n",
    ">Thus, the maximum distance to the closest person is 2.<br>\n",
    "\n",
    ">Example 2:<br>\n",
    ">Input: [1,0,0,0]<br>\n",
    ">Output: 3<br>\n",
    ">Explanation: <br>\n",
    ">If Alex sits in the last seat, the closest person is 3 seats away.<br>\n",
    ">This is the maximum distance possible, so the answer is 3.<br>"
   ]
  },
  {
   "cell_type": "code",
   "execution_count": 64,
   "metadata": {},
   "outputs": [
    {
     "name": "stdout",
     "output_type": "stream",
     "text": [
      "2\n"
     ]
    }
   ],
   "source": [
    "import math\n",
    "\n",
    "seats = [1,0,0,0,1,0,1]\n",
    "#seats = [1,0,0,0]\n",
    "#seats=[0,1]\n",
    "#seats=[1,0,0,1]\n",
    "maxi=-1\n",
    "while len(seats)>1:\n",
    "    if seats[0] == 0:\n",
    "        i = seats.index(1)\n",
    "        for j in range(i):\n",
    "            seats.pop(0)\n",
    "        if i > maxi:\n",
    "            maxi = i\n",
    "    elif seats.index(1) >= 0 and seats[1:].count(1) > 0:\n",
    "        i = seats[1:].index(1)-seats.index(1)\n",
    "        if i % 2 ==0:\n",
    "            i = i // 2\n",
    "        else:\n",
    "            i = math.ceil(i/2)\n",
    "        if i > maxi:\n",
    "            maxi = i\n",
    "        for j in range(i+1):\n",
    "            seats.pop(0)\n",
    "    else:\n",
    "        i=len(seats)\n",
    "        if i > maxi:\n",
    "            maxi = i-1\n",
    "        break\n",
    "print(maxi)"
   ]
  }
 ],
 "metadata": {
  "kernelspec": {
   "display_name": "Python 3",
   "language": "python",
   "name": "python3"
  },
  "language_info": {
   "codemirror_mode": {
    "name": "ipython",
    "version": 3
   },
   "file_extension": ".py",
   "mimetype": "text/x-python",
   "name": "python",
   "nbconvert_exporter": "python",
   "pygments_lexer": "ipython3",
   "version": "3.7.1"
  }
 },
 "nbformat": 4,
 "nbformat_minor": 2
}
