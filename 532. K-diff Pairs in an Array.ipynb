{
 "cells": [
  {
   "cell_type": "markdown",
   "metadata": {},
   "source": [
    "Given an array of integers and an integer k, you need to find the number of unique k-diff pairs in the array. Here a k-diff pair is defined as an integer pair (i, j), where i and j are both numbers in the array and their absolute difference is k.\n",
    "\n",
    ">Example 1:<br>\n",
    ">Input: [3, 1, 4, 1, 5], k = 2<br>\n",
    ">Output: 2<br>\n",
    ">Explanation: There are two 2-diff pairs in the array, (1, 3) and (3, 5).<br>\n",
    ">Although we have two 1s in the input, we should only return the number of unique pairs.<br>\n",
    "\n",
    ">Example 2:<br>\n",
    ">Input:[1, 2, 3, 4, 5], k = 1<br>\n",
    ">Output: 4<br>\n",
    ">Explanation: There are four 1-diff pairs in the array, (1, 2), (2, 3), (3, 4) and (4, 5).<br>\n",
    "\n",
    ">Example 3:<br>\n",
    ">Input: [1, 3, 1, 5, 4], k = 0<br>\n",
    ">Output: 1<br>\n",
    ">Explanation: There is one 0-diff pair in the array, (1, 1).<br>"
   ]
  },
  {
   "cell_type": "code",
   "execution_count": 3,
   "metadata": {},
   "outputs": [],
   "source": [
    "import itertools"
   ]
  },
  {
   "cell_type": "code",
   "execution_count": 16,
   "metadata": {},
   "outputs": [
    {
     "data": {
      "text/plain": [
       "[(1, 2)]"
      ]
     },
     "execution_count": 16,
     "metadata": {},
     "output_type": "execute_result"
    }
   ],
   "source": [
    "#SUCCESS\n",
    "#too much input timeout\n",
    "\n",
    "#nums =[3, 1, 4, 1, 5]\n",
    "#k = 2\n",
    "\n",
    "nums = [1,1,1,2,1]\n",
    "k = 1\n",
    "\n",
    "rst=[]\n",
    "for i in itertools.combinations(nums, 2):\n",
    "    if abs(i[0]-i[1]) == k and i not in rst and (i[1],i[0]) not in rst: rst.append(i)\n",
    "        \n",
    "rst\n",
    "#len(rst)"
   ]
  },
  {
   "cell_type": "code",
   "execution_count": 130,
   "metadata": {},
   "outputs": [
    {
     "name": "stdout",
     "output_type": "stream",
     "text": [
      "1\n"
     ]
    }
   ],
   "source": [
    "#SUCCESS -- better method\n",
    "#combination 다 따는 방법보다 in으로 찾기를 해서 더 빠름\n",
    "\n",
    "nums = [1,3,1,5,4]\n",
    "k = 0\n",
    "cnt=0\n",
    "\n",
    "if k < 0 : print(0)\n",
    "elif k == 0:\n",
    "    for j in range(len(nums)):\n",
    "        if nums.count(nums[0]) > 2:\n",
    "            for k in range(nums.count(nums[0]) - 2):\n",
    "                nums.remove(nums[0])\n",
    "    nums=sorted(nums)\n",
    "    for l in range(1,len(nums)):\n",
    "        if nums[l] == nums[l-1]: cnt+=1\n",
    "    print(cnt)\n",
    "else:\n",
    "    rearranged=sorted(list(dict.fromkeys(nums)))\n",
    "    print(rearranged)\n",
    "    for i in range(1,len(rearranged)):\n",
    "        if (rearranged[i]-k in rearranged): cnt+=1\n",
    "    print(cnt)"
   ]
  },
  {
   "cell_type": "code",
   "execution_count": 132,
   "metadata": {},
   "outputs": [
    {
     "name": "stdout",
     "output_type": "stream",
     "text": [
      "2\n"
     ]
    }
   ],
   "source": [
    "#SOLUTION\n",
    "#HASHMAP 사용\n",
    "\n",
    "nums = [3, 1, 4, 1, 5]\n",
    "k = 2\n",
    "\n",
    "if k < 0:\n",
    "    print(0)\n",
    "hashmap = {}\n",
    "count = 0\n",
    "for num in nums:\n",
    "    # check num + k and num - k present in hashmap\n",
    "    if num not in hashmap:  \n",
    "        if num + k in hashmap:\n",
    "            count += 1\n",
    "        if num - k in hashmap:\n",
    "            count += 1\n",
    "        hashmap[num] = 1\n",
    "    else:\n",
    "        # handling k == 0 condition with by restricting occurances to 1\n",
    "        if k == 0 and hashmap[num] == 1:\n",
    "            count += 1\n",
    "        hashmap[num] += 1\n",
    "\n",
    "print(count)"
   ]
  }
 ],
 "metadata": {
  "kernelspec": {
   "display_name": "Python 3",
   "language": "python",
   "name": "python3"
  },
  "language_info": {
   "codemirror_mode": {
    "name": "ipython",
    "version": 3
   },
   "file_extension": ".py",
   "mimetype": "text/x-python",
   "name": "python",
   "nbconvert_exporter": "python",
   "pygments_lexer": "ipython3",
   "version": "3.7.1"
  }
 },
 "nbformat": 4,
 "nbformat_minor": 2
}
