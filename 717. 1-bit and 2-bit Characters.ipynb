{
 "cells": [
  {
   "cell_type": "markdown",
   "metadata": {},
   "source": [
    "We have two special characters. The first character can be represented by one bit 0. The second character can be represented by two bits (10 or 11).\n",
    "\n",
    "Now given a string represented by several bits. Return whether the last character must be a one-bit character or not. The given string will always end with a zero.\n",
    "\n",
    ">Example 1:<br>\n",
    ">Input: <br>\n",
    ">bits = [1, 0, 0]<br>\n",
    ">Output: True<br>\n",
    ">Explanation: <br>\n",
    ">The only way to decode it is two-bit character and one-bit character. So the last character is one-bit character.<br>\n",
    "\n",
    ">Example 2:<br>\n",
    ">Input: <br>\n",
    ">bits = [1, 1, 1, 0]<br>\n",
    ">Output: False<br>\n",
    ">Explanation: <br>\n",
    ">The only way to decode it is two-bit character and two-bit character. So the last character is NOT one-bit character.<br>"
   ]
  },
  {
   "cell_type": "markdown",
   "metadata": {},
   "source": [
    "We have two special characters. The first character can be represented by one bit 0. The second character can be represented by two bits (10 or 11).\n",
    "\n",
    "Now given a string represented by several bits. Return whether the last character must be a one-bit character or not. The given string will always end with a zero.\n",
    "\n",
    ">Example 1:<br>\n",
    ">Input:<br>\n",
    ">bits = [1, 0, 0]<br>\n",
    ">Output: True<br>\n",
    ">Explanation: <br>\n",
    ">The only way to decode it is two-bit character and one-bit character. So the last character is one-bit character.<br>\n",
    "\n",
    ">Example 2:<br>\n",
    ">Input: <br>\n",
    ">bits = [1, 1, 1, 0]<br>\n",
    ">Output: False<br>\n",
    ">Explanation: <br>\n",
    ">The only way to decode it is two-bit character and two-bit character. So the last character is NOT one-bit character.<br>"
   ]
  },
  {
   "cell_type": "code",
   "execution_count": 93,
   "metadata": {},
   "outputs": [
    {
     "name": "stdout",
     "output_type": "stream",
     "text": [
      "True\n",
      "False\n"
     ]
    }
   ],
   "source": [
    "#Solution\n",
    "#bits[-3]이 1이면 bits[-3:-1]이 two_bits안에 무조건 들어가므로, 마지막 값도 one_bit가 되야 함\n",
    "#bits[-3]이 0이고 bits[-2]이면 마지막이 [1,0]으로 끝나서 one_bit으로 안끝날 수도 있기 때문에 False return\n",
    "\n",
    "bits = [0,0,0]\n",
    "\n",
    "if not bits: print(False)\n",
    "n = len(bits)\n",
    "\n",
    "index = 0\n",
    "while index < n:\n",
    "    if index == n-1 : print(True)\n",
    "    if bits[index] == 1: \n",
    "        index += 2              \n",
    "    else: index += 1\n",
    "print(False)"
   ]
  },
  {
   "cell_type": "code",
   "execution_count": 84,
   "metadata": {},
   "outputs": [
    {
     "name": "stdout",
     "output_type": "stream",
     "text": [
      "False\n"
     ]
    }
   ],
   "source": [
    "#yet\n",
    "#[1,0,0] -- True / [0,0,0] -- True/ [0,1,0] -- False / [1,1,0] -- True 의 4가지 경우의수 파훼하다 머리터짐 \n",
    "\n",
    "#bits = [0,0,0]\n",
    "#bits = [1,0,0]\n",
    "#bits = [1,1,1,1,1,0]\n",
    "bits = [0,1,0]\n",
    "\n",
    "two_bits = [[1, 0],[1, 1]] \n",
    "\n",
    "if(len(bits) > 1 and ((len(bits) % 2 ==0 and all([[bits[i-1], bits[i]] in two_bits for i in range(1, len(bits), 2)])) or bits[-2:] in two_bits )):\n",
    "    print(False)\n",
    "else:\n",
    "    print(True)"
   ]
  }
 ],
 "metadata": {
  "kernelspec": {
   "display_name": "Python 3",
   "language": "python",
   "name": "python3"
  },
  "language_info": {
   "codemirror_mode": {
    "name": "ipython",
    "version": 3
   },
   "file_extension": ".py",
   "mimetype": "text/x-python",
   "name": "python",
   "nbconvert_exporter": "python",
   "pygments_lexer": "ipython3",
   "version": "3.7.1"
  }
 },
 "nbformat": 4,
 "nbformat_minor": 2
}
