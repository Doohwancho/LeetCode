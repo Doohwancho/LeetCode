{
 "cells": [
  {
   "cell_type": "markdown",
   "metadata": {},
   "source": [
    "Given a positive integer N, find and return the longest distance between two consecutive 1's in the binary representation of N.\n",
    "\n",
    "If there aren't two consecutive 1's, return 0.\n",
    "\n",
    " \n",
    "\n",
    ">Example 1:<br>\n",
    ">Input: 22<br>\n",
    ">Output: 2<br>\n",
    ">Explanation: <br>\n",
    ">22 in binary is 0b10110.<br>\n",
    ">In the binary representation of 22, there are three ones, and two consecutive pairs of 1's.<br>\n",
    ">The first consecutive pair of 1's have distance 2.<br>\n",
    ">The second consecutive pair of 1's have distance 1.<br>\n",
    ">The answer is the largest of these two distances, which is 2.<br>\n",
    "\n",
    ">Example 2:<br>\n",
    ">Input: 5<br>\n",
    ">Output: 2<br>\n",
    ">Explanation: <br>\n",
    ">5 in binary is 0b101.<br>\n",
    "\n",
    ">Example 3:<br>\n",
    ">Input: 6<br>\n",
    ">Output: 1<br>\n",
    ">Explanation: <br>\n",
    ">6 in binary is 0b110.<br>\n",
    "\n",
    ">Example 4:<br>\n",
    ">Input: 8<br>\n",
    ">Output: 0<br>\n",
    ">Explanation: <br>\n",
    ">8 in binary is 0b1000.<br>\n",
    ">There aren't any consecutive pairs of 1's in the binary representation of 8, so we return 0.<br>"
   ]
  },
  {
   "cell_type": "code",
   "execution_count": 37,
   "metadata": {},
   "outputs": [
    {
     "name": "stdout",
     "output_type": "stream",
     "text": [
      "1\n"
     ]
    }
   ],
   "source": [
    "#SUCCESS(?)\n",
    "#N=13에서 막히는데 문제가 이상한거 같음..\n",
    "\n",
    "N=6\n",
    "#N=13\n",
    "\n",
    "n=bin(N)[2:]\n",
    "n_list=list(n)\n",
    "rst=0\n",
    "for i in range(len(n_list)):\n",
    "    if(n_list[i]=='1' and ''.join(n_list[i+1:]).find('1') > -1):\n",
    "        rst=''.join(n_list[i+1:]).find('1')+1\n",
    "        break\n",
    "    elif(i==len(n_list)-1):\n",
    "        print(0)\n",
    "print(rst)"
   ]
  }
 ],
 "metadata": {
  "kernelspec": {
   "display_name": "Python 3",
   "language": "python",
   "name": "python3"
  },
  "language_info": {
   "codemirror_mode": {
    "name": "ipython",
    "version": 3
   },
   "file_extension": ".py",
   "mimetype": "text/x-python",
   "name": "python",
   "nbconvert_exporter": "python",
   "pygments_lexer": "ipython3",
   "version": "3.7.1"
  }
 },
 "nbformat": 4,
 "nbformat_minor": 2
}
