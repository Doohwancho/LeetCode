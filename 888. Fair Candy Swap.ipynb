{
 "cells": [
  {
   "cell_type": "markdown",
   "metadata": {},
   "source": [
    "Alice and Bob have candy bars of different sizes: A[i] is the size of the i-th bar of candy that Alice has, and B[j] is the size of the j-th bar of candy that Bob has.\n",
    "\n",
    "Since they are friends, they would like to exchange one candy bar each so that after the exchange, they both have the same total amount of candy.  (The total amount of candy a person has is the sum of the sizes of candy bars they have.)\n",
    "\n",
    "Return an integer array ans where ans[0] is the size of the candy bar that Alice must exchange, and ans[1] is the size of the candy bar that Bob must exchange.\n",
    "\n",
    "If there are multiple answers, you may return any one of them.  It is guaranteed an answer exists.\n",
    "\n",
    " \n",
    "\n",
    ">Example 1:<br>\n",
    ">Input: A = [1,1], B = [2,2]<br>\n",
    ">Output: [1,2]<br>\n",
    "    \n",
    ">Example 2:<br>\n",
    ">Input: A = [1,2], B = [2,3]<br>\n",
    ">Output: [1,2]<br>\n",
    "    \n",
    ">Example 3:<br>\n",
    ">Input: A = [2], B = [1,3]<br>\n",
    ">Output: [2,3]<br>\n",
    "    \n",
    ">Example 4:<br>\n",
    ">Input: A = [1,2,5], B = [2,4]<br>\n",
    ">Output: [5,4]<br>\n",
    " "
   ]
  },
  {
   "cell_type": "code",
   "execution_count": 26,
   "metadata": {},
   "outputs": [],
   "source": [
    "import numpy as np"
   ]
  },
  {
   "cell_type": "code",
   "execution_count": 84,
   "metadata": {},
   "outputs": [
    {
     "data": {
      "text/plain": [
       "[2, 3]"
      ]
     },
     "execution_count": 84,
     "metadata": {},
     "output_type": "execute_result"
    }
   ],
   "source": [
    "#SUCESS\n",
    "#단, 미친듯한 input양일 경우, time excess뜸\n",
    "\n",
    "A = [2,1]\n",
    "B = [2,3]\n",
    "#A = [2]\n",
    "#B = [1,3]\n",
    "\n",
    "BreakFree=False\n",
    "rst=[]\n",
    "\n",
    "for i in range(len(A)):\n",
    "    for j in range(len(B)):\n",
    "        A[i], B[j] = B[j], A[i]\n",
    "        if np.sum(A) == np.sum(B):\n",
    "            rst.append(B[j])\n",
    "            rst.append(A[i])\n",
    "            BreakFree=True\n",
    "            break\n",
    "        A[i], B[j] = B[j], A[i]\n",
    "    if(BreakFree):\n",
    "        break\n",
    "rst"
   ]
  }
 ],
 "metadata": {
  "kernelspec": {
   "display_name": "Python 3",
   "language": "python",
   "name": "python3"
  },
  "language_info": {
   "codemirror_mode": {
    "name": "ipython",
    "version": 3
   },
   "file_extension": ".py",
   "mimetype": "text/x-python",
   "name": "python",
   "nbconvert_exporter": "python",
   "pygments_lexer": "ipython3",
   "version": "3.7.1"
  }
 },
 "nbformat": 4,
 "nbformat_minor": 2
}
