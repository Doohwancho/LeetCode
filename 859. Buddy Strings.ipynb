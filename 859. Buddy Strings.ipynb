{
 "cells": [
  {
   "cell_type": "markdown",
   "metadata": {},
   "source": [
    "\n",
    "Given two strings A and B of lowercase letters, return true if and only if we can swap two letters in A so that the result equals B.\n",
    "\n",
    " \n",
    "\n",
    ">Example 1:<br>\n",
    ">Input: A = \"ab\", B = \"ba\"<br>\n",
    ">Output: true<br>\n",
    "\n",
    ">Example 2:<br>\n",
    ">Input: A = \"ab\", B = \"ab\"<br>\n",
    ">Output: false<br>\n",
    "\n",
    ">Example 3:<br>\n",
    ">Input: A = \"aa\", B = \"aa\"<br>\n",
    ">Output: true<br>\n",
    "\n",
    ">Example 4:<br>\n",
    ">Input: A = \"aaaaaaabc\", B = \"aaaaaaacb\"<br>\n",
    ">Output: true<br>\n",
    "\n",
    ">Example 5:<br>\n",
    ">Input: A = \"\", B = \"aa\"<br>\n",
    ">Output: false<br>"
   ]
  },
  {
   "cell_type": "code",
   "execution_count": 22,
   "metadata": {},
   "outputs": [
    {
     "name": "stdout",
     "output_type": "stream",
     "text": [
      "True\n"
     ]
    }
   ],
   "source": [
    "A=\"abcde\"\n",
    "B=\"abdce\"\n",
    "\n",
    "if len(A) == len(B):\n",
    "            pair = None #zip(a,b)가 다른 첫번째 것 출력\n",
    "            swaps = False #else문의 교차비교 성공시 True로 변환\n",
    "            uniq = set()\n",
    "            for a, b in zip(A, B): # zip()으로 A[i]와 B[i]를 한 쌍으로 묶음\n",
    "                if a == b:\n",
    "                    uniq.add(a)\n",
    "                elif pair is None:\n",
    "                    pair = a, b\n",
    "                elif swaps:\n",
    "                    print(False)\n",
    "                    break\n",
    "                else:\n",
    "                    x, y = pair #아까 저장해둔 첫번째로 다른 zip(a,b)와\n",
    "                    if x == b and a == y: #현재 a,b를 교차비교\n",
    "                        swaps = True\n",
    "                    else:\n",
    "                        print(False)\n",
    "            print(swaps or len(uniq) < len(A)) #문제-- swap성공후 또 다른 zip(a,b)가 있는경우, swap이 True기때문에 False랑 True+ 반환\n",
    "else:\n",
    "    print(False)"
   ]
  }
 ],
 "metadata": {
  "kernelspec": {
   "display_name": "Python 3",
   "language": "python",
   "name": "python3"
  },
  "language_info": {
   "codemirror_mode": {
    "name": "ipython",
    "version": 3
   },
   "file_extension": ".py",
   "mimetype": "text/x-python",
   "name": "python",
   "nbconvert_exporter": "python",
   "pygments_lexer": "ipython3",
   "version": "3.7.0"
  }
 },
 "nbformat": 4,
 "nbformat_minor": 2
}
