{
 "cells": [
  {
   "cell_type": "markdown",
   "metadata": {},
   "source": [
    "Given an integer array with even length, where different numbers in this array represent different kinds of candies. Each number means one candy of the corresponding kind. You need to distribute these candies equally in number to brother and sister. Return the maximum number of kinds of candies the sister could gain.\n",
    "\n",
    ">Example 1:<br>\n",
    "Input: candies = [1,1,2,2,3,3]<br>\n",
    "Output: 3<br>\n",
    "Explanation:<br>\n",
    "There are three different kinds of candies (1, 2 and 3), and two candies for each kind.<br>\n",
    "Optimal distribution: The sister has candies [1,2,3] and the brother has candies [1,2,3], too.<br> \n",
    ">The sister has three different kinds of candies. <br>\n",
    "\n",
    ">Example 2:<br>\n",
    "Input: candies = [1,1,2,3]<br>\n",
    "Output: 2<br>\n",
    "Explanation: For example, the sister has candies [2,3] and the brother has candies [1,1]. <br>\n",
    ">The sister has two different kinds of candies, the brother has only one kind of candies. <br>"
   ]
  },
  {
   "cell_type": "code",
   "execution_count": 19,
   "metadata": {},
   "outputs": [
    {
     "data": {
      "text/plain": [
       "2"
      ]
     },
     "execution_count": 19,
     "metadata": {},
     "output_type": "execute_result"
    }
   ],
   "source": [
    "#candies list 길이는 짝수이고, 남동생과 반을 나누면 여동생이 가질 수 있는 candies의 최대 종류는 list 길이의 반이다.\n",
    "#그런데 만약 list길이의 반 도 안되는 종류밖에 없다면(예를들어 [1,1,1,1]이라던지..) candy의 종류만 반환해 주면 된다.\n",
    "\n",
    "\n",
    "def distributeCandies(candies):\n",
    "    n = len(candies)\n",
    "    kinds = len(set(candies))\n",
    "    \n",
    "    if kinds * 2 >= n:\n",
    "        return n // 2\n",
    "    else:\n",
    "        return kinds\n",
    "    \n",
    "\n",
    "#candies = [1,1,2,2,3,3]\n",
    "candies = [1,2,3,4]\n",
    "\n",
    "distributeCandies(candies)"
   ]
  }
 ],
 "metadata": {
  "kernelspec": {
   "display_name": "Python 3",
   "language": "python",
   "name": "python3"
  },
  "language_info": {
   "codemirror_mode": {
    "name": "ipython",
    "version": 3
   },
   "file_extension": ".py",
   "mimetype": "text/x-python",
   "name": "python",
   "nbconvert_exporter": "python",
   "pygments_lexer": "ipython3",
   "version": "3.7.2"
  }
 },
 "nbformat": 4,
 "nbformat_minor": 2
}
