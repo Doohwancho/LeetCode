{
 "cells": [
  {
   "cell_type": "markdown",
   "metadata": {},
   "source": [
    "Implement int sqrt(int x).\n",
    "\n",
    "Compute and return the square root of x, where x is guaranteed to be a non-negative integer.\n",
    "\n",
    "Since the return type is an integer, the decimal digits are truncated and only the integer part of the result is returned.\n",
    "\n",
    ">Example 1:<br>\n",
    "Input: 4<br>\n",
    ">Output: 2<br>\n",
    "\n",
    ">Example 2:<br>\n",
    "Input: 8<br>\n",
    "Output: 2<br>\n",
    "Explanation: The square root of 8 is 2.82842..., and since <br>\n",
    ">             the decimal part is truncated, 2 is returned.<br>"
   ]
  },
  {
   "cell_type": "code",
   "execution_count": 28,
   "metadata": {},
   "outputs": [],
   "source": [
    "#문제\n",
    "\n",
    "#x의 루트를 구하고, 소숫점 이하를 버려라.\n",
    "\n",
    "#step01 - 루트 구하기(square root of x == math.sqrt(x)) \n",
    "#step02 - 소숫점 이하 버리기\n",
    "\n",
    "\n",
    "\n",
    "\n",
    "\n",
    "import math\n",
    "\n",
    "\n",
    "class Solution:\n",
    "    def mySqrt(self, x: int) -> int:\n",
    "        return int(math.sqrt(x))"
   ]
  },
  {
   "cell_type": "code",
   "execution_count": 29,
   "metadata": {},
   "outputs": [
    {
     "name": "stdout",
     "output_type": "stream",
     "text": [
      "---------양수일 때의 버림---------\n",
      "int(2.7): 2\n",
      "math.trunc(2.7): 2\n",
      "math.floor(2.7) 2\n",
      "                                  \n",
      "---------음수일 때의 버림---------\n",
      "int(-3.3) -3\n",
      "math.trunc(-3.3) -3\n",
      "math.floor(-3.3) -4\n"
     ]
    }
   ],
   "source": [
    "#깨알팁\n",
    "\n",
    "#소숫점 이하 버리기는 3가지 방법이 존재한다.\n",
    "#1. int()  /  2. math.trunc()  /  3. math.floor()\n",
    "\n",
    "# **trunc()함수는 0으로 향하지만 floor()함수는 무조건 아래로만 향한다!\n",
    "\n",
    "print(\"---------양수일 때의 버림---------\")\n",
    "print(\"int(2.7):\",int(2.7))\n",
    "print(\"math.trunc(2.7):\",math.trunc(2.7))\n",
    "print(\"math.floor(2.7)\",math.floor(2.7))\n",
    "\n",
    "print(\"                                  \")\n",
    "print(\"---------음수일 때의 버림---------\")\n",
    "print(\"int(-3.3)\",int(-3.3))\n",
    "print(\"math.trunc(-3.3)\",math.trunc(-3.3))\n",
    "print(\"math.floor(-3.3)\",math.floor(-3.3))"
   ]
  }
 ],
 "metadata": {
  "kernelspec": {
   "display_name": "Python 3",
   "language": "python",
   "name": "python3"
  },
  "language_info": {
   "codemirror_mode": {
    "name": "ipython",
    "version": 3
   },
   "file_extension": ".py",
   "mimetype": "text/x-python",
   "name": "python",
   "nbconvert_exporter": "python",
   "pygments_lexer": "ipython3",
   "version": "3.7.2"
  }
 },
 "nbformat": 4,
 "nbformat_minor": 2
}
